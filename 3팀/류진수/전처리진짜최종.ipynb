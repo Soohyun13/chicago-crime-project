{
 "cells": [
  {
   "cell_type": "code",
   "execution_count": 21,
   "id": "f6694b2a-d925-486d-b566-aeab903cee0b",
   "metadata": {},
   "outputs": [],
   "source": [
    "import pandas as pd\n",
    "import geopandas as gpd\n",
    "from shapely import wkt\n",
    "from shapely.geometry import Point\n",
    "df = pd.read_csv(\"chicago crime - 2001~current.csv\", encoding='utf-8', low_memory=False)"
   ]
  },
  {
   "cell_type": "code",
   "execution_count": 25,
   "id": "625b68b6-ec14-4cff-b606-e20918257815",
   "metadata": {},
   "outputs": [
    {
     "name": "stdout",
     "output_type": "stream",
     "text": [
      "중복된 Case Number 개수: 493\n"
     ]
    }
   ],
   "source": [
    "# 중복된 Case Number만 추출\n",
    "duplicate_cases = df[df.duplicated(subset='Case Number', keep=False)]\n",
    "\n",
    "# 중복된 Case Number 개수 출력\n",
    "num_duplicates = duplicate_cases['Case Number'].nunique()\n",
    "print(\"중복된 Case Number 개수:\", num_duplicates)"
   ]
  },
  {
   "cell_type": "code",
   "execution_count": 26,
   "id": "e1281f7f-1577-4d99-9792-2c73be91b72b",
   "metadata": {},
   "outputs": [
    {
     "name": "stdout",
     "output_type": "stream",
     "text": [
      "Year\n",
      "2001    43\n",
      "2002    38\n",
      "2003    56\n",
      "2004    20\n",
      "2005    14\n",
      "2006    35\n",
      "2007    33\n",
      "2008    42\n",
      "2009    37\n",
      "2010    46\n",
      "2011    28\n",
      "2012    49\n",
      "2013    25\n",
      "2014    16\n",
      "2015    50\n",
      "2016    64\n",
      "2017    86\n",
      "2018    48\n",
      "2019    36\n",
      "2020    54\n",
      "2021    63\n",
      "2022    92\n",
      "2023    44\n",
      "2024    55\n",
      "2025     8\n",
      "Name: count, dtype: int64\n"
     ]
    },
    {
     "name": "stderr",
     "output_type": "stream",
     "text": [
      "C:\\Users\\qhwhr\\AppData\\Local\\Temp\\ipykernel_13168\\1526134366.py:8: SettingWithCopyWarning: \n",
      "A value is trying to be set on a copy of a slice from a DataFrame.\n",
      "Try using .loc[row_indexer,col_indexer] = value instead\n",
      "\n",
      "See the caveats in the documentation: https://pandas.pydata.org/pandas-docs/stable/user_guide/indexing.html#returning-a-view-versus-a-copy\n",
      "  dupes['Year'] = dupes['Date'].dt.year\n"
     ]
    }
   ],
   "source": [
    "# 먼저 datetime으로 변환 (Date가 object인 경우)\n",
    "df['Date'] = pd.to_datetime(df['Date'], errors='coerce')\n",
    "\n",
    "# 중복된 Case Number만 추출\n",
    "dupes = df[df.duplicated(subset=['Case Number'], keep=False)]\n",
    "\n",
    "# 중복된 행들 중 연도만 추출\n",
    "dupes['Year'] = dupes['Date'].dt.year\n",
    "\n",
    "# 연도별 중복 수 세기\n",
    "dupe_counts_by_year = dupes['Year'].value_counts().sort_index()\n",
    "\n",
    "# 결과 출력\n",
    "print(dupe_counts_by_year)"
   ]
  },
  {
   "cell_type": "code",
   "execution_count": 29,
   "id": "334630e9-84c6-4e41-a373-f61efbf419c2",
   "metadata": {},
   "outputs": [
    {
     "data": {
      "text/html": [
       "<div>\n",
       "<style scoped>\n",
       "    .dataframe tbody tr th:only-of-type {\n",
       "        vertical-align: middle;\n",
       "    }\n",
       "\n",
       "    .dataframe tbody tr th {\n",
       "        vertical-align: top;\n",
       "    }\n",
       "\n",
       "    .dataframe thead th {\n",
       "        text-align: right;\n",
       "    }\n",
       "</style>\n",
       "<table border=\"1\" class=\"dataframe\">\n",
       "  <thead>\n",
       "    <tr style=\"text-align: right;\">\n",
       "      <th></th>\n",
       "      <th>ID</th>\n",
       "      <th>Case Number</th>\n",
       "      <th>Date</th>\n",
       "      <th>Block</th>\n",
       "      <th>IUCR</th>\n",
       "      <th>Primary Type</th>\n",
       "      <th>Description</th>\n",
       "      <th>Location Description</th>\n",
       "      <th>Arrest</th>\n",
       "      <th>Domestic</th>\n",
       "      <th>...</th>\n",
       "      <th>Ward</th>\n",
       "      <th>Community Area</th>\n",
       "      <th>FBI Code</th>\n",
       "      <th>X Coordinate</th>\n",
       "      <th>Y Coordinate</th>\n",
       "      <th>Year</th>\n",
       "      <th>Updated On</th>\n",
       "      <th>Latitude</th>\n",
       "      <th>Longitude</th>\n",
       "      <th>Location</th>\n",
       "    </tr>\n",
       "  </thead>\n",
       "  <tbody>\n",
       "    <tr>\n",
       "      <th>184382</th>\n",
       "      <td>651</td>\n",
       "      <td>G023235</td>\n",
       "      <td>2001-01-11 21:10:00</td>\n",
       "      <td>101XX S LASALLE ST</td>\n",
       "      <td>0110</td>\n",
       "      <td>HOMICIDE</td>\n",
       "      <td>FIRST DEGREE MURDER</td>\n",
       "      <td>STREET</td>\n",
       "      <td>True</td>\n",
       "      <td>True</td>\n",
       "      <td>...</td>\n",
       "      <td>NaN</td>\n",
       "      <td>NaN</td>\n",
       "      <td>01A</td>\n",
       "      <td>1177058.0</td>\n",
       "      <td>1837772.0</td>\n",
       "      <td>2001</td>\n",
       "      <td>09/19/2022 03:41:05 PM</td>\n",
       "      <td>41.710181</td>\n",
       "      <td>-87.627189</td>\n",
       "      <td>(41.710180828, -87.627189271)</td>\n",
       "    </tr>\n",
       "    <tr>\n",
       "      <th>217497</th>\n",
       "      <td>650</td>\n",
       "      <td>G023235</td>\n",
       "      <td>2001-01-11 18:46:00</td>\n",
       "      <td>101XX S LASALLE ST</td>\n",
       "      <td>0110</td>\n",
       "      <td>HOMICIDE</td>\n",
       "      <td>FIRST DEGREE MURDER</td>\n",
       "      <td>STREET</td>\n",
       "      <td>True</td>\n",
       "      <td>True</td>\n",
       "      <td>...</td>\n",
       "      <td>NaN</td>\n",
       "      <td>NaN</td>\n",
       "      <td>01A</td>\n",
       "      <td>1177058.0</td>\n",
       "      <td>1837772.0</td>\n",
       "      <td>2001</td>\n",
       "      <td>09/19/2022 03:41:05 PM</td>\n",
       "      <td>41.710181</td>\n",
       "      <td>-87.627189</td>\n",
       "      <td>(41.710180828, -87.627189271)</td>\n",
       "    </tr>\n",
       "    <tr>\n",
       "      <th>212007</th>\n",
       "      <td>682</td>\n",
       "      <td>G083440</td>\n",
       "      <td>2001-02-09 23:40:00</td>\n",
       "      <td>046XX S LAWLER AVE</td>\n",
       "      <td>0110</td>\n",
       "      <td>HOMICIDE</td>\n",
       "      <td>FIRST DEGREE MURDER</td>\n",
       "      <td>TRUCK</td>\n",
       "      <td>False</td>\n",
       "      <td>False</td>\n",
       "      <td>...</td>\n",
       "      <td>23.0</td>\n",
       "      <td>56.0</td>\n",
       "      <td>01A</td>\n",
       "      <td>1143470.0</td>\n",
       "      <td>1873484.0</td>\n",
       "      <td>2001</td>\n",
       "      <td>09/19/2022 03:41:05 PM</td>\n",
       "      <td>41.808871</td>\n",
       "      <td>-87.749308</td>\n",
       "      <td>(41.808871048, -87.749307968)</td>\n",
       "    </tr>\n",
       "    <tr>\n",
       "      <th>249019</th>\n",
       "      <td>681</td>\n",
       "      <td>G083440</td>\n",
       "      <td>2001-02-09 23:40:00</td>\n",
       "      <td>046XX S LAWLER AVE</td>\n",
       "      <td>0110</td>\n",
       "      <td>HOMICIDE</td>\n",
       "      <td>FIRST DEGREE MURDER</td>\n",
       "      <td>TRUCK</td>\n",
       "      <td>False</td>\n",
       "      <td>False</td>\n",
       "      <td>...</td>\n",
       "      <td>23.0</td>\n",
       "      <td>56.0</td>\n",
       "      <td>01A</td>\n",
       "      <td>1143470.0</td>\n",
       "      <td>1873484.0</td>\n",
       "      <td>2001</td>\n",
       "      <td>09/01/2022 03:42:17 PM</td>\n",
       "      <td>41.808871</td>\n",
       "      <td>-87.749308</td>\n",
       "      <td>(41.808871048, -87.749307968)</td>\n",
       "    </tr>\n",
       "    <tr>\n",
       "      <th>206588</th>\n",
       "      <td>714</td>\n",
       "      <td>G137655</td>\n",
       "      <td>2001-03-10 06:30:00</td>\n",
       "      <td>015XX W LAWRENCE AVE</td>\n",
       "      <td>0110</td>\n",
       "      <td>HOMICIDE</td>\n",
       "      <td>FIRST DEGREE MURDER</td>\n",
       "      <td>APARTMENT</td>\n",
       "      <td>True</td>\n",
       "      <td>False</td>\n",
       "      <td>...</td>\n",
       "      <td>46.0</td>\n",
       "      <td>3.0</td>\n",
       "      <td>01A</td>\n",
       "      <td>1165173.0</td>\n",
       "      <td>1931956.0</td>\n",
       "      <td>2001</td>\n",
       "      <td>09/19/2022 03:41:05 PM</td>\n",
       "      <td>41.968890</td>\n",
       "      <td>-87.668043</td>\n",
       "      <td>(41.968890414, -87.668042567)</td>\n",
       "    </tr>\n",
       "  </tbody>\n",
       "</table>\n",
       "<p>5 rows × 22 columns</p>\n",
       "</div>"
      ],
      "text/plain": [
       "         ID Case Number                Date                 Block  IUCR  \\\n",
       "184382  651     G023235 2001-01-11 21:10:00    101XX S LASALLE ST  0110   \n",
       "217497  650     G023235 2001-01-11 18:46:00    101XX S LASALLE ST  0110   \n",
       "212007  682     G083440 2001-02-09 23:40:00    046XX S LAWLER AVE  0110   \n",
       "249019  681     G083440 2001-02-09 23:40:00    046XX S LAWLER AVE  0110   \n",
       "206588  714     G137655 2001-03-10 06:30:00  015XX W LAWRENCE AVE  0110   \n",
       "\n",
       "       Primary Type          Description Location Description  Arrest  \\\n",
       "184382     HOMICIDE  FIRST DEGREE MURDER               STREET    True   \n",
       "217497     HOMICIDE  FIRST DEGREE MURDER               STREET    True   \n",
       "212007     HOMICIDE  FIRST DEGREE MURDER                TRUCK   False   \n",
       "249019     HOMICIDE  FIRST DEGREE MURDER                TRUCK   False   \n",
       "206588     HOMICIDE  FIRST DEGREE MURDER            APARTMENT    True   \n",
       "\n",
       "        Domestic  ...  Ward  Community Area  FBI Code  X Coordinate  \\\n",
       "184382      True  ...   NaN             NaN       01A     1177058.0   \n",
       "217497      True  ...   NaN             NaN       01A     1177058.0   \n",
       "212007     False  ...  23.0            56.0       01A     1143470.0   \n",
       "249019     False  ...  23.0            56.0       01A     1143470.0   \n",
       "206588     False  ...  46.0             3.0       01A     1165173.0   \n",
       "\n",
       "       Y Coordinate  Year              Updated On   Latitude  Longitude  \\\n",
       "184382    1837772.0  2001  09/19/2022 03:41:05 PM  41.710181 -87.627189   \n",
       "217497    1837772.0  2001  09/19/2022 03:41:05 PM  41.710181 -87.627189   \n",
       "212007    1873484.0  2001  09/19/2022 03:41:05 PM  41.808871 -87.749308   \n",
       "249019    1873484.0  2001  09/01/2022 03:42:17 PM  41.808871 -87.749308   \n",
       "206588    1931956.0  2001  09/19/2022 03:41:05 PM  41.968890 -87.668043   \n",
       "\n",
       "                             Location  \n",
       "184382  (41.710180828, -87.627189271)  \n",
       "217497  (41.710180828, -87.627189271)  \n",
       "212007  (41.808871048, -87.749307968)  \n",
       "249019  (41.808871048, -87.749307968)  \n",
       "206588  (41.968890414, -87.668042567)  \n",
       "\n",
       "[5 rows x 22 columns]"
      ]
     },
     "execution_count": 29,
     "metadata": {},
     "output_type": "execute_result"
    }
   ],
   "source": [
    "# Case Number 기준으로 중복된 것들만 추출\n",
    "dupes = df[df.duplicated(subset=['Case Number'], keep=False)]\n",
    "\n",
    "# 중복된 것 중에서도 완전히 같은 행 제거 (즉, 값이 다른 애들만 남김)\n",
    "dupes_unique = dupes.drop_duplicates()\n",
    "\n",
    "# 같은 Case Number인데 다른 정보가 담긴 행들을 찾기\n",
    "diff_cases = dupes_unique.groupby('Case Number').filter(lambda x: len(x) > 1)\n",
    "\n",
    "# 상위 몇 개만 보기\n",
    "diff_cases.sort_values('Case Number').head()"
   ]
  },
  {
   "cell_type": "code",
   "execution_count": 30,
   "id": "596d2c2a-3522-4022-bdfe-698d1fd222d0",
   "metadata": {},
   "outputs": [],
   "source": [
    "df_unique = df.drop_duplicates(subset=['Case Number'], keep='first', ignore_index=True)"
   ]
  },
  {
   "cell_type": "code",
   "execution_count": 31,
   "id": "25c5bf34-5df5-4c33-9a5a-ea3625349969",
   "metadata": {},
   "outputs": [
    {
     "name": "stdout",
     "output_type": "stream",
     "text": [
      "Empty DataFrame\n",
      "Columns: [ID, Case Number, Date, Block, IUCR, Primary Type, Description, Location Description, Arrest, Domestic, Beat, District, Ward, Community Area, FBI Code, X Coordinate, Y Coordinate, Year, Updated On, Latitude, Longitude, Location]\n",
      "Index: []\n",
      "\n",
      "[0 rows x 22 columns]\n"
     ]
    }
   ],
   "source": [
    "# 1. Case Number 기준으로 중복된 행 추출\n",
    "dupes = df_unique[df_unique.duplicated(subset=['Case Number'], keep=False)]\n",
    "\n",
    "# 2. 동일한 Case Number 그룹 중, 사건 유형(Primary Type)이 2개 이상인 경우 필터링\n",
    "diff_type_cases = dupes.groupby('Case Number').filter(lambda x: x['Primary Type'].nunique() > 1)\n",
    "\n",
    "# 3. 결과 확인 (상위 10개만 보기)\n",
    "print(diff_type_cases.sort_values('Case Number').head(10))"
   ]
  },
  {
   "cell_type": "code",
   "execution_count": 32,
   "id": "5ec6e026-964c-4278-9b1b-9833e252ca6b",
   "metadata": {},
   "outputs": [
    {
     "data": {
      "text/plain": [
       "ID                           0\n",
       "Case Number                  0\n",
       "Date                         0\n",
       "Block                        0\n",
       "IUCR                         0\n",
       "Primary Type                 0\n",
       "Description                  0\n",
       "Location Description     14099\n",
       "Arrest                       0\n",
       "Domestic                     0\n",
       "Beat                         0\n",
       "District                    47\n",
       "Ward                    614813\n",
       "Community Area          613440\n",
       "FBI Code                     0\n",
       "X Coordinate             91682\n",
       "Y Coordinate             91682\n",
       "Year                         0\n",
       "Updated On                   0\n",
       "Latitude                 91682\n",
       "Longitude                91682\n",
       "Location                 91682\n",
       "dtype: int64"
      ]
     },
     "execution_count": 32,
     "metadata": {},
     "output_type": "execute_result"
    }
   ],
   "source": [
    "df_unique.isna().sum()"
   ]
  },
  {
   "cell_type": "code",
   "execution_count": 34,
   "id": "ca164e02-ff56-4af4-8b9f-c361ba0a5070",
   "metadata": {},
   "outputs": [],
   "source": [
    "# Block 별 최빈값(mode) 계산\n",
    "block_mode_values = df_unique.groupby('Block')[['District', 'Latitude', 'Longitude', 'X Coordinate', 'Y Coordinate', 'Location', 'Ward', 'Community Area']].agg(lambda x: x.mode().iloc[0] if not x.mode().empty else None)\n",
    "\n",
    "# 결측치가 있는 행에 대해서 Block별 최빈값으로 채우기\n",
    "chicago_filled = df_unique.copy()\n",
    "\n",
    "for column in ['District', 'Latitude', 'Longitude', 'X Coordinate', 'Y Coordinate', 'Location', 'Ward', 'Community Area']:\n",
    "    chicago_filled[column] = chicago_filled.apply(\n",
    "        lambda row: block_mode_values.at[row['Block'], column] if pd.isnull(row[column]) and row['Block'] in block_mode_values.index else row[column],\n",
    "        axis=1\n",
    "    )"
   ]
  },
  {
   "cell_type": "code",
   "execution_count": 35,
   "id": "19881b1f-5c07-46e5-97df-36936eb8a0f5",
   "metadata": {},
   "outputs": [
    {
     "data": {
      "text/plain": [
       "ID                           0\n",
       "Case Number                  0\n",
       "Date                         0\n",
       "Block                        0\n",
       "IUCR                         0\n",
       "Primary Type                 0\n",
       "Description                  0\n",
       "Location Description     14099\n",
       "Arrest                       0\n",
       "Domestic                     0\n",
       "Beat                         0\n",
       "District                     0\n",
       "Ward                    437933\n",
       "Community Area          438178\n",
       "FBI Code                     0\n",
       "X Coordinate              2956\n",
       "Y Coordinate              2956\n",
       "Year                         0\n",
       "Updated On                   0\n",
       "Latitude                  2956\n",
       "Longitude                 2956\n",
       "Location                  2956\n",
       "dtype: int64"
      ]
     },
     "execution_count": 35,
     "metadata": {},
     "output_type": "execute_result"
    }
   ],
   "source": [
    "chicago_filled.isnull().sum()"
   ]
  },
  {
   "cell_type": "code",
   "execution_count": 36,
   "id": "deb32860-4f99-4a6f-9650-d233c946a17d",
   "metadata": {},
   "outputs": [],
   "source": [
    "df = chicago_filled.dropna(subset=['X Coordinate','Y Coordinate','Latitude', 'Longitude', 'Location'])"
   ]
  },
  {
   "cell_type": "code",
   "execution_count": 37,
   "id": "5778ed6e-c8b3-4332-b4b8-058a32d4f13e",
   "metadata": {},
   "outputs": [
    {
     "data": {
      "text/plain": [
       "ID                           0\n",
       "Case Number                  0\n",
       "Date                         0\n",
       "Block                        0\n",
       "IUCR                         0\n",
       "Primary Type                 0\n",
       "Description                  0\n",
       "Location Description     13853\n",
       "Arrest                       0\n",
       "Domestic                     0\n",
       "Beat                         0\n",
       "District                     0\n",
       "Ward                    435844\n",
       "Community Area          436179\n",
       "FBI Code                     0\n",
       "X Coordinate                 0\n",
       "Y Coordinate                 0\n",
       "Year                         0\n",
       "Updated On                   0\n",
       "Latitude                     0\n",
       "Longitude                    0\n",
       "Location                     0\n",
       "dtype: int64"
      ]
     },
     "execution_count": 37,
     "metadata": {},
     "output_type": "execute_result"
    }
   ],
   "source": [
    "df.isna().sum()"
   ]
  },
  {
   "cell_type": "code",
   "execution_count": 38,
   "id": "855e475d-422e-4984-9ec4-35a958b298ec",
   "metadata": {},
   "outputs": [
    {
     "name": "stderr",
     "output_type": "stream",
     "text": [
      "C:\\Users\\qhwhr\\AppData\\Local\\Temp\\ipykernel_13168\\2479094822.py:1: SettingWithCopyWarning: \n",
      "A value is trying to be set on a copy of a slice from a DataFrame.\n",
      "Try using .loc[row_indexer,col_indexer] = value instead\n",
      "\n",
      "See the caveats in the documentation: https://pandas.pydata.org/pandas-docs/stable/user_guide/indexing.html#returning-a-view-versus-a-copy\n",
      "  df['Date'] = pd.to_datetime(df['Date'], format=\"%m/%d/%Y %I:%M:%S %p\", errors='coerce')\n"
     ]
    }
   ],
   "source": [
    "df['Date'] = pd.to_datetime(df['Date'], format=\"%m/%d/%Y %I:%M:%S %p\", errors='coerce')"
   ]
  },
  {
   "cell_type": "code",
   "execution_count": 39,
   "id": "a8669278-9b01-4671-b6c6-fe7cc4206fc4",
   "metadata": {},
   "outputs": [],
   "source": [
    "# 시기 기준으로 나누기\n",
    "df_2001_2015 = df[df['Date'].dt.year <= 2015]\n",
    "df_2016_2022 = df[(df['Date'].dt.year > 2015) & (df['Date'].dt.year < 2023)]\n",
    "df_2023 = df[df['Date'].dt.year >= 2023]\n",
    "\n",
    "# 파일로 저장 \n",
    "df_2001_2015.to_csv(\"crime_2001_2015.csv\", index=False)\n",
    "df_2016_2022.to_csv(\"crime_2016_2022.csv\", index=False)\n",
    "df_2023.to_csv(\"crime_2023.csv\", index=False)"
   ]
  },
  {
   "cell_type": "code",
   "execution_count": 44,
   "id": "93a212ce-d70d-47d8-a662-af859b1eb6bf",
   "metadata": {},
   "outputs": [],
   "source": [
    "def load_ward_gdf(csv_path, ward_col='WARD'):\n",
    "    df = pd.read_csv(csv_path)\n",
    "    df = df[df[ward_col].notna()]              # NA 제거\n",
    "    df = df[df[ward_col] != 'OUT']             # 'OUT' 제거\n",
    "    df[ward_col] = df[ward_col].astype(float)  # float형 변환\n",
    "    df['geometry'] = df['the_geom'].apply(wkt.loads)\n",
    "    return gpd.GeoDataFrame(df, geometry='geometry', crs='EPSG:4326')"
   ]
  },
  {
   "cell_type": "code",
   "execution_count": 46,
   "id": "2f401577-df96-491f-ada1-624f08315318",
   "metadata": {},
   "outputs": [],
   "source": [
    "df = pd.read_csv(\"crime_2001_2015.csv\")\n",
    "df['geometry'] = gpd.points_from_xy(df['Longitude'], df['Latitude'])\n",
    "crime_gdf = gpd.GeoDataFrame(df, geometry='geometry', crs='EPSG:4326')\n",
    "ward_gdf = load_ward_gdf(\"Boundaries - Wards (2003-2015).csv\") \n",
    "joined = gpd.sjoin(crime_gdf, ward_gdf[['WARD', 'geometry']], how='left', predicate='within')\n",
    "joined['Ward'] = joined['Ward'].fillna(joined['WARD'])  \n",
    "joined.drop(columns=['WARD', 'index_right'], inplace=True)\n",
    "joined.to_csv(\"crime_2001_2015_filled.csv\", index=False)"
   ]
  },
  {
   "cell_type": "code",
   "execution_count": 47,
   "id": "04734c2e-dfb4-4128-84ae-0ad2465877f9",
   "metadata": {},
   "outputs": [],
   "source": [
    "df2 = pd.read_csv(\"crime_2016_2022.csv\")\n",
    "df2['geometry'] = gpd.points_from_xy(df2['Longitude'], df2['Latitude'])\n",
    "gdf2 = gpd.GeoDataFrame(df2, geometry='geometry', crs='EPSG:4326')\n",
    "ward2 = load_ward_gdf(\"Boundaries - Wards (2015-2023).csv\")\n",
    "joined2 = gpd.sjoin(gdf2, ward2[['WARD', 'geometry']], how='left', predicate='within')\n",
    "joined2['Ward'] = joined2['Ward'].fillna(joined2['WARD'])\n",
    "joined2.drop(columns=['WARD', 'index_right'], inplace=True)\n",
    "joined2.to_csv(\"crime_2016_2022_filled.csv\", index=False)"
   ]
  },
  {
   "cell_type": "code",
   "execution_count": 48,
   "id": "f90c32bc-b78d-40ed-ac7b-8283c90312fc",
   "metadata": {},
   "outputs": [],
   "source": [
    "df3 = pd.read_csv(\"crime_2023.csv\")\n",
    "df3['geometry'] = gpd.points_from_xy(df3['Longitude'], df3['Latitude'])\n",
    "gdf3 = gpd.GeoDataFrame(df3, geometry='geometry', crs='EPSG:4326')\n",
    "ward3 = load_ward_gdf(\"Boundaries - Wards (2023-).csv\", ward_col='ward_id')  \n",
    "joined3 = gpd.sjoin(gdf3, ward3[['ward_id', 'geometry']], how='left', predicate='within')\n",
    "joined3['Ward'] = joined3['Ward'].fillna(joined3['ward_id'])\n",
    "joined3.drop(columns=['ward_id', 'index_right'], inplace=True)\n",
    "joined3.to_csv(\"crime_2023_filled.csv\", index=False)"
   ]
  },
  {
   "cell_type": "code",
   "execution_count": 49,
   "id": "64859060-77dc-4087-bd0c-81d2046f82bf",
   "metadata": {},
   "outputs": [],
   "source": [
    "# 1. 시기별 파일 불러오기\n",
    "df1 = pd.read_csv(\"crime_2001_2015_filled.csv\")\n",
    "df2 = pd.read_csv(\"crime_2016_2022_filled.csv\")\n",
    "df3 = pd.read_csv(\"crime_2023_filled.csv\")\n",
    "# 2. 하나로 합치기\n",
    "df_all = pd.concat([df1, df2, df3], ignore_index=True)\n",
    "# 3. 저장\n",
    "df_all.to_csv(\"crime_all_filled.csv\", index=False)"
   ]
  },
  {
   "cell_type": "code",
   "execution_count": 50,
   "id": "43e9cee9-0093-446d-80f0-26c8c0360d2c",
   "metadata": {},
   "outputs": [
    {
     "name": "stdout",
     "output_type": "stream",
     "text": [
      "                        Date Primary Type   Latitude  Longitude  Ward\n",
      "3863388  2009-05-06 16:50:00    NARCOTICS  41.746831 -87.655334  21.0\n",
      "3315082  2008-03-11 22:11:46    NARCOTICS  41.757224 -87.562326   7.0\n",
      "6096207  2016-06-14 22:00:00        THEFT  41.955514 -87.774412  38.0\n",
      "5735053  2015-07-10 05:45:00        THEFT  41.945789 -87.774997  38.0\n",
      "2077159  2005-05-30 11:40:00        THEFT  41.736824 -87.663090  18.0\n",
      "870065   2002-09-25 11:00:00        THEFT  41.901553 -87.665803   1.0\n",
      "2772468  2006-09-05 21:44:32    NARCOTICS  41.779427 -87.665986  15.0\n",
      "4897876  2012-07-20 11:00:00     BURGLARY  41.959663 -87.729388  39.0\n",
      "4635484  2011-10-01 12:25:00      BATTERY  41.785288 -87.602796  20.0\n",
      "6685851  2018-08-15 01:30:00      ROBBERY  41.797310 -87.589047   4.0\n"
     ]
    }
   ],
   "source": [
    "# 최종 병합된 파일 로드\n",
    "df = pd.read_csv(\"crime_all_filled.csv\")\n",
    "# 10개 샘플만 보기\n",
    "print(df[['Date', 'Primary Type', 'Latitude', 'Longitude', 'Ward']].sample(10))"
   ]
  },
  {
   "cell_type": "code",
   "execution_count": 51,
   "id": "30247175-b93e-407d-8680-8817ea17d4f5",
   "metadata": {},
   "outputs": [
    {
     "data": {
      "text/plain": [
       "ID                           0\n",
       "Case Number                  0\n",
       "Date                         0\n",
       "Block                        0\n",
       "IUCR                         0\n",
       "Primary Type                 0\n",
       "Description                  0\n",
       "Location Description     13853\n",
       "Arrest                       0\n",
       "Domestic                     0\n",
       "Beat                         0\n",
       "District                     0\n",
       "Ward                       411\n",
       "Community Area          436198\n",
       "FBI Code                     0\n",
       "X Coordinate                 0\n",
       "Y Coordinate                 0\n",
       "Year                         0\n",
       "Updated On                   0\n",
       "Latitude                     0\n",
       "Longitude                    0\n",
       "Location                     0\n",
       "geometry                     0\n",
       "dtype: int64"
      ]
     },
     "execution_count": 51,
     "metadata": {},
     "output_type": "execute_result"
    }
   ],
   "source": [
    "df.isna().sum()"
   ]
  },
  {
   "cell_type": "code",
   "execution_count": 52,
   "id": "bfc95424-b6f9-47e6-961a-599512ad3a9d",
   "metadata": {},
   "outputs": [
    {
     "data": {
      "text/plain": [
       "(8278294, 23)"
      ]
     },
     "execution_count": 52,
     "metadata": {},
     "output_type": "execute_result"
    }
   ],
   "source": [
    "df.shape"
   ]
  },
  {
   "cell_type": "code",
   "execution_count": 53,
   "id": "d2b2edc5-e090-4165-801b-9ae65ef5c8d5",
   "metadata": {},
   "outputs": [
    {
     "name": "stdout",
     "output_type": "stream",
     "text": [
      "[49. 53. 11. 63. 71. 58. 30. 61. 46. 60. 70. 23. 28.  2. 43. 40. 26. 41.\n",
      " 31. 14. 65. 44. 42. 66. 29. 21.  3.  8.  1. 27. 51. 68. 19. 74. 75. 69.\n",
      " 56. 38. 54. 13.  6. 48. 24. 52. 45. 25. nan 32.  5. 36. 67. 57. 10. 50.\n",
      " 12. 35. 55. 73.  9. 22. 39. 20. 72. 47. 16.  7. 77. 15. 76. 34. 62.  4.\n",
      " 18. 17. 59. 37. 64. 33.  0.]\n"
     ]
    }
   ],
   "source": [
    "print(df['Community Area'].unique())"
   ]
  },
  {
   "cell_type": "code",
   "execution_count": 54,
   "id": "12e91300-4c2b-4d6e-bb0c-49dbcbb5c64e",
   "metadata": {},
   "outputs": [
    {
     "data": {
      "text/plain": [
       "76"
      ]
     },
     "execution_count": 54,
     "metadata": {},
     "output_type": "execute_result"
    }
   ],
   "source": [
    "(df['Community Area'] == 0).sum()"
   ]
  },
  {
   "cell_type": "code",
   "execution_count": 55,
   "id": "d77ac5f2-843b-4d64-a3ea-80c0d3633a97",
   "metadata": {},
   "outputs": [],
   "source": [
    "df['Community Area'] = df['Community Area'].replace(0, pd.NA)"
   ]
  },
  {
   "cell_type": "code",
   "execution_count": 56,
   "id": "e8341742-3424-4d5f-a87b-cd1a113bee8c",
   "metadata": {},
   "outputs": [
    {
     "name": "stderr",
     "output_type": "stream",
     "text": [
      "C:\\Users\\qhwhr\\AppData\\Local\\Temp\\ipykernel_13168\\2532815932.py:11: FutureWarning: Downcasting object dtype arrays on .fillna, .ffill, .bfill is deprecated and will change in a future version. Call result.infer_objects(copy=False) instead. To opt-in to the future behavior, set `pd.set_option('future.no_silent_downcasting', True)`\n",
      "  joined['Community Area'] = joined['Community Area'].fillna(joined['Area_Num']).astype(float)\n"
     ]
    }
   ],
   "source": [
    "area_df = pd.read_csv(\"Boundaries - Community Areas (current).csv\")\n",
    "area_df = area_df[area_df['AREA_NUMBE'].notna()]\n",
    "area_df['AREA_NUMBE'] = area_df['AREA_NUMBE'].astype(float)\n",
    "area_df['geometry'] = area_df['the_geom'].apply(wkt.loads)\n",
    "area_gdf = gpd.GeoDataFrame(area_df, geometry='geometry', crs='EPSG:4326')\n",
    "area_gdf = area_gdf[['AREA_NUMBE', 'geometry']].rename(columns={'AREA_NUMBE': 'Area_Num'})\n",
    "df = df.reset_index()\n",
    "df['geometry'] = gpd.points_from_xy(df['Longitude'], df['Latitude'])\n",
    "crime_gdf = gpd.GeoDataFrame(df, geometry='geometry', crs='EPSG:4326')\n",
    "joined = gpd.sjoin(crime_gdf, area_gdf, how='left', predicate='within')\n",
    "joined['Community Area'] = joined['Community Area'].fillna(joined['Area_Num']).astype(float)\n",
    "joined.drop(columns=['Area_Num', 'index_right'], inplace=True)\n",
    "joined.to_csv(\"crime_final2.csv\", index=False)"
   ]
  },
  {
   "cell_type": "code",
   "execution_count": 57,
   "id": "b87b6817-9c3d-40e3-afb0-e9bc797314cb",
   "metadata": {},
   "outputs": [
    {
     "name": "stdout",
     "output_type": "stream",
     "text": [
      "결측치 수: 347\n",
      "유니크 값: [1.0, 2.0, 3.0, 4.0, 5.0, 6.0, 7.0, 8.0, 9.0, 10.0, 11.0, 12.0, 13.0, 14.0, 15.0, 16.0, 17.0, 18.0, 19.0, 20.0, 21.0, 22.0, 23.0, 24.0, 25.0, 26.0, 27.0, 28.0, 29.0, 30.0, 31.0, 32.0, 33.0, 34.0, 35.0, 36.0, 37.0, 38.0, 39.0, 40.0, 41.0, 42.0, 43.0, 44.0, 45.0, 46.0, 47.0, 48.0, 49.0, 50.0, 51.0, 52.0, 53.0, 54.0, 55.0, 56.0, 57.0, 58.0, 59.0, 60.0, 61.0, 62.0, 63.0, 64.0, 65.0, 66.0, 67.0, 68.0, 69.0, 70.0, 71.0, 72.0, 73.0, 74.0, 75.0, 76.0, 77.0]\n"
     ]
    }
   ],
   "source": [
    "df = pd.read_csv(\"crime_final2.csv\")\n",
    "\n",
    "# Community Area 결측치 확인\n",
    "print(\"결측치 수:\", df['Community Area'].isna().sum())\n",
    "\n",
    "# 어떤 값들이 있는지 유니크하게 확인\n",
    "print(\"유니크 값:\", sorted(df['Community Area'].dropna().unique()))"
   ]
  },
  {
   "cell_type": "code",
   "execution_count": 58,
   "id": "975b756a-d26f-44c9-af54-38ec0681638b",
   "metadata": {},
   "outputs": [
    {
     "data": {
      "text/plain": [
       "index                       0\n",
       "ID                          0\n",
       "Case Number                 0\n",
       "Date                        0\n",
       "Block                       0\n",
       "IUCR                        0\n",
       "Primary Type                0\n",
       "Description                 0\n",
       "Location Description    13853\n",
       "Arrest                      0\n",
       "Domestic                    0\n",
       "Beat                        0\n",
       "District                    0\n",
       "Ward                      411\n",
       "Community Area            347\n",
       "FBI Code                    0\n",
       "X Coordinate                0\n",
       "Y Coordinate                0\n",
       "Year                        0\n",
       "Updated On                  0\n",
       "Latitude                    0\n",
       "Longitude                   0\n",
       "Location                    0\n",
       "geometry                    0\n",
       "dtype: int64"
      ]
     },
     "execution_count": 58,
     "metadata": {},
     "output_type": "execute_result"
    }
   ],
   "source": [
    "df.isna().sum()"
   ]
  },
  {
   "cell_type": "code",
   "execution_count": 59,
   "id": "ec4c2888-6583-4e3c-93c9-e8686a9c3b4e",
   "metadata": {},
   "outputs": [],
   "source": [
    "df = df.dropna(subset=['Ward', 'Community Area'])"
   ]
  },
  {
   "cell_type": "code",
   "execution_count": 60,
   "id": "91a41e2d-407d-4188-b82a-067444b88a2e",
   "metadata": {},
   "outputs": [
    {
     "data": {
      "text/plain": [
       "index                       0\n",
       "ID                          0\n",
       "Case Number                 0\n",
       "Date                        0\n",
       "Block                       0\n",
       "IUCR                        0\n",
       "Primary Type                0\n",
       "Description                 0\n",
       "Location Description    13853\n",
       "Arrest                      0\n",
       "Domestic                    0\n",
       "Beat                        0\n",
       "District                    0\n",
       "Ward                        0\n",
       "Community Area              0\n",
       "FBI Code                    0\n",
       "X Coordinate                0\n",
       "Y Coordinate                0\n",
       "Year                        0\n",
       "Updated On                  0\n",
       "Latitude                    0\n",
       "Longitude                   0\n",
       "Location                    0\n",
       "geometry                    0\n",
       "dtype: int64"
      ]
     },
     "execution_count": 60,
     "metadata": {},
     "output_type": "execute_result"
    }
   ],
   "source": [
    "df.isna().sum()"
   ]
  },
  {
   "cell_type": "code",
   "execution_count": 63,
   "id": "bbd4fb00-1a2e-452f-824e-03b040a2bc5c",
   "metadata": {},
   "outputs": [],
   "source": [
    "# 매핑 딕셔너리\n",
    "community_area_map = {\n",
    "    1: 'Rogers Park', 2: 'West Ridge', 3: 'Uptown', 4: 'Lincoln Square',\n",
    "    5: 'North Center', 6: 'Lake View', 7: 'Lincoln Park', 8: 'Near North Side',\n",
    "    9: 'Edison Park', 10: 'Norwood Park', 11: 'Jefferson Park', 12: 'Forest Glen',\n",
    "    13: 'North Park', 14: 'Albany Park', 15: 'Portage Park', 16: 'Irving Park',\n",
    "    17: 'Dunning', 18: 'Montclare', 19: 'Belmont Cragin', 20: 'Hermosa',\n",
    "    21: 'Avondale', 22: 'Logan Square', 23: 'Humboldt Park', 24: 'West Town',\n",
    "    25: 'Austin', 26: 'West Garfield Park', 27: 'East Garfield Park',\n",
    "    28: 'Near West Side', 29: 'North Lawndale', 30: 'South Lawndale',\n",
    "    31: 'Lower West Side', 32: 'Loop', 33: 'Near South Side', 34: 'Armour Square',\n",
    "    35: 'Douglas', 36: 'Oakland', 37: 'Fuller Park', 38: 'Grand Boulevard',\n",
    "    39: 'Kenwood', 40: 'Washington Park', 41: 'Hyde Park', 42: 'Woodlawn',\n",
    "    43: 'South Shore', 44: 'Chatham', 45: 'Avalon Park', 46: 'South Chicago',\n",
    "    47: 'Burnside', 48: 'Calumet Heights', 49: 'Roseland', 50: 'Pullman',\n",
    "    51: 'South Deering', 52: 'East Side', 53: 'West Pullman', 54: 'Riverdale',\n",
    "    55: 'Hegewisch', 56: 'Garfield Ridge', 57: 'Archer Heights',\n",
    "    58: 'Brighton Park', 59: 'McKinley Park', 60: 'Bridgeport',\n",
    "    61: 'New City', 62: 'West Elsdon', 63: 'Gage Park', 64: 'Clearing',\n",
    "    65: 'West Lawn', 66: 'Chicago Lawn', 67: 'West Englewood',\n",
    "    68: 'Englewood', 69: 'Greater Grand Crossing', 70: 'Ashburn',\n",
    "    71: 'Auburn Gresham', 72: 'Beverly', 73: 'Washington Heights',\n",
    "    74: 'Mount Greenwood', 75: 'Morgan Park', 76: 'OHare', 77: 'Edgewater'\n",
    "}\n",
    "\n",
    "# 매핑 적용\n",
    "df['Community Area Name'] = df['Community Area'].map(lambda x: community_area_map.get(int(x)) if pd.notna(x) else None)"
   ]
  },
  {
   "cell_type": "code",
   "execution_count": 62,
   "id": "f866a551-ee3a-4fd8-8a3d-39652a1d75da",
   "metadata": {},
   "outputs": [
    {
     "name": "stdout",
     "output_type": "stream",
     "text": [
      "<class 'pandas.core.frame.DataFrame'>\n",
      "Index: 8277869 entries, 0 to 8278293\n",
      "Data columns (total 25 columns):\n",
      " #   Column                Dtype  \n",
      "---  ------                -----  \n",
      " 0   index                 int64  \n",
      " 1   ID                    int64  \n",
      " 2   Case Number           object \n",
      " 3   Date                  object \n",
      " 4   Block                 object \n",
      " 5   IUCR                  object \n",
      " 6   Primary Type          object \n",
      " 7   Description           object \n",
      " 8   Location Description  object \n",
      " 9   Arrest                bool   \n",
      " 10  Domestic              bool   \n",
      " 11  Beat                  int64  \n",
      " 12  District              float64\n",
      " 13  Ward                  float64\n",
      " 14  Community Area        float64\n",
      " 15  FBI Code              object \n",
      " 16  X Coordinate          float64\n",
      " 17  Y Coordinate          float64\n",
      " 18  Year                  int64  \n",
      " 19  Updated On            object \n",
      " 20  Latitude              float64\n",
      " 21  Longitude             float64\n",
      " 22  Location              object \n",
      " 23  geometry              object \n",
      " 24  Community Area Name   object \n",
      "dtypes: bool(2), float64(7), int64(4), object(12)\n",
      "memory usage: 1.5+ GB\n"
     ]
    }
   ],
   "source": [
    "df.info()"
   ]
  },
  {
   "cell_type": "code",
   "execution_count": 64,
   "id": "1bdaacb6-2020-496b-9b4b-e663890ae365",
   "metadata": {},
   "outputs": [
    {
     "name": "stdout",
     "output_type": "stream",
     "text": [
      "             F_Date      Time\n",
      "0        2008-05-17  18:00:00\n",
      "1        2008-05-27  01:00:00\n",
      "2        2008-08-05  22:37:00\n",
      "3        2008-12-27  20:00:00\n",
      "4        2015-09-24  00:00:00\n",
      "...             ...       ...\n",
      "8278289  2025-03-16  12:36:00\n",
      "8278290  2025-03-16  23:00:00\n",
      "8278291  2025-03-16  20:44:00\n",
      "8278292  2025-03-16  15:45:00\n",
      "8278293  2025-03-16  09:44:00\n",
      "\n",
      "[8277869 rows x 2 columns]\n"
     ]
    }
   ],
   "source": [
    "# Date 컬럼의 형식 object(문자열) 확인 -> 형식 변환\n",
    "df['Date'] = pd.to_datetime(df['Date'], format=\"%Y-%m-%d %H:%M:%S\", errors='coerce')\n",
    "# 날짜(Date)와 시간(Time) 나누기\n",
    "df['F_Date'] = df['Date'].dt.strftime('%Y-%m-%d')\n",
    "df['Time'] = df['Date'].dt.strftime('%H:%M:%S')\n",
    "\n",
    "# 결과 출력\n",
    "print(df[['F_Date', 'Time']])"
   ]
  },
  {
   "cell_type": "code",
   "execution_count": 66,
   "id": "47eaa27c-8200-4346-a1a7-9f77063e2cb0",
   "metadata": {},
   "outputs": [],
   "source": [
    "df_1 = df.drop(columns=['index'])"
   ]
  },
  {
   "cell_type": "code",
   "execution_count": 72,
   "id": "9b45ac6b-7ec2-4151-8df0-da5599d469bc",
   "metadata": {},
   "outputs": [
    {
     "name": "stdout",
     "output_type": "stream",
     "text": [
      "중복된 Case Number 개수: 1197\n"
     ]
    }
   ],
   "source": [
    "# 중복된 Case Number만 추출\n",
    "duplicate_cases = df_1[df_1.duplicated(subset='Case Number', keep=False)]\n",
    "\n",
    "# 중복된 Case Number 개수 출력\n",
    "num_duplicates = duplicate_cases['Case Number'].nunique()\n",
    "print(\"중복된 Case Number 개수:\", num_duplicates)"
   ]
  },
  {
   "cell_type": "code",
   "execution_count": 73,
   "id": "7a882d2c-5bc2-4924-8acf-9b486269cd3e",
   "metadata": {},
   "outputs": [
    {
     "name": "stdout",
     "output_type": "stream",
     "text": [
      "Year\n",
      "2002    158\n",
      "2003    176\n",
      "2004    210\n",
      "2005    148\n",
      "2006    224\n",
      "2007    174\n",
      "2008    214\n",
      "2009    160\n",
      "2010    128\n",
      "2011    170\n",
      "2012    196\n",
      "2013    142\n",
      "2014    132\n",
      "2015    162\n",
      "Name: count, dtype: int64\n"
     ]
    },
    {
     "name": "stderr",
     "output_type": "stream",
     "text": [
      "C:\\Users\\qhwhr\\AppData\\Local\\Temp\\ipykernel_13168\\4011010875.py:5: SettingWithCopyWarning: \n",
      "A value is trying to be set on a copy of a slice from a DataFrame.\n",
      "Try using .loc[row_indexer,col_indexer] = value instead\n",
      "\n",
      "See the caveats in the documentation: https://pandas.pydata.org/pandas-docs/stable/user_guide/indexing.html#returning-a-view-versus-a-copy\n",
      "  dupes['Year'] = dupes['Date'].dt.year\n"
     ]
    }
   ],
   "source": [
    "# 중복된 Case Number만 추출\n",
    "dupes = df_1[df.duplicated(subset=['Case Number'], keep=False)]\n",
    "\n",
    "# 중복된 행들 중 연도만 추출\n",
    "dupes['Year'] = dupes['Date'].dt.year\n",
    "\n",
    "# 연도별 중복 수 세기\n",
    "dupe_counts_by_year = dupes['Year'].value_counts().sort_index()\n",
    "\n",
    "# 결과 출력\n",
    "print(dupe_counts_by_year)"
   ]
  },
  {
   "cell_type": "code",
   "execution_count": 70,
   "id": "071a903d-918b-4849-a295-c3503fb30575",
   "metadata": {},
   "outputs": [],
   "source": [
    "dupes = df_1[df_1.duplicated(subset=['Case Number'], keep=False)]"
   ]
  },
  {
   "cell_type": "code",
   "execution_count": 75,
   "id": "47c00cc8-4723-4cbc-b807-2f38367236a6",
   "metadata": {},
   "outputs": [
    {
     "data": {
      "text/plain": [
       "Ward\n",
       "1    1178\n",
       "2      19\n",
       "Name: count, dtype: int64"
      ]
     },
     "execution_count": 75,
     "metadata": {},
     "output_type": "execute_result"
    }
   ],
   "source": [
    "# 중복된 Case Number 중에서, 각각의 Case Number에 속한 고유한 Ward 수를 구함\n",
    "ward_counts_per_case = (\n",
    "    df_1[df_1.duplicated(subset='Case Number', keep=False)]\n",
    "    .groupby('Case Number')['Ward']\n",
    "    .nunique()\n",
    ")\n",
    "\n",
    "# 몇 개의 Case Number가 2개 이상의 Ward에 속해 있는지 확인\n",
    "ward_multiples = ward_counts_per_case.value_counts().sort_index()\n",
    "\n",
    "ward_multiples"
   ]
  },
  {
   "cell_type": "code",
   "execution_count": 74,
   "id": "f378717a-d259-4b23-9e61-228565c8cfa5",
   "metadata": {},
   "outputs": [
    {
     "name": "stdout",
     "output_type": "stream",
     "text": [
      "중복된 Case 중 Ward가 1개인 케이스에서 Ward별 등장 빈도:\n",
      "Ward\n",
      "7.0     1228\n",
      "10.0    1114\n",
      "8.0       12\n",
      "9.0        2\n",
      "Name: count, dtype: int64\n"
     ]
    }
   ],
   "source": [
    "\n",
    "# 중복 Case 중 Ward 수 1개인 Case Number 추출\n",
    "ward_counts_per_case = (\n",
    "    df_1[df_1.duplicated(subset='Case Number', keep=False)]\n",
    "    .groupby('Case Number')['Ward']\n",
    "    .nunique()\n",
    ")\n",
    "\n",
    "single_ward_cases = ward_counts_per_case[ward_counts_per_case == 1].index\n",
    "single_ward_rows = df_1[df_1['Case Number'].isin(single_ward_cases)]\n",
    "\n",
    "# 해당 Ward 카운트\n",
    "ward_distribution = single_ward_rows['Ward'].value_counts().sort_values(ascending=False)\n",
    "\n",
    "print(\"중복된 Case 중 Ward가 1개인 케이스에서 Ward별 등장 빈도:\")\n",
    "print(ward_distribution)\n"
   ]
  },
  {
   "cell_type": "code",
   "execution_count": 76,
   "id": "f8aa01b3-6ebd-4aef-bcf0-6030bf2effc4",
   "metadata": {},
   "outputs": [
    {
     "name": "stdout",
     "output_type": "stream",
     "text": [
      "여러 개 Ward에 속한 중복 Case Number들 중 가장 자주 등장한 Ward 순위:\n",
      "7.0     19\n",
      "10.0    19\n",
      "dtype: int64\n"
     ]
    }
   ],
   "source": [
    "import pandas as pd\n",
    "from collections import Counter\n",
    "\n",
    "# 먼저 중복된 Case Number 중에서 2개 이상의 Ward에 속하는 경우 필터링\n",
    "ward_counts_per_case = (\n",
    "    df_1[df_1.duplicated(subset='Case Number', keep=False)]\n",
    "    .groupby('Case Number')['Ward']\n",
    "    .nunique()\n",
    ")\n",
    "\n",
    "# 2개 이상의 Ward에 속하는 Case Number만 선택\n",
    "multi_ward_cases = ward_counts_per_case[ward_counts_per_case > 1].index\n",
    "\n",
    "# 해당 Case Number에 속한 데이터만 가져오기\n",
    "multi_ward_rows = df_1[df_1['Case Number'].isin(multi_ward_cases)]\n",
    "\n",
    "# 각 Ward 등장 횟수 세기\n",
    "ward_freq = Counter(multi_ward_rows['Ward'])\n",
    "\n",
    "# Pandas 시리즈로 정렬해서 보기 좋게 출력\n",
    "ward_freq_series = pd.Series(ward_freq).sort_values(ascending=False)\n",
    "\n",
    "print(\"여러 개 Ward에 속한 중복 Case Number들 중 가장 자주 등장한 Ward 순위:\")\n",
    "print(ward_freq_series)\n"
   ]
  },
  {
   "cell_type": "code",
   "execution_count": 77,
   "id": "9cc604bd-3134-482b-a068-7e9c3a9c2dbf",
   "metadata": {},
   "outputs": [
    {
     "name": "stdout",
     "output_type": "stream",
     "text": [
      "<class 'pandas.core.frame.DataFrame'>\n",
      "Index: 8277869 entries, 0 to 8278293\n",
      "Data columns (total 26 columns):\n",
      " #   Column                Dtype         \n",
      "---  ------                -----         \n",
      " 0   ID                    int64         \n",
      " 1   Case Number           object        \n",
      " 2   Date                  datetime64[ns]\n",
      " 3   Block                 object        \n",
      " 4   IUCR                  object        \n",
      " 5   Primary Type          object        \n",
      " 6   Description           object        \n",
      " 7   Location Description  object        \n",
      " 8   Arrest                bool          \n",
      " 9   Domestic              bool          \n",
      " 10  Beat                  int64         \n",
      " 11  District              float64       \n",
      " 12  Ward                  float64       \n",
      " 13  Community Area        float64       \n",
      " 14  FBI Code              object        \n",
      " 15  X Coordinate          float64       \n",
      " 16  Y Coordinate          float64       \n",
      " 17  Year                  int64         \n",
      " 18  Updated On            object        \n",
      " 19  Latitude              float64       \n",
      " 20  Longitude             float64       \n",
      " 21  Location              object        \n",
      " 22  geometry              object        \n",
      " 23  Community Area Name   object        \n",
      " 24  F_Date                object        \n",
      " 25  Time                  object        \n",
      "dtypes: bool(2), datetime64[ns](1), float64(7), int64(3), object(13)\n",
      "memory usage: 1.6+ GB\n"
     ]
    }
   ],
   "source": [
    "df_1.info()"
   ]
  },
  {
   "cell_type": "code",
   "execution_count": 78,
   "id": "9bb7aba2-5387-4150-8709-b729ca829e35",
   "metadata": {},
   "outputs": [],
   "source": [
    "df_2 = df_1.drop_duplicates(subset=['Case Number'], keep='first', ignore_index=True)"
   ]
  },
  {
   "cell_type": "code",
   "execution_count": 80,
   "id": "4eb63654-6cdb-40db-88c9-583474b0a12b",
   "metadata": {},
   "outputs": [],
   "source": [
    "df_2.to_csv(\"chicago_crime_final.csv\", index=False)"
   ]
  },
  {
   "cell_type": "code",
   "execution_count": null,
   "id": "07ec2e3b-d203-49cc-b4b1-1a568a9b1eda",
   "metadata": {},
   "outputs": [],
   "source": []
  }
 ],
 "metadata": {
  "kernelspec": {
   "display_name": "Python 3 (ipykernel)",
   "language": "python",
   "name": "python3"
  },
  "language_info": {
   "codemirror_mode": {
    "name": "ipython",
    "version": 3
   },
   "file_extension": ".py",
   "mimetype": "text/x-python",
   "name": "python",
   "nbconvert_exporter": "python",
   "pygments_lexer": "ipython3",
   "version": "3.12.3"
  }
 },
 "nbformat": 4,
 "nbformat_minor": 5
}
