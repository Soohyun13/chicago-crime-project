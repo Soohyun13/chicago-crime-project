{
 "cells": [
  {
   "cell_type": "code",
   "execution_count": 45,
   "id": "4197ecd3-225f-4462-9282-61f7371bae94",
   "metadata": {},
   "outputs": [],
   "source": [
    "import pandas as pd\n",
    "import numpy as np\n",
    "import re\n",
    "\n",
    "# 데이터 불러오기\n",
    "df = pd.read_csv(\"data/merge_data.csv\", low_memory=False)\n",
    "\n",
    "# 중복제거\n",
    "df.drop_duplicates(inplace=True)"
   ]
  },
  {
   "cell_type": "code",
   "execution_count": 47,
   "id": "5c6c4cde-b225-45f2-b829-d9cd0ca64bad",
   "metadata": {},
   "outputs": [],
   "source": [
    "# 텍스트 컬럼 특수문자 정리\n",
    "def clean_text(text):\n",
    "    if isinstance(text, str):\n",
    "        text = re.sub(r\"[\\\\n\\\\r\\\\t]\", \" \", text)\n",
    "        text = re.sub(r\"[^가-힣a-zA-Z0-9.,:()\\\\s]\", \"\", text)\n",
    "        return text.strip()\n",
    "    return text\n",
    "\n",
    "text_cols = [\"Primary Type\", \"Description\", \"Location Description\"]\n",
    "for col in text_cols:\n",
    "    df[col] = df[col].apply(clean_text)"
   ]
  },
  {
   "cell_type": "code",
   "execution_count": 49,
   "id": "78363779-7686-4c06-ba80-822210a799cc",
   "metadata": {},
   "outputs": [
    {
     "name": "stderr",
     "output_type": "stream",
     "text": [
      "/var/folders/1k/kfyrfwj51r7_zts1bndgk56c0000gn/T/ipykernel_96490/171308769.py:2: UserWarning: Could not infer format, so each element will be parsed individually, falling back to `dateutil`. To ensure parsing is consistent and as-expected, please specify a format.\n",
      "  df[\"Date\"] = pd.to_datetime(df[\"Date\"], errors=\"coerce\")\n"
     ]
    }
   ],
   "source": [
    "# 날짜 형식 정리 + 연/월 컬럼 추가\n",
    "df[\"Date\"] = pd.to_datetime(df[\"Date\"], errors=\"coerce\")\n",
    "df[\"Year\"] = df[\"Date\"].dt.year\n",
    "df[\"Month\"] = df[\"Date\"].dt.month"
   ]
  },
  {
   "cell_type": "code",
   "execution_count": 51,
   "id": "53e91724-7521-4e78-8e6a-fb60f12ce348",
   "metadata": {},
   "outputs": [],
   "source": [
    "# Community Area, District 결측치 처리\n",
    "df[\"Community Area\"] = df[\"Community Area\"].fillna(\"Unknown\")\n",
    "df[\"District\"] = df[\"District\"].fillna(\"Unknown\")"
   ]
  },
  {
   "cell_type": "code",
   "execution_count": 53,
   "id": "ec9542d4-b004-4837-a29f-427d53331274",
   "metadata": {},
   "outputs": [],
   "source": [
    "# 위도/경도 숫자형으로 변환\n",
    "df[\"Latitude\"] = pd.to_numeric(df[\"Latitude\"], errors=\"coerce\")\n",
    "df[\"Longitude\"] = pd.to_numeric(df[\"Longitude\"], errors=\"coerce\")"
   ]
  },
  {
   "cell_type": "code",
   "execution_count": 55,
   "id": "0eaa0504-ff83-410b-860d-730a7027a70d",
   "metadata": {},
   "outputs": [],
   "source": [
    "# 숫자인 District만 평균으로 보정\n",
    "numeric_districts = df[\"District\"].apply(lambda x: str(x).isdigit())\n",
    "\n",
    "df.loc[numeric_districts, \"Latitude\"] = (\n",
    "    df[numeric_districts]\n",
    "    .groupby(\"District\")[\"Latitude\"]\n",
    "    .transform(lambda x: x.fillna(x.mean()))\n",
    ")\n",
    "\n",
    "df.loc[numeric_districts, \"Longitude\"] = (\n",
    "    df[numeric_districts]\n",
    "    .groupby(\"District\")[\"Longitude\"]\n",
    "    .transform(lambda x: x.fillna(x.mean()))\n",
    ")"
   ]
  },
  {
   "cell_type": "code",
   "execution_count": 57,
   "id": "e8ae2d06-9c7a-4c03-b82b-cff59a802cd9",
   "metadata": {},
   "outputs": [],
   "source": [
    "# 남은 결측치는 0으로 보정\n",
    "df[\"Latitude\"] = df[\"Latitude\"].fillna(0)\n",
    "df[\"Longitude\"] = df[\"Longitude\"].fillna(0)"
   ]
  },
  {
   "cell_type": "code",
   "execution_count": 59,
   "id": "53fdb5ab-1780-4521-a799-42310eb65ceb",
   "metadata": {},
   "outputs": [],
   "source": [
    "# 체포 여부 문자열 처리\n",
    "df[\"Arrest\"] = df[\"Arrest\"].map({True: \"체포됨\", False: \"체포되지 않음\"}).fillna(\"정보없음\")"
   ]
  },
  {
   "cell_type": "code",
   "execution_count": 61,
   "id": "01821d63-750c-4b22-97da-45e933121c76",
   "metadata": {},
   "outputs": [],
   "source": [
    "# 필요한 컬럼만 선택\n",
    "columns_to_keep = [\n",
    "    \"Date\", \"Block\", \"Primary Type\", \"Description\", \"Location Description\", \n",
    "    \"Arrest\", \"Beat\", \"District\", \"Community Area\", \"Latitude\", \"Longitude\"\n",
    "]\n",
    "df = df[columns_to_keep]"
   ]
  },
  {
   "cell_type": "code",
   "execution_count": 63,
   "id": "61c59b38-fecd-4311-9526-c46de2e194dd",
   "metadata": {},
   "outputs": [],
   "source": [
    "# text 생성\n",
    "df[\"text\"] = (\n",
    "    df[\"Date\"].dt.strftime('%Y-%m-%d') + \" / \" +\n",
    "    df[\"Block\"].astype(str) + \"에서 발생한 범죄: \" +\n",
    "    df[\"Primary Type\"].astype(str) + \" (\" +\n",
    "    df[\"Description\"].astype(str) + \"). 장소는 \" +\n",
    "    df[\"Location Description\"].astype(str) + \"이며, \" +\n",
    "    df[\"Arrest\"] + \". 관할: Beat \" + df[\"Beat\"].astype(str) +\n",
    "    \", District \" + df[\"District\"].astype(str) +\n",
    "    \". 지역코드: \" + df[\"Community Area\"].astype(str)\n",
    ")"
   ]
  },
  {
   "cell_type": "code",
   "execution_count": null,
   "id": "a17aefd8-9095-410c-a859-b66b792d78dc",
   "metadata": {},
   "outputs": [],
   "source": [
    "# 저장\n",
    "final_columns = [\"text\"] + columns_to_keep\n",
    "df[final_columns].to_csv(\"rag_ready_data.csv\", index=False, encoding=\"utf-8-sig\")\n",
    "\n",
    "print(\"전처리 완료! 저장된 파일: rag_ready_data.csv\")"
   ]
  },
  {
   "cell_type": "code",
   "execution_count": 69,
   "id": "03ed6374-5154-4939-8f01-d2aa4722c0fe",
   "metadata": {},
   "outputs": [
    {
     "data": {
      "text/plain": [
       "Date                       0\n",
       "Block                      0\n",
       "Primary Type               0\n",
       "Description                0\n",
       "Location Description    1968\n",
       "Arrest                     0\n",
       "Beat                       0\n",
       "District                   0\n",
       "Community Area             0\n",
       "Latitude                   0\n",
       "Longitude                  0\n",
       "text                       0\n",
       "dtype: int64"
      ]
     },
     "execution_count": 69,
     "metadata": {},
     "output_type": "execute_result"
    }
   ],
   "source": [
    "df.isnull().sum()"
   ]
  }
 ],
 "metadata": {
  "kernelspec": {
   "display_name": "Python 3 (ipykernel)",
   "language": "python",
   "name": "python3"
  },
  "language_info": {
   "codemirror_mode": {
    "name": "ipython",
    "version": 3
   },
   "file_extension": ".py",
   "mimetype": "text/x-python",
   "name": "python",
   "nbconvert_exporter": "python",
   "pygments_lexer": "ipython3",
   "version": "3.12.8"
  }
 },
 "nbformat": 4,
 "nbformat_minor": 5
}
