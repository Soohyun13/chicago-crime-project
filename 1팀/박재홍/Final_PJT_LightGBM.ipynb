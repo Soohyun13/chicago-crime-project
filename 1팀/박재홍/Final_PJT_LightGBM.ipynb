{
 "cells": [
  {
   "cell_type": "code",
   "execution_count": 3,
   "id": "57a434e7-808e-4511-bab5-fd2cfaedb67e",
   "metadata": {},
   "outputs": [],
   "source": [
    "import pandas as pd\n",
    "import numpy as np"
   ]
  },
  {
   "cell_type": "code",
   "execution_count": 5,
   "id": "b9a25cb9-2d96-4d42-abbe-82213f632ddf",
   "metadata": {},
   "outputs": [],
   "source": [
    "df = pd.read_csv(\"data/data_visualization.csv\", low_memory=False)"
   ]
  },
  {
   "cell_type": "code",
   "execution_count": 9,
   "id": "c0ac4dd7-7b72-4a23-8dc6-bb8cc583eabb",
   "metadata": {},
   "outputs": [],
   "source": [
    "def optimize_dataframe(df):\n",
    "    for col in df.select_dtypes(include=[\"float64\"]).columns:\n",
    "        df[col] = df[col].astype(np.float32)\n",
    "    for col in df.select_dtypes(include=[\"int64\"]).columns:\n",
    "        df[col] = df[col].astype(np.int32)\n",
    "    for col in df.select_dtypes(include=[\"object\"]).columns:\n",
    "        df[col] = df[col].astype(\"category\")\n",
    "    return df\n",
    "df = optimize_dataframe(df)"
   ]
  },
  {
   "cell_type": "code",
   "execution_count": 11,
   "id": "b9e5b66d-7cbf-486e-b1ed-25499bd03342",
   "metadata": {},
   "outputs": [],
   "source": [
    "# 마약 범죄 정의\n",
    "narcotics_types = {\"NARCOTICS\", \"OTHER NARCOTIC VIOLATION\"}\n",
    "\n",
    "# 타겟 변수 생성\n",
    "df[\"is_narcotics\"] = np.where(df[\"Primary Type\"].isin(narcotics_types), 1, 0).astype(np.uint8)"
   ]
  },
  {
   "cell_type": "code",
   "execution_count": 15,
   "id": "fd44c754-9d35-4460-86e8-23235c89350e",
   "metadata": {},
   "outputs": [],
   "source": [
    "# Unknown을 결측치로 변환\n",
    "df[\"District\"] = df[\"District\"].replace('unknown', np.nan)\n",
    "df[\"Ward\"] = df[\"Ward\"].replace('unknown', np.nan)\n",
    "\n",
    "# int는 결측치를 가질 수 없어 float로 전환\n",
    "df[\"District\"] = df[\"District\"].astype(np.float32)\n",
    "df[\"Ward\"] = df[\"Ward\"].astype(np.float32)"
   ]
  },
  {
   "cell_type": "code",
   "execution_count": 17,
   "id": "a5d4eed1-737e-43be-be7e-1feece73154d",
   "metadata": {},
   "outputs": [],
   "source": [
    "# Community Area Code 이상치 제거\n",
    "df = df[df['Community Area Code'] >= 1].reset_index(drop=True)"
   ]
  },
  {
   "cell_type": "code",
   "execution_count": 19,
   "id": "c1282eb6-dbb4-47f3-8ac7-f5682fc6deaf",
   "metadata": {},
   "outputs": [],
   "source": [
    "# category 타입을 float으로 변환\n",
    "df['Y Coordinate'] = pd.to_numeric(df['Y Coordinate'], errors='coerce')\n",
    "\n",
    "# 이상치 제거\n",
    "df = df[df['Y Coordinate'] >= 10000]"
   ]
  },
  {
   "cell_type": "code",
   "execution_count": 21,
   "id": "bd91d3a8-2cb3-414d-bff3-fae906bee209",
   "metadata": {},
   "outputs": [],
   "source": [
    "# 분석과 예측에 불필요한 컬럼 제거\n",
    "drop_cols = [\"Case Number\", \"ID\", \"Latitude\",\"Block\", \"Longitude\", \"Location\", \"Primary Type\", \"IUCR\", \"FBI Code\", \"Description\"]\n",
    "df = df.drop(columns=drop_cols)"
   ]
  },
  {
   "cell_type": "code",
   "execution_count": 23,
   "id": "629f2043-c637-4f65-a3c2-ec4a4d5da8cd",
   "metadata": {},
   "outputs": [],
   "source": [
    "from sklearn.model_selection import train_test_split\n",
    "from sklearn.metrics import classification_report\n",
    "from lightgbm import LGBMClassifier\n",
    "from sklearn.preprocessing import LabelEncoder"
   ]
  },
  {
   "cell_type": "code",
   "execution_count": 25,
   "id": "67718781-2e52-4317-83f1-868a00388a84",
   "metadata": {},
   "outputs": [],
   "source": [
    "X = df.drop(columns=\"is_narcotics\").copy()\n",
    "y = df[\"is_narcotics\"]"
   ]
  },
  {
   "cell_type": "code",
   "execution_count": 27,
   "id": "9f88595a-3da4-4342-aa85-13ccd13dd885",
   "metadata": {},
   "outputs": [],
   "source": [
    "# category 타입 인코딩\n",
    "for col in X.select_dtypes(include='category').columns:\n",
    "    le = LabelEncoder()\n",
    "    X[col] = le.fit_transform(X[col].astype(str))"
   ]
  },
  {
   "cell_type": "code",
   "execution_count": 33,
   "id": "81d6c1b6-02cb-4af1-a4be-82b5bb560a18",
   "metadata": {
    "scrolled": true
   },
   "outputs": [
    {
     "name": "stdout",
     "output_type": "stream",
     "text": [
      "[LightGBM] [Warning] Found whitespace in feature_names, replace with underlines\n",
      "[LightGBM] [Info] Number of positive: 539453, number of negative: 4394571\n",
      "[LightGBM] [Info] Auto-choosing row-wise multi-threading, the overhead of testing was 0.038219 seconds.\n",
      "You can set `force_row_wise=true` to remove the overhead.\n",
      "And if memory is not enough, you can set `force_col_wise=true`.\n",
      "[LightGBM] [Info] Total Bins 1286\n",
      "[LightGBM] [Info] Number of data points in the train set: 4934024, number of used features: 11\n",
      "[LightGBM] [Info] [binary:BoostFromScore]: pavg=0.109333 -> initscore=-2.097570\n",
      "[LightGBM] [Info] Start training from score -2.097570\n",
      "              precision    recall  f1-score   support\n",
      "\n",
      "           0       1.00      0.87      0.93   1098643\n",
      "           1       0.48      0.98      0.65    134863\n",
      "\n",
      "    accuracy                           0.88   1233506\n",
      "   macro avg       0.74      0.93      0.79   1233506\n",
      "weighted avg       0.94      0.88      0.90   1233506\n",
      "\n"
     ]
    }
   ],
   "source": [
    "# 데이터 분할\n",
    "X_train, X_test, y_train, y_test = train_test_split(X, y, test_size=0.2, stratify=y, random_state=42)\n",
    "\n",
    "# 모델 정의\n",
    "model = LGBMClassifier(\n",
    "    objective='binary',\n",
    "    boosting_type='gbdt',\n",
    "    learning_rate=0.05,\n",
    "    num_leaves=31,\n",
    "    max_depth=-1,\n",
    "    scale_pos_weight=8.15,\n",
    "    n_estimators=100,\n",
    "    random_state=42\n",
    ")\n",
    "\n",
    "# 학습\n",
    "model.fit(X_train, y_train)\n",
    "\n",
    "# 예측 확률\n",
    "y_probs = model.predict_proba(X_test)[:, 1]\n",
    "\n",
    "# threshold\n",
    "threshold = 0.5\n",
    "y_pred = (y_probs >= threshold).astype(int)\n",
    "\n",
    "# 평가\n",
    "print(classification_report(y_test, y_pred))"
   ]
  },
  {
   "cell_type": "markdown",
   "id": "ade30082-f1df-4c20-a80f-a1169ef0f8e8",
   "metadata": {},
   "source": [
    "Class|Precision|Recall|F1-score|\n",
    "|------|---|---|---|\n",
    "|0 (비마약 범죄)|1.00|0.87|0.93|\n",
    "|1 (마약 범죄)|0.48|0.98|0.65|\n",
    "|Marco Average|0.74|0.93|0.79|\n",
    "|Weighted Average|0.94|0.88|0.90|"
   ]
  },
  {
   "cell_type": "markdown",
   "id": "07cab605-5b6c-4400-b330-d78b2dcfc4b0",
   "metadata": {},
   "source": [
    "Model|Accuracy(%)|Macro F1(%)|\n",
    "|------|---|---|\n",
    "|LightGBM|93|81|"
   ]
  },
  {
   "cell_type": "code",
   "execution_count": 37,
   "id": "0d945724-905e-4aab-90a5-f556d7051151",
   "metadata": {},
   "outputs": [
    {
     "data": {
      "image/png": "[encoded data removed]",
      "text/plain": [
       "<Figure size 1000x600 with 1 Axes>"
      ]
     },
     "metadata": {},
     "output_type": "display_data"
    }
   ],
   "source": [
    "from sklearn.metrics import precision_score, recall_score, f1_score\n",
    "import matplotlib.pyplot as plt\n",
    "\n",
    "# 예측 확률 (마약 클래스: 1에 대한 확률)\n",
    "y_scores = model.predict_proba(X_test)[:, 1]\n",
    "\n",
    "# 임계값 후보\n",
    "thresholds = np.arange(0.1, 0.91, 0.05)\n",
    "\n",
    "# 결과 저장\n",
    "precisions = []\n",
    "recalls = []\n",
    "f1s = []\n",
    "\n",
    "for thresh in thresholds:\n",
    "    y_pred_thresh = (y_scores >= thresh).astype(int)\n",
    "    precisions.append(precision_score(y_test, y_pred_thresh))\n",
    "    recalls.append(recall_score(y_test, y_pred_thresh))\n",
    "    f1s.append(f1_score(y_test, y_pred_thresh))\n",
    "\n",
    "# 시각화\n",
    "plt.figure(figsize=(10, 6))\n",
    "plt.plot(thresholds, precisions, label='Precision', marker='o')\n",
    "plt.plot(thresholds, recalls, label='Recall', marker='o')\n",
    "plt.plot(thresholds, f1s, label='F1-score', marker='o')\n",
    "plt.xlabel(\"Threshold\")\n",
    "plt.ylabel(\"Score\")\n",
    "plt.title(\"Threshold Tuning for LightGBM\")\n",
    "plt.legend()\n",
    "plt.grid(True)\n",
    "plt.tight_layout()\n",
    "plt.show()"
   ]
  },
  {
   "cell_type": "code",
   "execution_count": 45,
   "id": "1a40c335-543f-4df1-b5e1-0905e731f414",
   "metadata": {},
   "outputs": [
    {
     "name": "stdout",
     "output_type": "stream",
     "text": [
      "              precision    recall  f1-score   support\n",
      "\n",
      "           0       0.98      0.93      0.96   1098643\n",
      "           1       0.61      0.84      0.71    134863\n",
      "\n",
      "    accuracy                           0.92   1233506\n",
      "   macro avg       0.79      0.89      0.83   1233506\n",
      "weighted avg       0.94      0.92      0.93   1233506\n",
      "\n"
     ]
    }
   ],
   "source": [
    "# 예측 확률 얻기\n",
    "y_scores = model.predict_proba(X_test)[:, 1]\n",
    "\n",
    "# 최적의 threshold로 커스텀 예측\n",
    "optimal_threshold = 0.8\n",
    "y_pred = (y_scores >= optimal_threshold).astype(int)\n",
    "\n",
    "# 평가\n",
    "from sklearn.metrics import classification_report\n",
    "print(classification_report(y_test, y_pred))"
   ]
  },
  {
   "cell_type": "markdown",
   "id": "c4346746-a3d8-4454-8799-123dd3c91284",
   "metadata": {},
   "source": [
    "Class|Precision|Recall|F1-score|\n",
    "|------|---|---|---|\n",
    "|0 (비마약 범죄)|0.98|0.93|0.96|\n",
    "|1 (마약 범죄)|0.61|0.84|0.71|\n",
    "|Marco Average|0.79|0.89|0.83|\n",
    "|Weighted Average|0.94|0.92|0.93|"
   ]
  },
  {
   "cell_type": "markdown",
   "id": "a0c1604d-cc9a-4efb-8f92-2c3e8f6dd2a4",
   "metadata": {},
   "source": [
    "Model|Accuracy(%)|Macro F1(%)|\n",
    "|------|---|---|\n",
    "|LightGBM|92|83|"
   ]
  },
  {
   "cell_type": "markdown",
   "id": "6595ce53-4991-4cb4-9c09-38d44756d13e",
   "metadata": {},
   "source": [
    "Model|Accuracy(%)|Macro F1(%)|\n",
    "|------|---|---|\n",
    "|RandomForest|93|83|\n",
    "|XGBoost|92|83|\n",
    "|LightGBM|92|83|"
   ]
  },
  {
   "cell_type": "code",
   "execution_count": null,
   "id": "64f39da8-8307-4811-9210-42f70280755f",
   "metadata": {},
   "outputs": [],
   "source": []
  }
 ],
 "metadata": {
  "kernelspec": {
   "display_name": "Python 3 (ipykernel)",
   "language": "python",
   "name": "python3"
  },
  "language_info": {
   "codemirror_mode": {
    "name": "ipython",
    "version": 3
   },
   "file_extension": ".py",
   "mimetype": "text/x-python",
   "name": "python",
   "nbconvert_exporter": "python",
   "pygments_lexer": "ipython3",
   "version": "3.12.8"
  }
 },
 "nbformat": 4,
 "nbformat_minor": 5
}
