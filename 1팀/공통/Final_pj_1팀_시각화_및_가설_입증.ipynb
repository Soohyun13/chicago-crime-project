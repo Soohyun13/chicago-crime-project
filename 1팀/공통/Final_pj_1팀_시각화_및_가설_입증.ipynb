{
  "nbformat": 4,
  "nbformat_minor": 0,
  "metadata": {
    "colab": {
      "provenance": [],
      "machine_shape": "hm",
      "gpuType": "T4",
      "toc_visible": true
    },
    "kernelspec": {
      "name": "python3",
      "display_name": "Python 3"
    },
    "language_info": {
      "name": "python"
    },
    "accelerator": "GPU"
  },
  "cells": [
    {
      "cell_type": "markdown",
      "source": [
        "# 데이터 가져오기"
      ],
      "metadata": {
        "id": "aklPkg8Drcv9"
      }
    },
    {
      "cell_type": "code",
      "execution_count": null,
      "metadata": {
        "id": "8VFERR0G59CW"
      },
      "outputs": [],
      "source": [
        "# 필요한 라이브러리 import\n",
        "import numpy as np\n",
        "import pandas as pd\n",
        "import matplotlib.pyplot as plt\n",
        "import seaborn as sns\n",
        "from scipy import stats\n",
        "import statsmodels.api as sm\n",
        "from statsmodels.formula.api import ols\n",
        "from statsmodels.stats.multicomp import pairwise_tukeyhsd\n",
        "from scipy.stats import chi2_contingency\n",
        "from google.colab import data_table\n",
        "from collections import Counter\n",
        "import geopandas as gpd\n",
        "from shapely.geometry import Point\n",
        "from geopandas import points_from_xy\n",
        "from scipy.stats import pearsonr\n",
        "import statsmodels.api as sm\n",
        "from scipy.stats import chisquare\n",
        "import warnings\n",
        "warnings.filterwarnings('ignore')"
      ]
    },
    {
      "cell_type": "code",
      "source": [
        "# 구글 드라이브 마운트\n",
        "from google.colab import drive\n",
        "drive.mount('/content/drive')"
      ],
      "metadata": {
        "colab": {
          "base_uri": "https://localhost:8080/"
        },
        "id": "DGa-Uu1cB_QJ",
        "outputId": "53289743-0005-4b26-826c-c6d6ddcbe65c"
      },
      "execution_count": null,
      "outputs": [
        {
          "output_type": "stream",
          "name": "stdout",
          "text": [
            "Mounted at /content/drive\n"
          ]
        }
      ]
    },
    {
      "cell_type": "code",
      "source": [
        "# 총 4개의 csv 파일 불러온 후, 하나의 파일로 병합\n",
        "path = \"/content/drive/MyDrive/data/Chicago_Crimes_2001_to_2004.csv\"\n",
        "df1 = pd.read_csv(path, on_bad_lines='skip', low_memory=False)\n",
        "\n",
        "path = \"/content/drive/MyDrive/data/Chicago_Crimes_2005_to_2007.csv\"\n",
        "df2 = pd.read_csv(path, on_bad_lines='skip', low_memory=False)\n",
        "\n",
        "path = \"/content/drive/MyDrive/data/Chicago_Crimes_2008_to_2011.csv\"\n",
        "df3 = pd.read_csv(path, on_bad_lines='skip', low_memory=False)\n",
        "\n",
        "path = \"/content/drive/MyDrive/data/Chicago_Crimes_2012_to_2017.csv\"\n",
        "df4 = pd.read_csv(path, on_bad_lines='skip', low_memory=False)\n",
        "\n",
        "# 데이터 병합\n",
        "df = pd.concat([df1, df2, df3, df4], ignore_index=True)"
      ],
      "metadata": {
        "id": "prAehfBlBmME"
      },
      "execution_count": null,
      "outputs": []
    },
    {
      "cell_type": "code",
      "source": [
        "# 가지고 있는 칼럼 및 데이터 타입 확인\n",
        "df.info()"
      ],
      "metadata": {
        "colab": {
          "base_uri": "https://localhost:8080/"
        },
        "id": "nGxC9yHzDtQG",
        "outputId": "eb148dcc-6770-439f-e827-c5755c1f8a1a"
      },
      "execution_count": null,
      "outputs": [
        {
          "output_type": "stream",
          "name": "stdout",
          "text": [
            "<class 'pandas.core.frame.DataFrame'>\n",
            "RangeIndex: 7941282 entries, 0 to 7941281\n",
            "Data columns (total 23 columns):\n",
            " #   Column                Dtype  \n",
            "---  ------                -----  \n",
            " 0   Unnamed: 0            int64  \n",
            " 1   ID                    int64  \n",
            " 2   Case Number           object \n",
            " 3   Date                  object \n",
            " 4   Block                 object \n",
            " 5   IUCR                  object \n",
            " 6   Primary Type          object \n",
            " 7   Description           object \n",
            " 8   Location Description  object \n",
            " 9   Arrest                bool   \n",
            " 10  Domestic              bool   \n",
            " 11  Beat                  int64  \n",
            " 12  District              float64\n",
            " 13  Ward                  float64\n",
            " 14  Community Area        float64\n",
            " 15  FBI Code              object \n",
            " 16  X Coordinate          float64\n",
            " 17  Y Coordinate          object \n",
            " 18  Year                  float64\n",
            " 19  Updated On            object \n",
            " 20  Latitude              object \n",
            " 21  Longitude             float64\n",
            " 22  Location              object \n",
            "dtypes: bool(2), float64(6), int64(3), object(12)\n",
            "memory usage: 1.3+ GB\n"
          ]
        }
      ]
    },
    {
      "cell_type": "code",
      "source": [
        "# 칼럼별 상세 설명\n",
        "crime_attributes_updated = [\n",
        "    [1, \"Unnamed: 0\", \"원본 파일에서 자동 생성된 인덱스 열\", \"정수형 (int64)\"],\n",
        "    [2, \"ID\", \"사건 기록의 고유 식별자\", \"정수형 (int64)\"],\n",
        "    [3, \"Case Number\", \"시카고 경찰청 사건 번호\", \"문자형 (object)\"],\n",
        "    [4, \"Date\", \"사건 발생 날짜 및 시간\", \"문자형 (object)\"],\n",
        "    [5, \"Block\", \"사건이 발생한 주소 (블록 단위)\", \"문자형 (object)\"],\n",
        "    [6, \"IUCR\", \"일리노이 범죄 코드\", \"문자형 (object)\"],\n",
        "    [7, \"Primary Type\", \"주요 범죄 유형\", \"문자형 (object)\"],\n",
        "    [8, \"Description\", \"세부 범죄 유형\", \"문자형 (object)\"],\n",
        "    [9, \"Location Description\", \"사건 발생 장소 설명\", \"문자형 (object)\"],\n",
        "    [10, \"Arrest\", \"체포 여부\", \"불리언형 (bool)\"],\n",
        "    [11, \"Domestic\", \"가정폭력 관련 여부\", \"불리언형 (bool)\"],\n",
        "    [12, \"Beat\", \"사건 발생 경찰 비트 번호\", \"정수형 (int64)\"],\n",
        "    [13, \"District\", \"사건 발생 경찰 구역 번호\", \"실수형 (float64)\"],\n",
        "    [14, \"Ward\", \"시의회 선거구 번호\", \"실수형 (float64)\"],\n",
        "    [15, \"Community Area\", \"시카고 커뮤니티 지역 번호\", \"실수형 (float64)\"],\n",
        "    [16, \"FBI Code\", \"FBI 범죄 분류 코드\", \"문자형 (object)\"],\n",
        "    [17, \"X Coordinate\", \"X 좌표 (Illinois State Plane 기준)\", \"실수형 (float64)\"],\n",
        "    [18, \"Y Coordinate\", \"Y 좌표 (Illinois State Plane 기준)\", \"문자형 (object)\"],\n",
        "    [19, \"Year\", \"사건 발생 연도\", \"실수형 (float64)\"],\n",
        "    [20, \"Updated On\", \"기록이 마지막으로 갱신된 시점\", \"문자형 (object)\"],\n",
        "    [21, \"Latitude\", \"위도 (일부 조정된 위치)\", \"문자형 (object)\"],\n",
        "    [22, \"Longitude\", \"경도 (일부 조정된 위치)\", \"실수형 (float64)\"],\n",
        "    [23, \"Location\", \"위도와 경도가 함께 포함된 문자열 위치 정보\", \"문자형 ('(위도, 경도)' 형식)\"]\n",
        "]\n",
        "\n",
        "# 데이터프레임 생성\n",
        "df_crime_attributes_updated = pd.DataFrame(crime_attributes_updated, columns=[\"번호\", \"속성명\", \"설명\", \"데이터 유형\"])\n",
        "\n",
        "# Colab에서 시각화\n",
        "data_table.DataTable(df_crime_attributes_updated, include_index=False)"
      ],
      "metadata": {
        "colab": {
          "base_uri": "https://localhost:8080/",
          "height": 608
        },
        "id": "vxedwwJfDOT7",
        "outputId": "b3aa6c19-c7f8-4891-d937-d46231f7f2be"
      },
      "execution_count": null,
      "outputs": [
        {
          "output_type": "execute_result",
          "data": {
            "text/html": [
              "<div>\n",
              "<style scoped>\n",
              "    .dataframe tbody tr th:only-of-type {\n",
              "        vertical-align: middle;\n",
              "    }\n",
              "\n",
              "    .dataframe tbody tr th {\n",
              "        vertical-align: top;\n",
              "    }\n",
              "\n",
              "    .dataframe thead th {\n",
              "        text-align: right;\n",
              "    }\n",
              "</style>\n",
              "<table border=\"1\" class=\"dataframe\">\n",
              "  <thead>\n",
              "    <tr style=\"text-align: right;\">\n",
              "      <th></th>\n",
              "      <th>번호</th>\n",
              "      <th>속성명</th>\n",
              "      <th>설명</th>\n",
              "      <th>데이터 유형</th>\n",
              "    </tr>\n",
              "  </thead>\n",
              "  <tbody>\n",
              "    <tr>\n",
              "      <th>0</th>\n",
              "      <td>1</td>\n",
              "      <td>Unnamed: 0</td>\n",
              "      <td>원본 파일에서 자동 생성된 인덱스 열</td>\n",
              "      <td>정수형 (int64)</td>\n",
              "    </tr>\n",
              "    <tr>\n",
              "      <th>1</th>\n",
              "      <td>2</td>\n",
              "      <td>ID</td>\n",
              "      <td>사건 기록의 고유 식별자</td>\n",
              "      <td>정수형 (int64)</td>\n",
              "    </tr>\n",
              "    <tr>\n",
              "      <th>2</th>\n",
              "      <td>3</td>\n",
              "      <td>Case Number</td>\n",
              "      <td>시카고 경찰청 사건 번호</td>\n",
              "      <td>문자형 (object)</td>\n",
              "    </tr>\n",
              "    <tr>\n",
              "      <th>3</th>\n",
              "      <td>4</td>\n",
              "      <td>Date</td>\n",
              "      <td>사건 발생 날짜 및 시간</td>\n",
              "      <td>문자형 (object)</td>\n",
              "    </tr>\n",
              "    <tr>\n",
              "      <th>4</th>\n",
              "      <td>5</td>\n",
              "      <td>Block</td>\n",
              "      <td>사건이 발생한 주소 (블록 단위)</td>\n",
              "      <td>문자형 (object)</td>\n",
              "    </tr>\n",
              "    <tr>\n",
              "      <th>5</th>\n",
              "      <td>6</td>\n",
              "      <td>IUCR</td>\n",
              "      <td>일리노이 범죄 코드</td>\n",
              "      <td>문자형 (object)</td>\n",
              "    </tr>\n",
              "    <tr>\n",
              "      <th>6</th>\n",
              "      <td>7</td>\n",
              "      <td>Primary Type</td>\n",
              "      <td>주요 범죄 유형</td>\n",
              "      <td>문자형 (object)</td>\n",
              "    </tr>\n",
              "    <tr>\n",
              "      <th>7</th>\n",
              "      <td>8</td>\n",
              "      <td>Description</td>\n",
              "      <td>세부 범죄 유형</td>\n",
              "      <td>문자형 (object)</td>\n",
              "    </tr>\n",
              "    <tr>\n",
              "      <th>8</th>\n",
              "      <td>9</td>\n",
              "      <td>Location Description</td>\n",
              "      <td>사건 발생 장소 설명</td>\n",
              "      <td>문자형 (object)</td>\n",
              "    </tr>\n",
              "    <tr>\n",
              "      <th>9</th>\n",
              "      <td>10</td>\n",
              "      <td>Arrest</td>\n",
              "      <td>체포 여부</td>\n",
              "      <td>불리언형 (bool)</td>\n",
              "    </tr>\n",
              "    <tr>\n",
              "      <th>10</th>\n",
              "      <td>11</td>\n",
              "      <td>Domestic</td>\n",
              "      <td>가정폭력 관련 여부</td>\n",
              "      <td>불리언형 (bool)</td>\n",
              "    </tr>\n",
              "    <tr>\n",
              "      <th>11</th>\n",
              "      <td>12</td>\n",
              "      <td>Beat</td>\n",
              "      <td>사건 발생 경찰 비트 번호</td>\n",
              "      <td>정수형 (int64)</td>\n",
              "    </tr>\n",
              "    <tr>\n",
              "      <th>12</th>\n",
              "      <td>13</td>\n",
              "      <td>District</td>\n",
              "      <td>사건 발생 경찰 구역 번호</td>\n",
              "      <td>실수형 (float64)</td>\n",
              "    </tr>\n",
              "    <tr>\n",
              "      <th>13</th>\n",
              "      <td>14</td>\n",
              "      <td>Ward</td>\n",
              "      <td>시의회 선거구 번호</td>\n",
              "      <td>실수형 (float64)</td>\n",
              "    </tr>\n",
              "    <tr>\n",
              "      <th>14</th>\n",
              "      <td>15</td>\n",
              "      <td>Community Area</td>\n",
              "      <td>시카고 커뮤니티 지역 번호</td>\n",
              "      <td>실수형 (float64)</td>\n",
              "    </tr>\n",
              "    <tr>\n",
              "      <th>15</th>\n",
              "      <td>16</td>\n",
              "      <td>FBI Code</td>\n",
              "      <td>FBI 범죄 분류 코드</td>\n",
              "      <td>문자형 (object)</td>\n",
              "    </tr>\n",
              "    <tr>\n",
              "      <th>16</th>\n",
              "      <td>17</td>\n",
              "      <td>X Coordinate</td>\n",
              "      <td>X 좌표 (Illinois State Plane 기준)</td>\n",
              "      <td>실수형 (float64)</td>\n",
              "    </tr>\n",
              "    <tr>\n",
              "      <th>17</th>\n",
              "      <td>18</td>\n",
              "      <td>Y Coordinate</td>\n",
              "      <td>Y 좌표 (Illinois State Plane 기준)</td>\n",
              "      <td>문자형 (object)</td>\n",
              "    </tr>\n",
              "    <tr>\n",
              "      <th>18</th>\n",
              "      <td>19</td>\n",
              "      <td>Year</td>\n",
              "      <td>사건 발생 연도</td>\n",
              "      <td>실수형 (float64)</td>\n",
              "    </tr>\n",
              "    <tr>\n",
              "      <th>19</th>\n",
              "      <td>20</td>\n",
              "      <td>Updated On</td>\n",
              "      <td>기록이 마지막으로 갱신된 시점</td>\n",
              "      <td>문자형 (object)</td>\n",
              "    </tr>\n",
              "    <tr>\n",
              "      <th>20</th>\n",
              "      <td>21</td>\n",
              "      <td>Latitude</td>\n",
              "      <td>위도 (일부 조정된 위치)</td>\n",
              "      <td>문자형 (object)</td>\n",
              "    </tr>\n",
              "    <tr>\n",
              "      <th>21</th>\n",
              "      <td>22</td>\n",
              "      <td>Longitude</td>\n",
              "      <td>경도 (일부 조정된 위치)</td>\n",
              "      <td>실수형 (float64)</td>\n",
              "    </tr>\n",
              "    <tr>\n",
              "      <th>22</th>\n",
              "      <td>23</td>\n",
              "      <td>Location</td>\n",
              "      <td>위도와 경도가 함께 포함된 문자열 위치 정보</td>\n",
              "      <td>문자형 ('(위도, 경도)' 형식)</td>\n",
              "    </tr>\n",
              "  </tbody>\n",
              "</table>\n",
              "</div>"
            ],
            "application/vnd.google.colaboratory.module+javascript": "\n      import \"https://ssl.gstatic.com/colaboratory/data_table/e523c247d1e24a05/data_table.js\";\n\n      const table = window.createDataTable({\n        data: [[{\n            'v': 1,\n            'f': \"1\",\n        },\n\"Unnamed: 0\",\n\"\\uc6d0\\ubcf8 \\ud30c\\uc77c\\uc5d0\\uc11c \\uc790\\ub3d9 \\uc0dd\\uc131\\ub41c \\uc778\\ub371\\uc2a4 \\uc5f4\",\n\"\\uc815\\uc218\\ud615 (int64)\"],\n [{\n            'v': 2,\n            'f': \"2\",\n        },\n\"ID\",\n\"\\uc0ac\\uac74 \\uae30\\ub85d\\uc758 \\uace0\\uc720 \\uc2dd\\ubcc4\\uc790\",\n\"\\uc815\\uc218\\ud615 (int64)\"],\n [{\n            'v': 3,\n            'f': \"3\",\n        },\n\"Case Number\",\n\"\\uc2dc\\uce74\\uace0 \\uacbd\\ucc30\\uccad \\uc0ac\\uac74 \\ubc88\\ud638\",\n\"\\ubb38\\uc790\\ud615 (object)\"],\n [{\n            'v': 4,\n            'f': \"4\",\n        },\n\"Date\",\n\"\\uc0ac\\uac74 \\ubc1c\\uc0dd \\ub0a0\\uc9dc \\ubc0f \\uc2dc\\uac04\",\n\"\\ubb38\\uc790\\ud615 (object)\"],\n [{\n            'v': 5,\n            'f': \"5\",\n        },\n\"Block\",\n\"\\uc0ac\\uac74\\uc774 \\ubc1c\\uc0dd\\ud55c \\uc8fc\\uc18c (\\ube14\\ub85d \\ub2e8\\uc704)\",\n\"\\ubb38\\uc790\\ud615 (object)\"],\n [{\n            'v': 6,\n            'f': \"6\",\n        },\n\"IUCR\",\n\"\\uc77c\\ub9ac\\ub178\\uc774 \\ubc94\\uc8c4 \\ucf54\\ub4dc\",\n\"\\ubb38\\uc790\\ud615 (object)\"],\n [{\n            'v': 7,\n            'f': \"7\",\n        },\n\"Primary Type\",\n\"\\uc8fc\\uc694 \\ubc94\\uc8c4 \\uc720\\ud615\",\n\"\\ubb38\\uc790\\ud615 (object)\"],\n [{\n            'v': 8,\n            'f': \"8\",\n        },\n\"Description\",\n\"\\uc138\\ubd80 \\ubc94\\uc8c4 \\uc720\\ud615\",\n\"\\ubb38\\uc790\\ud615 (object)\"],\n [{\n            'v': 9,\n            'f': \"9\",\n        },\n\"Location Description\",\n\"\\uc0ac\\uac74 \\ubc1c\\uc0dd \\uc7a5\\uc18c \\uc124\\uba85\",\n\"\\ubb38\\uc790\\ud615 (object)\"],\n [{\n            'v': 10,\n            'f': \"10\",\n        },\n\"Arrest\",\n\"\\uccb4\\ud3ec \\uc5ec\\ubd80\",\n\"\\ubd88\\ub9ac\\uc5b8\\ud615 (bool)\"],\n [{\n            'v': 11,\n            'f': \"11\",\n        },\n\"Domestic\",\n\"\\uac00\\uc815\\ud3ed\\ub825 \\uad00\\ub828 \\uc5ec\\ubd80\",\n\"\\ubd88\\ub9ac\\uc5b8\\ud615 (bool)\"],\n [{\n            'v': 12,\n            'f': \"12\",\n        },\n\"Beat\",\n\"\\uc0ac\\uac74 \\ubc1c\\uc0dd \\uacbd\\ucc30 \\ube44\\ud2b8 \\ubc88\\ud638\",\n\"\\uc815\\uc218\\ud615 (int64)\"],\n [{\n            'v': 13,\n            'f': \"13\",\n        },\n\"District\",\n\"\\uc0ac\\uac74 \\ubc1c\\uc0dd \\uacbd\\ucc30 \\uad6c\\uc5ed \\ubc88\\ud638\",\n\"\\uc2e4\\uc218\\ud615 (float64)\"],\n [{\n            'v': 14,\n            'f': \"14\",\n        },\n\"Ward\",\n\"\\uc2dc\\uc758\\ud68c \\uc120\\uac70\\uad6c \\ubc88\\ud638\",\n\"\\uc2e4\\uc218\\ud615 (float64)\"],\n [{\n            'v': 15,\n            'f': \"15\",\n        },\n\"Community Area\",\n\"\\uc2dc\\uce74\\uace0 \\ucee4\\ubba4\\ub2c8\\ud2f0 \\uc9c0\\uc5ed \\ubc88\\ud638\",\n\"\\uc2e4\\uc218\\ud615 (float64)\"],\n [{\n            'v': 16,\n            'f': \"16\",\n        },\n\"FBI Code\",\n\"FBI \\ubc94\\uc8c4 \\ubd84\\ub958 \\ucf54\\ub4dc\",\n\"\\ubb38\\uc790\\ud615 (object)\"],\n [{\n            'v': 17,\n            'f': \"17\",\n        },\n\"X Coordinate\",\n\"X \\uc88c\\ud45c (Illinois State Plane \\uae30\\uc900)\",\n\"\\uc2e4\\uc218\\ud615 (float64)\"],\n [{\n            'v': 18,\n            'f': \"18\",\n        },\n\"Y Coordinate\",\n\"Y \\uc88c\\ud45c (Illinois State Plane \\uae30\\uc900)\",\n\"\\ubb38\\uc790\\ud615 (object)\"],\n [{\n            'v': 19,\n            'f': \"19\",\n        },\n\"Year\",\n\"\\uc0ac\\uac74 \\ubc1c\\uc0dd \\uc5f0\\ub3c4\",\n\"\\uc2e4\\uc218\\ud615 (float64)\"],\n [{\n            'v': 20,\n            'f': \"20\",\n        },\n\"Updated On\",\n\"\\uae30\\ub85d\\uc774 \\ub9c8\\uc9c0\\ub9c9\\uc73c\\ub85c \\uac31\\uc2e0\\ub41c \\uc2dc\\uc810\",\n\"\\ubb38\\uc790\\ud615 (object)\"],\n [{\n            'v': 21,\n            'f': \"21\",\n        },\n\"Latitude\",\n\"\\uc704\\ub3c4 (\\uc77c\\ubd80 \\uc870\\uc815\\ub41c \\uc704\\uce58)\",\n\"\\ubb38\\uc790\\ud615 (object)\"],\n [{\n            'v': 22,\n            'f': \"22\",\n        },\n\"Longitude\",\n\"\\uacbd\\ub3c4 (\\uc77c\\ubd80 \\uc870\\uc815\\ub41c \\uc704\\uce58)\",\n\"\\uc2e4\\uc218\\ud615 (float64)\"],\n [{\n            'v': 23,\n            'f': \"23\",\n        },\n\"Location\",\n\"\\uc704\\ub3c4\\uc640 \\uacbd\\ub3c4\\uac00 \\ud568\\uaed8 \\ud3ec\\ud568\\ub41c \\ubb38\\uc790\\uc5f4 \\uc704\\uce58 \\uc815\\ubcf4\",\n\"\\ubb38\\uc790\\ud615 ('(\\uc704\\ub3c4, \\uacbd\\ub3c4)' \\ud615\\uc2dd)\"]],\n        columns: [[\"number\", \"\\ubc88\\ud638\"], [\"string\", \"\\uc18d\\uc131\\uba85\"], [\"string\", \"\\uc124\\uba85\"], [\"string\", \"\\ub370\\uc774\\ud130 \\uc720\\ud615\"]],\n        columnOptions: [],\n        rowsPerPage: 25,\n        helpUrl: \"https://colab.research.google.com/notebooks/data_table.ipynb\",\n        suppressOutputScrolling: true,\n        minimumWidth: undefined,\n      });\n\n      function appendQuickchartButton(parentElement) {\n        let quickchartButtonContainerElement = document.createElement('div');\n        quickchartButtonContainerElement.innerHTML = `\n<div id=\"df-fd55ff9f-fb6c-40b1-9cb7-02c163bc5b23\">\n  <button class=\"colab-df-quickchart\" onclick=\"quickchart('df-fd55ff9f-fb6c-40b1-9cb7-02c163bc5b23')\"\n            title=\"Suggest charts\"\n            style=\"display:none;\">\n    \n<svg xmlns=\"http://www.w3.org/2000/svg\" height=\"24px\"viewBox=\"0 0 24 24\"\n     width=\"24px\">\n    <g>\n        <path d=\"M19 3H5c-1.1 0-2 .9-2 2v14c0 1.1.9 2 2 2h14c1.1 0 2-.9 2-2V5c0-1.1-.9-2-2-2zM9 17H7v-7h2v7zm4 0h-2V7h2v10zm4 0h-2v-4h2v4z\"/>\n    </g>\n</svg>\n  </button>\n  \n<style>\n  .colab-df-quickchart {\n      --bg-color: #E8F0FE;\n      --fill-color: #1967D2;\n      --hover-bg-color: #E2EBFA;\n      --hover-fill-color: #174EA6;\n      --disabled-fill-color: #AAA;\n      --disabled-bg-color: #DDD;\n  }\n\n  [theme=dark] .colab-df-quickchart {\n      --bg-color: #3B4455;\n      --fill-color: #D2E3FC;\n      --hover-bg-color: #434B5C;\n      --hover-fill-color: #FFFFFF;\n      --disabled-bg-color: #3B4455;\n      --disabled-fill-color: #666;\n  }\n\n  .colab-df-quickchart {\n    background-color: var(--bg-color);\n    border: none;\n    border-radius: 50%;\n    cursor: pointer;\n    display: none;\n    fill: var(--fill-color);\n    height: 32px;\n    padding: 0;\n    width: 32px;\n  }\n\n  .colab-df-quickchart:hover {\n    background-color: var(--hover-bg-color);\n    box-shadow: 0 1px 2px rgba(60, 64, 67, 0.3), 0 1px 3px 1px rgba(60, 64, 67, 0.15);\n    fill: var(--button-hover-fill-color);\n  }\n\n  .colab-df-quickchart-complete:disabled,\n  .colab-df-quickchart-complete:disabled:hover {\n    background-color: var(--disabled-bg-color);\n    fill: var(--disabled-fill-color);\n    box-shadow: none;\n  }\n\n  .colab-df-spinner {\n    border: 2px solid var(--fill-color);\n    border-color: transparent;\n    border-bottom-color: var(--fill-color);\n    animation:\n      spin 1s steps(1) infinite;\n  }\n\n  @keyframes spin {\n    0% {\n      border-color: transparent;\n      border-bottom-color: var(--fill-color);\n      border-left-color: var(--fill-color);\n    }\n    20% {\n      border-color: transparent;\n      border-left-color: var(--fill-color);\n      border-top-color: var(--fill-color);\n    }\n    30% {\n      border-color: transparent;\n      border-left-color: var(--fill-color);\n      border-top-color: var(--fill-color);\n      border-right-color: var(--fill-color);\n    }\n    40% {\n      border-color: transparent;\n      border-right-color: var(--fill-color);\n      border-top-color: var(--fill-color);\n    }\n    60% {\n      border-color: transparent;\n      border-right-color: var(--fill-color);\n    }\n    80% {\n      border-color: transparent;\n      border-right-color: var(--fill-color);\n      border-bottom-color: var(--fill-color);\n    }\n    90% {\n      border-color: transparent;\n      border-bottom-color: var(--fill-color);\n    }\n  }\n</style>\n\n  <script>\n    async function quickchart(key) {\n      const quickchartButtonEl =\n        document.querySelector('#' + key + ' button');\n      quickchartButtonEl.disabled = true;  // To prevent multiple clicks.\n      quickchartButtonEl.classList.add('colab-df-spinner');\n      try {\n        const charts = await google.colab.kernel.invokeFunction(\n            'suggestCharts', [key], {});\n      } catch (error) {\n        console.error('Error during call to suggestCharts:', error);\n      }\n      quickchartButtonEl.classList.remove('colab-df-spinner');\n      quickchartButtonEl.classList.add('colab-df-quickchart-complete');\n    }\n    (() => {\n      let quickchartButtonEl =\n        document.querySelector('#df-fd55ff9f-fb6c-40b1-9cb7-02c163bc5b23 button');\n      quickchartButtonEl.style.display =\n        google.colab.kernel.accessAllowed ? 'block' : 'none';\n    })();\n  </script>\n</div>`;\n        parentElement.appendChild(quickchartButtonContainerElement);\n      }\n\n      appendQuickchartButton(table);\n    ",
            "text/plain": [
              "<google.colab.data_table.DataTable object>"
            ]
          },
          "metadata": {},
          "execution_count": 5
        }
      ]
    },
    {
      "cell_type": "markdown",
      "source": [
        "## 시각화 전 데이터 전처리\n",
        "----\n",
        "1. 결측치 채우기\n",
        "2. 중복행 제거\n",
        "3. 데이터 타입 변환"
      ],
      "metadata": {
        "id": "TvRuXD9Lrkun"
      }
    },
    {
      "cell_type": "code",
      "source": [
        "# 병합한 데이터의 결측치 확인\n",
        "  # Case Number, Location Description, District, Ward, Community Area, X Coordinate, Y Coordinate, Latitude, Longitude, Location\n",
        "  # 총 10개의 칼럼에서 결측치 확인\n",
        "\n",
        "df.isnull().sum()"
      ],
      "metadata": {
        "colab": {
          "base_uri": "https://localhost:8080/",
          "height": 805
        },
        "id": "w9Y3XEVZEFOL",
        "outputId": "3779ac82-f9ea-4564-a05e-be1153d4e155"
      },
      "execution_count": null,
      "outputs": [
        {
          "output_type": "execute_result",
          "data": {
            "text/plain": [
              "Unnamed: 0                   0\n",
              "ID                           0\n",
              "Case Number                  7\n",
              "Date                         0\n",
              "Block                        0\n",
              "IUCR                         0\n",
              "Primary Type                 0\n",
              "Description                  0\n",
              "Location Description      1990\n",
              "Arrest                       0\n",
              "Domestic                     0\n",
              "Beat                         0\n",
              "District                    91\n",
              "Ward                    700224\n",
              "Community Area          702091\n",
              "FBI Code                     0\n",
              "X Coordinate            105573\n",
              "Y Coordinate            105573\n",
              "Year                         0\n",
              "Updated On                   0\n",
              "Latitude                105573\n",
              "Longitude               105574\n",
              "Location                105574\n",
              "dtype: int64"
            ],
            "text/html": [
              "<div>\n",
              "<style scoped>\n",
              "    .dataframe tbody tr th:only-of-type {\n",
              "        vertical-align: middle;\n",
              "    }\n",
              "\n",
              "    .dataframe tbody tr th {\n",
              "        vertical-align: top;\n",
              "    }\n",
              "\n",
              "    .dataframe thead th {\n",
              "        text-align: right;\n",
              "    }\n",
              "</style>\n",
              "<table border=\"1\" class=\"dataframe\">\n",
              "  <thead>\n",
              "    <tr style=\"text-align: right;\">\n",
              "      <th></th>\n",
              "      <th>0</th>\n",
              "    </tr>\n",
              "  </thead>\n",
              "  <tbody>\n",
              "    <tr>\n",
              "      <th>Unnamed: 0</th>\n",
              "      <td>0</td>\n",
              "    </tr>\n",
              "    <tr>\n",
              "      <th>ID</th>\n",
              "      <td>0</td>\n",
              "    </tr>\n",
              "    <tr>\n",
              "      <th>Case Number</th>\n",
              "      <td>7</td>\n",
              "    </tr>\n",
              "    <tr>\n",
              "      <th>Date</th>\n",
              "      <td>0</td>\n",
              "    </tr>\n",
              "    <tr>\n",
              "      <th>Block</th>\n",
              "      <td>0</td>\n",
              "    </tr>\n",
              "    <tr>\n",
              "      <th>IUCR</th>\n",
              "      <td>0</td>\n",
              "    </tr>\n",
              "    <tr>\n",
              "      <th>Primary Type</th>\n",
              "      <td>0</td>\n",
              "    </tr>\n",
              "    <tr>\n",
              "      <th>Description</th>\n",
              "      <td>0</td>\n",
              "    </tr>\n",
              "    <tr>\n",
              "      <th>Location Description</th>\n",
              "      <td>1990</td>\n",
              "    </tr>\n",
              "    <tr>\n",
              "      <th>Arrest</th>\n",
              "      <td>0</td>\n",
              "    </tr>\n",
              "    <tr>\n",
              "      <th>Domestic</th>\n",
              "      <td>0</td>\n",
              "    </tr>\n",
              "    <tr>\n",
              "      <th>Beat</th>\n",
              "      <td>0</td>\n",
              "    </tr>\n",
              "    <tr>\n",
              "      <th>District</th>\n",
              "      <td>91</td>\n",
              "    </tr>\n",
              "    <tr>\n",
              "      <th>Ward</th>\n",
              "      <td>700224</td>\n",
              "    </tr>\n",
              "    <tr>\n",
              "      <th>Community Area</th>\n",
              "      <td>702091</td>\n",
              "    </tr>\n",
              "    <tr>\n",
              "      <th>FBI Code</th>\n",
              "      <td>0</td>\n",
              "    </tr>\n",
              "    <tr>\n",
              "      <th>X Coordinate</th>\n",
              "      <td>105573</td>\n",
              "    </tr>\n",
              "    <tr>\n",
              "      <th>Y Coordinate</th>\n",
              "      <td>105573</td>\n",
              "    </tr>\n",
              "    <tr>\n",
              "      <th>Year</th>\n",
              "      <td>0</td>\n",
              "    </tr>\n",
              "    <tr>\n",
              "      <th>Updated On</th>\n",
              "      <td>0</td>\n",
              "    </tr>\n",
              "    <tr>\n",
              "      <th>Latitude</th>\n",
              "      <td>105573</td>\n",
              "    </tr>\n",
              "    <tr>\n",
              "      <th>Longitude</th>\n",
              "      <td>105574</td>\n",
              "    </tr>\n",
              "    <tr>\n",
              "      <th>Location</th>\n",
              "      <td>105574</td>\n",
              "    </tr>\n",
              "  </tbody>\n",
              "</table>\n",
              "</div><br><label><b>dtype:</b> int64</label>"
            ]
          },
          "metadata": {},
          "execution_count": 6
        }
      ]
    },
    {
      "cell_type": "code",
      "source": [
        "# Block(사건이 발생한 주소)을 기반으로 위, 경도 결측치 채우기\n",
        "\n",
        "# Block, 위도, 경도 조합 중복 제거\n",
        "unique_coords = df[['Block', 'Latitude', 'Longitude']].dropna().drop_duplicates()\n",
        "\n",
        "# Block별로 위경도 조합이 몇 개인지 개수 세기\n",
        "coord_variety = unique_coords.groupby('Block').size().reset_index(name='CoordCount')\n",
        "\n",
        "# 여러 좌표가 있는 Block만 필터링\n",
        "multiple_coords = coord_variety[coord_variety['CoordCount'] > 1]\n",
        "\n",
        "print(f\"Block 개수: {df['Block'].nunique():,}\")\n",
        "print(f\"여러 좌표를 가진 Block 수: {len(multiple_coords):,}\")\n",
        "\n",
        "# 위경도가 비어있지 않은 행만 필터링\n",
        "df_nonnull = df[df['Latitude'].notnull() & df['Longitude'].notnull()][['Block', 'Latitude', 'Longitude']]\n",
        "\n",
        "# 각 Block 내에서 (Latitude, Longitude) 쌍(좌표) 중 최빈값을 저장\n",
        "block_to_coord = {}\n",
        "\n",
        "for block, group in df_nonnull.groupby('Block'):\n",
        "    coords = list(zip(group['Latitude'], group['Longitude']))\n",
        "    mode_coord = Counter(coords).most_common(1)[0][0]  # 최빈 위경도 튜플\n",
        "    block_to_coord[block] = mode_coord\n",
        "\n",
        "# 위경도가 비어있는 행만 필터링\n",
        "mask_coords = df['Latitude'].isnull() | df['Longitude'].isnull()\n",
        "\n",
        "# 아까 찾은 Block 기준 최빈값으로 위경도 채우기\n",
        "df.loc[mask_coords, 'Latitude'] = df.loc[mask_coords, 'Block'].map(lambda b: block_to_coord.get(b, (None, None))[0])\n",
        "df.loc[mask_coords, 'Longitude'] = df.loc[mask_coords, 'Block'].map(lambda b: block_to_coord.get(b, (None, None))[1])"
      ],
      "metadata": {
        "colab": {
          "base_uri": "https://localhost:8080/"
        },
        "id": "lJMzrw2mETSE",
        "outputId": "5bd3b4f2-255e-4e90-b51c-de9b0707a965"
      },
      "execution_count": null,
      "outputs": [
        {
          "output_type": "stream",
          "name": "stdout",
          "text": [
            "Block 개수: 58,776\n",
            "여러 좌표를 가진 Block 수: 53,000\n"
          ]
        }
      ]
    },
    {
      "cell_type": "code",
      "source": [
        "# 채워진 위경도 값을 기반으로 Location 결측치 채우기\n",
        "\n",
        "# 위경도는 있는데 Location은 없는 행만 필터링\n",
        "mask_location_fill = (\n",
        "    df['Location'].isnull() &\n",
        "    df['Latitude'].notnull() &\n",
        "    df['Longitude'].notnull()\n",
        ")\n",
        "\n",
        "# 해당 조건을 만족하는 행에 대해 Location 생성\n",
        "df.loc[mask_location_fill, 'Location'] = df.loc[mask_location_fill].apply(\n",
        "    lambda row: f\"({row['Latitude']}, {row['Longitude']})\", axis=1\n",
        ")"
      ],
      "metadata": {
        "id": "ETh7dwu1GDpG"
      },
      "execution_count": null,
      "outputs": []
    },
    {
      "cell_type": "code",
      "source": [
        "# 채워진 위경도 값을 기반으로 X, Y좌표 결측치 채우기\n",
        "  # 위경도와 시카고 시공간 데이터에서 사용하는 X,Y좌표의 EPSG가 다름\n",
        "  # 위경도를 GeoDataFrame으로 바꾼 후, 좌표계 변환하여 X,Y좌표 추출\n",
        "\n",
        "# 위경도 결측치 없는 행만 선택\n",
        "geo_mask = df['Latitude'].notnull() & df['Longitude'].notnull()\n",
        "df_geo = df.loc[geo_mask, ['Latitude', 'Longitude']].copy()\n",
        "\n",
        "# 벡터화로 Point 객체 생성(메모리 아끼기)\n",
        "df_geo['geometry'] = points_from_xy(df_geo['Longitude'], df_geo['Latitude'])\n",
        "\n",
        "# GeoDataFrame 변환\n",
        "gdf = gpd.GeoDataFrame(df_geo, geometry='geometry', crs='EPSG:4326')\n",
        "\n",
        "# 좌표계 변환\n",
        "gdf_3435 = gdf.to_crs(epsg=3435)\n",
        "\n",
        "# X / Y 좌표 추출\n",
        "df.loc[geo_mask, 'X Coordinate'] = gdf_3435.geometry.x\n",
        "df.loc[geo_mask, 'Y Coordinate'] = gdf_3435.geometry.y"
      ],
      "metadata": {
        "id": "PML5UqNVJ2aO"
      },
      "execution_count": null,
      "outputs": []
    },
    {
      "cell_type": "code",
      "source": [
        "# 시카고 Ward GeoJson 사용하여 Ward(시의회 선거구 번호) 결측치 채우기\n",
        "\n",
        "# 시카고 Ward GeoJSON 파일 불러오기\n",
        "gdf_wards = gpd.read_file(\"/content/drive/MyDrive/data/chicago-wards.geojson\")\n",
        "\n",
        "# 좌표계 확인 및 설정\n",
        "if gdf_wards.crs is None:\n",
        "    gdf_wards.set_crs(epsg=4326, inplace=True)\n",
        "else:\n",
        "    gdf_wards = gdf_wards.to_crs(epsg=4326)\n",
        "\n",
        "# Latitude, Longitude는 있지만 Ward가 비어있는 행만 필터링\n",
        "df_coords = df.loc[\n",
        "    df['Latitude'].notnull() & df['Longitude'].notnull() & df['Ward'].isnull(),\n",
        "    ['Latitude', 'Longitude']\n",
        "].copy()\n",
        "\n",
        "# 벡터화로 Point 객체 생성(메모리 아끼기)\n",
        "geometry = gpd.points_from_xy(df_coords['Longitude'].astype(float), df_coords['Latitude'].astype(float))\n",
        "\n",
        "# GeoDataFrame 생성\n",
        "gdf_coords = gpd.GeoDataFrame(df_coords, geometry=geometry, crs='EPSG:4326')\n",
        "\n",
        "# 공간 조인\n",
        "joined = gpd.sjoin(gdf_coords, gdf_wards, how='left', predicate='within')\n",
        "\n",
        "# 'ward' 컬럼명 찾기\n",
        "ward_col_name = [col for col in joined.columns if 'ward' in col.lower()][0]\n",
        "\n",
        "# 인덱스 정렬 맞춰서 채우기\n",
        "df.loc[joined.index, 'Ward'] = joined[ward_col_name].values"
      ],
      "metadata": {
        "id": "TdT2aRC3KgNN"
      },
      "execution_count": null,
      "outputs": []
    },
    {
      "cell_type": "code",
      "source": [
        "# 시카고 커뮤니티 지역 GeoJSON 사용하여 Community Area(시카고 커뮤니티 지역 번호) 결측치 채우기\n",
        "\n",
        "# 시카고 커뮤니티 지역 GeoJSON 로드\n",
        "gdf_community = gpd.read_file(\"/content/drive/MyDrive/data/chicago-community-areas.geojson\")\n",
        "gdf_community = gdf_community.to_crs(epsg=4326)\n",
        "\n",
        "# Community Area는 비어있지만 위경도는 있는 데이터만 필터링\n",
        "df_missing_comm = df.loc[\n",
        "    df['Community Area'].isnull() &\n",
        "    df['Latitude'].notnull() &\n",
        "    df['Longitude'].notnull(),\n",
        "    ['Latitude', 'Longitude']\n",
        "].copy()\n",
        "\n",
        "# 인덱스 보존(join 결과를 원본 df에 제대로 매핑할 수 있도록)\n",
        "df_missing_comm['orig_index'] = df_missing_comm.index\n",
        "\n",
        "# 데이터가 너무 많아서 5000개 단위로 나눠 공간 조인\n",
        "batch_size = 5000\n",
        "filled_area = []\n",
        "\n",
        "for i in range(0, len(df_missing_comm), batch_size):\n",
        "    batch = df_missing_comm.iloc[i:i+batch_size].copy()\n",
        "    # Point 객체 생성 (벡터화)\n",
        "    geometry = gpd.points_from_xy(batch['Longitude'].astype(float), batch['Latitude'].astype(float))\n",
        "    gdf_batch = gpd.GeoDataFrame(batch, geometry=geometry, crs='EPSG:4326')\n",
        "\n",
        "    joined = gpd.sjoin(gdf_batch, gdf_community, how='left', predicate='within')\n",
        "\n",
        "    # 'community area' 컬럼명 찾기\n",
        "    comm_col = [col for col in joined.columns if 'community' in col.lower() or 'area' in col.lower()][0]\n",
        "\n",
        "    # 결과 저장\n",
        "    filled_area.append(joined[['orig_index', comm_col]])\n",
        "\n",
        "# 결과 통합\n",
        "area_result = pd.concat(filled_area)\n",
        "\n",
        "# 원본 df에 반영\n",
        "df.loc[area_result['orig_index'], 'Community Area'] = area_result[comm_col].values"
      ],
      "metadata": {
        "id": "cSk8GDSrMQdc"
      },
      "execution_count": null,
      "outputs": []
    },
    {
      "cell_type": "code",
      "source": [
        "# 결측치 확인\n",
        "df.isnull().sum()\n",
        "\n",
        "# 70만 개의 결측치가 있었던 Ward, Community Area의 경우 결측치가 3000개 미만으로 감소\n",
        "# 10만 개의 결측치가 있었던 위경도와 X,Y좌표의 경우 결측치가 3000개 미만으로 감소"
      ],
      "metadata": {
        "colab": {
          "base_uri": "https://localhost:8080/",
          "height": 805
        },
        "id": "sgzmedM8Nyq1",
        "outputId": "b4349640-b751-4317-8e8c-7f7ccfcd3f23"
      },
      "execution_count": null,
      "outputs": [
        {
          "output_type": "execute_result",
          "data": {
            "text/plain": [
              "Unnamed: 0                 0\n",
              "ID                         0\n",
              "Case Number                7\n",
              "Date                       0\n",
              "Block                      0\n",
              "IUCR                       0\n",
              "Primary Type               0\n",
              "Description                0\n",
              "Location Description    1990\n",
              "Arrest                     0\n",
              "Domestic                   0\n",
              "Beat                       0\n",
              "District                  91\n",
              "Ward                    2922\n",
              "Community Area          2995\n",
              "FBI Code                   0\n",
              "X Coordinate            2872\n",
              "Y Coordinate            2872\n",
              "Year                       0\n",
              "Updated On                 0\n",
              "Latitude                2872\n",
              "Longitude               2872\n",
              "Location                2872\n",
              "dtype: int64"
            ],
            "text/html": [
              "<div>\n",
              "<style scoped>\n",
              "    .dataframe tbody tr th:only-of-type {\n",
              "        vertical-align: middle;\n",
              "    }\n",
              "\n",
              "    .dataframe tbody tr th {\n",
              "        vertical-align: top;\n",
              "    }\n",
              "\n",
              "    .dataframe thead th {\n",
              "        text-align: right;\n",
              "    }\n",
              "</style>\n",
              "<table border=\"1\" class=\"dataframe\">\n",
              "  <thead>\n",
              "    <tr style=\"text-align: right;\">\n",
              "      <th></th>\n",
              "      <th>0</th>\n",
              "    </tr>\n",
              "  </thead>\n",
              "  <tbody>\n",
              "    <tr>\n",
              "      <th>Unnamed: 0</th>\n",
              "      <td>0</td>\n",
              "    </tr>\n",
              "    <tr>\n",
              "      <th>ID</th>\n",
              "      <td>0</td>\n",
              "    </tr>\n",
              "    <tr>\n",
              "      <th>Case Number</th>\n",
              "      <td>7</td>\n",
              "    </tr>\n",
              "    <tr>\n",
              "      <th>Date</th>\n",
              "      <td>0</td>\n",
              "    </tr>\n",
              "    <tr>\n",
              "      <th>Block</th>\n",
              "      <td>0</td>\n",
              "    </tr>\n",
              "    <tr>\n",
              "      <th>IUCR</th>\n",
              "      <td>0</td>\n",
              "    </tr>\n",
              "    <tr>\n",
              "      <th>Primary Type</th>\n",
              "      <td>0</td>\n",
              "    </tr>\n",
              "    <tr>\n",
              "      <th>Description</th>\n",
              "      <td>0</td>\n",
              "    </tr>\n",
              "    <tr>\n",
              "      <th>Location Description</th>\n",
              "      <td>1990</td>\n",
              "    </tr>\n",
              "    <tr>\n",
              "      <th>Arrest</th>\n",
              "      <td>0</td>\n",
              "    </tr>\n",
              "    <tr>\n",
              "      <th>Domestic</th>\n",
              "      <td>0</td>\n",
              "    </tr>\n",
              "    <tr>\n",
              "      <th>Beat</th>\n",
              "      <td>0</td>\n",
              "    </tr>\n",
              "    <tr>\n",
              "      <th>District</th>\n",
              "      <td>91</td>\n",
              "    </tr>\n",
              "    <tr>\n",
              "      <th>Ward</th>\n",
              "      <td>2922</td>\n",
              "    </tr>\n",
              "    <tr>\n",
              "      <th>Community Area</th>\n",
              "      <td>2995</td>\n",
              "    </tr>\n",
              "    <tr>\n",
              "      <th>FBI Code</th>\n",
              "      <td>0</td>\n",
              "    </tr>\n",
              "    <tr>\n",
              "      <th>X Coordinate</th>\n",
              "      <td>2872</td>\n",
              "    </tr>\n",
              "    <tr>\n",
              "      <th>Y Coordinate</th>\n",
              "      <td>2872</td>\n",
              "    </tr>\n",
              "    <tr>\n",
              "      <th>Year</th>\n",
              "      <td>0</td>\n",
              "    </tr>\n",
              "    <tr>\n",
              "      <th>Updated On</th>\n",
              "      <td>0</td>\n",
              "    </tr>\n",
              "    <tr>\n",
              "      <th>Latitude</th>\n",
              "      <td>2872</td>\n",
              "    </tr>\n",
              "    <tr>\n",
              "      <th>Longitude</th>\n",
              "      <td>2872</td>\n",
              "    </tr>\n",
              "    <tr>\n",
              "      <th>Location</th>\n",
              "      <td>2872</td>\n",
              "    </tr>\n",
              "  </tbody>\n",
              "</table>\n",
              "</div><br><label><b>dtype:</b> int64</label>"
            ]
          },
          "metadata": {},
          "execution_count": 12
        }
      ]
    },
    {
      "cell_type": "code",
      "source": [
        "# 중복행 확인\n",
        "df[df.duplicated()]   # 1,770,469 rows\n",
        "\n",
        "# 중복행 제거\n",
        "df = df.drop_duplicates()"
      ],
      "metadata": {
        "id": "parLY8QkOYu5"
      },
      "execution_count": null,
      "outputs": []
    },
    {
      "cell_type": "code",
      "source": [
        "# 외부 데이터를 사용하여 맵핑했던 Community Area 칼럼이 float64 -> object로 변환됨\n",
        "df['Community Area'].unique()"
      ],
      "metadata": {
        "colab": {
          "base_uri": "https://localhost:8080/"
        },
        "id": "34B_wkP8Pm1M",
        "outputId": "eb5be25d-3d6b-4ee4-afdd-d59f9ba91b1f"
      },
      "execution_count": null,
      "outputs": [
        {
          "output_type": "execute_result",
          "data": {
            "text/plain": [
              "array([46.0, 61.0, 22.0, 20.0, 49.0, 29.0, 50.0, 73.0, 8.0, 77.0, 65.0,\n",
              "       43.0, 59.0, 66.0, 23.0, 62.0, 67.0, 32.0, 70.0, 10.0, 25.0, 19.0,\n",
              "       44.0, 45.0, 28.0, 68.0, 30.0, 40.0, 11.0, 3.0, 71.0, 42.0, 17.0,\n",
              "       34.0, 63.0, 37.0, 69.0, 55.0, 35.0, 27.0, 48.0, 24.0, 72.0, 18.0,\n",
              "       15.0, 12.0, 6.0, 7.0, 52.0, 60.0, 26.0, 58.0, 74.0, 64.0, 5.0, 2.0,\n",
              "       53.0, 56.0, 21.0, 31.0, 51.0, 4.0, 33.0, 39.0, 38.0, 16.0, 41.0,\n",
              "       1.0, 75.0, 14.0, 57.0, 36.0, 13.0, 76.0, 47.0, 9.0, 'SOUTH SHORE',\n",
              "       54.0, 'NORTH LAWNDALE', 'HUMBOLDT PARK', 'AUBURN GRESHAM',\n",
              "       'GREATER GRAND CROSSING', 'GRAND BOULEVARD', 'ENGLEWOOD',\n",
              "       'ROSELAND', 'SOUTH LAWNDALE', 'CHATHAM', 'WEST ENGLEWOOD',\n",
              "       'GAGE PARK', 'NEAR WEST SIDE', 'NEW CITY', 'WEST GARFIELD PARK',\n",
              "       'BRIGHTON PARK', 'WASHINGTON PARK', 'LINCOLN PARK',\n",
              "       'EAST GARFIELD PARK', 'LOWER WEST SIDE', nan, 'AUSTIN',\n",
              "       'CHICAGO LAWN', 'RIVERDALE', 'ASHBURN', 'AVALON PARK',\n",
              "       'MORGAN PARK', 'NEAR NORTH SIDE', 'BELMONT CRAGIN',\n",
              "       'CALUMET HEIGHTS', 'CLEARING', 'DOUGLAS', 'WEST TOWN',\n",
              "       'WEST PULLMAN', 'FULLER PARK', 'HEGEWISCH', 'PULLMAN',\n",
              "       'SOUTH DEERING', 'BEVERLY', 'ROGERS PARK', 'EAST SIDE', 'WOODLAWN',\n",
              "       'MOUNT GREENWOOD', 'WASHINGTON HEIGHTS', 'NEAR SOUTH SIDE',\n",
              "       'LAKE VIEW', 'HYDE PARK', 'LOOP', 'LINCOLN SQUARE', 'AVONDALE',\n",
              "       'SOUTH CHICAGO', 'KENWOOD', 'ARMOUR SQUARE', 'EDGEWATER', 'UPTOWN',\n",
              "       'WEST LAWN', 'MONTCLARE', 'BRIDGEPORT', 'LOGAN SQUARE', 'BURNSIDE',\n",
              "       'ALBANY PARK', 'PORTAGE PARK', 'OHARE', 'OAKLAND', 'IRVING PARK',\n",
              "       'NORTH CENTER', 'WEST RIDGE', 'HERMOSA', 'GARFIELD RIDGE',\n",
              "       'ARCHER HEIGHTS', 'NORTH PARK', 'DUNNING', 'EDISON PARK',\n",
              "       'NORWOOD PARK', 'WEST ELSDON', 'JEFFERSON PARK', 'MCKINLEY PARK',\n",
              "       'FOREST GLEN', 0.0], dtype=object)"
            ]
          },
          "metadata": {},
          "execution_count": 14
        }
      ]
    },
    {
      "cell_type": "code",
      "source": [
        "# 코드와 지역명이 혼합되어 들어가있는 상황\n",
        "  # 문제 해결을 위해 코드 / 지역명 분리 후 코드, 이름 기반으로 결측치 채우기\n",
        "\n",
        "# GeoDataFrame 로드\n",
        "gdf_comm = gpd.read_file('/content/drive/MyDrive/data/chicago-community-areas.geojson')\n",
        "\n",
        "# 매핑 딕셔너리 생성\n",
        "comm_map = dict(zip(gdf_comm['area_numbe'].astype(int), gdf_comm['community'].str.upper()))\n",
        "\n",
        "# 원본을 복사하지 않고 직접 컬럼 처리 (메모리 절약)\n",
        "import numpy as np\n",
        "\n",
        "# 지역명인지 숫자인지 판별하는 함수 정의\n",
        "def is_float(val):\n",
        "    try:\n",
        "        float(val)\n",
        "        return True\n",
        "    except:\n",
        "        return False\n",
        "\n",
        "# 빈 시리즈 생성\n",
        "df['Community Area Code'] = np.where(df['Community Area'].apply(is_float), df['Community Area'], np.nan)\n",
        "df['Community Name'] = np.where(df['Community Area'].apply(lambda x: not is_float(x)), df['Community Area'], np.nan)\n",
        "\n",
        "# 형 변환 (숫자형은 float → int로 바꾸되, 결측치 NaN 유지)\n",
        "df['Community Area Code'] = pd.to_numeric(df['Community Area Code'], errors='coerce').astype('Int64')\n",
        "\n",
        "# 이름 결측치 채우기 (코드 기반)\n",
        "df['Community Name'] = df['Community Name'].fillna(df['Community Area Code'].map(comm_map))\n",
        "\n",
        "# 코드 결측치 채우기 (이름 기반)\n",
        "reverse_map = {v: k for k, v in comm_map.items()}\n",
        "df['Community Area Code'] = df['Community Area Code'].fillna(df['Community Name'].str.upper().map(reverse_map))\n",
        "\n",
        "# Community Area Code만 남겨두고, 나머지 칼럼은 드랍\n",
        "# 불필요한 칼럼 드랍\n",
        "df.drop(columns=['Community Area', 'Community Name'], inplace=True)"
      ],
      "metadata": {
        "id": "yxuX_FJ-URee"
      },
      "execution_count": null,
      "outputs": []
    },
    {
      "cell_type": "code",
      "source": [
        "# 데이터 시각화를 위해 데이터를 최대한 보존해야 한다고 판단\n",
        "  # 따라서, 남은 결측치에 대해서는 'unknown' 또는 0으로 채움\n",
        "df.isnull().sum()"
      ],
      "metadata": {
        "colab": {
          "base_uri": "https://localhost:8080/",
          "height": 805
        },
        "id": "l6Un8gwkVhDg",
        "outputId": "de430c5c-34fc-47bd-972f-57e5659e0de9"
      },
      "execution_count": null,
      "outputs": [
        {
          "output_type": "execute_result",
          "data": {
            "text/plain": [
              "Unnamed: 0                 0\n",
              "ID                         0\n",
              "Case Number                4\n",
              "Date                       0\n",
              "Block                      0\n",
              "IUCR                       0\n",
              "Primary Type               0\n",
              "Description                0\n",
              "Location Description    1968\n",
              "Arrest                     0\n",
              "Domestic                   0\n",
              "Beat                       0\n",
              "District                  49\n",
              "Ward                    2577\n",
              "FBI Code                   0\n",
              "X Coordinate            2474\n",
              "Y Coordinate            2474\n",
              "Year                       0\n",
              "Updated On                 0\n",
              "Latitude                2474\n",
              "Longitude               2474\n",
              "Location                2474\n",
              "Community Area Code     2637\n",
              "dtype: int64"
            ],
            "text/html": [
              "<div>\n",
              "<style scoped>\n",
              "    .dataframe tbody tr th:only-of-type {\n",
              "        vertical-align: middle;\n",
              "    }\n",
              "\n",
              "    .dataframe tbody tr th {\n",
              "        vertical-align: top;\n",
              "    }\n",
              "\n",
              "    .dataframe thead th {\n",
              "        text-align: right;\n",
              "    }\n",
              "</style>\n",
              "<table border=\"1\" class=\"dataframe\">\n",
              "  <thead>\n",
              "    <tr style=\"text-align: right;\">\n",
              "      <th></th>\n",
              "      <th>0</th>\n",
              "    </tr>\n",
              "  </thead>\n",
              "  <tbody>\n",
              "    <tr>\n",
              "      <th>Unnamed: 0</th>\n",
              "      <td>0</td>\n",
              "    </tr>\n",
              "    <tr>\n",
              "      <th>ID</th>\n",
              "      <td>0</td>\n",
              "    </tr>\n",
              "    <tr>\n",
              "      <th>Case Number</th>\n",
              "      <td>4</td>\n",
              "    </tr>\n",
              "    <tr>\n",
              "      <th>Date</th>\n",
              "      <td>0</td>\n",
              "    </tr>\n",
              "    <tr>\n",
              "      <th>Block</th>\n",
              "      <td>0</td>\n",
              "    </tr>\n",
              "    <tr>\n",
              "      <th>IUCR</th>\n",
              "      <td>0</td>\n",
              "    </tr>\n",
              "    <tr>\n",
              "      <th>Primary Type</th>\n",
              "      <td>0</td>\n",
              "    </tr>\n",
              "    <tr>\n",
              "      <th>Description</th>\n",
              "      <td>0</td>\n",
              "    </tr>\n",
              "    <tr>\n",
              "      <th>Location Description</th>\n",
              "      <td>1968</td>\n",
              "    </tr>\n",
              "    <tr>\n",
              "      <th>Arrest</th>\n",
              "      <td>0</td>\n",
              "    </tr>\n",
              "    <tr>\n",
              "      <th>Domestic</th>\n",
              "      <td>0</td>\n",
              "    </tr>\n",
              "    <tr>\n",
              "      <th>Beat</th>\n",
              "      <td>0</td>\n",
              "    </tr>\n",
              "    <tr>\n",
              "      <th>District</th>\n",
              "      <td>49</td>\n",
              "    </tr>\n",
              "    <tr>\n",
              "      <th>Ward</th>\n",
              "      <td>2577</td>\n",
              "    </tr>\n",
              "    <tr>\n",
              "      <th>FBI Code</th>\n",
              "      <td>0</td>\n",
              "    </tr>\n",
              "    <tr>\n",
              "      <th>X Coordinate</th>\n",
              "      <td>2474</td>\n",
              "    </tr>\n",
              "    <tr>\n",
              "      <th>Y Coordinate</th>\n",
              "      <td>2474</td>\n",
              "    </tr>\n",
              "    <tr>\n",
              "      <th>Year</th>\n",
              "      <td>0</td>\n",
              "    </tr>\n",
              "    <tr>\n",
              "      <th>Updated On</th>\n",
              "      <td>0</td>\n",
              "    </tr>\n",
              "    <tr>\n",
              "      <th>Latitude</th>\n",
              "      <td>2474</td>\n",
              "    </tr>\n",
              "    <tr>\n",
              "      <th>Longitude</th>\n",
              "      <td>2474</td>\n",
              "    </tr>\n",
              "    <tr>\n",
              "      <th>Location</th>\n",
              "      <td>2474</td>\n",
              "    </tr>\n",
              "    <tr>\n",
              "      <th>Community Area Code</th>\n",
              "      <td>2637</td>\n",
              "    </tr>\n",
              "  </tbody>\n",
              "</table>\n",
              "</div><br><label><b>dtype:</b> int64</label>"
            ]
          },
          "metadata": {},
          "execution_count": 19
        }
      ]
    },
    {
      "cell_type": "code",
      "source": [
        "# 결측치 채우기\n",
        "df['Community Area Code'] = df['Community Area Code'].fillna(0)\n",
        "df['Case Number'] = df['Case Number'].fillna('unknown')\n",
        "df['Location Description'] = df['Location Description'].fillna('unknown')\n",
        "df['District'] = df['District'].fillna('unknown')\n",
        "df['Ward'] = df['Ward'].fillna('unknown')\n",
        "df['X Coordinate'] = df['X Coordinate'].fillna('unknown')\n",
        "df['Y Coordinate'] = df['Y Coordinate'].fillna('unknown')\n",
        "df['Latitude'] = df['Latitude'].fillna('unknown')\n",
        "df['Longitude'] = df['Longitude'].fillna('unknown')\n",
        "df['Location'] = df['Location'].fillna('unknown')"
      ],
      "metadata": {
        "id": "xYhUMjs-V9Aw"
      },
      "execution_count": null,
      "outputs": []
    },
    {
      "cell_type": "code",
      "source": [
        "# 'unknown'이 없는 칼럼 중, 데이터 타입 변환이 필요한 칼럼 찾기\n",
        "  # 부득이하게 결측치를 'unknown'으로 채운 칼럼에 대해서는, 필요한 경우 'unknown'을 제외한 나머지 데이터에 대해서만 타입 변환 예정\n",
        "df.info()\n",
        "\n",
        "# Date: Datetime으로 변환\n",
        "# Year: int로 변환\n",
        "\n",
        "df['Year'] = df['Year'].astype(int)\n",
        "df['Date'] = pd.to_datetime(df['Date'], format='%m/%d/%Y %I:%M:%S %p')"
      ],
      "metadata": {
        "colab": {
          "base_uri": "https://localhost:8080/"
        },
        "id": "kUP73pjTWKl3",
        "outputId": "40b69767-a218-4bf7-f7ce-dfa3d410f01d"
      },
      "execution_count": null,
      "outputs": [
        {
          "output_type": "stream",
          "name": "stdout",
          "text": [
            "<class 'pandas.core.frame.DataFrame'>\n",
            "Index: 6170813 entries, 0 to 7941281\n",
            "Data columns (total 23 columns):\n",
            " #   Column                Dtype \n",
            "---  ------                ----- \n",
            " 0   Unnamed: 0            int64 \n",
            " 1   ID                    int64 \n",
            " 2   Case Number           object\n",
            " 3   Date                  object\n",
            " 4   Block                 object\n",
            " 5   IUCR                  object\n",
            " 6   Primary Type          object\n",
            " 7   Description           object\n",
            " 8   Location Description  object\n",
            " 9   Arrest                bool  \n",
            " 10  Domestic              bool  \n",
            " 11  Beat                  int64 \n",
            " 12  District              object\n",
            " 13  Ward                  object\n",
            " 14  FBI Code              object\n",
            " 15  X Coordinate          object\n",
            " 16  Y Coordinate          object\n",
            " 17  Year                  int64 \n",
            " 18  Updated On            object\n",
            " 19  Latitude              object\n",
            " 20  Longitude             object\n",
            " 21  Location              object\n",
            " 22  Community Area Code   Int64 \n",
            "dtypes: Int64(1), bool(2), int64(4), object(16)\n",
            "memory usage: 1.0+ GB\n"
          ]
        }
      ]
    },
    {
      "cell_type": "code",
      "source": [
        "# 'Year' 칼럼에 잘못 들어간 값이 있어서 Date 확인 후 올바르게 대체\n",
        "df.loc[df['Year'] == 41, 'Year'] = 2001"
      ],
      "metadata": {
        "id": "WUxLDG5-YnVu"
      },
      "execution_count": null,
      "outputs": []
    },
    {
      "cell_type": "code",
      "source": [
        "# 중간 저장 - 지금까지 만진 df csv 파일로 저장!\n",
        "df.to_csv(\"data_250409.csv\", index=False)\n",
        "\n",
        "# 구글 드라이브에 저장하기\n",
        "from google.colab import drive\n",
        "drive.mount('/content/drive')\n",
        "\n",
        "# 저장 경로\n",
        "df.to_csv(\"/content/drive/MyDrive/final_pj/data_250409.csv\", index=False)"
      ],
      "metadata": {
        "colab": {
          "base_uri": "https://localhost:8080/"
        },
        "id": "sA2p1YUIbCB5",
        "outputId": "c08f2b86-64a0-40b3-8677-a1cec4515e2a"
      },
      "execution_count": null,
      "outputs": [
        {
          "output_type": "stream",
          "name": "stdout",
          "text": [
            "Drive already mounted at /content/drive; to attempt to forcibly remount, call drive.mount(\"/content/drive\", force_remount=True).\n"
          ]
        }
      ]
    },
    {
      "cell_type": "code",
      "source": [
        "df = pd.read_csv(\"/content/drive/MyDrive/final_pj/data_250409.csv\")"
      ],
      "metadata": {
        "id": "vkbv_RcSbWiv"
      },
      "execution_count": null,
      "outputs": []
    },
    {
      "cell_type": "markdown",
      "source": [
        "# 가설 세우기"
      ],
      "metadata": {
        "id": "gjoYKvdsr4E5"
      }
    },
    {
      "cell_type": "markdown",
      "source": [
        "## (1) 시간과 범죄의 연관성"
      ],
      "metadata": {
        "id": "WFGsH3R_r-fh"
      }
    },
    {
      "cell_type": "markdown",
      "source": [
        "### 마약 관련 범죄의 요일별 발생 빈도는 유의미한 차이가 있을 것이다."
      ],
      "metadata": {
        "id": "QyJfhYbysOif"
      }
    },
    {
      "cell_type": "code",
      "source": [
        "# 마약 관련 범죄 유형 정의\n",
        "drug_crime = ['NARCOTICS', 'OTHER NARCOTIC VIOLATION']\n",
        "\n",
        "# 범죄 유형 필터링\n",
        "df = df[df['Primary Type'].isin(drug_crime)].copy()\n",
        "\n",
        "# 요일별 범죄 발생 건수 계산\n",
        "df['Day of Week'] = df['Date'].dt.day_name()  # 요일 추출\n",
        "\n",
        "# 요일 순서 지정\n",
        "day_order = [\"Monday\", \"Tuesday\", \"Wednesday\", \"Thursday\", \"Friday\", \"Saturday\", \"Sunday\"]\n",
        "crime_counts = df['Day of Week'].value_counts().reindex(day_order)\n",
        "\n",
        "# 요일별 마약 범죄 발생 빈도 시각화\n",
        "plt.figure(figsize=(8, 5))\n",
        "sns.barplot(x=crime_counts.index, y=crime_counts.values, hue=crime_counts.index, palette=\"coolwarm\")\n",
        "plt.xlabel(\"Day of the Week\")\n",
        "plt.ylabel(\"Crime Count\")\n",
        "plt.title(\"Drug-Related Crimes by Day of the Week\")\n",
        "plt.xticks(rotation=45)\n",
        "plt.show()\n",
        "\n",
        "# 카이제곱 적합도 검정 (요일별 발생 빈도 차이 검정)\n",
        "observed = np.array(crime_counts)\n",
        "expected = np.full_like(observed, observed.mean())  # 기대값 = 평균 발생 빈도\n",
        "\n",
        "# 카이제곱 검정\n",
        "chi2, p = chisquare(observed, expected)\n",
        "\n",
        "# 결과 출력\n",
        "print(f\"Chi-Square Test Results:\")\n",
        "print(f\"Chi-Square Statistic: {chi2:.2f}\")\n",
        "print(f\"p-value: {p:.4f}\")"
      ],
      "metadata": {
        "colab": {
          "base_uri": "https://localhost:8080/",
          "height": 594
        },
        "id": "FoYI3R__4TtJ",
        "outputId": "6a6bb4f5-a7a4-4081-916c-101c9c77893e"
      },
      "execution_count": null,
      "outputs": [
        {
          "output_type": "display_data",
          "data": {
            "text/plain": [
              "<Figure size 800x500 with 1 Axes>"
            ],
            "image/png": "[encoded data removed]"
          },
          "metadata": {}
        },
        {
          "output_type": "stream",
          "name": "stdout",
          "text": [
            "Chi-Square Test Results:\n",
            "Chi-Square Statistic: 5077.06\n",
            "p-value: 0.0000\n"
          ]
        }
      ]
    },
    {
      "cell_type": "code",
      "source": [
        "# 요일별 마약 범죄 발생 빈도\n",
        "observed = np.array(crime_counts)  # 실제 발생 빈도\n",
        "expected = np.full_like(observed, observed.mean())  # 기대값 = 평균 발생 빈도\n",
        "\n",
        "# 카이제곱 적합도 검정 수행\n",
        "chi2, p = chisquare(observed, expected)\n",
        "\n",
        "# Cramér's V 계산\n",
        "n = observed.sum()  # 총 사건 수\n",
        "k = len(observed)   # 요일 개수 (7개: 월~일)\n",
        "cramers_v = np.sqrt(chi2 / (n * (k - 1)))\n",
        "\n",
        "# 결과 출력\n",
        "print(f\"Cramér's V: {cramers_v:.4f}\")"
      ],
      "metadata": {
        "colab": {
          "base_uri": "https://localhost:8080/"
        },
        "id": "0UTIKwwV7_Mw",
        "outputId": "c356864c-9e16-4bf1-a8e2-9cd1eae3e73c"
      },
      "execution_count": null,
      "outputs": [
        {
          "output_type": "stream",
          "name": "stdout",
          "text": [
            "Cramér's V: 0.0354\n"
          ]
        }
      ]
    },
    {
      "cell_type": "markdown",
      "source": [
        "- 요일별 범죄 발생 빈도 데이터를 비교 (범주형 데이터)\n",
        "\n",
        "- 카이제곱 검정을 통해 각 범주가 동일하게 분포하는지, 아니면 특정 범주에서 유의미한 차이가 있는지를 분석하기 위해 사용\n",
        "\n",
        "- 귀무가설(H₀): 요일에 따라 마약 관련 범죄 발생 패턴은 차이가 있다.\n",
        "\n",
        "- 대립가설(H₁): 요일에 따라 마약 관련 범죄 발생 패턴은 차이가 없다.\n",
        "\n",
        "- 검정 결과: p-value = 0.0000 (유의수준 0.05보다 작음) → 귀무가설 기각 → 대랍가설 채택  \n",
        "→ 요일에 따라 마약 관련 범죄 발생 패턴은 차이가 없다 → 마약 범죄 발생은 모든 요일에서 동일한 빈도로 발생."
      ],
      "metadata": {
        "id": "lSDJEfuY8BvU"
      }
    },
    {
      "cell_type": "markdown",
      "source": [
        "- Cramér's V = 0.0354 → 요일별 마약범죄 발생 빈도에 차이가 없고, 실질적인 연관성도 거의 없다."
      ],
      "metadata": {
        "id": "FkpKKHb48E_q"
      }
    },
    {
      "cell_type": "markdown",
      "source": [
        "### 범죄 발생 시간대와 범죄 유형은 유의미한 연관성이 있을 것이다."
      ],
      "metadata": {
        "id": "a5lMMYoosU6i"
      }
    },
    {
      "cell_type": "code",
      "source": [
        "df = pd.read_csv(\"/content/data_250409.csv\")"
      ],
      "metadata": {
        "id": "TO2PXZie-Pfw"
      },
      "execution_count": null,
      "outputs": []
    },
    {
      "cell_type": "code",
      "source": [
        "# 'Date' 컬럼을 datetime 형식으로 변환\n",
        "df['Date'] = pd.to_datetime(df['Date'])\n",
        "\n",
        "# 시간대 분류 함수\n",
        "def categorize_time(hour):\n",
        "    if 6 <= hour < 12:\n",
        "        return 'Morning'\n",
        "    elif 12 <= hour < 18:\n",
        "        return 'Afternoon'\n",
        "    elif 18 <= hour < 24:\n",
        "        return 'Evening'\n",
        "    else:\n",
        "        return 'Night'\n",
        "\n",
        "# 새로운 컬럼 'Time Period' 추가\n",
        "df['Time Period'] = df['Date'].dt.hour.apply(categorize_time)\n",
        "\n",
        "# 시간대별 범죄 유형 분포\n",
        "crime_by_time = df.groupby('Time Period')['Primary Type'].value_counts().unstack().fillna(0)\n",
        "\n",
        "# 시간대별 상위 5개 범죄 유형 추출\n",
        "top_crimes_by_time = {period: crime_by_time.loc[period].sort_values(ascending=False).head(5) for period in ['Morning', 'Afternoon', 'Evening', 'Night']}\n",
        "\n",
        "# 각 시간대별 상위 5개 범죄 유형 출력\n",
        "for period in ['Morning', 'Afternoon', 'Evening', 'Night']:\n",
        "    print(f\"{period} 시간대 - Top 5 범죄 유형:\")\n",
        "    print(top_crimes_by_time[period])\n",
        "    print(\"\\n\")"
      ],
      "metadata": {
        "colab": {
          "base_uri": "https://localhost:8080/"
        },
        "id": "GMuWRTm_4T8Y",
        "outputId": "b89d8490-28d4-4e10-9bb1-d12f8978c14c"
      },
      "execution_count": null,
      "outputs": [
        {
          "output_type": "stream",
          "name": "stdout",
          "text": [
            "Morning 시간대 - Top 5 범죄 유형:\n",
            "Primary Type\n",
            "THEFT              288785.0\n",
            "BATTERY            181973.0\n",
            "CRIMINAL DAMAGE    120832.0\n",
            "BURGLARY           114919.0\n",
            "NARCOTICS          103593.0\n",
            "Name: Morning, dtype: float64\n",
            "\n",
            "\n",
            "Afternoon 시간대 - Top 5 범죄 유형:\n",
            "Primary Type\n",
            "THEFT              467999.0\n",
            "BATTERY            328397.0\n",
            "NARCOTICS          219091.0\n",
            "CRIMINAL DAMAGE    170684.0\n",
            "ASSAULT            136842.0\n",
            "Name: Afternoon, dtype: float64\n",
            "\n",
            "\n",
            "Evening 시간대 - Top 5 범죄 유형:\n",
            "Primary Type\n",
            "BATTERY            371688.0\n",
            "THEFT              352969.0\n",
            "NARCOTICS          294089.0\n",
            "CRIMINAL DAMAGE    257263.0\n",
            "ASSAULT            118554.0\n",
            "Name: Evening, dtype: float64\n",
            "\n",
            "\n",
            "Night 시간대 - Top 5 범죄 유형:\n",
            "Primary Type\n",
            "BATTERY                243667.0\n",
            "THEFT                  174855.0\n",
            "CRIMINAL DAMAGE        161304.0\n",
            "NARCOTICS               57783.0\n",
            "MOTOR VEHICLE THEFT     55653.0\n",
            "Name: Night, dtype: float64\n",
            "\n",
            "\n"
          ]
        }
      ]
    },
    {
      "cell_type": "code",
      "source": [
        "# 시각화\n",
        "plt.figure(figsize=(14, 10))\n",
        "\n",
        "time_periods = ['Morning', 'Afternoon', 'Evening', 'Night']\n",
        "for i, period in enumerate(time_periods, 1):\n",
        "    top5_crimes = top_crimes_by_time[period]\n",
        "\n",
        "    # 서브플롯 생성\n",
        "    plt.subplot(2, 2, i)\n",
        "    top5_crimes.plot(kind='bar', stacked=True, color=plt.cm.Paired.colors, figsize=(14, 10))\n",
        "\n",
        "    plt.title(f\"{period} Top 5 Crime Types by Time Period\", fontsize=14)\n",
        "    plt.xlabel('Crime Type', fontsize=12)\n",
        "    plt.ylabel('Number of Incidents', fontsize=12)\n",
        "    plt.xticks(rotation=45)\n",
        "\n",
        "plt.tight_layout()\n",
        "plt.show()"
      ],
      "metadata": {
        "colab": {
          "base_uri": "https://localhost:8080/",
          "height": 949
        },
        "id": "CtPxoDrC8eMb",
        "outputId": "f0e69c51-8a6b-4007-f99a-f7c76cbc1676"
      },
      "execution_count": null,
      "outputs": [
        {
          "output_type": "display_data",
          "data": {
            "text/plain": [
              "<Figure size 1400x1000 with 4 Axes>"
            ],
            "image/png": "[encoded data removed]"
          },
          "metadata": {}
        }
      ]
    },
    {
      "cell_type": "code",
      "source": [
        "def cramers_v(chi2, n, r, c):\n",
        "    return np.sqrt(chi2 / (n * (min(r, c) - 1))) if min(r, c) > 1 else np.nan\n",
        "\n",
        "# 시간대별 범죄 유형 분포 테이블\n",
        "crime_by_time = df.groupby(['Time Period', 'Primary Type']).size().unstack().fillna(0)\n",
        "\n",
        "# 카이제곱 검정 수행\n",
        "chi2_stat, p_value, dof, expected = chi2_contingency(crime_by_time)\n",
        "\n",
        "# 표본 수 (전체 사건 개수)\n",
        "n = crime_by_time.values.sum()\n",
        "\n",
        "# 행과 열 개수\n",
        "r, c = crime_by_time.shape\n",
        "\n",
        "# Cramér’s V 계산\n",
        "cramers_v_value = cramers_v(chi2_stat, n, r, c)\n",
        "\n",
        "# 결과 출력\n",
        "print(\"카이제곱 통계량:\", chi2_stat)\n",
        "print(\"p-value:\", p_value)\n",
        "print(\"자유도:\", dof)\n",
        "print(f\"✅ Cramér’s V: {cramers_v_value:.4f}\")\n",
        "\n",
        "# p-value 해석\n",
        "if p_value < 0.05:\n",
        "    print(\"귀무가설 기각: 시간대별 범죄 유형의 분포에 차이가 있다.\")\n",
        "else:\n",
        "    print(\"귀무가설 채택: 시간대별 범죄 유형의 분포에 차이가 없다.\")"
      ],
      "metadata": {
        "colab": {
          "base_uri": "https://localhost:8080/"
        },
        "id": "VDxJTtUR_Jaf",
        "outputId": "c98035ce-4d7b-4e97-dced-220b7d849575"
      },
      "execution_count": null,
      "outputs": [
        {
          "output_type": "stream",
          "name": "stdout",
          "text": [
            "카이제곱 통계량: 310477.755925622\n",
            "p-value: 0.0\n",
            "자유도: 102\n",
            "✅ Cramér’s V: 0.1295\n",
            "귀무가설 기각: 시간대별 범죄 유형의 분포에 차이가 있다.\n"
          ]
        }
      ]
    },
    {
      "cell_type": "markdown",
      "source": [
        "- Cramér's V = 0.1295 → 범죄 발생 시간대에 따라 범죄 유형 분포에 차이는 있으나, 연관성은 약하다."
      ],
      "metadata": {
        "id": "pZf--HGvAOPx"
      }
    },
    {
      "cell_type": "markdown",
      "source": [
        "### 범죄 발생 시간대와 체포율은 유의미한 연관성이 있을 것이다."
      ],
      "metadata": {
        "id": "Zctbu_6s4SnL"
      }
    },
    {
      "cell_type": "code",
      "source": [
        "# 시간대별 체포율 계산\n",
        "arrest_rate = df.groupby('Time Period')['Arrest'].value_counts(normalize=True).unstack().fillna(0)\n",
        "\n",
        "# 체포된 비율만 추출 (True 값만 추출)\n",
        "arrest_rate = arrest_rate[True]\n",
        "\n",
        "# 시각화 (막대 그래프)\n",
        "plt.figure(figsize=(8, 6))\n",
        "arrest_rate.plot(kind='bar', color='skyblue', edgecolor='black')\n",
        "\n",
        "# 그래프 제목 및 레이블 설정\n",
        "plt.title('Arrest Rate by Time Period', fontsize=16)\n",
        "plt.xlabel('Time Period', fontsize=12)\n",
        "plt.ylabel('Arrest Rate', fontsize=12)\n",
        "plt.xticks(rotation=0)  # X축 레이블 회전 없애기\n",
        "plt.ylim(0, 1)  # 체포율은 0과 1 사이로 설정\n",
        "\n",
        "# 그래프 출력\n",
        "plt.show()"
      ],
      "metadata": {
        "colab": {
          "base_uri": "https://localhost:8080/",
          "height": 567
        },
        "id": "Hr9N68ub4UMb",
        "outputId": "8a96320c-1969-40de-f076-b01f37f2dc4d"
      },
      "execution_count": null,
      "outputs": [
        {
          "output_type": "display_data",
          "data": {
            "text/plain": [
              "<Figure size 800x600 with 1 Axes>"
            ],
            "image/png": "[encoded data removed]"
          },
          "metadata": {}
        }
      ]
    },
    {
      "cell_type": "code",
      "source": [
        "# 시간대별 체포 여부 분포 계산\n",
        "arrest_by_time = pd.crosstab(df['Time Period'], df['Arrest'])\n",
        "\n",
        "# 카이제곱 검정 수행\n",
        "chi2_stat, p_value, dof, expected = chi2_contingency(arrest_by_time)\n",
        "\n",
        "# Cramér’s V 계산\n",
        "n = arrest_by_time.sum().sum()  # 전체 샘플 수\n",
        "r, c = arrest_by_time.shape  # 행, 열 개수\n",
        "cramers_v = np.sqrt(chi2_stat / (n * (min(r, c) - 1)))\n",
        "\n",
        "# 결과 출력\n",
        "print(\"카이제곱 통계량:\", chi2_stat)\n",
        "print(\"p-value:\", p_value)\n",
        "print(\"자유도:\", dof)\n",
        "print(f\"✅ Cramér’s V: {cramers_v:.4f}\")\n",
        "\n",
        "# p-value 해석\n",
        "if p_value < 0.05:\n",
        "    print(\"귀무가설 기각: 시간대별 체포율에 차이가 있다.\")\n",
        "else:\n",
        "    print(\"귀무가설 채택: 시간대별 체포율에 차이가 없다.\")"
      ],
      "metadata": {
        "colab": {
          "base_uri": "https://localhost:8080/"
        },
        "id": "XIKu-lLh_5M6",
        "outputId": "a49d0358-1ee5-40c3-ce4a-e39e81814bdc"
      },
      "execution_count": null,
      "outputs": [
        {
          "output_type": "stream",
          "name": "stdout",
          "text": [
            "카이제곱 통계량: 44542.37149486841\n",
            "p-value: 0.0\n",
            "자유도: 3\n",
            "✅ Cramér’s V: 0.0850\n",
            "귀무가설 기각: 시간대별 체포율에 차이가 있다.\n"
          ]
        }
      ]
    },
    {
      "cell_type": "markdown",
      "source": [
        "- Cramér's V = 0.0850 → 범죄 발생 시간대에 따라 포율에 차이는 있으나, 연관성은 약하다."
      ],
      "metadata": {
        "id": "vm7A9oqwBJsz"
      }
    },
    {
      "cell_type": "markdown",
      "source": [
        "## (2) 공간과 범죄의 연관성"
      ],
      "metadata": {
        "id": "-QdC1KG-sgtr"
      }
    },
    {
      "cell_type": "markdown",
      "source": [
        "### 마약 관련 범죄는 '주거지' 유형의 장소에서 유의미하게 많이 발생할 것이다."
      ],
      "metadata": {
        "id": "cy0QPnZbL4gP"
      }
    },
    {
      "cell_type": "code",
      "source": [
        "# Location Description의 경우 값이 너무 많음 -> 적당한 분류가 필요함\n",
        "\n",
        "# Residential(거주지) / Commercial(상업 공간) / Public/Institutional(공공 시설)\n",
        "# Transportation(교통수단 관련) / Outdoor/Open(오픈된 외부) / Other(기타)\n",
        "# 맵핑해서 새 칼럼 만들기\n",
        "\n",
        "# 171개의 Location Description을 분류하는 전체 매핑 딕셔너리\n",
        "category_mapping = {\n",
        "    # Residential\n",
        "    'RESIDENCE': 'Residential', 'RESIDENCE PORCH/HALLWAY': 'Residential', 'APARTMENT': 'Residential',\n",
        "    'HOUSE': 'Residential', 'COACH HOUSE': 'Residential', 'PORCH': 'Residential',\n",
        "    'GARAGE': 'Residential', 'YARD': 'Residential', 'HALLWAY': 'Residential',\n",
        "    'RESIDENCE-GARAGE': 'Residential', 'DRIVEWAY - RESIDENTIAL': 'Residential',\n",
        "    'BASEMENT': 'Residential', 'STAIRWELL': 'Residential', 'ROOMING HOUSE': 'Residential',\n",
        "    'RESIDENTIAL YARD (FRONT/BACK)': 'Residential', 'CHA APARTMENT': 'Residential',\n",
        "    'CHA PLAY LOT': 'Residential', 'CHA HALLWAY': 'Residential', 'CHA HALLWAY/STAIRWELL/ELEVATOR': 'Residential',\n",
        "    'CHA LOBBY': 'Residential', 'CHA STAIRWELL': 'Residential', 'CHA BREEZEWAY': 'Residential',\n",
        "    'CHA PARKING LOT': 'Residential', 'CHA PARKING LOT/GROUNDS': 'Residential',\n",
        "    'CHA GROUNDS': 'Residential', 'CHA ELEVATOR': 'Residential',\n",
        "\n",
        "    # Commercial\n",
        "    'RETAIL STORE': 'Commercial', 'SMALL RETAIL STORE': 'Commercial', 'DEPARTMENT STORE': 'Commercial',\n",
        "    'RESTAURANT': 'Commercial', 'TAVERN': 'Commercial', 'LIQUOR STORE': 'Commercial',\n",
        "    'TAVERN/LIQUOR STORE': 'Commercial', 'BANK': 'Commercial', 'SAVINGS AND LOAN': 'Commercial',\n",
        "    'DRUG STORE': 'Commercial', 'GROCERY FOOD STORE': 'Commercial', 'CONVENIENCE STORE': 'Commercial',\n",
        "    'GAS STATION': 'Commercial', 'GAS STATION DRIVE/PROP.': 'Commercial', 'AUTO': 'Commercial',\n",
        "    'APPLIANCE STORE': 'Commercial',\n",
        "    'MOVIE HOUSE/THEATER': 'Commercial', 'BOWLING ALLEY': 'Commercial', 'PAWN SHOP': 'Commercial',\n",
        "    'CLEANING STORE': 'Commercial', 'COIN OPERATED MACHINE': 'Commercial',\n",
        "    'NEWSSTAND': 'Commercial', 'POOL ROOM': 'Commercial', 'POOLROOM': 'Commercial',\n",
        "    'CLEANERS/LAUNDROMAT': 'Commercial', 'GARAGE/AUTO REPAIR': 'Commercial',\n",
        "    'BAR OR TAVERN': 'Commercial', 'BARBER SHOP/BEAUTY SALON': 'Commercial', 'BARBERSHOP': 'Commercial',\n",
        "    'HAIR SALON': 'Commercial', 'CURRENCY EXCHANGE': 'Commercial', 'CREDIT UNION': 'Commercial',\n",
        "    'LOBBY': 'Commercial', 'LOADING DOCK': 'Commercial',\n",
        "\n",
        "    # Public/Institutional\n",
        "    'SCHOOL, PRIVATE, GROUNDS': 'Public', 'SCHOOL, PUBLIC, BUILDING': 'Public',\n",
        "    'SCHOOL, PRIVATE, BUILDING': 'Public', 'SCHOOL, PUBLIC, GROUNDS': 'Public',\n",
        "    'SCHOOL YARD': 'Public', 'PUBLIC GRAMMAR SCHOOL': 'Public', 'PUBLIC HIGH SCHOOL': 'Public',\n",
        "    'COLLEGE/UNIVERSITY GROUNDS': 'Public', 'COLLEGE/UNIVERSITY RESIDENCE HALL': 'Public',\n",
        "    'DAY CARE CENTER': 'Public', 'LIBRARY': 'Public', 'HOSPITAL': 'Public',\n",
        "    'HOSPITAL BUILDING/GROUNDS': 'Public', 'MEDICAL/DENTAL OFFICE': 'Public',\n",
        "    'NURSING HOME': 'Public', 'NURSING HOME/RETIREMENT HOME': 'Public', 'FUNERAL PARLOR': 'Public',\n",
        "    'GOVERNMENT BUILDING/PROPERTY': 'Public', 'FEDERAL BUILDING': 'Public',\n",
        "    'POLICE FACILITY/VEH PARKING LOT': 'Public', 'FIRE STATION': 'Public', 'YMCA': 'Public',\n",
        "    'CHURCH': 'Public', 'CHURCH PROPERTY': 'Public', 'CHURCH/SYNAGOGUE/PLACE OF WORSHIP': 'Public',\n",
        "    'OFFICE': 'Public',\n",
        "\n",
        "    # Transportation\n",
        "    'PARKING LOT': 'Transportation', 'PARKING LOT/GARAGE(NON.RESID.)': 'Transportation',\n",
        "    'DRIVEWAY': 'Transportation', 'HIGHWAY/EXPRESSWAY': 'Transportation',\n",
        "    'VEHICLE NON-COMMERCIAL': 'Transportation', 'VEHICLE-COMMERCIAL': 'Transportation',\n",
        "    'TAXICAB': 'Transportation', 'TAXI CAB': 'Transportation', 'TRUCKING TERMINAL': 'Transportation',\n",
        "    'DELIVERY TRUCK': 'Transportation', 'LIVERY STAND OFFICE': 'Transportation',\n",
        "    'VEHICLE - DELIVERY TRUCK': 'Transportation', 'VEHICLE - OTHER RIDE SERVICE': 'Transportation',\n",
        "    'TRUCK': 'Transportation', 'DELIVERY TRUCK': 'Transportation',\n",
        "    'AIRPORT TERMINAL UPPER LEVEL - SECURE AREA': 'Transportation',\n",
        "    'AIRPORT TERMINAL LOWER LEVEL - SECURE AREA': 'Transportation',\n",
        "    'AIRPORT TERMINAL UPPER LEVEL - NON-SECURE AREA': 'Transportation',\n",
        "    'AIRPORT TERMINAL LOWER LEVEL - NON-SECURE AREA': 'Transportation',\n",
        "    'AIRPORT TERMINAL MEZZANINE - NON-SECURE AREA': 'Transportation',\n",
        "    'AIRPORT BUILDING NON-TERMINAL - SECURE AREA': 'Transportation',\n",
        "    'AIRPORT BUILDING NON-TERMINAL - NON-SECURE AREA': 'Transportation',\n",
        "    'AIRPORT EXTERIOR - SECURE AREA': 'Transportation',\n",
        "    'AIRPORT EXTERIOR - NON-SECURE AREA': 'Transportation',\n",
        "    'AIRPORT PARKING LOT': 'Transportation',\n",
        "    'AIRPORT/AIRCRAFT': 'Transportation', 'AIRCRAFT': 'Transportation',\n",
        "    'AIRPORT VENDING ESTABLISHMENT': 'Transportation', 'AIRPORT TRANSPORTATION SYSTEM (ATS)': 'Transportation',\n",
        "    'CTA BUS': 'Transportation', 'CTA \"L\" TRAIN': 'Transportation', 'CTA \"L\" PLATFORM': 'Transportation',\n",
        "    'CTA PLATFORM': 'Transportation', 'CTA STATION': 'Transportation',\n",
        "    'CTA PROPERTY': 'Transportation', 'CTA GARAGE / OTHER PROPERTY': 'Transportation',\n",
        "    'CTA BUS STOP': 'Transportation', 'CTA TRACKS - RIGHT OF WAY': 'Transportation',\n",
        "\n",
        "    # Outdoor/Open\n",
        "    'STREET': 'Outdoor', 'SIDEWALK': 'Outdoor', 'ALLEY': 'Outdoor', 'SEWER': 'Outdoor', 'BRIDGE': 'Outdoor',\n",
        "    'PARK PROPERTY': 'Outdoor', 'FOREST PRESERVE': 'Outdoor', 'PARK': 'Outdoor',\n",
        "    'RIVER': 'Outdoor', 'LAKE': 'Outdoor', 'RIVER BANK': 'Outdoor',\n",
        "    'LAKEFRONT/WATERFRONT/RIVERBANK': 'Outdoor', 'CEMETARY': 'Outdoor',\n",
        "    'WOODED AREA': 'Outdoor', 'VACANT LOT': 'Outdoor', 'VACANT LOT/LAND': 'Outdoor',\n",
        "    'PRAIRIE': 'Outdoor', 'JUNK YARD/GARBAGE DUMP': 'Outdoor',\n",
        "\n",
        "    # Other\n",
        "    'OTHER': 'Other', 'UNKNOWN': 'Other', 'DUMPSTER': 'Other', 'VESTIBULE': 'Other',\n",
        "    'CHA ELEVATOR': 'Other', 'FACTORY/MANUFACTURING BUILDING': 'Other', 'FACTORY': 'Other',\n",
        "    'WAREHOUSE': 'Other', 'LOADING DOCK': 'Other', 'CONSTRUCTION SITE': 'Other',\n",
        "    'ANIMAL HOSPITAL': 'Other', 'TRAILER': 'Other', 'ATM (AUTOMATIC TELLER MACHINE)': 'Other',\n",
        "    'ATHLETIC CLUB': 'Other', 'LIVERY AUTO': 'Other', 'ELEVATOR': 'Other', 'NEWSSTAND': 'Other',\n",
        "    'CLEANERS/LAUNDROMAT': 'Other', 'BOAT/WATERCRAFT': 'Other', 'BANQUET HALL': 'Other',\n",
        "}\n",
        "\n",
        "df['Location Category'] = df['Location Description'].map(category_mapping).fillna('Other')"
      ],
      "metadata": {
        "id": "F4puwsMTNbbA"
      },
      "execution_count": null,
      "outputs": []
    },
    {
      "cell_type": "code",
      "source": [
        "# 마약 관련 범죄만 필터링\n",
        "narcotic_types = ['NARCOTICS', 'OTHER NARCOTIC VIOLATION']\n",
        "df_narcotics = df[df['Primary Type'].isin(narcotic_types)]\n",
        "\n",
        "# 장소 유형별 빈도\n",
        "location_counts = df_narcotics['Location Category'].value_counts()\n",
        "\n",
        "# 그래프로 시각화\n",
        "location_counts.sort_values(ascending=False).plot(kind='bar', figsize=(12, 6))\n",
        "\n",
        "plt.title('Frequency of Narcotics Crimes by Location Category')\n",
        "plt.xlabel('Location Category')\n",
        "plt.ylabel('Counts')\n",
        "plt.xticks(rotation=45, ha='right')\n",
        "plt.tight_layout()\n",
        "plt.show()\n",
        "\n",
        "# 기대값: 균등하게 발생했다고 가정할 경우\n",
        "expected = [location_counts.sum() / len(location_counts)] * len(location_counts)\n",
        "\n",
        "# 카이제곱 적합도 검정\n",
        "chi2_stat, p_value = chisquare(location_counts.values, f_exp=expected)\n",
        "\n",
        "print(f\"Chi-squared Statistic: {chi2_stat:.2f}, p-value: {p_value:.10f}\")"
      ],
      "metadata": {
        "colab": {
          "base_uri": "https://localhost:8080/",
          "height": 625
        },
        "id": "YrNaJpg_F8s0",
        "outputId": "d5c720f7-a7d5-4694-8afb-dc20d037b992"
      },
      "execution_count": null,
      "outputs": [
        {
          "output_type": "display_data",
          "data": {
            "text/plain": [
              "<Figure size 1200x600 with 1 Axes>"
            ],
            "image/png": "[encoded data removed]"
          },
          "metadata": {}
        },
        {
          "output_type": "stream",
          "name": "stdout",
          "text": [
            "Chi-squared Statistic: 1708594.75, p-value: 0.0000000000\n"
          ]
        }
      ]
    },
    {
      "cell_type": "markdown",
      "source": [
        "- 귀무가설 (H₀):\n",
        "마약 범죄 내부에서 장소 유형 간 발생 빈도의 차이가 유의미하지 않다.\n",
        "→ 즉, 마약 범죄가 특정 장소에서 더 자주 발생하지 않는다. 다른 범죄와 비교해 특정 장소에 편중되어 있지 않다.\n",
        "- 대립가설 (H₁):\n",
        "마약 범죄 내부에서 장소 유형 간 발생 빈도의 차이가 유의미하다.\n",
        "→ 즉, 마약 범죄는 특정 장소 유형에서 더 자주 발생한다.\n",
        "장소와 범죄 유형 간에 통계적으로 유의미한 관련이 있다.\n",
        "  - p-value < 0.05\n",
        "  - **귀무가설 기각: 마약 범죄는 특정 장소 유형에서 더 자주 발생한다.\n",
        "장소와 범죄 유형 간에 통계적으로 유의미한 관련이 있다.**\n",
        "  - **또한, 데이터 시각화를 통해 주로 Outdoor 카테고리의 장소에서 많이 발생하는 경향성을 확인했다.**\n",
        "  - 그리고 단일 변수의 분포 분석이기 때문에, Cramér’s V처럼 변수 간 관계의 강도를 측정할 수는 없다."
      ],
      "metadata": {
        "id": "514lqEwPOGMT"
      }
    }
  ]
}