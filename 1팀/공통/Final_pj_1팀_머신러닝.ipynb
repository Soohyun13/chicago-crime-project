{
  "nbformat": 4,
  "nbformat_minor": 0,
  "metadata": {
    "colab": {
      "provenance": [],
      "machine_shape": "hm",
      "gpuType": "T4"
    },
    "kernelspec": {
      "name": "python3",
      "display_name": "Python 3"
    },
    "language_info": {
      "name": "python"
    },
    "accelerator": "GPU"
  },
  "cells": [
    {
      "cell_type": "markdown",
      "source": [
        "# 머신러닝 전 데이터 전처리\n",
        "----\n",
        "* (1) 목표 변수 정의 -> 마약 범죄 + 강력범죄\n",
        "* (2) 사용하지 않을 칼럼 제거\n",
        "* (3) 데이터 타입 변환 필요한 칼럼 처리\n",
        "* (4) 이상치 처리\n",
        "* (5) 비슷한 칼럼 간 다중공선성 여부 확인하기\n",
        "* (6) 최종 데이터 타입 변환 및 범주형 변수 인코딩"
      ],
      "metadata": {
        "id": "PP2J3VT4OaPJ"
      }
    },
    {
      "cell_type": "markdown",
      "source": [
        "## (1) 목표 변수 정의: 마약범죄 예측"
      ],
      "metadata": {
        "id": "4P13LoB4O9fN"
      }
    },
    {
      "cell_type": "code",
      "source": [
        "df = pd.read_csv(\"/content/drive/MyDrive/final_pj/data_250409.csv\")"
      ],
      "metadata": {
        "id": "t3ZK874GVZze"
      },
      "execution_count": null,
      "outputs": []
    },
    {
      "cell_type": "code",
      "source": [
        "# 마약 관련 범죄로 간주할 범주 리스트\n",
        "narcotics_types = {'NARCOTICS', 'OTHER NARCOTIC VIOLATION'}\n",
        "\n",
        "# 메모리 최적화를 위해 numpy의 vectorized 연산 사용\n",
        "# is_narcotics 컬럼 생성: Primary Type이 마약 관련이면 1, 아니면 0\n",
        "df['is_narcotics'] = np.where(df['Primary Type'].isin(narcotics_types), 1, 0).astype(np.uint8)"
      ],
      "metadata": {
        "id": "4iqy9rb8PCCs"
      },
      "execution_count": null,
      "outputs": []
    },
    {
      "cell_type": "code",
      "source": [
        "# 데이터 불균형 확인 -> 마약범죄가 아닌 경우(0)가 더 많음\n",
        "df['is_narcotics'].value_counts()"
      ],
      "metadata": {
        "colab": {
          "base_uri": "https://localhost:8080/",
          "height": 178
        },
        "id": "7ukEO7SxQaUF",
        "outputId": "49dda124-9f40-454f-e2fe-0223c5c28583"
      },
      "execution_count": null,
      "outputs": [
        {
          "output_type": "execute_result",
          "data": {
            "text/plain": [
              "is_narcotics\n",
              "0    5496146\n",
              "1     674667\n",
              "Name: count, dtype: int64"
            ],
            "text/html": [
              "<div>\n",
              "<style scoped>\n",
              "    .dataframe tbody tr th:only-of-type {\n",
              "        vertical-align: middle;\n",
              "    }\n",
              "\n",
              "    .dataframe tbody tr th {\n",
              "        vertical-align: top;\n",
              "    }\n",
              "\n",
              "    .dataframe thead th {\n",
              "        text-align: right;\n",
              "    }\n",
              "</style>\n",
              "<table border=\"1\" class=\"dataframe\">\n",
              "  <thead>\n",
              "    <tr style=\"text-align: right;\">\n",
              "      <th></th>\n",
              "      <th>count</th>\n",
              "    </tr>\n",
              "    <tr>\n",
              "      <th>is_narcotics</th>\n",
              "      <th></th>\n",
              "    </tr>\n",
              "  </thead>\n",
              "  <tbody>\n",
              "    <tr>\n",
              "      <th>0</th>\n",
              "      <td>5496146</td>\n",
              "    </tr>\n",
              "    <tr>\n",
              "      <th>1</th>\n",
              "      <td>674667</td>\n",
              "    </tr>\n",
              "  </tbody>\n",
              "</table>\n",
              "</div><br><label><b>dtype:</b> int64</label>"
            ]
          },
          "metadata": {},
          "execution_count": 40
        }
      ]
    },
    {
      "cell_type": "markdown",
      "source": [
        "## (2) 사용하지 않을 칼럼 제거"
      ],
      "metadata": {
        "id": "L_CXFKwQQbP5"
      }
    },
    {
      "cell_type": "code",
      "source": [
        "df.columns"
      ],
      "metadata": {
        "colab": {
          "base_uri": "https://localhost:8080/"
        },
        "id": "OjaoMTpkQiOf",
        "outputId": "3cd9e9de-16f9-4c50-ed8e-b33802157f24"
      },
      "execution_count": null,
      "outputs": [
        {
          "output_type": "execute_result",
          "data": {
            "text/plain": [
              "Index(['Unnamed: 0', 'ID', 'Case Number', 'Date', 'Block', 'IUCR',\n",
              "       'Primary Type', 'Description', 'Location Description', 'Arrest',\n",
              "       'Domestic', 'Beat', 'District', 'Ward', 'FBI Code', 'X Coordinate',\n",
              "       'Y Coordinate', 'Year', 'Updated On', 'Latitude', 'Longitude',\n",
              "       'Location', 'Community Area Code', 'is_narcotics'],\n",
              "      dtype='object')"
            ]
          },
          "metadata": {},
          "execution_count": 41
        }
      ]
    },
    {
      "cell_type": "code",
      "source": [
        "# 드랍할 칼럼 리스트\n",
        "drop_columns = [\n",
        "    'Unnamed: 0', 'Updated On', 'ID', 'Case Number', 'Block', 'Latitude', 'Longitude', 'Location',\n",
        "    'Date', 'Year', # 시간 관련 칼럼\n",
        "    'Primary Type', 'Description',  'IUCR', 'FBI Code'  # 정답을 맞추는 데 너무 직접적인 정보를 담은 칼럼(넣으면 정확도 1.0 나옴)\n",
        "]\n",
        "\n",
        "# 칼럼 드랍\n",
        "df = df.drop(columns=drop_columns)\n",
        "\n",
        "print(df.columns)"
      ],
      "metadata": {
        "colab": {
          "base_uri": "https://localhost:8080/"
        },
        "id": "LURxaHcYQkAG",
        "outputId": "3ae3d025-7294-4aa4-b83a-92bbc40a7303"
      },
      "execution_count": null,
      "outputs": [
        {
          "output_type": "stream",
          "name": "stdout",
          "text": [
            "Index(['Location Description', 'Arrest', 'Domestic', 'Beat', 'District',\n",
            "       'Ward', 'X Coordinate', 'Y Coordinate', 'Community Area Code',\n",
            "       'is_narcotics'],\n",
            "      dtype='object')\n"
          ]
        }
      ]
    },
    {
      "cell_type": "markdown",
      "source": [
        "## (3) 데이터 타입 변환 진행"
      ],
      "metadata": {
        "id": "Fa9tvJSQQnoF"
      }
    },
    {
      "cell_type": "code",
      "source": [
        "# 'unknown' 값 포함하고 있는 칼럼 중 'unknown' 삭제 후 데이터 타입 변환이 필요한 칼럼 -> District, Ward, X Coordinate, Y Coordinate\n",
        "def find_columns_with_unknown_fast(df):\n",
        "    cols_with_unknown = []\n",
        "    for col in df.columns:\n",
        "        # 일단 dtype이 object(문자형)인 칼럼만 확인\n",
        "        if df[col].dtype == object:\n",
        "            # 고비용 연산 없이 유니크 값만 뽑아서 확인\n",
        "            unique_vals = df[col].unique()\n",
        "            if 'unknown' in unique_vals:\n",
        "                cols_with_unknown.append(col)\n",
        "    return cols_with_unknown\n",
        "cols_with_unknown = find_columns_with_unknown_fast(df)\n",
        "print(cols_with_unknown)"
      ],
      "metadata": {
        "colab": {
          "base_uri": "https://localhost:8080/"
        },
        "id": "Hli31Q2xQtkG",
        "outputId": "d0f4d13c-8f72-42b0-b5db-19ad1a6b80e3"
      },
      "execution_count": null,
      "outputs": [
        {
          "output_type": "stream",
          "name": "stdout",
          "text": [
            "['Location Description', 'District', 'Ward', 'X Coordinate', 'Y Coordinate']\n"
          ]
        }
      ]
    },
    {
      "cell_type": "code",
      "source": [
        "def clean_and_convert_specific_cols(df):\n",
        "    # 변환할 칼럼과 원하는 타입 매핑\n",
        "    col_dtype_map = {\n",
        "        'District': 'float',\n",
        "        'Ward': 'float',\n",
        "        'X Coordinate': 'float',\n",
        "        'Y Coordinate': 'float'\n",
        "    }\n",
        "\n",
        "    for col, dtype in col_dtype_map.items():\n",
        "        # 'unknown' 값 제거 (== 'unknown'인 행 자체를 삭제)\n",
        "        df = df[df[col] != 'unknown']\n",
        "\n",
        "        # 데이터 타입 변환\n",
        "        df[col] = df[col].astype(dtype)\n",
        "\n",
        "    return df\n",
        "\n",
        "df = clean_and_convert_specific_cols(df)"
      ],
      "metadata": {
        "id": "3XXEY68RQzHC"
      },
      "execution_count": null,
      "outputs": []
    },
    {
      "cell_type": "code",
      "source": [
        "# Ward, District에 대해서는 정수형으로 변환\n",
        "df['Ward'] = df['Ward'].astype('int')\n",
        "df['District'] = df['District'].astype('int')"
      ],
      "metadata": {
        "id": "dmTinqitQ5bC"
      },
      "execution_count": null,
      "outputs": []
    },
    {
      "cell_type": "markdown",
      "source": [
        "## (4) 이상치 제거"
      ],
      "metadata": {
        "id": "jOA1VbHKQ_5n"
      }
    },
    {
      "cell_type": "code",
      "source": [
        "def boxplot_numeric_cols_logscale(df):\n",
        "    # 1. 수치형 컬럼만 고르기 (is_narcotics 제외)\n",
        "    numeric_cols = df.select_dtypes(include=[np.number]).columns\n",
        "    numeric_cols = [col for col in numeric_cols if col != 'is_narcotics']\n",
        "\n",
        "    # 2. 박스플롯 그리기\n",
        "    plt.figure(figsize=(12, 6))\n",
        "    sns.boxplot(data=df[numeric_cols])\n",
        "\n",
        "    # 3. y축 로그 스케일 적용\n",
        "    plt.yscale('log')\n",
        "    plt.title(\"Boxplot of Numeric Columns (Log Scale)\")\n",
        "    plt.xticks(rotation=45)  # x축 라벨 45도 꺾기\n",
        "    plt.show()\n",
        "\n",
        "boxplot_numeric_cols_logscale(df)"
      ],
      "metadata": {
        "colab": {
          "base_uri": "https://localhost:8080/",
          "height": 419
        },
        "id": "ABvip3M9RCwT",
        "outputId": "ddcfacfd-fc89-41dc-d246-ee169887c684"
      },
      "execution_count": null,
      "outputs": [
        {
          "output_type": "display_data",
          "data": {
            "text/plain": [
              "<Figure size 1200x600 with 1 Axes>"
            ],
            "image/png": "[encoded data removed]"
          },
          "metadata": {}
        }
      ]
    },
    {
      "cell_type": "code",
      "source": [
        "# Community Area Code의 이상치 확인\n",
        "print(df['Community Area Code'].describe())\n",
        "print(df['Community Area Code'].value_counts().sort_index())\n",
        "\n",
        "# Community Area Code의 경우 값이 1번부터 77번까지 분포되어 있어야 하나, 0이라는 이상치가 존재\n",
        "\n",
        "# Community Area Code가 1 이상인 데이터만 남기기\n",
        "df = df[df['Community Area Code'] >= 1].reset_index(drop=True)"
      ],
      "metadata": {
        "colab": {
          "base_uri": "https://localhost:8080/"
        },
        "id": "rFBKFY2YRMI3",
        "outputId": "0acc2f1c-49f0-4215-dc99-51e7c08b2028"
      },
      "execution_count": null,
      "outputs": [
        {
          "output_type": "stream",
          "name": "stdout",
          "text": [
            "count    6.167824e+06\n",
            "mean     3.758538e+01\n",
            "std      2.153326e+01\n",
            "min      0.000000e+00\n",
            "25%      2.300000e+01\n",
            "50%      3.200000e+01\n",
            "75%      5.800000e+01\n",
            "max      7.700000e+01\n",
            "Name: Community Area Code, dtype: float64\n",
            "Community Area Code\n",
            "0       305\n",
            "1     95964\n",
            "2     75811\n",
            "3     93180\n",
            "4     43525\n",
            "      ...  \n",
            "73    72256\n",
            "74    13980\n",
            "75    49118\n",
            "76    34011\n",
            "77    61561\n",
            "Name: count, Length: 78, dtype: int64\n"
          ]
        }
      ]
    },
    {
      "cell_type": "code",
      "source": [
        "# Y좌표의 이상치 확인\n",
        "df['Y Coordinate'].describe()\n",
        "\n",
        "# 1만 이하인 데이터 보기\n",
        "small_y = df[df['Y Coordinate'].astype(float) < 10000]\n",
        "print(small_y[['Y Coordinate']])\n",
        "\n",
        "# 이상치 행 개수 확인\n",
        "print(\"1만 이하 데이터 개수:\", len(small_y))\n",
        "\n",
        "# 1만 이하 좌표값 제거\n",
        "df = df[df['Y Coordinate'].astype(float) >= 10000]"
      ],
      "metadata": {
        "colab": {
          "base_uri": "https://localhost:8080/"
        },
        "id": "Y8auY7uwRy03",
        "outputId": "552b0342-0607-4027-837d-ea9a5dc28af4"
      },
      "execution_count": null,
      "outputs": [
        {
          "output_type": "stream",
          "name": "stdout",
          "text": [
            "         Y Coordinate\n",
            "6740          0.00011\n",
            "6741          0.00011\n",
            "6742          0.00011\n",
            "6746          0.00011\n",
            "6747          0.00011\n",
            "...               ...\n",
            "5689135       0.00011\n",
            "5854950       0.00011\n",
            "5920569       0.00011\n",
            "5997692       0.00011\n",
            "6156713       0.00011\n",
            "\n",
            "[246 rows x 1 columns]\n",
            "1만 이하 데이터 개수: 246\n"
          ]
        }
      ]
    },
    {
      "cell_type": "markdown",
      "source": [
        "## (5) 비슷한 칼럼 간 다중공선성 여부 확인하기"
      ],
      "metadata": {
        "id": "2kBjqyI_STL9"
      }
    },
    {
      "cell_type": "code",
      "source": [
        "# 현재 공간 관련 데이터를 담고 있는 칼럼들이 많아, VIF 계산해보기\n",
        "\n",
        "# VIF 계산할 칼럼만 추리기\n",
        "location_cols = [\n",
        "    'Beat', 'District', 'Ward', 'X Coordinate', 'Y Coordinate', 'Community Area Code'\n",
        "]\n",
        "\n",
        "X_location = df[location_cols]\n",
        "\n",
        "# VIF 계산\n",
        "vif_data = pd.DataFrame()\n",
        "vif_data['feature'] = X_location.columns\n",
        "vif_data['VIF'] = [variance_inflation_factor(X_location.values, i) for i in range(X_location.shape[1])]\n",
        "\n",
        "print(vif_data)"
      ],
      "metadata": {
        "colab": {
          "base_uri": "https://localhost:8080/"
        },
        "id": "4K6f8rKLSje5",
        "outputId": "d3735061-9e30-485e-df9d-d005dee165a7"
      },
      "execution_count": null,
      "outputs": [
        {
          "output_type": "stream",
          "name": "stdout",
          "text": [
            "               feature          VIF\n",
            "0                 Beat    31.346241\n",
            "1             District    34.412270\n",
            "2                 Ward     8.155742\n",
            "3         X Coordinate  3353.381814\n",
            "4         Y Coordinate  3433.556833\n",
            "5  Community Area Code     6.832567\n"
          ]
        }
      ]
    },
    {
      "cell_type": "markdown",
      "source": [
        "- **Beat, District: 둘 중 하나만 남기기**\n",
        "- Ward, Community Area Code: 둘 다 남길 예정\n",
        "- X Coordinate, Y Coordinate: 다중공선성에 예민하지 않은 트리 계열의 모델들에서 둘 다 그대로 사용 예정"
      ],
      "metadata": {
        "id": "1kwX3yGzS5Uy"
      }
    },
    {
      "cell_type": "code",
      "source": [
        "# 사용하려는 모델들(랜덤 포레스트, XGBoost, LightGBM)은 모두 트리 계열 모델들임\n",
        "# 따라서 중요도의 평균을 내서 Beat, District 중 하나만 남길 예정\n",
        "\n",
        "# 모델 정의\n",
        "rf = RandomForestClassifier(n_estimators=100, random_state=42, n_jobs=-1)\n",
        "xgb = XGBClassifier(n_estimators=100, random_state=42, use_label_encoder=False, eval_metric='logloss', tree_method='hist')\n",
        "lgbm = LGBMClassifier(n_estimators=100, random_state=42, n_jobs=-1)\n",
        "\n",
        "# 앙상블 모델 (soft voting)\n",
        "voting_clf = VotingClassifier(\n",
        "    estimators=[('rf', rf), ('xgb', xgb), ('lgbm', lgbm)],\n",
        "    voting='soft',  # 확률 기반 소프트 보팅\n",
        "    n_jobs=-1\n",
        ")\n",
        "\n",
        "# 학습 (X: Beat, District 두 feature만 / y: 타겟)\n",
        "X_compare = df[['Beat', 'District']]\n",
        "y_compare = df['is_narcotics']\n",
        "\n",
        "voting_clf.fit(X_compare, y_compare)\n",
        "\n",
        "# 개별 모델 꺼내서 feature importance 가져오기\n",
        "rf_fitted = voting_clf.named_estimators_['rf']\n",
        "xgb_fitted = voting_clf.named_estimators_['xgb']\n",
        "lgbm_fitted = voting_clf.named_estimators_['lgbm']\n",
        "\n",
        "# 중요도 추출\n",
        "importance_rf = rf_fitted.feature_importances_\n",
        "importance_xgb = xgb_fitted.feature_importances_\n",
        "importance_lgbm = lgbm_fitted.feature_importances_\n",
        "\n",
        "# 평균 중요도 계산\n",
        "importance_avg = np.mean([importance_rf, importance_xgb, importance_lgbm], axis=0)\n",
        "\n",
        "# 결과 정리\n",
        "importance_df = pd.DataFrame({\n",
        "    'feature': ['Beat', 'District'],\n",
        "    'importance': importance_avg\n",
        "}).sort_values(by='importance', ascending=False)\n",
        "\n",
        "print(importance_df)"
      ],
      "metadata": {
        "colab": {
          "base_uri": "https://localhost:8080/"
        },
        "id": "Ll68N6jJTJP7",
        "outputId": "341c99dd-7c15-4a85-d72d-588615bf12b6"
      },
      "execution_count": null,
      "outputs": [
        {
          "output_type": "stream",
          "name": "stdout",
          "text": [
            "    feature  importance\n",
            "0      Beat  909.006039\n",
            "1  District   91.660628\n"
          ]
        }
      ]
    },
    {
      "cell_type": "markdown",
      "source": [
        "- 트리 계열 모델들인 랜덤 포레스트, LightGBM, XGBoost를 넣은 앙상블 모델로 Beat / District의 중요도를 평균 계산해 본 결과,\n",
        "  - Beat의 중요성이 더 높음\n",
        "\n",
        "**- 결론: District는 드랍 예정**"
      ],
      "metadata": {
        "id": "gfWpPhTATNp7"
      }
    },
    {
      "cell_type": "code",
      "source": [
        "# District 컬럼 드랍\n",
        "df = df.drop(columns=['District'])"
      ],
      "metadata": {
        "id": "EghfyFEkTrye"
      },
      "execution_count": null,
      "outputs": []
    },
    {
      "cell_type": "markdown",
      "source": [
        "## (6) 최종 데이터 타입 변환 및 범주형 변수 인코딩"
      ],
      "metadata": {
        "id": "wztRNO3rT0Gn"
      }
    },
    {
      "cell_type": "code",
      "source": [
        "df.info()"
      ],
      "metadata": {
        "colab": {
          "base_uri": "https://localhost:8080/"
        },
        "id": "miPwp8U5T2qK",
        "outputId": "ff21bed0-2083-48cd-c977-e6b0b8bb98bf"
      },
      "execution_count": null,
      "outputs": [
        {
          "output_type": "stream",
          "name": "stdout",
          "text": [
            "<class 'pandas.core.frame.DataFrame'>\n",
            "Index: 6167273 entries, 0 to 6167518\n",
            "Data columns (total 9 columns):\n",
            " #   Column                Dtype  \n",
            "---  ------                -----  \n",
            " 0   Location Description  object \n",
            " 1   Arrest                bool   \n",
            " 2   Domestic              bool   \n",
            " 3   Beat                  int64  \n",
            " 4   Ward                  int64  \n",
            " 5   X Coordinate          float64\n",
            " 6   Y Coordinate          float64\n",
            " 7   Community Area Code   int64  \n",
            " 8   is_narcotics          uint8  \n",
            "dtypes: bool(2), float64(2), int64(3), object(1), uint8(1)\n",
            "memory usage: 347.0+ MB\n"
          ]
        }
      ]
    },
    {
      "cell_type": "code",
      "source": [
        "# 인코딩 전, 메모리를 더 효율적으로 사용하기 위해 데이터 타입 최종적으로 한 번 더 변환\n",
        "\n",
        "# 숫자형 칼럼은 int32로 변환\n",
        "df[['Beat', 'Ward', 'Community Area Code']] = \\\n",
        "    df[['Beat', 'Ward', 'Community Area Code']].astype('int32')\n",
        "\n",
        "# X, Y좌표는 float32로 변환\n",
        "df[['X Coordinate', 'Y Coordinate']] = \\\n",
        "    df[['X Coordinate', 'Y Coordinate']].astype('float32')\n",
        "\n",
        "# is_narcotics는 bool로 변환\n",
        "df['is_narcotics'] = df['is_narcotics'].astype('bool')"
      ],
      "metadata": {
        "id": "VYStKqBkT4Pu"
      },
      "execution_count": null,
      "outputs": []
    },
    {
      "cell_type": "code",
      "source": [
        "# 메모리를 효율적으로 사용하기 위한 바이너리 인코딩 진행\n",
        "\n",
        "from category_encoders import BinaryEncoder\n",
        "\n",
        "binary_cols = ['Location Description', 'Beat', 'Ward', 'Community Area Code']\n",
        "\n",
        "# 인코딩\n",
        "binary_encoder = BinaryEncoder(cols=binary_cols)\n",
        "encoded_binary = binary_encoder.fit_transform(df[binary_cols])\n",
        "\n",
        "# 기존 칼럼 제거\n",
        "df = df.drop(columns=binary_cols)\n",
        "\n",
        "# 메모리 복사를 최소화하면서 합치기\n",
        "df = pd.concat([df, encoded_binary], axis=1, copy=False)"
      ],
      "metadata": {
        "id": "b7Q0vRC3T9pb"
      },
      "execution_count": null,
      "outputs": []
    },
    {
      "cell_type": "markdown",
      "source": [
        "# 머신러닝(랜덤 포레스트, XGBoost, LightGBM)"
      ],
      "metadata": {
        "id": "3ngOqYjgUr3b"
      }
    },
    {
      "cell_type": "code",
      "source": [
        "# 마약범죄가 아닌 데이터, 맞는 데이터의 불균형이 심함 -> 그러나, 오버/언더샘플링 또는 smote를 진행하면 데이터가 왜곡될 수 있음.\n",
        "# 진행하지 않고 바로 학습시킨다!\n",
        "df['is_narcotics'].value_counts()"
      ],
      "metadata": {
        "colab": {
          "base_uri": "https://localhost:8080/",
          "height": 178
        },
        "id": "WNoA5dxtUzGF",
        "outputId": "009eac63-5ec5-4d92-fcbc-1b1a1e0910d0"
      },
      "execution_count": null,
      "outputs": [
        {
          "output_type": "execute_result",
          "data": {
            "text/plain": [
              "is_narcotics\n",
              "False    5492966\n",
              "True      674307\n",
              "Name: count, dtype: int64"
            ],
            "text/html": [
              "<div>\n",
              "<style scoped>\n",
              "    .dataframe tbody tr th:only-of-type {\n",
              "        vertical-align: middle;\n",
              "    }\n",
              "\n",
              "    .dataframe tbody tr th {\n",
              "        vertical-align: top;\n",
              "    }\n",
              "\n",
              "    .dataframe thead th {\n",
              "        text-align: right;\n",
              "    }\n",
              "</style>\n",
              "<table border=\"1\" class=\"dataframe\">\n",
              "  <thead>\n",
              "    <tr style=\"text-align: right;\">\n",
              "      <th></th>\n",
              "      <th>count</th>\n",
              "    </tr>\n",
              "    <tr>\n",
              "      <th>is_narcotics</th>\n",
              "      <th></th>\n",
              "    </tr>\n",
              "  </thead>\n",
              "  <tbody>\n",
              "    <tr>\n",
              "      <th>False</th>\n",
              "      <td>5492966</td>\n",
              "    </tr>\n",
              "    <tr>\n",
              "      <th>True</th>\n",
              "      <td>674307</td>\n",
              "    </tr>\n",
              "  </tbody>\n",
              "</table>\n",
              "</div><br><label><b>dtype:</b> int64</label>"
            ]
          },
          "metadata": {},
          "execution_count": 53
        }
      ]
    },
    {
      "cell_type": "code",
      "source": [
        "# 데이터 분할\n",
        "from sklearn.model_selection import train_test_split\n",
        "\n",
        "X = df.drop(columns=['is_narcotics'])\n",
        "y = df['is_narcotics']\n",
        "\n",
        "X_train, X_test, y_train, y_test = train_test_split(X, y, test_size=0.2, random_state=42)"
      ],
      "metadata": {
        "id": "vkgygsJuU_nk"
      },
      "execution_count": null,
      "outputs": []
    },
    {
      "cell_type": "code",
      "source": [
        "# 랜덤 포레스트 모델 사용\n",
        "model = RandomForestClassifier(\n",
        "    n_estimators=100,\n",
        "    max_depth=10,\n",
        "    random_state=42,\n",
        "    n_jobs=-1\n",
        ")\n",
        "\n",
        "model.fit(X_train, y_train)\n",
        "\n",
        "y_pred = model.predict(X_test)\n",
        "print(classification_report(y_test, y_pred))"
      ],
      "metadata": {
        "colab": {
          "base_uri": "https://localhost:8080/"
        },
        "id": "Us_f-DdCU16x",
        "outputId": "3d79918a-7fae-4acf-8306-c55b3238df96"
      },
      "execution_count": null,
      "outputs": [
        {
          "output_type": "stream",
          "name": "stdout",
          "text": [
            "              precision    recall  f1-score   support\n",
            "\n",
            "       False       0.92      0.99      0.95   1098601\n",
            "        True       0.79      0.31      0.44    134854\n",
            "\n",
            "    accuracy                           0.91   1233455\n",
            "   macro avg       0.85      0.65      0.70   1233455\n",
            "weighted avg       0.91      0.91      0.90   1233455\n",
            "\n"
          ]
        }
      ]
    },
    {
      "cell_type": "code",
      "source": [
        "# XGBoost 모델 사용\n",
        "\n",
        "model = XGBClassifier(\n",
        "    max_depth=10,\n",
        "    learning_rate=0.05,\n",
        "    n_estimators=1000,\n",
        "    tree_method='gpu_hist',\n",
        "    random_state=42,\n",
        "    use_label_encoder=False,\n",
        "    eval_metric='logloss'\n",
        ")\n",
        "\n",
        "model.fit(X_train, y_train)\n",
        "\n",
        "y_pred = model.predict(X_test)\n",
        "print(classification_report(y_test, y_pred))"
      ],
      "metadata": {
        "colab": {
          "base_uri": "https://localhost:8080/"
        },
        "id": "dOH2-Es3Wofn",
        "outputId": "37dab461-330d-43b7-c327-8136782ae3e4"
      },
      "execution_count": null,
      "outputs": [
        {
          "output_type": "stream",
          "name": "stdout",
          "text": [
            "              precision    recall  f1-score   support\n",
            "\n",
            "       False       0.96      0.96      0.96   1098601\n",
            "        True       0.70      0.71      0.71    134854\n",
            "\n",
            "    accuracy                           0.94   1233455\n",
            "   macro avg       0.83      0.84      0.84   1233455\n",
            "weighted avg       0.94      0.94      0.94   1233455\n",
            "\n"
          ]
        }
      ]
    },
    {
      "cell_type": "code",
      "source": [
        "# LightGBM 모델 사용\n",
        "import lightgbm as lgb\n",
        "from sklearn.metrics import classification_report\n",
        "\n",
        "lgbm_model = lgb.LGBMClassifier(\n",
        "    n_estimators=1000,\n",
        "    learning_rate=0.05,\n",
        "    max_depth=10,\n",
        "    random_state=42,\n",
        "    n_jobs=-1\n",
        ")\n",
        "\n",
        "callbacks = [\n",
        "    lgb.early_stopping(stopping_rounds=50, verbose=True)  # 50번 동안 개선 없으면 멈춤\n",
        "]\n",
        "\n",
        "lgbm_model.fit(\n",
        "    X_train, y_train,\n",
        "    eval_set=[(X_test, y_test)],\n",
        "    callbacks=callbacks\n",
        ")\n",
        "\n",
        "y_pred = lgbm_model.predict(X_test)\n",
        "\n",
        "print(classification_report(y_test, y_pred))"
      ],
      "metadata": {
        "colab": {
          "base_uri": "https://localhost:8080/"
        },
        "id": "-llosCT3WrPg",
        "outputId": "4dd71057-9cbf-4aff-eeff-771806a7df00"
      },
      "execution_count": null,
      "outputs": [
        {
          "output_type": "stream",
          "name": "stdout",
          "text": [
            "[LightGBM] [Warning] Found whitespace in feature_names, replace with underlines\n",
            "[LightGBM] [Info] Number of positive: 539453, number of negative: 4394365\n",
            "[LightGBM] [Info] Auto-choosing row-wise multi-threading, the overhead of testing was 0.350958 seconds.\n",
            "You can set `force_row_wise=true` to remove the overhead.\n",
            "And if memory is not enough, you can set `force_col_wise=true`.\n",
            "[LightGBM] [Info] Total Bins 574\n",
            "[LightGBM] [Info] Number of data points in the train set: 4933818, number of used features: 34\n",
            "[LightGBM] [Warning] Found whitespace in feature_names, replace with underlines\n",
            "[LightGBM] [Info] [binary:BoostFromScore]: pavg=0.109338 -> initscore=-2.097523\n",
            "[LightGBM] [Info] Start training from score -2.097523\n",
            "Training until validation scores don't improve for 50 rounds\n",
            "Did not meet early stopping. Best iteration is:\n",
            "[990]\tvalid_0's binary_logloss: 0.133788\n",
            "              precision    recall  f1-score   support\n",
            "\n",
            "       False       0.96      0.96      0.96   1098601\n",
            "        True       0.70      0.70      0.70    134854\n",
            "\n",
            "    accuracy                           0.93   1233455\n",
            "   macro avg       0.83      0.83      0.83   1233455\n",
            "weighted avg       0.93      0.93      0.93   1233455\n",
            "\n"
          ]
        }
      ]
    },
    {
      "cell_type": "code",
      "source": [
        "# 랜덤 포레스트, XGBoost, LightGBM을 모두 합친 앙상블 모델\n",
        "from sklearn.ensemble import VotingClassifier\n",
        "import xgboost as xgb\n",
        "\n",
        "rf_model = RandomForestClassifier(\n",
        "    n_estimators=100,\n",
        "    max_depth=10,\n",
        "    random_state=42,\n",
        "    n_jobs=-1,\n",
        ")\n",
        "\n",
        "lgbm_model = lgb.LGBMClassifier(\n",
        "    n_estimators=1000,\n",
        "    learning_rate=0.05,\n",
        "    max_depth=10,\n",
        "    random_state=42,\n",
        "    n_jobs=-1,\n",
        ")\n",
        "\n",
        "xgb_model = xgb.XGBClassifier(\n",
        "    n_estimators=1000,\n",
        "    learning_rate=0.05,\n",
        "    max_depth=6,\n",
        "    random_state=42,\n",
        "    n_jobs=-1,\n",
        "    tree_method='gpu_hist',   # GPU 없으면 hist, 있으면 gpu_hist\n",
        "    predictor='gpu_predictor',\n",
        "    verbosity=0\n",
        ")\n",
        "\n",
        "voting_model = VotingClassifier(\n",
        "    estimators=[\n",
        "        ('rf', rf_model),\n",
        "        ('lgbm', lgbm_model),\n",
        "        ('xgb', xgb_model)\n",
        "    ],\n",
        "    voting='soft',    # soft: 확률 기반 투표\n",
        "    n_jobs=-1\n",
        ")\n",
        "\n",
        "voting_model.fit(X_train, y_train)\n",
        "\n",
        "y_pred = voting_model.predict(X_test)\n",
        "\n",
        "print(classification_report(y_test, y_pred))"
      ],
      "metadata": {
        "colab": {
          "base_uri": "https://localhost:8080/"
        },
        "id": "aaLkfON8WvZ_",
        "outputId": "035aacac-ee1b-4322-8c94-48d1367f8404"
      },
      "execution_count": null,
      "outputs": [
        {
          "output_type": "stream",
          "name": "stdout",
          "text": [
            "              precision    recall  f1-score   support\n",
            "\n",
            "       False       0.96      0.97      0.96   1098601\n",
            "        True       0.72      0.64      0.68    134854\n",
            "\n",
            "    accuracy                           0.93   1233455\n",
            "   macro avg       0.84      0.81      0.82   1233455\n",
            "weighted avg       0.93      0.93      0.93   1233455\n",
            "\n"
          ]
        }
      ]
    },
    {
      "cell_type": "code",
      "source": [
        "# 모델별 마약범죄 예측 성능 결과를 표로 정리\n",
        "data = {\n",
        "    \"Model\": [\"RandomForest\", \"XGBoost\", \"LightGBM\", \"Voting Ensemble\"],\n",
        "    \"Accuracy\": [0.91, 0.94, 0.93, 0.93],\n",
        "    \"Precision\": [0.79, 0.70, 0.70, 0.72],\n",
        "    \"Recall\": [0.31, 0.71, 0.70, 0.64],\n",
        "    \"F1-score\": [0.44, 0.71, 0.70, 0.68],\n",
        "}\n",
        "\n",
        "model_performance_df = pd.DataFrame(data)\n",
        "model_performance_df"
      ],
      "metadata": {
        "id": "wqh1-ilCZUbt"
      },
      "execution_count": null,
      "outputs": []
    },
    {
      "cell_type": "markdown",
      "source": [
        "- **가장 성능이 좋은 모델은 XGBoost**로, 해당 모델 기반으로 하이퍼 파라미터 튜닝 시도"
      ],
      "metadata": {
        "id": "STV1gl2iadtR"
      }
    },
    {
      "cell_type": "markdown",
      "source": [
        "- 'subsample': [0.8, 1.0], 'colsample_bytree': [0.8, 1.0], 'gamma': [0, 1] 옵션으로 그리드 서치 진행 결과\n",
        "  - Best Parameters: {'colsample_bytree': 0.8, 'gamma': 0, 'subsample': 0.8}\n",
        "  - Best Precision Score: 0.6960728166880491\n",
        "  - 오히려 Precision 수치가 떨어짐"
      ],
      "metadata": {
        "id": "EHVLq5UjZoNA"
      }
    },
    {
      "cell_type": "markdown",
      "source": [
        "- 또한, 성능을 높이기 위해 기본 임계치인 0.5 대신 0.8을 적용해보았지만, 여전히 성능을 올리지는 못했음"
      ],
      "metadata": {
        "id": "Dr5c6gVFZ6HV"
      }
    }
  ]
}