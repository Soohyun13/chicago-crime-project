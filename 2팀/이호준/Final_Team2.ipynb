{
  "nbformat": 4,
  "nbformat_minor": 0,
  "metadata": {
    "colab": {
      "provenance": [],
      "collapsed_sections": [
        "JWDjCxHETurN",
        "xno4AEjlThUz",
        "7MhoZmjOTpxJ",
        "RIGEgBy7Qyl6",
        "cmYFZAf3RSUm",
        "pIL-HLZSSbZa",
        "E_dxdJ85S3aX",
        "crlBpYAqTre7",
        "CQw1u9cvUbyU",
        "0KJy-fcKVGKW",
        "LLN0e31DVoTl",
        "9veHgYPnV9NG",
        "X4ipeqUBWgRj",
        "YlAFVInLW6ci",
        "s7Cg-PzoXLjD"
      ]
    },
    "kernelspec": {
      "name": "python3",
      "display_name": "Python 3"
    },
    "language_info": {
      "name": "python"
    }
  },
  "cells": [
    {
      "cell_type": "code",
      "source": [
        "import pandas as pd\n",
        "import numpy as np\n",
        "import matplotlib.pyplot as plt\n",
        "import seaborn as sns"
      ],
      "metadata": {
        "id": "wFTSlUCrzCSb"
      },
      "execution_count": null,
      "outputs": []
    },
    {
      "cell_type": "code",
      "source": [
        "# 시각화 시 한글 깨짐 방지 위한 폰트 설치 및 적용\n",
        "\n",
        "%%capture\n",
        "!sudo apt-get install -y fonts-nanum\n",
        "!sudo fc-cache -fv\n",
        "!rm ~/.cache/matplotlib -rf\n",
        "\n",
        "plt.rc('font', family='NanumBarunGothic')\n",
        "plt.rcParams['axes.unicode_minus'] =False"
      ],
      "metadata": {
        "id": "mEocYhd31RBv"
      },
      "execution_count": null,
      "outputs": []
    },
    {
      "cell_type": "code",
      "source": [
        "crimes_04 = pd.read_csv('/content/Chicago_Crimes_2001_to_2004.csv', encoding='utf-8', on_bad_lines='skip')"
      ],
      "metadata": {
        "id": "FWANDdJE1Vxl"
      },
      "execution_count": null,
      "outputs": []
    },
    {
      "cell_type": "markdown",
      "source": [
        "**01~04년도 데이터의 결측치 확인**"
      ],
      "metadata": {
        "id": "0NK50rMOSCTI"
      }
    },
    {
      "cell_type": "code",
      "source": [
        "crimes_04.isna().sum()"
      ],
      "metadata": {
        "colab": {
          "base_uri": "https://localhost:8080/",
          "height": 805
        },
        "id": "wR02IEYPq7ev",
        "outputId": "8f79ad97-3abd-4015-c5d1-629fbe910f3b"
      },
      "execution_count": null,
      "outputs": [
        {
          "output_type": "execute_result",
          "data": {
            "text/plain": [
              "Unnamed: 0                   0\n",
              "ID                           0\n",
              "Case Number                  0\n",
              "Date                         0\n",
              "Block                        0\n",
              "IUCR                         0\n",
              "Primary Type                 0\n",
              "Description                  0\n",
              "Location Description         2\n",
              "Arrest                       0\n",
              "Domestic                     0\n",
              "Beat                         0\n",
              "District                     0\n",
              "Ward                    149880\n",
              "Community Area          149887\n",
              "FBI Code                     0\n",
              "X Coordinate              7027\n",
              "Y Coordinate              7028\n",
              "Year                         1\n",
              "Updated On                   1\n",
              "Latitude                  7028\n",
              "Longitude                 7028\n",
              "Location                  7028\n",
              "dtype: int64"
            ],
            "text/html": [
              "<div>\n",
              "<style scoped>\n",
              "    .dataframe tbody tr th:only-of-type {\n",
              "        vertical-align: middle;\n",
              "    }\n",
              "\n",
              "    .dataframe tbody tr th {\n",
              "        vertical-align: top;\n",
              "    }\n",
              "\n",
              "    .dataframe thead th {\n",
              "        text-align: right;\n",
              "    }\n",
              "</style>\n",
              "<table border=\"1\" class=\"dataframe\">\n",
              "  <thead>\n",
              "    <tr style=\"text-align: right;\">\n",
              "      <th></th>\n",
              "      <th>0</th>\n",
              "    </tr>\n",
              "  </thead>\n",
              "  <tbody>\n",
              "    <tr>\n",
              "      <th>Unnamed: 0</th>\n",
              "      <td>0</td>\n",
              "    </tr>\n",
              "    <tr>\n",
              "      <th>ID</th>\n",
              "      <td>0</td>\n",
              "    </tr>\n",
              "    <tr>\n",
              "      <th>Case Number</th>\n",
              "      <td>0</td>\n",
              "    </tr>\n",
              "    <tr>\n",
              "      <th>Date</th>\n",
              "      <td>0</td>\n",
              "    </tr>\n",
              "    <tr>\n",
              "      <th>Block</th>\n",
              "      <td>0</td>\n",
              "    </tr>\n",
              "    <tr>\n",
              "      <th>IUCR</th>\n",
              "      <td>0</td>\n",
              "    </tr>\n",
              "    <tr>\n",
              "      <th>Primary Type</th>\n",
              "      <td>0</td>\n",
              "    </tr>\n",
              "    <tr>\n",
              "      <th>Description</th>\n",
              "      <td>0</td>\n",
              "    </tr>\n",
              "    <tr>\n",
              "      <th>Location Description</th>\n",
              "      <td>2</td>\n",
              "    </tr>\n",
              "    <tr>\n",
              "      <th>Arrest</th>\n",
              "      <td>0</td>\n",
              "    </tr>\n",
              "    <tr>\n",
              "      <th>Domestic</th>\n",
              "      <td>0</td>\n",
              "    </tr>\n",
              "    <tr>\n",
              "      <th>Beat</th>\n",
              "      <td>0</td>\n",
              "    </tr>\n",
              "    <tr>\n",
              "      <th>District</th>\n",
              "      <td>0</td>\n",
              "    </tr>\n",
              "    <tr>\n",
              "      <th>Ward</th>\n",
              "      <td>149880</td>\n",
              "    </tr>\n",
              "    <tr>\n",
              "      <th>Community Area</th>\n",
              "      <td>149887</td>\n",
              "    </tr>\n",
              "    <tr>\n",
              "      <th>FBI Code</th>\n",
              "      <td>0</td>\n",
              "    </tr>\n",
              "    <tr>\n",
              "      <th>X Coordinate</th>\n",
              "      <td>7027</td>\n",
              "    </tr>\n",
              "    <tr>\n",
              "      <th>Y Coordinate</th>\n",
              "      <td>7028</td>\n",
              "    </tr>\n",
              "    <tr>\n",
              "      <th>Year</th>\n",
              "      <td>1</td>\n",
              "    </tr>\n",
              "    <tr>\n",
              "      <th>Updated On</th>\n",
              "      <td>1</td>\n",
              "    </tr>\n",
              "    <tr>\n",
              "      <th>Latitude</th>\n",
              "      <td>7028</td>\n",
              "    </tr>\n",
              "    <tr>\n",
              "      <th>Longitude</th>\n",
              "      <td>7028</td>\n",
              "    </tr>\n",
              "    <tr>\n",
              "      <th>Location</th>\n",
              "      <td>7028</td>\n",
              "    </tr>\n",
              "  </tbody>\n",
              "</table>\n",
              "</div><br><label><b>dtype:</b> int64</label>"
            ]
          },
          "metadata": {},
          "execution_count": 7
        }
      ]
    },
    {
      "cell_type": "markdown",
      "source": [
        "=> 일부 컬럼에 결측치가 많음."
      ],
      "metadata": {
        "id": "MJdJC8Ji3XsO"
      }
    },
    {
      "cell_type": "code",
      "source": [
        "unique_primary_types = crimes[\"Primary Type\"].unique()\n",
        "\n",
        "print(unique_primary_types)"
      ],
      "metadata": {
        "colab": {
          "base_uri": "https://localhost:8080/",
          "height": 180
        },
        "collapsed": true,
        "id": "E96g9k2z6tvJ",
        "outputId": "2433dcb6-cd71-484a-a1ae-0c5adc4ca786"
      },
      "execution_count": null,
      "outputs": [
        {
          "output_type": "error",
          "ename": "NameError",
          "evalue": "name 'crimes' is not defined",
          "traceback": [
            "\u001b[0;31m---------------------------------------------------------------------------\u001b[0m",
            "\u001b[0;31mNameError\u001b[0m                                 Traceback (most recent call last)",
            "\u001b[0;32m<ipython-input-6-6de78fa799df>\u001b[0m in \u001b[0;36m<cell line: 0>\u001b[0;34m()\u001b[0m\n\u001b[0;32m----> 1\u001b[0;31m \u001b[0munique_primary_types\u001b[0m \u001b[0;34m=\u001b[0m \u001b[0mcrimes\u001b[0m\u001b[0;34m[\u001b[0m\u001b[0;34m\"Primary Type\"\u001b[0m\u001b[0;34m]\u001b[0m\u001b[0;34m.\u001b[0m\u001b[0munique\u001b[0m\u001b[0;34m(\u001b[0m\u001b[0;34m)\u001b[0m\u001b[0;34m\u001b[0m\u001b[0;34m\u001b[0m\u001b[0m\n\u001b[0m\u001b[1;32m      2\u001b[0m \u001b[0;34m\u001b[0m\u001b[0m\n\u001b[1;32m      3\u001b[0m \u001b[0mprint\u001b[0m\u001b[0;34m(\u001b[0m\u001b[0munique_primary_types\u001b[0m\u001b[0;34m)\u001b[0m\u001b[0;34m\u001b[0m\u001b[0;34m\u001b[0m\u001b[0m\n",
            "\u001b[0;31mNameError\u001b[0m: name 'crimes' is not defined"
          ]
        }
      ]
    },
    {
      "cell_type": "code",
      "source": [
        "unique_description = crimes[\"Description\"].unique()\n",
        "\n",
        "print(unique_description)"
      ],
      "metadata": {
        "collapsed": true,
        "id": "a-fmBs0J8Gde"
      },
      "execution_count": null,
      "outputs": []
    },
    {
      "cell_type": "code",
      "source": [
        "unique_location_description = crimes[\"Location Description\"].unique()\n",
        "\n",
        "print(unique_location_description)"
      ],
      "metadata": {
        "collapsed": true,
        "id": "Tux7ouuH9xoQ"
      },
      "execution_count": null,
      "outputs": []
    },
    {
      "cell_type": "code",
      "source": [
        "unique_domestic = crimes[\"Domestic\"].unique()\n",
        "\n",
        "print(unique_domestic)"
      ],
      "metadata": {
        "collapsed": true,
        "id": "7NmFixBs_lDo"
      },
      "execution_count": null,
      "outputs": []
    },
    {
      "cell_type": "code",
      "source": [
        "unique_IUCR = crimes[\"IUCR\"].unique()\n",
        "\n",
        "print(unique_IUCR)"
      ],
      "metadata": {
        "collapsed": true,
        "id": "lHkObjqy_9fM"
      },
      "execution_count": null,
      "outputs": []
    },
    {
      "cell_type": "code",
      "source": [
        "unique_community_area = crimes[\"Community Area\"].unique()\n",
        "\n",
        "print(unique_community_area)"
      ],
      "metadata": {
        "collapsed": true,
        "id": "ZI8RyRn140EQ"
      },
      "execution_count": null,
      "outputs": []
    },
    {
      "cell_type": "markdown",
      "source": [
        "**Date**"
      ],
      "metadata": {
        "id": "7w9fhKmY_qdr"
      }
    },
    {
      "cell_type": "code",
      "source": [
        "# 데이터 읽기\n",
        "crimes_date_04 = pd.read_csv('/content/Chicago_Crimes_2001_to_2004.csv', encoding='utf-8', on_bad_lines='skip')\n",
        "\n",
        "# 날짜 변환\n",
        "crimes_date_04['Date'] = pd.to_datetime(crimes_date_04['Date'], format='%m/%d/%Y %I:%M:%S %p', errors='coerce')\n",
        "\n",
        "# 날짜에서 연도, 월, 일, 시간, AM/PM 추출\n",
        "crimes_date_04['Year'] = crimes_date_04['Date'].dt.year\n",
        "crimes_date_04['Month'] = crimes_date_04['Date'].dt.month\n",
        "crimes_date_04['Day'] = crimes_date_04['Date'].dt.day\n",
        "crimes_date_04['Hour'] = crimes_date_04['Date'].dt.hour\n",
        "crimes_date_04['AM/PM'] = crimes_date_04['Date'].dt.strftime('%p')\n",
        "\n",
        "# 불필요한 컬럼 제거 (예: 'Unnamed: 0' 컬럼 제거)\n",
        "crimes_date_04 = crimes_date_04.loc[:, ~crimes_date_04.columns.str.contains('^Unnamed')]\n",
        "\n",
        "# 새로운 파일로 저장\n",
        "output_file_path = '/content/New_Chicago_Crimes_2001_to_2004.csv'\n",
        "crimes_date_04.to_csv(output_file_path, index=False, encoding='utf-8')\n",
        "\n",
        "# 결과 확인\n",
        "print(f\"새로운 파일이 저장되었습니다: {output_file_path}\")"
      ],
      "metadata": {
        "colab": {
          "base_uri": "https://localhost:8080/"
        },
        "id": "XvTSY1qE_z5k",
        "outputId": "9c53b164-42fd-491d-ae56-13dea6d87056"
      },
      "execution_count": null,
      "outputs": [
        {
          "output_type": "stream",
          "name": "stdout",
          "text": [
            "새로운 파일이 저장되었습니다: /content/New_Chicago_Crimes_2001_to_2004.csv\n"
          ]
        }
      ]
    },
    {
      "cell_type": "code",
      "source": [
        "# 데이터 읽기\n",
        "crimes_date_07 = pd.read_csv('/content/Chicago_Crimes_2005_to_2007.csv', encoding='utf-8', on_bad_lines='skip')\n",
        "\n",
        "# 날짜 변환\n",
        "crimes_date_07['Date'] = pd.to_datetime(crimes_date_07['Date'], format='%m/%d/%Y %I:%M:%S %p', errors='coerce')\n",
        "\n",
        "# 날짜에서 연도, 월, 일, 시간, AM/PM 추출\n",
        "crimes_date_07['Year'] = crimes_date_07['Date'].dt.year\n",
        "crimes_date_07['Month'] = crimes_date_07['Date'].dt.month\n",
        "crimes_date_07['Day'] = crimes_date_07['Date'].dt.day\n",
        "crimes_date_07['Hour'] = crimes_date_07['Date'].dt.hour\n",
        "crimes_date_07['AM/PM'] = crimes_date_07['Date'].dt.strftime('%p')\n",
        "\n",
        "# 불필요한 컬럼 제거 (예: 'Unnamed: 0' 컬럼 제거)\n",
        "crimes_date_07 = crimes_date_07.loc[:, ~crimes_date_07.columns.str.contains('^Unnamed')]\n",
        "\n",
        "# 새로운 파일로 저장\n",
        "output_file_path = '/content/New_Chicago_Crimes_2005_to_2007.csv'\n",
        "crimes_date_07.to_csv(output_file_path, index=False, encoding='utf-8')\n",
        "\n",
        "# 결과 확인\n",
        "print(f\"새로운 파일이 저장되었습니다: {output_file_path}\")"
      ],
      "metadata": {
        "colab": {
          "base_uri": "https://localhost:8080/"
        },
        "id": "A6LelGJC_6xU",
        "outputId": "66a7cb33-e19c-4e44-e974-379cfe194899"
      },
      "execution_count": null,
      "outputs": [
        {
          "output_type": "stream",
          "name": "stdout",
          "text": [
            "새로운 파일이 저장되었습니다: /content/New_Chicago_Crimes_2005_to_2007.csv\n"
          ]
        }
      ]
    },
    {
      "cell_type": "code",
      "source": [
        "# 데이터 읽기\n",
        "crimes_date_11 = pd.read_csv('/content/Chicago_Crimes_2008_to_2011.csv', encoding='utf-8', on_bad_lines='skip')\n",
        "\n",
        "# 날짜 변환\n",
        "crimes_date_11['Date'] = pd.to_datetime(crimes_date_11['Date'], format='%m/%d/%Y %I:%M:%S %p', errors='coerce')\n",
        "\n",
        "# 날짜에서 연도, 월, 일, 시간, AM/PM 추출\n",
        "crimes_date_11['Year'] = crimes_date_11['Date'].dt.year\n",
        "crimes_date_11['Month'] = crimes_date_11['Date'].dt.month\n",
        "crimes_date_11['Day'] = crimes_date_11['Date'].dt.day\n",
        "crimes_date_11['Hour'] = crimes_date_11['Date'].dt.hour\n",
        "crimes_date_11['AM/PM'] = crimes_date_11['Date'].dt.strftime('%p')\n",
        "\n",
        "# 불필요한 컬럼 제거 (예: 'Unnamed: 0' 컬럼 제거)\n",
        "crimes_date_11 = crimes_date_11.loc[:, ~crimes_date_11.columns.str.contains('^Unnamed')]\n",
        "\n",
        "# 새로운 파일로 저장\n",
        "output_file_path = '/content/New_Chicago_Crimes_2008_to_2011.csv'\n",
        "crimes_date_11.to_csv(output_file_path, index=False, encoding='utf-8')\n",
        "\n",
        "# 결과 확인\n",
        "print(f\"새로운 파일이 저장되었습니다: {output_file_path}\")"
      ],
      "metadata": {
        "colab": {
          "base_uri": "https://localhost:8080/"
        },
        "id": "cbfQido8_9x7",
        "outputId": "64b0109f-abd8-47c4-d99b-653bb03fc988"
      },
      "execution_count": null,
      "outputs": [
        {
          "output_type": "stream",
          "name": "stderr",
          "text": [
            "<ipython-input-9-b1e1cc796ef0>:2: DtypeWarning: Columns (9,10) have mixed types. Specify dtype option on import or set low_memory=False.\n",
            "  crimes_date_11 = pd.read_csv('/content/Chicago_Crimes_2008_to_2011.csv', encoding='utf-8', on_bad_lines='skip')\n"
          ]
        },
        {
          "output_type": "stream",
          "name": "stdout",
          "text": [
            "새로운 파일이 저장되었습니다: /content/New_Chicago_Crimes_2008_to_2011.csv\n"
          ]
        }
      ]
    },
    {
      "cell_type": "code",
      "source": [
        "# 데이터 읽기\n",
        "crimes_date_17 = pd.read_csv('/content/Chicago_Crimes_2012_to_2017.csv', encoding='utf-8', on_bad_lines='skip')\n",
        "\n",
        "# 날짜 변환\n",
        "crimes_date_17['Date'] = pd.to_datetime(crimes_date_17['Date'], format='%m/%d/%Y %I:%M:%S %p', errors='coerce')\n",
        "\n",
        "# 날짜에서 연도, 월, 일, 시간, AM/PM 추출\n",
        "crimes_date_17['Year'] = crimes_date_17['Date'].dt.year\n",
        "crimes_date_17['Month'] = crimes_date_17['Date'].dt.month\n",
        "crimes_date_17['Day'] = crimes_date_17['Date'].dt.day\n",
        "crimes_date_17['Hour'] = crimes_date_17['Date'].dt.hour\n",
        "crimes_date_17['AM/PM'] = crimes_date_17['Date'].dt.strftime('%p')\n",
        "\n",
        "# 불필요한 컬럼 제거 (예: 'Unnamed: 0' 컬럼 제거)\n",
        "crimes_date_17 = crimes_date_17.loc[:, ~crimes_date_17.columns.str.contains('^Unnamed')]\n",
        "\n",
        "# 새로운 파일로 저장\n",
        "output_file_path = '/content/New_Chicago_Crimes_2012_to_2017.csv'\n",
        "crimes_date_17.to_csv(output_file_path, index=False, encoding='utf-8')\n",
        "\n",
        "# 결과 확인\n",
        "print(f\"새로운 파일이 저장되었습니다: {output_file_path}\")"
      ],
      "metadata": {
        "colab": {
          "base_uri": "https://localhost:8080/"
        },
        "id": "yPfOHWDF__Zk",
        "outputId": "4575882d-8a96-45ca-e11e-6de35ba0cf87"
      },
      "execution_count": null,
      "outputs": [
        {
          "output_type": "stream",
          "name": "stderr",
          "text": [
            "<ipython-input-10-0b7b2f3cec56>:2: DtypeWarning: Columns (9,10) have mixed types. Specify dtype option on import or set low_memory=False.\n",
            "  crimes_date_17 = pd.read_csv('/content/Chicago_Crimes_2012_to_2017.csv', encoding='utf-8', on_bad_lines='skip')\n"
          ]
        },
        {
          "output_type": "stream",
          "name": "stdout",
          "text": [
            "새로운 파일이 저장되었습니다: /content/New_Chicago_Crimes_2012_to_2017.csv\n"
          ]
        }
      ]
    },
    {
      "cell_type": "code",
      "source": [
        "# 데이터 불러오기\n",
        "crimes_04 = pd.read_csv(\"New_Chicago_Crimes_2001_to_2004.csv\")\n",
        "\n",
        "# 날짜 컬럼 변환\n",
        "crimes_04['Date'] = pd.to_datetime(crimes_04['Date'], errors='coerce')\n",
        "\n",
        "# 연도, 월, 시간 컬럼 생성\n",
        "crimes_04['Year'] = crimes_04['Date'].dt.year\n",
        "crimes_04['Month'] = crimes_04['Date'].dt.month\n",
        "crimes_04['Hour'] = crimes_04['Date'].dt.hour\n",
        "\n",
        "# 연도별 범죄 발생 빈도\n",
        "yearly_counts = crimes_04['Year'].value_counts().sort_index()\n",
        "\n",
        "plt.figure(figsize=(10, 5))\n",
        "sns.lineplot(x=yearly_counts.index, y=yearly_counts.values, marker=\"o\", linewidth=2)\n",
        "plt.xlabel(\"연도 (Year)\")\n",
        "plt.ylabel(\"범죄 발생 건수\")\n",
        "plt.title(\"연도별 범죄 발생 추이\")\n",
        "plt.grid()\n",
        "plt.show()\n",
        "\n",
        "# 월별 범죄 발생 빈도\n",
        "monthly_counts = crimes_04['Month'].value_counts().sort_index()\n",
        "\n",
        "plt.figure(figsize=(10, 5))\n",
        "sns.barplot(x=monthly_counts.index, y=monthly_counts.values, color=\"skyblue\")\n",
        "plt.xlabel(\"월 (Month)\")\n",
        "plt.ylabel(\"범죄 발생 건수\")\n",
        "plt.title(\"월별 범죄 발생 빈도\")\n",
        "plt.xticks(range(1, 13))\n",
        "plt.grid()\n",
        "plt.show()\n",
        "\n",
        "# 시간대별 범죄 발생 빈도\n",
        "hourly_counts = crimes_04['Hour'].value_counts().sort_index()\n",
        "\n",
        "plt.figure(figsize=(12, 5))\n",
        "sns.lineplot(x=hourly_counts.index, y=hourly_counts.values, marker=\"o\", linewidth=2)\n",
        "plt.xlabel(\"시간대 (Hour)\")\n",
        "plt.ylabel(\"범죄 발생 건수\")\n",
        "plt.title(\"시간대별 범죄 발생 패턴\")\n",
        "plt.xticks(range(0, 24))\n",
        "plt.grid()\n",
        "plt.show()"
      ],
      "metadata": {
        "id": "injRNCEBAA-G"
      },
      "execution_count": null,
      "outputs": []
    },
    {
      "cell_type": "code",
      "source": [
        "# 데이터 불러오기\n",
        "crimes_07 = pd.read_csv(\"New_Chicago_Crimes_2005_to_2007.csv\")\n",
        "\n",
        "# 날짜 컬럼 변환\n",
        "crimes_07['Date'] = pd.to_datetime(crimes_07['Date'], errors='coerce')\n",
        "\n",
        "# 연도, 월, 시간 컬럼 생성\n",
        "crimes_07['Year'] = crimes_07['Date'].dt.year\n",
        "crimes_07['Month'] = crimes_07['Date'].dt.month\n",
        "crimes_07['Hour'] = crimes_07['Date'].dt.hour\n",
        "\n",
        "# 연도별 범죄 발생 빈도\n",
        "yearly_counts = crimes_07['Year'].value_counts().sort_index()\n",
        "\n",
        "plt.figure(figsize=(10, 5))\n",
        "sns.lineplot(x=yearly_counts.index, y=yearly_counts.values, marker=\"o\", linewidth=2)\n",
        "plt.xlabel(\"연도 (Year)\")\n",
        "plt.ylabel(\"범죄 발생 건수\")\n",
        "plt.title(\"연도별 범죄 발생 추이\")\n",
        "plt.grid()\n",
        "plt.show()\n",
        "\n",
        "# 월별 범죄 발생 빈도\n",
        "monthly_counts = crimes_07['Month'].value_counts().sort_index()\n",
        "\n",
        "plt.figure(figsize=(10, 5))\n",
        "sns.barplot(x=monthly_counts.index, y=monthly_counts.values, color=\"skyblue\")\n",
        "plt.xlabel(\"월 (Month)\")\n",
        "plt.ylabel(\"범죄 발생 건수\")\n",
        "plt.title(\"월별 범죄 발생 빈도\")\n",
        "plt.xticks(range(1, 13))\n",
        "plt.grid()\n",
        "plt.show()\n",
        "\n",
        "# 시간대별 범죄 발생 빈도\n",
        "hourly_counts = crimes_07['Hour'].value_counts().sort_index()\n",
        "\n",
        "plt.figure(figsize=(12, 5))\n",
        "sns.lineplot(x=hourly_counts.index, y=hourly_counts.values, marker=\"o\", linewidth=2)\n",
        "plt.xlabel(\"시간대 (Hour)\")\n",
        "plt.ylabel(\"범죄 발생 건수\")\n",
        "plt.title(\"시간대별 범죄 발생 패턴\")\n",
        "plt.xticks(range(0, 24))\n",
        "plt.grid()\n",
        "plt.show()"
      ],
      "metadata": {
        "id": "0mbgwJ_8ADQN"
      },
      "execution_count": null,
      "outputs": []
    },
    {
      "cell_type": "code",
      "source": [
        "# 데이터 불러오기\n",
        "crimes_11 = pd.read_csv(\"New_Chicago_Crimes_2008_to_2011.csv\")\n",
        "\n",
        "# 날짜 컬럼 변환\n",
        "crimes_11['Date'] = pd.to_datetime(crimes_11['Date'], errors='coerce')\n",
        "\n",
        "# 연도, 월, 시간 컬럼 생성\n",
        "crimes_11['Year'] = crimes_11['Date'].dt.year\n",
        "crimes_11['Month'] = crimes_11['Date'].dt.month\n",
        "crimes_11['Hour'] = crimes_11['Date'].dt.hour\n",
        "\n",
        "# 연도별 범죄 발생 빈도\n",
        "yearly_counts = crimes_11['Year'].value_counts().sort_index()\n",
        "\n",
        "plt.figure(figsize=(10, 5))\n",
        "sns.lineplot(x=yearly_counts.index, y=yearly_counts.values, marker=\"o\", linewidth=2)\n",
        "plt.xlabel(\"연도 (Year)\")\n",
        "plt.ylabel(\"범죄 발생 건수\")\n",
        "plt.title(\"연도별 범죄 발생 추이\")\n",
        "plt.grid()\n",
        "plt.show()\n",
        "\n",
        "# 월별 범죄 발생 빈도\n",
        "monthly_counts = crimes_11['Month'].value_counts().sort_index()\n",
        "\n",
        "plt.figure(figsize=(10, 5))\n",
        "sns.barplot(x=monthly_counts.index, y=monthly_counts.values, color=\"skyblue\")\n",
        "plt.xlabel(\"월 (Month)\")\n",
        "plt.ylabel(\"범죄 발생 건수\")\n",
        "plt.title(\"월별 범죄 발생 빈도\")\n",
        "plt.xticks(range(1, 13))\n",
        "plt.grid()\n",
        "plt.show()\n",
        "\n",
        "# 시간대별 범죄 발생 빈도\n",
        "hourly_counts = crimes_11['Hour'].value_counts().sort_index()\n",
        "\n",
        "plt.figure(figsize=(12, 5))\n",
        "sns.lineplot(x=hourly_counts.index, y=hourly_counts.values, marker=\"o\", linewidth=2)\n",
        "plt.xlabel(\"시간대 (Hour)\")\n",
        "plt.ylabel(\"범죄 발생 건수\")\n",
        "plt.title(\"시간대별 범죄 발생 패턴\")\n",
        "plt.xticks(range(0, 24))\n",
        "plt.grid()\n",
        "plt.show()"
      ],
      "metadata": {
        "id": "i_DLtuLTAE8x"
      },
      "execution_count": null,
      "outputs": []
    },
    {
      "cell_type": "code",
      "source": [
        "# 데이터 불러오기\n",
        "crimes_17 = pd.read_csv(\"New_Chicago_Crimes_2012_to_2017.csv\")\n",
        "\n",
        "# 날짜 컬럼 변환\n",
        "crimes_17['Date'] = pd.to_datetime(crimes_17['Date'], errors='coerce')\n",
        "\n",
        "# 연도, 월, 시간 컬럼 생성\n",
        "crimes_17['Year'] = crimes_17['Date'].dt.year\n",
        "crimes_17['Month'] = crimes_17['Date'].dt.month\n",
        "crimes_17['Hour'] = crimes_17['Date'].dt.hour\n",
        "\n",
        "# 연도별 범죄 발생 빈도\n",
        "yearly_counts = crimes_17['Year'].value_counts().sort_index()\n",
        "\n",
        "plt.figure(figsize=(10, 5))\n",
        "sns.lineplot(x=yearly_counts.index, y=yearly_counts.values, marker=\"o\", linewidth=2)\n",
        "plt.xlabel(\"연도 (Year)\")\n",
        "plt.ylabel(\"범죄 발생 건수\")\n",
        "plt.title(\"연도별 범죄 발생 추이\")\n",
        "plt.grid()\n",
        "plt.show()\n",
        "\n",
        "# 월별 범죄 발생 빈도\n",
        "monthly_counts = crimes_17['Month'].value_counts().sort_index()\n",
        "\n",
        "plt.figure(figsize=(10, 5))\n",
        "sns.barplot(x=monthly_counts.index, y=monthly_counts.values, color=\"skyblue\")\n",
        "plt.xlabel(\"월 (Month)\")\n",
        "plt.ylabel(\"범죄 발생 건수\")\n",
        "plt.title(\"월별 범죄 발생 빈도\")\n",
        "plt.xticks(range(1, 13))\n",
        "plt.grid()\n",
        "plt.show()\n",
        "\n",
        "# 시간대별 범죄 발생 빈도\n",
        "hourly_counts = crimes_17['Hour'].value_counts().sort_index()\n",
        "\n",
        "plt.figure(figsize=(12, 5))\n",
        "sns.lineplot(x=hourly_counts.index, y=hourly_counts.values, marker=\"o\", linewidth=2)\n",
        "plt.xlabel(\"시간대 (Hour)\")\n",
        "plt.ylabel(\"범죄 발생 건수\")\n",
        "plt.title(\"시간대별 범죄 발생 패턴\")\n",
        "plt.xticks(range(0, 24))\n",
        "plt.grid()\n",
        "plt.show()"
      ],
      "metadata": {
        "id": "jCoZ97TKAG6G"
      },
      "execution_count": null,
      "outputs": []
    },
    {
      "cell_type": "markdown",
      "source": [
        "**날짜와 체포율의 관계 시각화**"
      ],
      "metadata": {
        "id": "OAsvVHtrAWtR"
      }
    },
    {
      "cell_type": "code",
      "source": [
        "crimes_df_04 = pd.read_csv(\"New_Chicago_Crimes_2001_to_2004.csv\", parse_dates=[\"Date\"])\n",
        "\n",
        "# 날짜 형식 변환\n",
        "crimes_df_04[\"Date\"] = pd.to_datetime(crimes_df_04[\"Date\"])\n",
        "crimes_df_04[\"Weekday\"] = crimes_df_04[\"Date\"].dt.day_name()\n",
        "crimes_df_04[\"Month\"] = crimes_df_04[\"Date\"].dt.month\n",
        "crimes_df_04[\"Year\"] = crimes_df_04[\"Date\"].dt.year\n",
        "\n",
        "# 요일 정렬 (월요일부터 시작)\n",
        "weekday_order = [\"Monday\", \"Tuesday\", \"Wednesday\", \"Thursday\", \"Friday\", \"Saturday\", \"Sunday\"]\n",
        "crimes_df_04[\"Weekday\"] = pd.Categorical(crimes_df_04[\"Weekday\"], categories=weekday_order, ordered=True)\n",
        "\n",
        "# 체포율 계산\n",
        "weekday_arrest = crimes_df_04.groupby(\"Weekday\")[\"Arrest\"].mean()\n",
        "hour_arrest = crimes_df_04.groupby(\"Hour\")[\"Arrest\"].mean()\n",
        "year_arrest = crimes_df_04.groupby(\"Year\")[\"Arrest\"].mean()\n",
        "month_arrest = crimes_df_04.groupby(\"Month\")[\"Arrest\"].mean()\n",
        "\n",
        "# 그래프 설정\n",
        "fig, axes = plt.subplots(2, 2, figsize=(14, 10))\n",
        "plt.subplots_adjust(hspace=0.4)\n",
        "\n",
        "# 시간별 체포율\n",
        "sns.lineplot(x=hour_arrest.index, y=hour_arrest.values, ax=axes[0, 1], color=\"#4682B4\", marker=\"o\")\n",
        "axes[0, 1].set_title(\"시간별 체포율\")\n",
        "axes[0, 1].set_ylabel(\"체포율\")\n",
        "axes[0, 1].set_xlabel(\"시간\")\n",
        "\n",
        "# 시간별 x축에 시각을 정확히 표시\n",
        "axes[0, 1].set_xticks(range(0, 24))\n",
        "axes[0, 1].set_xticklabels([f\"{i}\" for i in range(24)])\n",
        "\n",
        "# 요일별 체포율\n",
        "sns.barplot(x=weekday_arrest.index, y=weekday_arrest.values, ax=axes[0, 0], color=\"#4682B4\")\n",
        "axes[0, 0].set_title(\"요일별 체포율\")\n",
        "axes[0, 0].set_ylabel(\"체포율\")\n",
        "axes[0, 0].set_xlabel(\"요일\")\n",
        "\n",
        "# 월별 체포율\n",
        "sns.barplot(x=month_arrest.index, y=month_arrest.values, ax=axes[1, 1], color=\"#4682B4\")\n",
        "axes[1, 1].set_title(\"월별 체포율\")\n",
        "axes[1, 1].set_ylabel(\"체포율\")\n",
        "axes[1, 1].set_xlabel(\"월\")\n",
        "\n",
        "# 연도별 체포율\n",
        "sns.barplot(x=year_arrest.index, y=year_arrest.values, ax=axes[1, 0], color=\"#4682B4\")\n",
        "axes[1, 0].set_title(\"연도별 체포율\")\n",
        "axes[1, 0].set_ylabel(\"체포율\")\n",
        "axes[1, 0].set_xlabel(\"연도\")\n",
        "\n",
        "plt.show()"
      ],
      "metadata": {
        "colab": {
          "base_uri": "https://localhost:8080/",
          "height": 927
        },
        "id": "ETogv3jlHbdd",
        "outputId": "be79c71c-83fc-4e54-f209-62400cc32d09"
      },
      "execution_count": null,
      "outputs": [
        {
          "output_type": "stream",
          "name": "stderr",
          "text": [
            "<ipython-input-3-9ed97bf97fe5>:14: FutureWarning: The default of observed=False is deprecated and will be changed to True in a future version of pandas. Pass observed=False to retain current behavior or observed=True to adopt the future default and silence this warning.\n",
            "  weekday_arrest = crimes_df_04.groupby(\"Weekday\")[\"Arrest\"].mean()\n"
          ]
        },
        {
          "output_type": "display_data",
          "data": {
            "text/plain": [
              "<Figure size 1400x1000 with 4 Axes>"
            ],
            "image/png": "[encoded data removed]"
          },
          "metadata": {}
        }
      ]
    },
    {
      "cell_type": "code",
      "source": [
        "crimes_df_07 = pd.read_csv(\"New_Chicago_Crimes_2005_to_2007.csv\", parse_dates=[\"Date\"])\n",
        "\n",
        "# 날짜 형식 변환\n",
        "crimes_df_07[\"Date\"] = pd.to_datetime(crimes_df_07[\"Date\"])\n",
        "crimes_df_07[\"Weekday\"] = crimes_df_07[\"Date\"].dt.day_name()\n",
        "crimes_df_07[\"Month\"] = crimes_df_07[\"Date\"].dt.month\n",
        "crimes_df_07[\"Year\"] = crimes_df_07[\"Date\"].dt.year\n",
        "\n",
        "# 요일 정렬 (월요일부터 시작)\n",
        "weekday_order = [\"Monday\", \"Tuesday\", \"Wednesday\", \"Thursday\", \"Friday\", \"Saturday\", \"Sunday\"]\n",
        "crimes_df_07[\"Weekday\"] = pd.Categorical(crimes_df_07[\"Weekday\"], categories=weekday_order, ordered=True)\n",
        "\n",
        "# 체포율 계산\n",
        "weekday_arrest = crimes_df_07.groupby(\"Weekday\")[\"Arrest\"].mean()\n",
        "hour_arrest = crimes_df_07.groupby(\"Hour\")[\"Arrest\"].mean()\n",
        "year_arrest = crimes_df_07.groupby(\"Year\")[\"Arrest\"].mean()\n",
        "month_arrest = crimes_df_07.groupby(\"Month\")[\"Arrest\"].mean()\n",
        "\n",
        "# 그래프 설정\n",
        "fig, axes = plt.subplots(2, 2, figsize=(14, 10))\n",
        "plt.subplots_adjust(hspace=0.4)\n",
        "\n",
        "# 시간별 체포율\n",
        "sns.lineplot(x=hour_arrest.index, y=hour_arrest.values, ax=axes[0, 1], color=\"#4682B4\", marker=\"o\")\n",
        "axes[0, 1].set_title(\"시간별 체포율\")\n",
        "axes[0, 1].set_ylabel(\"체포율\")\n",
        "axes[0, 1].set_xlabel(\"시간\")\n",
        "\n",
        "# 시간별 x축에 시각을 정확히 표시\n",
        "axes[0, 1].set_xticks(range(0, 24))\n",
        "axes[0, 1].set_xticklabels([f\"{i}\" for i in range(24)])\n",
        "\n",
        "# 요일별 체포율\n",
        "sns.barplot(x=weekday_arrest.index, y=weekday_arrest.values, ax=axes[0, 0], color=\"#4682B4\")\n",
        "axes[0, 0].set_title(\"요일별 체포율\")\n",
        "axes[0, 0].set_ylabel(\"체포율\")\n",
        "axes[0, 0].set_xlabel(\"요일\")\n",
        "\n",
        "# 월별 체포율\n",
        "sns.barplot(x=month_arrest.index, y=month_arrest.values, ax=axes[1, 1], color=\"#4682B4\")\n",
        "axes[1, 1].set_title(\"월별 체포율\")\n",
        "axes[1, 1].set_ylabel(\"체포율\")\n",
        "axes[1, 1].set_xlabel(\"월\")\n",
        "\n",
        "# 연도별 체포율\n",
        "sns.barplot(x=year_arrest.index, y=year_arrest.values, ax=axes[1, 0], color=\"#4682B4\")\n",
        "axes[1, 0].set_title(\"연도별 체포율\")\n",
        "axes[1, 0].set_ylabel(\"체포율\")\n",
        "axes[1, 0].set_xlabel(\"연도\")\n",
        "\n",
        "plt.show()"
      ],
      "metadata": {
        "colab": {
          "base_uri": "https://localhost:8080/",
          "height": 927
        },
        "id": "mXTNoA6eHJhn",
        "outputId": "44f74084-0afd-484a-e196-85c8bd3038cf"
      },
      "execution_count": null,
      "outputs": [
        {
          "output_type": "stream",
          "name": "stderr",
          "text": [
            "<ipython-input-5-16730c7c27d5>:14: FutureWarning: The default of observed=False is deprecated and will be changed to True in a future version of pandas. Pass observed=False to retain current behavior or observed=True to adopt the future default and silence this warning.\n",
            "  weekday_arrest = crimes_df_07.groupby(\"Weekday\")[\"Arrest\"].mean()\n"
          ]
        },
        {
          "output_type": "display_data",
          "data": {
            "text/plain": [
              "<Figure size 1400x1000 with 4 Axes>"
            ],
            "image/png": "[encoded data removed]"
          },
          "metadata": {}
        }
      ]
    },
    {
      "cell_type": "code",
      "source": [
        "crimes_df_11 = pd.read_csv(\"New_Chicago_Crimes_2008_to_2011.csv\", parse_dates=[\"Date\"])\n",
        "\n",
        "# 날짜 형식 변환\n",
        "crimes_df_11[\"Date\"] = pd.to_datetime(crimes_df_11[\"Date\"])\n",
        "crimes_df_11[\"Weekday\"] = crimes_df_11[\"Date\"].dt.day_name()\n",
        "crimes_df_11[\"Month\"] = crimes_df_11[\"Date\"].dt.month\n",
        "crimes_df_11[\"Year\"] = crimes_df_11[\"Date\"].dt.year\n",
        "\n",
        "# 요일 정렬 (월요일부터 시작)\n",
        "weekday_order = [\"Monday\", \"Tuesday\", \"Wednesday\", \"Thursday\", \"Friday\", \"Saturday\", \"Sunday\"]\n",
        "crimes_df_11[\"Weekday\"] = pd.Categorical(crimes_df_11[\"Weekday\"], categories=weekday_order, ordered=True)\n",
        "\n",
        "# 체포율 계산\n",
        "weekday_arrest = crimes_df_11.groupby(\"Weekday\")[\"Arrest\"].mean()\n",
        "hour_arrest = crimes_df_11.groupby(\"Hour\")[\"Arrest\"].mean()\n",
        "year_arrest = crimes_df_11.groupby(\"Year\")[\"Arrest\"].mean()\n",
        "month_arrest = crimes_df_11.groupby(\"Month\")[\"Arrest\"].mean()\n",
        "\n",
        "# 그래프 설정\n",
        "fig, axes = plt.subplots(2, 2, figsize=(14, 10))\n",
        "plt.subplots_adjust(hspace=0.4)\n",
        "\n",
        "# 시간별 체포율\n",
        "sns.lineplot(x=hour_arrest.index, y=hour_arrest.values, ax=axes[0, 1], color=\"#4682B4\", marker=\"o\")\n",
        "axes[0, 1].set_title(\"시간별 체포율\")\n",
        "axes[0, 1].set_ylabel(\"체포율\")\n",
        "axes[0, 1].set_xlabel(\"시간\")\n",
        "\n",
        "# 시간별 x축에 시각을 정확히 표시\n",
        "axes[0, 1].set_xticks(range(0, 24))\n",
        "axes[0, 1].set_xticklabels([f\"{i}\" for i in range(24)])\n",
        "\n",
        "# 요일별 체포율\n",
        "sns.barplot(x=weekday_arrest.index, y=weekday_arrest.values, ax=axes[0, 0], color=\"#4682B4\")\n",
        "axes[0, 0].set_title(\"요일별 체포율\")\n",
        "axes[0, 0].set_ylabel(\"체포율\")\n",
        "axes[0, 0].set_xlabel(\"요일\")\n",
        "\n",
        "# 월별 체포율\n",
        "sns.barplot(x=month_arrest.index, y=month_arrest.values, ax=axes[1, 1], color=\"#4682B4\")\n",
        "axes[1, 1].set_title(\"월별 체포율\")\n",
        "axes[1, 1].set_ylabel(\"체포율\")\n",
        "axes[1, 1].set_xlabel(\"월\")\n",
        "\n",
        "# 연도별 체포율\n",
        "sns.barplot(x=year_arrest.index, y=year_arrest.values, ax=axes[1, 0], color=\"#4682B4\")\n",
        "axes[1, 0].set_title(\"연도별 체포율\")\n",
        "axes[1, 0].set_ylabel(\"체포율\")\n",
        "axes[1, 0].set_xlabel(\"연도\")\n",
        "\n",
        "plt.show()"
      ],
      "metadata": {
        "colab": {
          "base_uri": "https://localhost:8080/",
          "height": 962
        },
        "id": "IFM3umi6GxdP",
        "outputId": "bbc6f22c-d99b-4c79-aa28-5ee9e9586ecf"
      },
      "execution_count": null,
      "outputs": [
        {
          "output_type": "stream",
          "name": "stderr",
          "text": [
            "<ipython-input-6-51e6a37cfc8f>:1: DtypeWarning: Columns (8,9) have mixed types. Specify dtype option on import or set low_memory=False.\n",
            "  crimes_df_11 = pd.read_csv(\"New_Chicago_Crimes_2008_to_2011.csv\", parse_dates=[\"Date\"])\n",
            "<ipython-input-6-51e6a37cfc8f>:14: FutureWarning: The default of observed=False is deprecated and will be changed to True in a future version of pandas. Pass observed=False to retain current behavior or observed=True to adopt the future default and silence this warning.\n",
            "  weekday_arrest = crimes_df_11.groupby(\"Weekday\")[\"Arrest\"].mean()\n"
          ]
        },
        {
          "output_type": "display_data",
          "data": {
            "text/plain": [
              "<Figure size 1400x1000 with 4 Axes>"
            ],
            "image/png": "[encoded data removed]"
          },
          "metadata": {}
        }
      ]
    },
    {
      "cell_type": "code",
      "source": [
        "crimes_df_17 = pd.read_csv(\"New_Chicago_Crimes_2012_to_2017.csv\", parse_dates=[\"Date\"])\n",
        "\n",
        "# 날짜 형식 변환\n",
        "crimes_df_17[\"Date\"] = pd.to_datetime(crimes_df_17[\"Date\"])\n",
        "crimes_df_17[\"Weekday\"] = crimes_df_17[\"Date\"].dt.day_name()\n",
        "crimes_df_17[\"Month\"] = crimes_df_17[\"Date\"].dt.month\n",
        "crimes_df_17[\"Year\"] = crimes_df_17[\"Date\"].dt.year\n",
        "\n",
        "# 요일 정렬 (월요일부터 시작)\n",
        "weekday_order = [\"Monday\", \"Tuesday\", \"Wednesday\", \"Thursday\", \"Friday\", \"Saturday\", \"Sunday\"]\n",
        "crimes_df_17[\"Weekday\"] = pd.Categorical(crimes_df_17[\"Weekday\"], categories=weekday_order, ordered=True)\n",
        "\n",
        "# 체포율 계산\n",
        "weekday_arrest = crimes_df_17.groupby(\"Weekday\")[\"Arrest\"].mean()\n",
        "hour_arrest = crimes_df_17.groupby(\"Hour\")[\"Arrest\"].mean()\n",
        "year_arrest = crimes_df_17.groupby(\"Year\")[\"Arrest\"].mean()\n",
        "month_arrest = crimes_df_17.groupby(\"Month\")[\"Arrest\"].mean()\n",
        "\n",
        "# 그래프 설정\n",
        "fig, axes = plt.subplots(2, 2, figsize=(14, 10))\n",
        "plt.subplots_adjust(hspace=0.4)\n",
        "\n",
        "# 시간별 체포율\n",
        "sns.lineplot(x=hour_arrest.index, y=hour_arrest.values, ax=axes[0, 1], color=\"#4682B4\", marker=\"o\")\n",
        "axes[0, 1].set_title(\"시간별 체포율\")\n",
        "axes[0, 1].set_ylabel(\"체포율\")\n",
        "axes[0, 1].set_xlabel(\"시간\")\n",
        "\n",
        "# 시간별 x축에 시각을 정확히 표시\n",
        "axes[0, 1].set_xticks(range(0, 24))\n",
        "axes[0, 1].set_xticklabels([f\"{i}\" for i in range(24)])\n",
        "\n",
        "# 요일별 체포율\n",
        "sns.barplot(x=weekday_arrest.index, y=weekday_arrest.values, ax=axes[0, 0], color=\"#4682B4\")\n",
        "axes[0, 0].set_title(\"요일별 체포율\")\n",
        "axes[0, 0].set_ylabel(\"체포율\")\n",
        "axes[0, 0].set_xlabel(\"요일\")\n",
        "\n",
        "# 월별 체포율\n",
        "sns.barplot(x=month_arrest.index, y=month_arrest.values, ax=axes[1, 1], color=\"#4682B4\")\n",
        "axes[1, 1].set_title(\"월별 체포율\")\n",
        "axes[1, 1].set_ylabel(\"체포율\")\n",
        "axes[1, 1].set_xlabel(\"월\")\n",
        "\n",
        "# 연도별 체포율\n",
        "sns.barplot(x=year_arrest.index, y=year_arrest.values, ax=axes[1, 0], color=\"#4682B4\")\n",
        "axes[1, 0].set_title(\"연도별 체포율\")\n",
        "axes[1, 0].set_ylabel(\"체포율\")\n",
        "axes[1, 0].set_xlabel(\"연도\")\n",
        "\n",
        "plt.show()"
      ],
      "metadata": {
        "colab": {
          "base_uri": "https://localhost:8080/",
          "height": 962
        },
        "id": "acWhGP_sAtBY",
        "outputId": "2db78546-aad1-4396-bbd9-f073e2858277"
      },
      "execution_count": null,
      "outputs": [
        {
          "output_type": "stream",
          "name": "stderr",
          "text": [
            "<ipython-input-7-3c4d5c613add>:1: DtypeWarning: Columns (8,9) have mixed types. Specify dtype option on import or set low_memory=False.\n",
            "  crimes_df_17 = pd.read_csv(\"New_Chicago_Crimes_2012_to_2017.csv\", parse_dates=[\"Date\"])\n",
            "<ipython-input-7-3c4d5c613add>:14: FutureWarning: The default of observed=False is deprecated and will be changed to True in a future version of pandas. Pass observed=False to retain current behavior or observed=True to adopt the future default and silence this warning.\n",
            "  weekday_arrest = crimes_df_17.groupby(\"Weekday\")[\"Arrest\"].mean()\n"
          ]
        },
        {
          "output_type": "display_data",
          "data": {
            "text/plain": [
              "<Figure size 1400x1000 with 4 Axes>"
            ],
            "image/png": "[encoded data removed]"
          },
          "metadata": {}
        }
      ]
    },
    {
      "cell_type": "code",
      "source": [
        "# 데이터 읽기\n",
        "crimes_df_04 = pd.read_csv(\"New_Chicago_Crimes_2001_to_2004.csv\", parse_dates=[\"Date\"])\n",
        "crimes_df_07 = pd.read_csv(\"New_Chicago_Crimes_2005_to_2007.csv\", parse_dates=[\"Date\"])\n",
        "crimes_df_11 = pd.read_csv(\"New_Chicago_Crimes_2008_to_2011.csv\", parse_dates=[\"Date\"])\n",
        "crimes_df_17 = pd.read_csv(\"New_Chicago_Crimes_2012_to_2017.csv\", parse_dates=[\"Date\"])\n",
        "\n",
        "# 데이터를 하나로 합치기\n",
        "crimes_df = pd.concat([crimes_df_04, crimes_df_07, crimes_df_11, crimes_df_17], ignore_index=True)\n",
        "\n",
        "# 날짜 형식 변환\n",
        "crimes_df[\"Date\"] = pd.to_datetime(crimes_df[\"Date\"])\n",
        "crimes_df[\"Weekday\"] = crimes_df[\"Date\"].dt.day_name()\n",
        "crimes_df[\"Month\"] = crimes_df[\"Date\"].dt.month\n",
        "crimes_df[\"Year\"] = crimes_df[\"Date\"].dt.year\n",
        "\n",
        "# 요일 정렬\n",
        "weekday_order = [\"Monday\", \"Tuesday\", \"Wednesday\", \"Thursday\", \"Friday\", \"Saturday\", \"Sunday\"]\n",
        "crimes_df[\"Weekday\"] = pd.Categorical(crimes_df[\"Weekday\"], categories=weekday_order, ordered=True)\n",
        "\n",
        "# 체포율 계산\n",
        "weekday_arrest = crimes_df.groupby(\"Weekday\")[\"Arrest\"].mean()\n",
        "hour_arrest = crimes_df.groupby(\"Hour\")[\"Arrest\"].mean()\n",
        "year_arrest = crimes_df.groupby(\"Year\")[\"Arrest\"].mean()\n",
        "month_arrest = crimes_df.groupby(\"Month\")[\"Arrest\"].mean()\n",
        "\n",
        "# 연도별 체포율의 x축을 두 자릿수로 변경\n",
        "year_arrest.index = year_arrest.index.map(lambda x: str(x).zfill(2))\n",
        "\n",
        "# 그래프 설정\n",
        "fig, axes = plt.subplots(2, 2, figsize=(14, 10))\n",
        "plt.subplots_adjust(hspace=0.4)\n",
        "\n",
        "# 시간별 체포율\n",
        "sns.lineplot(x=hour_arrest.index, y=hour_arrest.values, ax=axes[0, 1], color=\"#4682B4\", marker=\"o\")\n",
        "axes[0, 1].set_title(\"시간별 체포율\")\n",
        "axes[0, 1].set_ylabel(\"체포율\")\n",
        "axes[0, 1].set_xlabel(\"시간\")\n",
        "\n",
        "# 시간별 x축에 시각을 정확히 표시\n",
        "axes[0, 1].set_xticks(range(0, 24))\n",
        "axes[0, 1].set_xticklabels([f\"{i}\" for i in range(24)])\n",
        "\n",
        "# 요일별 체포율\n",
        "sns.barplot(x=weekday_arrest.index, y=weekday_arrest.values, ax=axes[0, 0], color=\"#4682B4\")\n",
        "axes[0, 0].set_title(\"요일별 체포율\")\n",
        "axes[0, 0].set_ylabel(\"체포율\")\n",
        "axes[0, 0].set_xlabel(\"요일\")\n",
        "\n",
        "# 월별 체포율\n",
        "sns.barplot(x=month_arrest.index, y=month_arrest.values, ax=axes[1, 1], color=\"#4682B4\")\n",
        "axes[1, 1].set_title(\"월별 체포율\")\n",
        "axes[1, 1].set_ylabel(\"체포율\")\n",
        "axes[1, 1].set_xlabel(\"월\")\n",
        "\n",
        "# 연도별 체포율\n",
        "sns.barplot(x=year_arrest.index, y=year_arrest.values, ax=axes[1, 0], color=\"#4682B4\")\n",
        "axes[1, 0].set_title(\"연도별 체포율\")\n",
        "axes[1, 0].set_ylabel(\"체포율\")\n",
        "axes[1, 0].set_xlabel(\"연도\")\n",
        "\n",
        "plt.show()"
      ],
      "metadata": {
        "colab": {
          "base_uri": "https://localhost:8080/",
          "height": 998
        },
        "id": "wC_OT2Xc_iiL",
        "outputId": "4bfb607e-0c61-4eb3-dc9d-2d1cf3c812af"
      },
      "execution_count": null,
      "outputs": [
        {
          "output_type": "stream",
          "name": "stderr",
          "text": [
            "<ipython-input-37-230e7b0bc1e0>:4: DtypeWarning: Columns (8,9) have mixed types. Specify dtype option on import or set low_memory=False.\n",
            "  crimes_df_11 = pd.read_csv(\"New_Chicago_Crimes_2008_to_2011.csv\", parse_dates=[\"Date\"])\n",
            "<ipython-input-37-230e7b0bc1e0>:5: DtypeWarning: Columns (8,9) have mixed types. Specify dtype option on import or set low_memory=False.\n",
            "  crimes_df_17 = pd.read_csv(\"New_Chicago_Crimes_2012_to_2017.csv\", parse_dates=[\"Date\"])\n",
            "<ipython-input-37-230e7b0bc1e0>:21: FutureWarning: The default of observed=False is deprecated and will be changed to True in a future version of pandas. Pass observed=False to retain current behavior or observed=True to adopt the future default and silence this warning.\n",
            "  weekday_arrest = crimes_df.groupby(\"Weekday\")[\"Arrest\"].mean()\n"
          ]
        },
        {
          "output_type": "display_data",
          "data": {
            "text/plain": [
              "<Figure size 1400x1000 with 4 Axes>"
            ],
            "image/png": "[encoded data removed]"
          },
          "metadata": {}
        }
      ]
    },
    {
      "cell_type": "markdown",
      "source": [
        "# 새 섹션"
      ],
      "metadata": {
        "id": "JWDjCxHETurN"
      }
    },
    {
      "cell_type": "markdown",
      "source": [
        "**피처 생성**"
      ],
      "metadata": {
        "id": "ZETfGfpJwnug"
      }
    },
    {
      "cell_type": "markdown",
      "source": [
        "머신러닝이 용이하기 위해 변수를 나누자."
      ],
      "metadata": {
        "id": "OYsUYMfE4vui"
      }
    },
    {
      "cell_type": "code",
      "source": [
        "# 모든 데이터프레임 통합\n",
        "crimes_total = pd.concat([\n",
        "    crimes_df_04,\n",
        "    crimes_df_07,\n",
        "    crimes_df_11,\n",
        "    crimes_df_17\n",
        "], ignore_index=True)"
      ],
      "metadata": {
        "id": "lduI6W8Dv7Zj",
        "colab": {
          "base_uri": "https://localhost:8080/",
          "height": 216
        },
        "outputId": "86b286e8-81f3-4f9f-db9e-f2b7dd824035"
      },
      "execution_count": 1,
      "outputs": [
        {
          "output_type": "error",
          "ename": "NameError",
          "evalue": "name 'pd' is not defined",
          "traceback": [
            "\u001b[0;31m---------------------------------------------------------------------------\u001b[0m",
            "\u001b[0;31mNameError\u001b[0m                                 Traceback (most recent call last)",
            "\u001b[0;32m<ipython-input-1-eef31903dc82>\u001b[0m in \u001b[0;36m<cell line: 0>\u001b[0;34m()\u001b[0m\n\u001b[1;32m      1\u001b[0m \u001b[0;31m# 모든 데이터프레임 통합\u001b[0m\u001b[0;34m\u001b[0m\u001b[0;34m\u001b[0m\u001b[0m\n\u001b[0;32m----> 2\u001b[0;31m crimes_total = pd.concat([\n\u001b[0m\u001b[1;32m      3\u001b[0m     \u001b[0mcrimes_df_04\u001b[0m\u001b[0;34m,\u001b[0m\u001b[0;34m\u001b[0m\u001b[0;34m\u001b[0m\u001b[0m\n\u001b[1;32m      4\u001b[0m     \u001b[0mcrimes_df_07\u001b[0m\u001b[0;34m,\u001b[0m\u001b[0;34m\u001b[0m\u001b[0;34m\u001b[0m\u001b[0m\n\u001b[1;32m      5\u001b[0m     \u001b[0mcrimes_df_11\u001b[0m\u001b[0;34m,\u001b[0m\u001b[0;34m\u001b[0m\u001b[0;34m\u001b[0m\u001b[0m\n",
            "\u001b[0;31mNameError\u001b[0m: name 'pd' is not defined"
          ]
        }
      ]
    },
    {
      "cell_type": "code",
      "source": [
        "#계절 피처 추가\n",
        "def get_season(month):\n",
        "    if month in [12, 1, 2]:\n",
        "        return 'Winter'\n",
        "    elif month in [3, 4, 5]:\n",
        "        return 'Spring'\n",
        "    elif month in [6, 7, 8]:\n",
        "        return 'Summer'\n",
        "    else:\n",
        "        return 'Fall'\n",
        "\n",
        "crimes_total['Season'] = crimes_total['Month'].apply(get_season)"
      ],
      "metadata": {
        "id": "33im0bnTwPRA"
      },
      "execution_count": null,
      "outputs": []
    },
    {
      "cell_type": "code",
      "source": [
        "#야간/주간 구분 피처\n",
        "crimes_total['IsNight'] = ((crimes_total['Hour'] >= 18) | (crimes_total['Hour'] <= 6)).astype(int)"
      ],
      "metadata": {
        "id": "ZvLiVB_2wUvf"
      },
      "execution_count": null,
      "outputs": []
    },
    {
      "cell_type": "code",
      "source": [
        "# 주말/평일 구분\n",
        "crimes_total['IsWeekend'] = crimes_total['Weekday'].isin(['Saturday', 'Sunday']).astype(int)\n",
        "\n",
        "# 시간대 구분\n",
        "def get_time_of_day(hour):\n",
        "    if 5 <= hour < 12:\n",
        "        return 'Morning'\n",
        "    elif 12 <= hour < 17:\n",
        "        return 'Afternoon'\n",
        "    elif 17 <= hour < 21:\n",
        "        return 'Evening'\n",
        "    else:\n",
        "        return 'Night'\n",
        "\n",
        "crimes_total['TimeOfDay'] = crimes_total['Hour'].apply(get_time_of_day)"
      ],
      "metadata": {
        "id": "MSgPzW34wYDC"
      },
      "execution_count": null,
      "outputs": []
    },
    {
      "cell_type": "markdown",
      "source": [
        "# 새 섹션"
      ],
      "metadata": {
        "id": "vE0SQnhCTewP"
      }
    },
    {
      "cell_type": "markdown",
      "source": [
        "# 새 섹션"
      ],
      "metadata": {
        "id": "xno4AEjlThUz"
      }
    },
    {
      "cell_type": "code",
      "source": [
        "# 시간대별 주요 범죄 유형\n",
        "plt.figure(figsize=(16, 10))\n",
        "\n",
        "# 상위 5개 범죄\n",
        "time_crime_pivot_top5 = time_crime_pivot.loc[:, time_crime_pivot.sum().nlargest(5).index]\n",
        "\n",
        "time_crime_pivot_top5.plot(kind='bar', stacked=True)\n",
        "plt.title('시간대별 상위 5개 범죄 유형 분포', fontsize=15)\n",
        "plt.xlabel('시간대', fontsize=12)\n",
        "plt.ylabel('범죄 발생 건수', fontsize=12)\n",
        "plt.legend(title='범죄 유형', bbox_to_anchor=(1.05, 1), loc='upper left')\n",
        "plt.xticks(ticks=range(4), labels=['morning', 'afternoon', 'evening', 'night'], rotation=0)\n",
        "plt.tight_layout()\n",
        "plt.show()"
      ],
      "metadata": {
        "colab": {
          "base_uri": "https://localhost:8080/",
          "height": 505
        },
        "id": "oupK00nyww0X",
        "outputId": "0a269a48-6186-4aad-9648-dc289aea1082"
      },
      "execution_count": null,
      "outputs": [
        {
          "output_type": "display_data",
          "data": {
            "text/plain": [
              "<Figure size 1600x1000 with 0 Axes>"
            ]
          },
          "metadata": {}
        },
        {
          "output_type": "display_data",
          "data": {
            "text/plain": [
              "<Figure size 640x480 with 1 Axes>"
            ],
            "image/png": "[encoded data removed]"
          },
          "metadata": {}
        }
      ]
    },
    {
      "cell_type": "markdown",
      "source": [
        "# 새 섹션"
      ],
      "metadata": {
        "id": "7MhoZmjOTpxJ"
      }
    },
    {
      "cell_type": "code",
      "source": [
        "# 계절별 범죄 유형 분포\n",
        "plt.figure(figsize=(16, 10))\n",
        "\n",
        "# 상위 5개 범죄\n",
        "season_crime_pivot_top5 = season_crime_pivot.loc[:, season_crime_pivot.sum().nlargest(5).index]\n",
        "\n",
        "season_crime_pivot_top5.plot(kind='bar', stacked=True)\n",
        "plt.title('계절별 상위 5개 범죄 유형 분포', fontsize=15)\n",
        "plt.xlabel('계절', fontsize=12)\n",
        "plt.ylabel('범죄 발생 건수', fontsize=12)\n",
        "plt.legend(title='범죄 유형', bbox_to_anchor=(1.05, 1), loc='upper left')\n",
        "plt.xticks(ticks=range(4), labels=['spring', 'summer', 'fall', 'winter'], rotation=0)\n",
        "plt.tight_layout()\n",
        "plt.show()"
      ],
      "metadata": {
        "colab": {
          "base_uri": "https://localhost:8080/",
          "height": 505
        },
        "id": "5Y9Oz64qw5HK",
        "outputId": "5b424a16-5ac0-47d0-e099-9a69af08b261"
      },
      "execution_count": null,
      "outputs": [
        {
          "output_type": "display_data",
          "data": {
            "text/plain": [
              "<Figure size 1600x1000 with 0 Axes>"
            ]
          },
          "metadata": {}
        },
        {
          "output_type": "display_data",
          "data": {
            "text/plain": [
              "<Figure size 640x480 with 1 Axes>"
            ],
            "image/png": "[encoded data removed]"
          },
          "metadata": {}
        }
      ]
    },
    {
      "cell_type": "markdown",
      "source": [
        "**원본데이터 결측치 확인**"
      ],
      "metadata": {
        "id": "Qpi9pCt9SUgR"
      }
    },
    {
      "cell_type": "code",
      "source": [
        "# 데이터 읽기\n",
        "crimes_04 = pd.read_csv(\"Chicago_Crimes_2001_to_2004.csv\", encoding='utf-8', on_bad_lines='skip')\n",
        "crimes_07 = pd.read_csv(\"Chicago_Crimes_2005_to_2007.csv\", encoding='utf-8', on_bad_lines='skip')\n",
        "crimes_11 = pd.read_csv(\"Chicago_Crimes_2008_to_2011.csv\", encoding='utf-8', on_bad_lines='skip')\n",
        "crimes_17 = pd.read_csv(\"Chicago_Crimes_2008_to_2011.csv\", encoding='utf-8', on_bad_lines='skip')\n",
        "\n",
        "# 데이터를 하나로 합치기\n",
        "crimes_df = pd.concat([crimes_04, crimes_07, crimes_11, crimes_17], ignore_index=True)"
      ],
      "metadata": {
        "id": "Su7n4cpGPmBa"
      },
      "execution_count": null,
      "outputs": []
    },
    {
      "cell_type": "code",
      "source": [
        "print(crimes_df.isna().sum())"
      ],
      "metadata": {
        "id": "iDZWNlCRPnd2"
      },
      "execution_count": null,
      "outputs": []
    },
    {
      "cell_type": "code",
      "source": [
        "#import matplotlib.pyplot as plt\n",
        "#import seaborn as sns\n",
        "\n",
        "# 주요 연속형 변수에 대한 박스플롯 (한 번에 출력)\n",
        "#num_cols = [\"Year\", \"Ward\", \"Community Area\", \"X Coordinate\", \"Y Coordinate\", \"Latitude\", \"Longitude\"]\n",
        "\n",
        "#plt.figure(figsize=(12, 6))\n",
        "#sns.boxplot(data=crimes_df[num_cols])\n",
        "#plt.xticks(rotation=45)  # x축 라벨 회전\n",
        "#plt.title(\"이상치 탐색을 위한 박스플롯\")\n",
        "#plt.show()"
      ],
      "metadata": {
        "id": "Lkn2HfDvPpgR"
      },
      "execution_count": null,
      "outputs": []
    },
    {
      "cell_type": "markdown",
      "source": [
        "**통합데이터 결측치 확인**"
      ],
      "metadata": {
        "id": "Mn9ChabBRQLg"
      }
    },
    {
      "cell_type": "code",
      "source": [
        "print(pd.read_csv(\"Chicago_Crimes_all_data_filled.csv\").isna().sum())"
      ],
      "metadata": {
        "id": "8qn1NINvRL7c"
      },
      "execution_count": null,
      "outputs": []
    },
    {
      "cell_type": "code",
      "source": [
        "# 데이터 로드\n",
        "crime_data_2001_2004 = pd.read_csv('/content/Chicago_Crimes_2001_2004_filled.csv', sep=',', on_bad_lines='skip')\n",
        "crime_data_2005_2007 = pd.read_csv('/content/Chicago_Crimes_2005_to_2007.csv', sep=',', on_bad_lines='skip')\n",
        "crime_data_2008_2011 = pd.read_csv('/content/Chicago_Crimes_2008_to_2011.csv', sep=',', on_bad_lines='skip')\n",
        "crime_data_2012_2017 = pd.read_csv('/content/Chicago_Crimes_2012_to_2017.csv', sep=',', on_bad_lines='skip')\n",
        "\n",
        "# 데이터 합치기\n",
        "crime_data = pd.concat([crime_data_2001_2004, crime_data_2005_2007, crime_data_2008_2011, crime_data_2012_2017])\n",
        "\n",
        "# Date 컬럼을 datetime 형식으로 변환\n",
        "crime_data['Date'] = pd.to_datetime(crime_data['Date'], errors='coerce')\n",
        "\n",
        "# 요일 컬럼 추가\n",
        "crime_data['Day of Week'] = crime_data['Date'].dt.day_name()  # 요일\n",
        "\n",
        "# 요일 순서를 월요일부터 일요일로 변경\n",
        "day_order = ['Monday', 'Tuesday', 'Wednesday', 'Thursday', 'Friday', 'Saturday', 'Sunday']\n",
        "crime_data['Day of Week'] = pd.Categorical(crime_data['Day of Week'], categories=day_order, ordered=True)\n",
        "\n",
        "# 요일별 범죄 발생 횟수 계산\n",
        "crime_count_by_day = crime_data['Day of Week'].value_counts()\n",
        "\n",
        "# 파이 차트 시각화\n",
        "plt.figure(figsize=(7, 7))  # 크기 조정\n",
        "plt.pie(crime_count_by_day, labels=crime_count_by_day.index, autopct='%1.1f%%', startangle=140, colors=sns.color_palette('Set3', len(crime_count_by_day)))\n",
        "plt.title('요일별 범죄 발생 비율')\n",
        "plt.axis('equal')  # 원형 차트로 보이도록 설정\n",
        "plt.show()"
      ],
      "metadata": {
        "id": "gMLXR8AMRY19"
      },
      "execution_count": null,
      "outputs": []
    },
    {
      "cell_type": "code",
      "source": [
        "# 극좌표 막대 그래프 설정\n",
        "angles = np.linspace(0, 2 * np.pi, len(day_order), endpoint=False)  # 각도 설정\n",
        "fig, ax = plt.subplots(figsize=(7, 7), subplot_kw={'projection': 'polar'})\n",
        "ax.set_theta_offset(np.pi / 2)  # 12시 방향에서 시작\n",
        "ax.set_theta_direction(-1)  # 시계 방향 정렬\n",
        "\n",
        "# 막대 그래프 그리기\n",
        "bars = ax.bar(angles, crime_count_by_day, width=0.6, color=sns.color_palette('Set2', len(day_order)))\n",
        "\n",
        "# 각 막대에 라벨 추가\n",
        "ax.set_xticks(angles)\n",
        "ax.set_xticklabels(day_order)\n",
        "\n",
        "plt.title(fontsize=14)\n",
        "plt.show()"
      ],
      "metadata": {
        "id": "oKV7fBxV_XG1"
      },
      "execution_count": null,
      "outputs": []
    },
    {
      "cell_type": "markdown",
      "source": [
        "**원 데이터 병합 후 시각화**"
      ],
      "metadata": {
        "id": "pwaZWC0O4s83"
      }
    },
    {
      "cell_type": "code",
      "source": [
        "# 파일 목록\n",
        "files = [\n",
        "    \"Chicago_Crimes_2001_to_2004.csv\",\n",
        "    \"Chicago_Crimes_2005_to_2007.csv\",\n",
        "    \"Chicago_Crimes_2008_to_2011.csv\",\n",
        "    \"Chicago_Crimes_2012_to_2017.csv\"\n",
        "]\n",
        "\n",
        "# 파일 병합 (잘못된 행을 건너뛰고 병합)\n",
        "df_list = []\n",
        "for file in files:\n",
        "    try:\n",
        "        df = pd.read_csv(file, parse_dates=['Date'], encoding='utf-8', on_bad_lines='skip', low_memory=False)\n",
        "        df_list.append(df)\n",
        "    except Exception as e:\n",
        "        print(f\"Error reading {file}: {e}\")\n",
        "\n",
        "# 모든 파일 병합\n",
        "df_total = pd.concat(df_list, ignore_index=True)"
      ],
      "metadata": {
        "colab": {
          "base_uri": "https://localhost:8080/"
        },
        "id": "NWfauHDj4yKL",
        "outputId": "fab4c115-a7ec-49de-9627-4b380ecb9313"
      },
      "execution_count": null,
      "outputs": [
        {
          "output_type": "stream",
          "name": "stderr",
          "text": [
            "<ipython-input-10-ffca0e97ec2a>:13: UserWarning: Could not infer format, so each element will be parsed individually, falling back to `dateutil`. To ensure parsing is consistent and as-expected, please specify a format.\n",
            "  df = pd.read_csv(file, parse_dates=['Date'], encoding='utf-8', on_bad_lines='skip', low_memory=False)\n",
            "<ipython-input-10-ffca0e97ec2a>:13: UserWarning: Could not infer format, so each element will be parsed individually, falling back to `dateutil`. To ensure parsing is consistent and as-expected, please specify a format.\n",
            "  df = pd.read_csv(file, parse_dates=['Date'], encoding='utf-8', on_bad_lines='skip', low_memory=False)\n",
            "<ipython-input-10-ffca0e97ec2a>:13: UserWarning: Could not infer format, so each element will be parsed individually, falling back to `dateutil`. To ensure parsing is consistent and as-expected, please specify a format.\n",
            "  df = pd.read_csv(file, parse_dates=['Date'], encoding='utf-8', on_bad_lines='skip', low_memory=False)\n"
          ]
        }
      ]
    },
    {
      "cell_type": "code",
      "source": [
        "# 'Date' 컬럼이 datetime 형식으로 되어 있는지 확인하고, 아니라면 변환\n",
        "df_total['Date'] = pd.to_datetime(df_total['Date'], errors='coerce')\n",
        "\n",
        "# 년도, 월, 요일, 시간 추출\n",
        "df_total['Year'] = df_total['Date'].dt.year\n",
        "df_total['Month'] = df_total['Date'].dt.month\n",
        "df_total['DayOfWeek'] = df_total['Date'].dt.day_name()  # 요일 이름\n",
        "df_total['Hour'] = df_total['Date'].dt.hour\n",
        "\n",
        "# 요일을 한국어로 변환\n",
        "day_mapping = {\n",
        "    \"Monday\": \"월요일\", \"Tuesday\": \"화요일\", \"Wednesday\": \"수요일\",\n",
        "    \"Thursday\": \"목요일\", \"Friday\": \"금요일\", \"Saturday\": \"토요일\", \"Sunday\": \"일요일\"\n",
        "}\n",
        "df_total['DayOfWeek'] = df_total['DayOfWeek'].map(day_mapping)\n",
        "\n",
        "# 요일 순서 지정\n",
        "day_order_ko = [\"월요일\", \"화요일\", \"수요일\", \"목요일\", \"금요일\", \"토요일\", \"일요일\"]\n",
        "df_total['DayOfWeek'] = pd.Categorical(df_total['DayOfWeek'], categories=day_order_ko, ordered=True)\n",
        "\n",
        "# 시각화\n",
        "plt.figure(figsize=(10, 6))\n",
        "sns.countplot(data=df_total, x='Year', color=\"#4682B4\")\n",
        "plt.title('년도별 범죄 발생 수')\n",
        "plt.xlabel('년도')\n",
        "plt.ylabel('범죄 건수')\n",
        "plt.xticks(rotation=45)\n",
        "plt.show()\n",
        "\n",
        "plt.figure(figsize=(10, 6))\n",
        "sns.countplot(data=df_total, x='Month', color=\"#4682B4\")\n",
        "plt.title('월별 범죄 발생 수')\n",
        "plt.xlabel('월')\n",
        "plt.ylabel('범죄 건수')\n",
        "plt.xticks(range(1, 13))\n",
        "plt.show()\n",
        "\n",
        "plt.figure(figsize=(10, 6))\n",
        "sns.countplot(data=df_total, x='DayOfWeek', color=\"#4682B4\")\n",
        "plt.title('요일별 범죄 발생 수')\n",
        "plt.xlabel('요일')\n",
        "plt.ylabel('범죄 건수')\n",
        "plt.show()\n",
        "\n",
        "plt.figure(figsize=(10, 6))\n",
        "sns.countplot(data=df_total, x='Hour', color=\"#4682B4\")\n",
        "plt.title('시간대별 범죄 발생 수')\n",
        "plt.xlabel('시간')\n",
        "plt.ylabel('범죄 건수')\n",
        "plt.xticks(range(0, 24))\n",
        "plt.show()"
      ],
      "metadata": {
        "colab": {
          "base_uri": "https://localhost:8080/",
          "height": 1000
        },
        "id": "l-3rrSF3e0jj",
        "outputId": "180f2b40-0e58-4459-ae13-e3e1d0949b37"
      },
      "execution_count": null,
      "outputs": [
        {
          "output_type": "display_data",
          "data": {
            "text/plain": [
              "<Figure size 1000x600 with 1 Axes>"
            ],
            "image/png": "[encoded data removed]"
          },
          "metadata": {}
        },
        {
          "output_type": "display_data",
          "data": {
            "text/plain": [
              "<Figure size 1000x600 with 1 Axes>"
            ],
            "image/png": "[encoded data removed]"
          },
          "metadata": {}
        },
        {
          "output_type": "display_data",
          "data": {
            "text/plain": [
              "<Figure size 1000x600 with 1 Axes>"
            ],
            "image/png": "[encoded data removed]"
          },
          "metadata": {}
        },
        {
          "output_type": "display_data",
          "data": {
            "text/plain": [
              "<Figure size 1000x600 with 1 Axes>"
            ],
            "image/png": "[encoded data removed]"
          },
          "metadata": {}
        }
      ]
    },
    {
      "cell_type": "code",
      "source": [
        "# 데이터 로드\n",
        "df = pd.read_csv('/content/output.csv')\n",
        "\n",
        "# 'Year'와 'Month' 결합하여 'Date' 컬럼 생성\n",
        "df['Date'] = pd.to_datetime(df['Year'].astype(str) + '-' + df['Month'].astype(str), format='%Y-%m')\n",
        "\n",
        "# 'Percent of labor force'를 float 형으로 변환 (만약 문자열로 되어있다면)\n",
        "df['Percent of labor force'] = pd.to_numeric(df['Percent of labor force'], errors='coerce')\n",
        "\n",
        "# 그래프 그리기\n",
        "plt.figure(figsize=(10, 6))\n",
        "plt.plot(df['Date'], df['Percent of labor force'], label='Percent of Labor Force', color='b')\n",
        "plt.xlabel('Year')\n",
        "plt.ylabel('Percent of Labor Force (%)')\n",
        "plt.title('Percent of Labor Force 실업률( %)')\n",
        "plt.xticks(rotation=45)  # x축 레이블 회전\n",
        "plt.grid(True)\n",
        "plt.tight_layout()\n",
        "plt.show()"
      ],
      "metadata": {
        "colab": {
          "base_uri": "https://localhost:8080/",
          "height": 607
        },
        "id": "OfQINoWuks7k",
        "outputId": "30843c09-7ae0-4318-d1d8-c00164ba193e"
      },
      "execution_count": null,
      "outputs": [
        {
          "output_type": "display_data",
          "data": {
            "text/plain": [
              "<Figure size 1000x600 with 1 Axes>"
            ],
            "image/png": "[encoded data removed]"
          },
          "metadata": {}
        }
      ]
    },
    {
      "cell_type": "code",
      "source": [
        "# 데이터 로드 (경로는 실제 경로로 수정 필요)\n",
        "df = pd.read_csv('/content/output.csv')\n",
        "\n",
        "# 'Year'와 'Month' 결합하여 'Date' 컬럼 생성\n",
        "df['Date'] = pd.to_datetime(df['Year'].astype(str) + '-' + df['Month'].astype(str), format='%Y-%m')\n",
        "\n",
        "# 'Percent of labor force'를 float 형으로 변환 (만약 문자열로 되어있다면)\n",
        "df['Percent of labor force'] = pd.to_numeric(df['Percent of labor force'], errors='coerce')\n",
        "\n",
        "# 연도별 평균 실업률 계산\n",
        "df_yearly_avg = df.groupby('Year')['Percent of labor force'].mean().reset_index()\n",
        "\n",
        "# 그래프 그리기\n",
        "plt.figure(figsize=(8, 4.8))\n",
        "plt.bar(df_yearly_avg['Year'], df_yearly_avg['Percent of labor force'], color=\"#4682B4\")\n",
        "plt.xlabel('년도')\n",
        "plt.ylabel('실업률 (%)')\n",
        "plt.title('년도별 평균 실업률 (%)')\n",
        "\n",
        "# x축 레이블 회전\n",
        "plt.xticks(rotation=45)\n",
        "plt.grid(True, axis='y', linestyle='--', alpha=0.7)\n",
        "plt.tight_layout()\n",
        "plt.show()"
      ],
      "metadata": {
        "colab": {
          "base_uri": "https://localhost:8080/",
          "height": 487
        },
        "id": "2ArF312MmGaI",
        "outputId": "1ace63b5-53b1-4384-d33c-06845cd5ba14"
      },
      "execution_count": null,
      "outputs": [
        {
          "output_type": "display_data",
          "data": {
            "text/plain": [
              "<Figure size 800x480 with 1 Axes>"
            ],
            "image/png": "[encoded data removed]"
          },
          "metadata": {}
        }
      ]
    },
    {
      "cell_type": "code",
      "source": [
        "# 연도별 범죄 발생 수\n",
        "crime_by_year = df_total.groupby('Year').size().reset_index(name='Crime_Count')\n",
        "\n",
        "# 연도별 실업률\n",
        "unemployment_by_year = df.groupby('Year')['Percent of labor force'].mean().reset_index(name='Unemployment_Rate')\n",
        "\n",
        "# 연도 기준으로 병합\n",
        "merged_data = pd.merge(crime_by_year, unemployment_by_year, on='Year')\n",
        "\n",
        "# 상관관계 계산\n",
        "correlation = merged_data['Crime_Count'].corr(merged_data['Unemployment_Rate'])\n",
        "\n",
        "# 결과 출력\n",
        "print(f\"연도별 범죄 발생 수와 실업률의 상관계수: {correlation}\")"
      ],
      "metadata": {
        "colab": {
          "base_uri": "https://localhost:8080/"
        },
        "id": "jgdN8c_Nk1RA",
        "outputId": "fa81d6d0-1087-4da0-c13f-6d5874c580eb"
      },
      "execution_count": null,
      "outputs": [
        {
          "output_type": "stream",
          "name": "stdout",
          "text": [
            "연도별 범죄 발생 수와 실업률의 상관계수: 0.05536608961877272\n"
          ]
        }
      ]
    },
    {
      "cell_type": "code",
      "source": [
        "# CSV 파일 읽기\n",
        "df_total = pd.read_csv(\"Chicago_Crimes_Total.csv\", parse_dates=['Date'], encoding='utf-8', low_memory=False)"
      ],
      "metadata": {
        "id": "EBujKDoIdWbn"
      },
      "execution_count": null,
      "outputs": []
    },
    {
      "cell_type": "markdown",
      "source": [
        "**왜 점심시간에 범죄가 많이 일어나는가?**"
      ],
      "metadata": {
        "id": "jbrqAvQbdYLT"
      }
    },
    {
      "cell_type": "code",
      "source": [
        "# 11:00 ~ 13:00 사이의 범죄 유형별 개수 확인\n",
        "df_total['Date'] = pd.to_datetime(df_total['Date'], errors='coerce')\n",
        "\n",
        "df_total['Year'] = df_total['Date'].dt.year\n",
        "df_total['Month'] = df_total['Date'].dt.month\n",
        "df_total['DayOfWeek'] = df_total['Date'].dt.day_name()\n",
        "df_total['Hour'] = df_total['Date'].dt.hour\n",
        "\n",
        "crime_between_11_13 = df_total[(df_total['Hour'] >= 11) & (df_total['Hour'] <= 13)]['Primary Type'].value_counts()\n",
        "\n",
        "plt.figure(figsize=(8, 4))\n",
        "sns.barplot(x=crime_between_11_13.index, y=crime_between_11_13.values, color=\"#4682B4\")\n",
        "plt.xticks(rotation=90)\n",
        "plt.xlabel(\"Crime Type\")\n",
        "plt.ylabel(\"Number of Crimes\")\n",
        "plt.title(\"Number of Crimes Between 11 AM and 1 PM\")\n",
        "plt.show()"
      ],
      "metadata": {
        "id": "JzqgZ5VKdaQ5"
      },
      "execution_count": null,
      "outputs": []
    },
    {
      "cell_type": "code",
      "source": [
        "# 'Date' 컬럼이 datetime 형식으로 되어 있는지 확인하고, 아니라면 변환\n",
        "df_total['Date'] = pd.to_datetime(df_total['Date'], errors='coerce')\n",
        "\n",
        "# 년도, 월, 요일, 시간 추출\n",
        "df_total['Year'] = df_total['Date'].dt.year\n",
        "df_total['Month'] = df_total['Date'].dt.month\n",
        "df_total['DayOfWeek'] = df_total['Date'].dt.day_name()  # 요일 이름\n",
        "df_total['Hour'] = df_total['Date'].dt.hour\n",
        "\n",
        "# 11:00 ~ 13:00 사이의 범죄 유형별 개수 확인\n",
        "crime_between_11_13 = df_total[(df_total['Hour'] >= 11) & (df_total['Hour'] <= 13)]['Primary Type'].value_counts()\n",
        "\n",
        "# 결과 시각화\n",
        "plt.figure(figsize=(8, 4))\n",
        "sns.barplot(x=crime_between_11_13.index, y=crime_between_11_13.values, color=\"#4682B4\")\n",
        "plt.xticks(rotation=90)\n",
        "plt.xlabel(\"Crime Type\")\n",
        "plt.ylabel(\"Number of Crimes\")\n",
        "plt.title(\"Number of Crimes Between 11 AM and 1 PM\")\n",
        "plt.show()"
      ],
      "metadata": {
        "id": "NWoCOPQ9iKYH"
      },
      "execution_count": null,
      "outputs": []
    },
    {
      "cell_type": "code",
      "source": [
        "# 범죄 유형별 발생 횟수 확인\n",
        "crime_counts = df_total['Primary Type'].value_counts()\n",
        "\n",
        "# 출력\n",
        "print(crime_counts)"
      ],
      "metadata": {
        "id": "PG75RwPhiMl9"
      },
      "execution_count": null,
      "outputs": []
    },
    {
      "cell_type": "markdown",
      "source": [
        "=> THEFT(절도), BATTERY(폭행), CRIMINAL DAMAGE(재물 손괴)가 TOP3로 많음을 확인함.\n",
        "\n",
        "각각의 범죄가 어느 장소에서 일어나는지 확인 필요"
      ],
      "metadata": {
        "id": "nz2RHoewiPBt"
      }
    },
    {
      "cell_type": "code",
      "source": [
        "# 'THEFT' 범죄의 장소별 발생 횟수\n",
        "theft_locations = df_total[df_total['Primary Type'] == 'THEFT']['Location Description'].value_counts()\n",
        "\n",
        "# 'BATTERY' 범죄의 장소별 발생 횟수\n",
        "battery_locations = df_total[df_total['Primary Type'] == 'BATTERY']['Location Description'].value_counts()\n",
        "\n",
        "# 'CRIMINAL DAMAGE' 범죄의 장소별 발생 횟수\n",
        "criminal_damage_locations = df_total[df_total['Primary Type'] == 'CRIMINAL DAMAGE']['Location Description'].value_counts()\n",
        "\n",
        "# 결과 출력\n",
        "print(\"THEFT 발생 장소:\")\n",
        "print(theft_locations.head())  # 상위 5개 장소 출력\n",
        "\n",
        "print(\"\\nBATTERY 발생 장소:\")\n",
        "print(battery_locations.head())  # 상위 5개 장소 출력\n",
        "\n",
        "print(\"\\nCRIMINAL DAMAGE 발생 장소:\")\n",
        "print(criminal_damage_locations.head())  # 상위 5개 장소 출력"
      ],
      "metadata": {
        "id": "ltQ27GBWiQng"
      },
      "execution_count": null,
      "outputs": []
    },
    {
      "cell_type": "markdown",
      "source": [
        "-THEFT(절도): STREET(거리), RESIDENCE(주거지), OTHER(기타)\n",
        "\n",
        "-BATTERY(폭행): RESIDENCE(주거지), APARTMENT(아파트), STREET(거리)\n",
        "\n",
        "-CRIMINAL DAMAGE(재물 손괴): STREET(거리), RESIDENCE(주거지), APARTMENT(아파트)\n",
        "\n",
        "=> 주로 STREET(거리)와 APARTMENT(아파트)에서 범죄가 일어남을 확인함.\n",
        "\n",
        "\n",
        "**정리:** 11:00~13:00 사이에 특히 거리와 아파트에서 범죄가 많이 발생하는 이유는 이 시간대가 사람들의 활동이 활발해지는 시간대이기 때문임.\n",
        "\n",
        "거리는 사람들이 이동하거나 만나는 장소가 많고, 점심시간 동안 방심하기 쉬운 순간들이 발생하여 소매치기나 폭행 같은 범죄가 자주 발생함.\n",
        "\n",
        "아파트의 경우, 낮 동안 많은 사람들이 집을 비우기 때문에 절도가 일어날 가능성이 높음. 또한, 이웃 간 갈등이 폭행으로 이어지거나, 공동시설이 파손되는 경우도 있음.\n",
        "\n",
        "*해당 내용을 뒷받침할 객관적인 자료 찾기"
      ],
      "metadata": {
        "id": "hmBgIwOeiXRV"
      }
    },
    {
      "cell_type": "markdown",
      "source": [
        "**왜 금요일에 범죄가 많이 일어나는가?**"
      ],
      "metadata": {
        "id": "fLjuGShdicRX"
      }
    },
    {
      "cell_type": "code",
      "source": [
        "# 요일별 범죄 횟수 시각화\n",
        "df_total['Day_of_Week'] = df_total['Date'].dt.dayofweek\n",
        "\n",
        "crime_by_day = df_total['Day_of_Week'].value_counts().sort_index()\n",
        "\n",
        "plt.figure(figsize=(10,6))\n",
        "crime_by_day.plot(kind='bar', color=\"#4682B4\")\n",
        "plt.title('일주일 동안의 범죄 횟수 분포')\n",
        "plt.ylabel('범죄 횟수')\n",
        "plt.xticks(ticks=range(7), labels=['월요일', '화요일', '수요일', '목요일', '금요일', '토요일', '일요일'], rotation=0)\n",
        "plt.show()"
      ],
      "metadata": {
        "id": "U593oRXbid7p"
      },
      "execution_count": null,
      "outputs": []
    },
    {
      "cell_type": "code",
      "source": [
        "# 요일별 범죄 횟수 확인\n",
        "print(crime_by_day)"
      ],
      "metadata": {
        "id": "Y7fZ4IG2ifRB"
      },
      "execution_count": null,
      "outputs": []
    },
    {
      "cell_type": "markdown",
      "source": [
        "=> 일주일 중 금요일에 범죄가 많이 일어남을 확인\n",
        "\n",
        "Q) 몇시에 범죄가 주로 일어날까?"
      ],
      "metadata": {
        "id": "DLL2nnDDig9E"
      }
    },
    {
      "cell_type": "code",
      "source": [
        "# 금요일에 발생한 범죄 시간대별 시각화\n",
        "df_total['Day_of_Week'] = df_total['Date'].dt.dayofweek\n",
        "df_friday = df_total[df_total['Day_of_Week'] == 4]\n",
        "\n",
        "df_friday['Hour'] = df_friday['Date'].dt.hour\n",
        "\n",
        "crime_by_hour_friday = df_friday['Hour'].value_counts().sort_index()\n",
        "\n",
        "plt.figure(figsize=(10,6))\n",
        "crime_by_hour_friday.plot(kind='bar', color=\"#4682B4\")\n",
        "plt.title('금요일 시간대별 범죄 횟수')\n",
        "plt.ylabel('범죄 횟수')\n",
        "plt.xticks(ticks=range(24), labels=[str(i) + 'h' for i in range(24)], rotation=45)\n",
        "plt.show()"
      ],
      "metadata": {
        "id": "AjALe6gbiisy"
      },
      "execution_count": null,
      "outputs": []
    },
    {
      "cell_type": "code",
      "source": [
        "# 금요일에 발생한 범죄 시간대별 횟수 확인\n",
        "print(crime_by_hour_friday)"
      ],
      "metadata": {
        "id": "dl0efj_BikdI"
      },
      "execution_count": null,
      "outputs": []
    },
    {
      "cell_type": "markdown",
      "source": [
        "=> 19시부터 23시까지 가장 많은 범죄가 발생함을 확인"
      ],
      "metadata": {
        "id": "qpRvHTP1imGB"
      }
    },
    {
      "cell_type": "markdown",
      "source": [
        "Q) 해당 시간대에 어디서 범죄가 일어날까?"
      ],
      "metadata": {
        "id": "G-OB5vWJinub"
      }
    },
    {
      "cell_type": "code",
      "source": [
        "# 상위 10개 범죄 발생 장소 시각화\n",
        "crime_by_location = df_total['Location Description'].value_counts()\n",
        "top_10_crime_locations = crime_by_location.head(10)\n",
        "\n",
        "plt.figure(figsize=(6,4))\n",
        "top_10_crime_locations.plot(kind='bar', color=\"#4682B4\")\n",
        "plt.title('범죄 발생 장소 상위 10위')\n",
        "plt.xlabel('범죄 발생 장소')\n",
        "plt.ylabel('범죄 발생 횟수')\n",
        "plt.xticks(rotation=45)\n",
        "plt.show()"
      ],
      "metadata": {
        "id": "T7W-J3k7ipTO"
      },
      "execution_count": null,
      "outputs": []
    },
    {
      "cell_type": "code",
      "source": [
        "# 상위 10개 범죄 발생 장소 확인\n",
        "print(top_10_crime_locations)"
      ],
      "metadata": {
        "id": "5rSbQFp5iqdK"
      },
      "execution_count": null,
      "outputs": []
    },
    {
      "cell_type": "markdown",
      "source": [
        "=> STREET(거리), RESIDENCE(주택), SIDEWALK(인도), APARTMENT(아파트)에서 범죄가 많이 일어남을 확인"
      ],
      "metadata": {
        "id": "SZEwxj9Gir9z"
      }
    },
    {
      "cell_type": "markdown",
      "source": [
        "Q) 각각의 지역(STREET(거리), RESIDENCE(주택), SIDEWALK(인도), APARTMENT(아파트))에선 어떤 범죄가 일어날까?"
      ],
      "metadata": {
        "id": "wGSw2LzFitzl"
      }
    },
    {
      "cell_type": "code",
      "source": [
        "# 필요한 지역만 선택\n",
        "locations = ['STREET', 'RESIDENCE', 'SIDEWALK', 'APARTMENT']\n",
        "crime_data = crime_data[crime_data['Location Description'].isin(locations)]\n",
        "\n",
        "# 'Location Description'와 'Primary Type' 기준으로 범죄 발생 빈도 계산\n",
        "top5_crimes_by_location = crime_data.groupby(['Location Description', 'Primary Type']).size().unstack().fillna(0)\n",
        "\n",
        "# 4개의 지역에 대해 Top 5 범죄 추출\n",
        "top5_crimes_combined = top5_crimes_by_location.loc[locations].apply(lambda x: x.sort_values(ascending=False).head(5), axis=1)\n",
        "\n",
        "# 시각화: 4개의 지역을 하나의 그래프에 표시\n",
        "fig, axes = plt.subplots(2, 2, figsize=(12, 8))  # 그래프 크기를 조금 더 크게 설정\n",
        "\n",
        "# 스타일을 좀 더 깔끔하게 적용하기 위해 seaborn을 사용할 수 있습니다.\n",
        "import seaborn as sns\n",
        "sns.set(style=\"whitegrid\")  # 배경에 그리드 라인 추가\n",
        "\n",
        "for i, location in enumerate(locations):\n",
        "    ax = axes[i//2, i%2]\n",
        "    location_data = top5_crimes_combined.loc[location]\n",
        "\n",
        "    # 막대그래프 그리기\n",
        "    location_data.plot(kind='bar', ax=ax, color=sns.color_palette(\"Blues_d\", 5))  # 색상 팔레트 변경\n",
        "\n",
        "    ax.set_title(f\"Top 5 Crimes in {location}\", fontsize=14, fontweight='bold')\n",
        "    ax.set_xlabel(\"Crime Type\", fontsize=12)\n",
        "    ax.set_ylabel(\"Crime Count\", fontsize=12)\n",
        "    ax.set_xticklabels(location_data.index, rotation=45, ha='right', fontsize=10)\n",
        "    ax.tick_params(axis='both', which='major', labelsize=10)\n",
        "\n",
        "# 레이아웃 조정\n",
        "plt.tight_layout()\n",
        "plt.show()"
      ],
      "metadata": {
        "id": "2deVCvoKiu-v"
      },
      "execution_count": null,
      "outputs": []
    },
    {
      "cell_type": "code",
      "source": [
        "for location in locations:\n",
        "    print(f\"Top 5 Crimes in {location}:\")\n",
        "    print(top5_crimes_combined.loc[location])\n",
        "    print(\"\\n\" + \"-\"*30 + \"\\n\")"
      ],
      "metadata": {
        "id": "ZgBt6f1Miw7h"
      },
      "execution_count": null,
      "outputs": []
    },
    {
      "cell_type": "markdown",
      "source": [
        "=>\n",
        "\n",
        "STREET(거리)에서 발생한 주요 범죄 유형: THEFT(절도), CRIMINAL DAMAGE(재산파손), NARCOTICS(마약), MOTOR VEHICLE THEFT(자동차 절도), BATTERY(폭행)\n",
        "\n",
        "RESIDENCE(주택)에서 발생한 주요 범죄 유형: BATTERY (폭행), OTHER OFFENSE (기타 범죄), BURGLARY (주거침입), THEFT (절도), CRIMINAL DAMAGE (재산파손)\n",
        "\n",
        "SIDEWALK (인도)에서 발생한 주요 범죄 유형: NARCOTICS (마약), BATTERY (폭행), ROBBERY (강도), ASSAULT (폭행), THEFT (절도)\n",
        "\n",
        "APARTMENT (아파트)에서 발생한 주요 범죄 유형: BATTERY (폭행), BURGLARY (주거침입), THEFT (절도), OTHER OFFENSE (기타 범죄), CRIMINAL DAMAGE (재산파손)"
      ],
      "metadata": {
        "id": "LE3Ke-liizaE"
      }
    },
    {
      "cell_type": "markdown",
      "source": [
        "해석)\n",
        "\n",
        "**STREET (거리)**는 순찰 강화, 마약 단속, 범죄 감시 시스템 구축이 중요합니다. → 거리에서의 범죄는 이동성이 높고, 외부의 감시가 어렵기 때문에 경찰의 순찰과 감시 시스템이 효과적인 예방 수단이 될 수 있습니다.\n",
        "\n",
        "**RESIDENCE (주택)**에서는 가정 내 폭력 예방과 주택 보안 강화를 위한 노력, 그리고 주거침입 방지를 위한 경고 시스템이나 보안 장치가 필요합니다. → 주택 내 폭력과 주거침입은 가정 내에서 발생하는 범죄이므로, 가족 구성원들의 안전을 위해 가정 폭력 예방 및 보안 강화가 필수적입니다.\n",
        "\n",
        "**SIDEWALK (인도)**에서는 사람들 많이 모이는 장소에서의 강도 및 마약 범죄 예방을 위한 집중적인 경찰 활동이 필요합니다. → 공공장소에서의 범죄는 사람이 많이 모이는 곳에서 발생하므로, 범죄를 예방하기 위한 경찰 활동과 감시가 필요합니다.\n",
        "\n",
        "**APARTMENT (아파트)**에서는 특히 가정 내 폭력 방지, 그리고 입주자들의 보안을 위한 강화된 관리 시스템이 필요합니다. → 아파트는 공동 거주지로, 가정 내 폭력이나 외부 침입으로부터 안전을 지키기 위해 보안 시스템과 관리의 강화가 중요합니다."
      ],
      "metadata": {
        "id": "uGd9HhNli1s7"
      }
    },
    {
      "cell_type": "markdown",
      "source": [
        "=============================================================================="
      ],
      "metadata": {
        "id": "U3XN6bMsTxzK"
      }
    },
    {
      "cell_type": "code",
      "source": [
        "from google.colab import drive\n",
        "\n",
        "drive.mount('/content/drive')"
      ],
      "metadata": {
        "id": "pAdtQ1AgT11Q"
      },
      "execution_count": null,
      "outputs": []
    },
    {
      "cell_type": "code",
      "source": [
        "file_path = '/content/drive/My Drive/crime_data_final.csv'\n",
        "\n",
        "df = pd.read_csv(file_path)"
      ],
      "metadata": {
        "id": "t93wCwdWUhCj"
      },
      "execution_count": null,
      "outputs": []
    },
    {
      "cell_type": "code",
      "source": [
        "df_final = df\n",
        "\n",
        "# 중복 제거 전 행 개수 저장\n",
        "before = df_final.shape[0]\n",
        "\n",
        "# 중복 제거 (전체 열 기준, 첫 번째만 남김)\n",
        "df_final = df_final.drop_duplicates(keep='first')\n",
        "\n",
        "# 중복 제거 후 행 개수\n",
        "after = df_final.shape[0]\n",
        "\n",
        "# 제거된 행 수 출력\n",
        "print(f\"✅ 중복으로 제거된 행의 수: {before - after}\")\n",
        "print(f\"총 행 수: {len(df_final)}\")\n",
        "\n",
        "# 저장\n",
        "df_final.to_csv(\"/content/crime_data_final_projuct.csv\", index=False)\n",
        "print(\"✅ 완료! 빠르게 변환 + 저장됨.\")"
      ],
      "metadata": {
        "id": "LTMsx2opUmvr"
      },
      "execution_count": null,
      "outputs": []
    },
    {
      "cell_type": "markdown",
      "source": [
        "**가설: 범죄횟수와 실업률간에 상관관계가 있다**"
      ],
      "metadata": {
        "id": "ovgjKJh0Zo6c"
      }
    },
    {
      "cell_type": "code",
      "source": [
        "crime_df = pd.read_csv(\"/content/crime_data_final_projuct.csv\")"
      ],
      "metadata": {
        "id": "_3rI9cE8UsCO"
      },
      "execution_count": null,
      "outputs": []
    },
    {
      "cell_type": "code",
      "source": [
        "# 'Date' 열의 데이터 형식 확인\n",
        "crime_df['Date'] = pd.to_datetime(crime_df['Date'], errors='coerce')  # Date 열을 날짜 형식으로 변환\n",
        "print(f\"Date 열의 형식:\\n{crime_df['Date'].head()}\")  # 첫 몇 개의 날짜 출력\n",
        "\n",
        "# 'Year' 열이 제대로 존재하는지 확인\n",
        "print(f\"\\nYear 열 확인:\\n{crime_df['Year'].unique()}\")\n",
        "\n",
        "# 범죄의 개수 (연도별 범죄 횟수)\n",
        "crime_by_year = crime_df.groupby('Year').size()\n",
        "print(f\"\\n연도별 범죄 횟수:\\n{crime_by_year}\")\n",
        "\n",
        "# 필요한 다른 컬럼 확인 (예: Primary Type, Arrest 등)\n",
        "print(f\"\\n'Primary Type' 열 값 예시:\\n{crime_df['Primary Type'].unique()}\")\n",
        "print(f\"\\n'Arrest' 열 값 예시:\\n{crime_df['Arrest'].unique()}\")"
      ],
      "metadata": {
        "id": "pvnOhsmzVCYl"
      },
      "execution_count": null,
      "outputs": []
    },
    {
      "cell_type": "code",
      "source": [
        "from google.colab import files\n",
        "\n",
        "uploaded = files.upload()\n",
        "\n",
        "unemployment_df = pd.read_csv('output.csv')"
      ],
      "metadata": {
        "id": "UbB2CtNKVGzg"
      },
      "execution_count": null,
      "outputs": []
    },
    {
      "cell_type": "code",
      "source": [
        "print(f\"output.csv의 첫 몇 줄:\\n{unemployment_df.head()}\")\n",
        "\n",
        "print(f\"\\n실업률 관련 열 이름 확인:\\n{unemployment_df.columns}\")\n",
        "\n",
        "if 'Year' in unemployment_df.columns and 'Month' in unemployment_df.columns:\n",
        "    print(f\"\\n실업률의 연도 및 월 확인:\\n{unemployment_df[['Year', 'Month']].drop_duplicates()}\")"
      ],
      "metadata": {
        "id": "qhI6rNarVLIX"
      },
      "execution_count": null,
      "outputs": []
    },
    {
      "cell_type": "code",
      "source": [
        "# 'Year' 열을 기준으로 범죄 횟수 집계\n",
        "crime_counts_by_year = crime_df['Year'].value_counts().sort_index()\n",
        "\n",
        "# 연도별 범죄 횟수 출력\n",
        "print(\"연도별 범죄 횟수:\")\n",
        "print(crime_counts_by_year)"
      ],
      "metadata": {
        "id": "HMKycSw5VPzl"
      },
      "execution_count": null,
      "outputs": []
    },
    {
      "cell_type": "code",
      "source": [
        "# 연도별 실업률 평균 계산\n",
        "unemployment_by_year = unemployment_df.groupby('Year')['Percent of labor force'].mean()\n",
        "\n",
        "# 연도별 실업률 출력\n",
        "print(\"연도별 실업률:\")\n",
        "print(unemployment_by_year)"
      ],
      "metadata": {
        "id": "e8MdpEd0VRZ4"
      },
      "execution_count": null,
      "outputs": []
    },
    {
      "cell_type": "code",
      "source": [
        "# 범죄 횟수와 실업률 데이터 병합\n",
        "comparison_df = pd.DataFrame({\n",
        "    'Crime Count': crime_counts_by_year,\n",
        "    'Unemployment Rate': unemployment_by_year\n",
        "})\n",
        "\n",
        "# 두 데이터의 상관관계 계산\n",
        "correlation = comparison_df.corr()\n",
        "\n",
        "# 결과 출력\n",
        "print(\"\\n범죄 횟수와 실업률의 상관관계:\")\n",
        "print(correlation)"
      ],
      "metadata": {
        "id": "efozxaExVTUH"
      },
      "execution_count": null,
      "outputs": []
    },
    {
      "cell_type": "markdown",
      "source": [
        "=> 범죄 횟수와 실업률 사이에는 매우 약한 음의 상관관계가 있으며, 상관계수는 -0.032로 실업률 증가가 범죄 횟수에 미치는 영향은 거의 없음."
      ],
      "metadata": {
        "id": "pFTVnB0gXzHr"
      }
    },
    {
      "cell_type": "markdown",
      "source": [
        "범죄가 많이 일어나는 Community Area와 아닌곳의 차이점은 무엇일까?"
      ],
      "metadata": {
        "id": "ICos3MkQX0Ph"
      }
    },
    {
      "cell_type": "code",
      "source": [
        "# Community Area별 범죄 횟수 집계\n",
        "crime_by_area = df['Community Area'].value_counts().sort_index()\n",
        "\n",
        "# 결과 출력\n",
        "print(\"각 Community Area별 범죄 횟수:\")\n",
        "print(crime_by_area)"
      ],
      "metadata": {
        "id": "Kw8aHQfeXz0J"
      },
      "execution_count": null,
      "outputs": []
    },
    {
      "cell_type": "code",
      "source": [
        "# 그래프 크기 설정\n",
        "plt.figure(figsize=(10, 5))\n",
        "\n",
        "# 막대 그래프 생성\n",
        "crime_by_area.plot(kind='bar', color='skyblue', edgecolor='black')\n",
        "\n",
        "# 그래프 제목 및 축 라벨 설정\n",
        "plt.title(\"Community Area별 범죄 횟수\", fontsize=14)\n",
        "plt.xlabel(\"Community Area\", fontsize=12)\n",
        "plt.ylabel(\"범죄 횟수\", fontsize=12)\n",
        "\n",
        "# x축 눈금 회전\n",
        "plt.xticks(rotation=90)\n",
        "\n",
        "# 그래프 표시\n",
        "plt.show()"
      ],
      "metadata": {
        "id": "6Z3VgnHLX81Y"
      },
      "execution_count": null,
      "outputs": []
    },
    {
      "cell_type": "code",
      "source": [
        "# 범죄 횟수가 가장 높은 Community Area\n",
        "max_area = crime_by_area.idxmax()\n",
        "max_count = crime_by_area.max()\n",
        "\n",
        "# 범죄 횟수가 가장 낮은 Community Area\n",
        "min_area = crime_by_area.idxmin()\n",
        "min_count = crime_by_area.min()\n",
        "\n",
        "# 결과 출력\n",
        "print(f\"범죄가 가장 많은 Community Area: {max_area} (총 {max_count}건)\")\n",
        "print(f\"범죄가 가장 적은 Community Area: {min_area} (총 {min_count}건)\")"
      ],
      "metadata": {
        "id": "sEvlgoToX-6U"
      },
      "execution_count": null,
      "outputs": []
    },
    {
      "cell_type": "markdown",
      "source": [
        "Community Area를 확인해보면 1 ~ 77까지 존재함\n",
        "\n",
        "그런데, Community Area 0은 없음에도 114건의 범죄가 있다고 나옴."
      ],
      "metadata": {
        "id": "RJcgrDWaYCM0"
      }
    },
    {
      "cell_type": "code",
      "source": [
        "# Community Area 0의 데이터 샘플 확인\n",
        "print(df[df['Community Area'] == 0].head())"
      ],
      "metadata": {
        "id": "pyq2uDfyYZZy"
      },
      "execution_count": null,
      "outputs": []
    },
    {
      "cell_type": "code",
      "source": [
        "# Community Area 0에 속한 데이터의 위도·경도 분포 시각화\n",
        "import folium\n",
        "\n",
        "# Community Area 0과 25만 필터링\n",
        "df_filtered = df[df['Community Area'].isin([0, 25])].dropna(subset=['Latitude', 'Longitude'])\n",
        "\n",
        "# 지도 중심 설정 (시카고 중심)\n",
        "map_center = [41.8781, -87.6298]\n",
        "m = folium.Map(location=map_center, zoom_start=11)\n",
        "\n",
        "# GeoJSON (Community Area 경계)\n",
        "geojson_url = \"https://data.cityofchicago.org/resource/igwz-8jzy.geojson\"\n",
        "folium.GeoJson(geojson_url, name=\"Community Areas\").add_to(m)\n",
        "\n",
        "# Community Area 0 (파란색)\n",
        "for _, row in df_filtered[df_filtered['Community Area'] == 0].iterrows():\n",
        "    folium.CircleMarker(\n",
        "        location=[row['Latitude'], row['Longitude']],\n",
        "        radius=3,\n",
        "        color='blue',\n",
        "        fill=True,\n",
        "        fill_opacity=0.5\n",
        "    ).add_to(m)\n",
        "\n",
        "# 지도 출력\n",
        "m"
      ],
      "metadata": {
        "id": "Iau-lFONYdYn"
      },
      "execution_count": null,
      "outputs": []
    },
    {
      "cell_type": "markdown",
      "source": [
        "=> 데이터를 보면 위도·경도가 정상적으로 기록되어 있음.\n",
        "\n",
        "하지만 특정 지점이 아니라 산발적으로 분포하므로 할당 오류 가능성 있음.\n",
        "\n",
        "고로, Community Areas가 0.0 인 데이터를 보완할 필요있음."
      ],
      "metadata": {
        "id": "5IHuU8R3Yg0a"
      }
    },
    {
      "cell_type": "markdown",
      "source": [
        "시카고 area에 넣기 / 기타지역은 빼기\n",
        "\n",
        "데이터를 일단 살리는 식으로 / 아직은 미정\n",
        "\n",
        "버리자 /\n",
        "\n",
        "신고위치인지 사건위치인지 등등 위도경도\n",
        "\n",
        "결측치를 채운 데이터셋에서도 area의 결측치가 495개가 있음 <- 여기에 area 0.0이 있는지 확인하기\n",
        "\n",
        "전체 데이터를 지도에 표기해서 이상한 데이터가 있는지 확인"
      ],
      "metadata": {
        "id": "0tKgOLvp9pPf"
      }
    },
    {
      "cell_type": "code",
      "source": [
        "# Community Area별 범죄 횟수 계산\n",
        "crime_by_area = df['Community Area'].value_counts()\n",
        "\n",
        "# 뒤에서 2번째 Community Area 찾기\n",
        "second_least_area = crime_by_area.index[-2]\n",
        "second_least_count = crime_by_area.iloc[-2]\n",
        "\n",
        "# 결과 출력\n",
        "print(f\"뒤에서 2번째로 범죄가 적은 Community Area: {second_least_area} (총 {second_least_count}건)\")"
      ],
      "metadata": {
        "id": "1ll5YZtvYpVa"
      },
      "execution_count": null,
      "outputs": []
    },
    {
      "cell_type": "code",
      "source": [
        "crime_type_25 = df[df['Community Area'] == 25]['Primary Type'].value_counts().head(5)\n",
        "crime_type_9 = df[df['Community Area'] == 9]['Primary Type'].value_counts().head(5)\n",
        "\n",
        "print(\"📌 Community Area 25의 주요 범죄 유형:\")\n",
        "print(crime_type_25)\n",
        "print(\"\\n📌 Community Area 9의 주요 범죄 유형:\")\n",
        "print(crime_type_9)"
      ],
      "metadata": {
        "id": "rJqf1Q7YYqwz"
      },
      "execution_count": null,
      "outputs": []
    },
    {
      "cell_type": "markdown",
      "source": [
        "=> Community Area 25에서 마약 관련 범죄가 매우 많은 반면, Community Area 9에서는 절도가 주로 발생함을 확인"
      ],
      "metadata": {
        "id": "5A1pmiOvYseK"
      }
    },
    {
      "cell_type": "code",
      "source": [
        "# 'NARCOTICS' 범죄만 필터링\n",
        "narcotics_data = df[df['Primary Type'] == 'NARCOTICS']\n",
        "\n",
        "# Community Area별 NARCOTICS 범죄 횟수 집계\n",
        "narcotics_count_by_area = narcotics_data['Community Area'].value_counts()\n",
        "\n",
        "# 상위 5개의 Community Area 추출\n",
        "top5_narcotics_areas = narcotics_count_by_area.head(5)\n",
        "\n",
        "# 지도 생성\n",
        "map_center = [41.8781, -87.6298]  # 시카고의 중심 좌표\n",
        "m = folium.Map(location=map_center, zoom_start=11)\n",
        "\n",
        "# 시카고 Community Area 경계 GeoJSON 추가\n",
        "geojson_url = \"https://data.cityofchicago.org/resource/igwz-8jzy.geojson\"\n",
        "folium.GeoJson(geojson_url, name=\"Community Areas\").add_to(m)\n",
        "\n",
        "# 상위 5개 Community Area에 대해 마커 추가\n",
        "for area in top5_narcotics_areas.index:\n",
        "    # 해당 Community Area의 데이터를 필터링\n",
        "    area_data = narcotics_data[narcotics_data['Community Area'] == area].iloc[0]\n",
        "\n",
        "    # 마커 추가\n",
        "    folium.CircleMarker(\n",
        "        location=[area_data['Latitude'], area_data['Longitude']],\n",
        "        radius=6,\n",
        "        color='blue',\n",
        "        fill=True,\n",
        "        fill_opacity=0.7,\n",
        "        popup=f'Community Area: {area}, NARCOTICS 범죄 횟수: {top5_narcotics_areas[area]}'\n",
        "    ).add_to(m)\n",
        "\n",
        "# 지도 출력\n",
        "m"
      ],
      "metadata": {
        "id": "aTgsb_ciYuel"
      },
      "execution_count": null,
      "outputs": []
    },
    {
      "cell_type": "code",
      "source": [
        "# 'Primary Type'이 'NARCOTICS'인 데이터만 필터링\n",
        "narcotics_data = df[df['Primary Type'] == 'NARCOTICS']\n",
        "\n",
        "# Community Area별 범죄 횟수 계산\n",
        "narcotics_by_area = narcotics_data['Community Area'].value_counts()\n",
        "\n",
        "# NARCOTICS가 많이 발생한 상위 5개 Community Area\n",
        "top_5_narcotics_areas = narcotics_by_area.head(5)\n",
        "\n",
        "print(\"NARCOTICS가 많이 발생한 상위 5개 Community Area:\")\n",
        "print(top_5_narcotics_areas)"
      ],
      "metadata": {
        "id": "0P0ek_JLYwQ_"
      },
      "execution_count": null,
      "outputs": []
    },
    {
      "cell_type": "markdown",
      "source": [
        "================"
      ],
      "metadata": {
        "id": "l84svuQEkDmN"
      }
    },
    {
      "cell_type": "code",
      "source": [
        "# 데이터 로드\n",
        "df = pd.read_csv(\"/content/crime_data_final_projuct.csv\")"
      ],
      "metadata": {
        "id": "4G_vygjwkILS"
      },
      "execution_count": null,
      "outputs": []
    },
    {
      "cell_type": "code",
      "source": [
        "top10_primary_types = df['Primary Type'].value_counts().head(10)\n",
        "\n",
        "print(top10_primary_types)"
      ],
      "metadata": {
        "id": "Ahv-QjvGkJ72"
      },
      "execution_count": null,
      "outputs": []
    },
    {
      "cell_type": "code",
      "source": [
        "# 범죄 데이터\n",
        "crime_counts = {\n",
        "    \"THEFT\": 1284608,\n",
        "    \"BATTERY\": 1125725,\n",
        "    \"CRIMINAL DAMAGE\": 710083,\n",
        "    \"NARCOTICS\": 674556,\n",
        "    \"OTHER OFFENSE\": 381714,\n",
        "    \"ASSAULT\": 376888,\n",
        "    \"BURGLARY\": 361624,\n",
        "    \"MOTOR VEHICLE THEFT\": 291030,\n",
        "    \"ROBBERY\": 233527,\n",
        "    \"DECEPTIVE PRACTICE\": 223245\n",
        "}\n",
        "\n",
        "# 전체 범죄 수 구하기\n",
        "total_crimes = sum(crime_counts.values())\n",
        "\n",
        "# NARCOTICS 제외한 top10 범죄의 수 구하기\n",
        "crime_counts_without_narcotics = {k: v for k, v in crime_counts.items() if k != 'NARCOTICS'}\n",
        "top10_without_narcotics = sum(crime_counts_without_narcotics.values())\n",
        "\n",
        "# 차지하는 비율 구하기\n",
        "percentage = (top10_without_narcotics / total_crimes) * 100\n",
        "\n",
        "# 결과 출력\n",
        "print(f\"전체 범죄 수 (total_crimes): {total_crimes}\")\n",
        "print(f\"NARCOTICS 제외한 top10 범죄 수 (top10_without_narcotics): {top10_without_narcotics}\")\n",
        "print(f\"차지하는 비율: {percentage:.2f}%\")"
      ],
      "metadata": {
        "id": "hj22TxBqkLZS"
      },
      "execution_count": null,
      "outputs": []
    },
    {
      "cell_type": "code",
      "source": [
        "# 마약 범죄 필터링 (NARCOTICS)\n",
        "narcotics_data = df[df['Primary Type'] == 'NARCOTICS']\n",
        "\n",
        "# 다른 범죄 유형들 (예: 폭행, 절도)\n",
        "other_crimes = ['BATTERY', 'THEFT', 'ASSAULT', 'CRIMINAL DAMAGE', 'OTHER OFFENSE', 'ASSAULT', 'BURGLARY', 'MOTOR VEHICLE THEFT', 'ROBBERY', 'DECEPTIVE PRACTICE']\n",
        "other_crimes_data = df[df['Primary Type'].isin(other_crimes)]\n",
        "\n",
        "# 지역별로 범죄 건수 집계 (Community Area 기준)\n",
        "narcotics_by_area = narcotics_data.groupby('Community Area').size().reset_index(name='Narcotics Count')\n",
        "other_crimes_by_area = other_crimes_data.groupby('Community Area').size().reset_index(name='Other Crimes Count')\n",
        "\n",
        "# 데이터 병합\n",
        "merged_data = pd.merge(narcotics_by_area, other_crimes_by_area, on='Community Area', how='inner')"
      ],
      "metadata": {
        "id": "bPvFkA16kMvg"
      },
      "execution_count": null,
      "outputs": []
    },
    {
      "cell_type": "code",
      "source": [
        "# 상관 계수 계산 (Pearson)\n",
        "correlation = merged_data[['Narcotics Count', 'Other Crimes Count']].corr()\n",
        "print(correlation)"
      ],
      "metadata": {
        "id": "b-HA14S4kOHw"
      },
      "execution_count": null,
      "outputs": []
    },
    {
      "cell_type": "code",
      "source": [
        "import statsmodels.api as sm\n",
        "\n",
        "# 독립 변수와 종속 변수 설정\n",
        "X = merged_data['Narcotics Count']\n",
        "y = merged_data['Other Crimes Count']\n",
        "\n",
        "# 상수항 추가\n",
        "X = sm.add_constant(X)\n",
        "\n",
        "# 회귀 모델 피팅\n",
        "model = sm.OLS(y, X).fit()\n",
        "\n",
        "# 회귀 분석 결과 출력\n",
        "print(model.summary())"
      ],
      "metadata": {
        "id": "5DOG6VAukPZD"
      },
      "execution_count": null,
      "outputs": []
    },
    {
      "cell_type": "markdown",
      "source": [
        "# 데이터와 실업률(외부데이터) 병합"
      ],
      "metadata": {
        "id": "RIGEgBy7Qyl6"
      }
    },
    {
      "cell_type": "code",
      "source": [
        "import pandas as pd\n",
        "import numpy as np\n",
        "import matplotlib.pyplot as plt\n",
        "import seaborn as sns\n",
        "from google.colab import drive\n",
        "from scipy.stats import chi2_contingency"
      ],
      "metadata": {
        "id": "3LOF0XXyREwH"
      },
      "execution_count": null,
      "outputs": []
    },
    {
      "cell_type": "code",
      "source": [
        "# 시각화 시 한글 깨짐 방지 위한 폰트 설치 및 적용\n",
        "\n",
        "%%capture\n",
        "!sudo apt-get install -y fonts-nanum\n",
        "!sudo fc-cache -fv\n",
        "!rm ~/.cache/matplotlib -rf\n",
        "\n",
        "plt.rc('font', family='NanumBarunGothic')\n",
        "plt.rcParams['axes.unicode_minus'] =False"
      ],
      "metadata": {
        "id": "3p-1p8xTRDdD"
      },
      "execution_count": null,
      "outputs": []
    },
    {
      "cell_type": "code",
      "source": [
        "from google.colab import drive\n",
        "\n",
        "drive.mount('/content/drive')"
      ],
      "metadata": {
        "id": "JZ9o81RxRCSC"
      },
      "execution_count": null,
      "outputs": []
    },
    {
      "cell_type": "code",
      "source": [
        "# 구글 드라이브에서 파일 경로 설정\n",
        "file_path = '/content/drive/My Drive/crime_data_final.csv'\n",
        "\n",
        "# CSV 파일 읽기\n",
        "df = pd.read_csv(file_path)\n",
        "\n",
        "# 결측치 확인 (각 열의 결측치 개수 출력)\n",
        "print(df.isna().sum())"
      ],
      "metadata": {
        "id": "GpdNLR4pRA8t"
      },
      "execution_count": null,
      "outputs": []
    },
    {
      "cell_type": "code",
      "source": [
        "# 만약 df라는 변수에 데이터가 로드되었다면\n",
        "df_final = df  # df_final에 df 데이터를 할당\n",
        "\n",
        "# 중복 제거 전 행 개수 저장\n",
        "before = df_final.shape[0]\n",
        "\n",
        "# 중복 제거 (전체 열 기준, 첫 번째만 남김)\n",
        "df_final = df_final.drop_duplicates(keep='first')\n",
        "\n",
        "# 중복 제거 후 행 개수\n",
        "after = df_final.shape[0]\n",
        "\n",
        "# 제거된 행 수 출력\n",
        "print(f\"✅ 중복으로 제거된 행의 수: {before - after}\")\n",
        "print(f\"총 행 수: {len(df_final)}\")\n",
        "\n",
        "# 저장\n",
        "df_final.to_csv(\"/content/crime_data_final_projuct.csv\", index=False)\n",
        "print(\"✅ 완료! 빠르게 변환 + 저장됨.\")"
      ],
      "metadata": {
        "id": "aZoID6nxQ_Zr"
      },
      "execution_count": null,
      "outputs": []
    },
    {
      "cell_type": "code",
      "source": [
        "df = pd.read_csv(\"/content/crime_data_final_projuct.csv\")\n",
        "\n",
        "# 결측치 확인 (각 열의 결측치 개수 출력)\n",
        "print(df.isna().sum())"
      ],
      "metadata": {
        "id": "pyYRJKe0Q8sU"
      },
      "execution_count": null,
      "outputs": []
    },
    {
      "cell_type": "code",
      "source": [
        "# crime_data_final_projuct.csv 파일 읽기\n",
        "crime_df = pd.read_csv(\"/content/crime_data_final_projuct.csv\")\n",
        "\n",
        "# 'Date' 열의 데이터 형식 확인\n",
        "crime_df['Date'] = pd.to_datetime(crime_df['Date'], errors='coerce')  # Date 열을 날짜 형식으로 변환\n",
        "print(f\"Date 열의 형식:\\n{crime_df['Date'].head()}\")  # 첫 몇 개의 날짜 출력\n",
        "\n",
        "# 'Year' 열이 제대로 존재하는지 확인\n",
        "print(f\"\\nYear 열 확인:\\n{crime_df['Year'].unique()}\")\n",
        "\n",
        "# 범죄의 개수 (연도별 범죄 횟수)\n",
        "crime_by_year = crime_df.groupby('Year').size()\n",
        "print(f\"\\n연도별 범죄 횟수:\\n{crime_by_year}\")\n",
        "\n",
        "# 필요한 다른 컬럼 확인 (예: Primary Type, Arrest 등)\n",
        "print(f\"\\n'Primary Type' 열 값 예시:\\n{crime_df['Primary Type'].unique()}\")\n",
        "print(f\"\\n'Arrest' 열 값 예시:\\n{crime_df['Arrest'].unique()}\")"
      ],
      "metadata": {
        "id": "ooHmppQDQ8PL"
      },
      "execution_count": null,
      "outputs": []
    },
    {
      "cell_type": "code",
      "source": [
        "from google.colab import files\n",
        "\n",
        "# output.csv 파일 업로드\n",
        "uploaded = files.upload()\n",
        "\n",
        "# 업로드한 파일 확인 후, output.csv 읽기\n",
        "import pandas as pd\n",
        "unemployment_df = pd.read_csv('output.csv')\n",
        "\n",
        "# 데이터의 첫 몇 줄을 확인\n",
        "print(unemployment_df.head())"
      ],
      "metadata": {
        "id": "sdBsKnYzQ60f"
      },
      "execution_count": null,
      "outputs": []
    },
    {
      "cell_type": "code",
      "source": [
        "# 데이터의 첫 몇 줄을 출력하여 구조 확인\n",
        "print(f\"output.csv의 첫 몇 줄:\\n{unemployment_df.head()}\")\n",
        "\n",
        "# 실업률을 나타내는 열 확인 (이 예제에서는 'Unemployment Rate'라는 가상의 열을 가정)\n",
        "# 만약 다른 열이 있다면 실제 열 이름을 확인해 주세요.\n",
        "print(f\"\\n실업률 관련 열 이름 확인:\\n{unemployment_df.columns}\")\n",
        "\n",
        "# 실업률 데이터의 날짜 범위 확인\n",
        "# 예: 'Year'와 'Month' 열이 있다면 그 값을 출력\n",
        "if 'Year' in unemployment_df.columns and 'Month' in unemployment_df.columns:\n",
        "    print(f\"\\n실업률의 연도 및 월 확인:\\n{unemployment_df[['Year', 'Month']].drop_duplicates()}\")"
      ],
      "metadata": {
        "id": "TcykWvSIQ5h9"
      },
      "execution_count": null,
      "outputs": []
    },
    {
      "cell_type": "code",
      "source": [
        "# 'Year' 열을 기준으로 범죄 횟수 집계\n",
        "crime_counts_by_year = crime_df['Year'].value_counts().sort_index()\n",
        "\n",
        "# 연도별 범죄 횟수 출력\n",
        "print(\"연도별 범죄 횟수:\")\n",
        "print(crime_counts_by_year)"
      ],
      "metadata": {
        "id": "88f7rJhpQ4KZ"
      },
      "execution_count": null,
      "outputs": []
    },
    {
      "cell_type": "code",
      "source": [
        "# 연도별 실업률 평균 계산\n",
        "unemployment_by_year = unemployment_df.groupby('Year')['Percent of labor force'].mean()\n",
        "\n",
        "# 연도별 실업률 출력\n",
        "print(\"연도별 실업률:\")\n",
        "print(unemployment_by_year)"
      ],
      "metadata": {
        "id": "trxRLr_qQ1Z1"
      },
      "execution_count": null,
      "outputs": []
    },
    {
      "cell_type": "code",
      "source": [
        "# 범죄 횟수와 실업률 데이터 병합\n",
        "comparison_df = pd.DataFrame({\n",
        "    'Crime Count': crime_counts_by_year,\n",
        "    'Unemployment Rate': unemployment_by_year\n",
        "})\n",
        "\n",
        "# 두 데이터의 상관관계 계산\n",
        "correlation = comparison_df.corr()\n",
        "\n",
        "# 결과 출력\n",
        "print(\"\\n범죄 횟수와 실업률의 상관관계:\")\n",
        "print(correlation)"
      ],
      "metadata": {
        "id": "tzIrXQmjQzDS"
      },
      "execution_count": null,
      "outputs": []
    },
    {
      "cell_type": "code",
      "source": [],
      "metadata": {
        "id": "nVdu0IrlROm1"
      },
      "execution_count": null,
      "outputs": []
    },
    {
      "cell_type": "code",
      "source": [],
      "metadata": {
        "id": "Yt0oyCuCRQrH"
      },
      "execution_count": null,
      "outputs": []
    },
    {
      "cell_type": "markdown",
      "source": [
        "# 범죄가 많이 일어나는 Community Area와 아닌곳의 차이점은 무엇일까?"
      ],
      "metadata": {
        "id": "cmYFZAf3RSUm"
      }
    },
    {
      "cell_type": "code",
      "source": [
        "# Community Area별 범죄 횟수 집계\n",
        "crime_by_area = df['Community Area'].value_counts().sort_index()\n",
        "\n",
        "# 결과 출력\n",
        "print(\"각 Community Area별 범죄 횟수:\")\n",
        "print(crime_by_area)"
      ],
      "metadata": {
        "id": "YdCEmA-NRd35"
      },
      "execution_count": null,
      "outputs": []
    },
    {
      "cell_type": "code",
      "source": [
        "# 그래프 크기 설정\n",
        "plt.figure(figsize=(10, 5))\n",
        "\n",
        "# 막대 그래프 생성\n",
        "crime_by_area.plot(kind='bar', color='skyblue', edgecolor='black')\n",
        "\n",
        "# 그래프 제목 및 축 라벨 설정\n",
        "plt.title(\"Community Area별 범죄 횟수\", fontsize=14)\n",
        "plt.xlabel(\"Community Area\", fontsize=12)\n",
        "plt.ylabel(\"범죄 횟수\", fontsize=12)\n",
        "\n",
        "# x축 눈금 회전\n",
        "plt.xticks(rotation=90)\n",
        "\n",
        "# 그래프 표시\n",
        "plt.show()"
      ],
      "metadata": {
        "id": "xv5mQG5SRhQV"
      },
      "execution_count": null,
      "outputs": []
    },
    {
      "cell_type": "code",
      "source": [
        "# 범죄 횟수가 가장 높은 Community Area\n",
        "max_area = crime_by_area.idxmax()\n",
        "max_count = crime_by_area.max()\n",
        "\n",
        "# 범죄 횟수가 가장 낮은 Community Area\n",
        "min_area = crime_by_area.idxmin()\n",
        "min_count = crime_by_area.min()\n",
        "\n",
        "# 결과 출력\n",
        "print(f\"범죄가 가장 많은 Community Area: {max_area} (총 {max_count}건)\")\n",
        "print(f\"범죄가 가장 적은 Community Area: {min_area} (총 {min_count}건)\")"
      ],
      "metadata": {
        "id": "IgIoq-HpRizz"
      },
      "execution_count": null,
      "outputs": []
    },
    {
      "cell_type": "markdown",
      "source": [
        "번호,커뮤니티 지역 이름,위도 (Latitude),경도 (Longitude)\n",
        "\n",
        "1,Rogers Park,42.0106,-87.67\n",
        "\n",
        "~\n",
        "\n",
        "77,Edgewater,41.9843,-87.6603\n",
        "\n",
        "=> Community Area 0은 없음에도 114건의 범죄가 있다고 나옴."
      ],
      "metadata": {
        "id": "sWTfrwtTRlA7"
      }
    },
    {
      "cell_type": "code",
      "source": [
        "# Community Area 0의 데이터 샘플 확인\n",
        "print(df[df['Community Area'] == 0].head())\n",
        "\n",
        "# Community Area 0의 결측치 확인\n",
        "print(df[df['Community Area'] == 0].isnull().sum())"
      ],
      "metadata": {
        "id": "9sPUFKtNRnke"
      },
      "execution_count": null,
      "outputs": []
    },
    {
      "cell_type": "code",
      "source": [
        "# Community Area 0에 속한 데이터의 위도·경도 분포 시각화\n",
        "import folium\n",
        "\n",
        "# Community Area 0과 25만 필터링\n",
        "df_filtered = df[df['Community Area'].isin([0, 25])].dropna(subset=['Latitude', 'Longitude'])\n",
        "\n",
        "# 지도 중심 설정 (시카고 중심)\n",
        "map_center = [41.8781, -87.6298]\n",
        "m = folium.Map(location=map_center, zoom_start=11)\n",
        "\n",
        "# GeoJSON (Community Area 경계)\n",
        "geojson_url = \"https://data.cityofchicago.org/resource/igwz-8jzy.geojson\"\n",
        "folium.GeoJson(geojson_url, name=\"Community Areas\").add_to(m)\n",
        "\n",
        "# Community Area 0 (파란색)\n",
        "for _, row in df_filtered[df_filtered['Community Area'] == 0].iterrows():\n",
        "    folium.CircleMarker(\n",
        "        location=[row['Latitude'], row['Longitude']],\n",
        "        radius=3,\n",
        "        color='blue',\n",
        "        fill=True,\n",
        "        fill_opacity=0.5\n",
        "    ).add_to(m)\n",
        "\n",
        "# 지도 출력\n",
        "m"
      ],
      "metadata": {
        "id": "RI2nlXm6RpQy"
      },
      "execution_count": null,
      "outputs": []
    },
    {
      "cell_type": "markdown",
      "source": [
        "시카고 area에 넣기 / 기타지역은 빼기\n",
        "\n",
        "데이터를 일단 살리는 식으로 / 아직은 미정\n",
        "\n",
        "버리자 /\n",
        "\n",
        "신고위치인지 사건위치인지 등등 위도경도\n",
        "\n",
        "결측치를 채운 데이터셋에서도 area의 결측치가 495개가 있음 <- 여기에 area 0.0이 있는지 확인하기\n",
        "\n",
        "전체 데이터를 지도에 표기해서 이상한 데이터가 있는지 확인\n",
        "\n",
        "=> 데이터를 보면 위도·경도가 정상적으로 기록되어 있음.\n",
        "\n",
        "하지만 특정 지점이 아니라 산발적으로 분포 → 할당 오류 가능성\n",
        "\n",
        "고로, Community Areas가 0.0 인 곳을 데이터에서 삭제하는 것도 방법 중 하나일 듯"
      ],
      "metadata": {
        "id": "YJkb5nuQRsAV"
      }
    },
    {
      "cell_type": "code",
      "source": [
        "# Community Area별 범죄 횟수 계산\n",
        "crime_by_area = df['Community Area'].value_counts()\n",
        "\n",
        "# 뒤에서 2번째 Community Area 찾기\n",
        "second_least_area = crime_by_area.index[-2]\n",
        "second_least_count = crime_by_area.iloc[-2]\n",
        "\n",
        "# 결과 출력\n",
        "print(f\"뒤에서 2번째로 범죄가 적은 Community Area: {second_least_area} (총 {second_least_count}건)\")"
      ],
      "metadata": {
        "id": "By6fFMVARwC6"
      },
      "execution_count": null,
      "outputs": []
    },
    {
      "cell_type": "code",
      "source": [
        "crime_type_25 = df[df['Community Area'] == 25]['Primary Type'].value_counts().head(5)\n",
        "crime_type_9 = df[df['Community Area'] == 9]['Primary Type'].value_counts().head(5)\n",
        "\n",
        "print(\"📌 Community Area 25의 주요 범죄 유형:\")\n",
        "print(crime_type_25)\n",
        "print(\"\\n📌 Community Area 9의 주요 범죄 유형:\")\n",
        "print(crime_type_9)"
      ],
      "metadata": {
        "id": "0yD_AzENRxtK"
      },
      "execution_count": null,
      "outputs": []
    },
    {
      "cell_type": "markdown",
      "source": [
        "=> Community Area 25에서 마약 관련 범죄가 매우 많은 반면, Community Area 9에서는 절도가 주로 발생함을 확인"
      ],
      "metadata": {
        "id": "91YDtthDR0Qd"
      }
    },
    {
      "cell_type": "code",
      "source": [
        "# 'NARCOTICS' 범죄만 필터링\n",
        "narcotics_data = df[df['Primary Type'] == 'NARCOTICS']\n",
        "\n",
        "# Community Area별 NARCOTICS 범죄 횟수 집계\n",
        "narcotics_count_by_area = narcotics_data['Community Area'].value_counts()\n",
        "\n",
        "# 상위 5개의 Community Area 추출\n",
        "top5_narcotics_areas = narcotics_count_by_area.head(5)\n",
        "\n",
        "# 지도 생성\n",
        "map_center = [41.8781, -87.6298]  # 시카고의 중심 좌표\n",
        "m = folium.Map(location=map_center, zoom_start=11)\n",
        "\n",
        "# 시카고 Community Area 경계 GeoJSON 추가\n",
        "geojson_url = \"https://data.cityofchicago.org/resource/igwz-8jzy.geojson\"\n",
        "folium.GeoJson(geojson_url, name=\"Community Areas\").add_to(m)\n",
        "\n",
        "# 상위 5개 Community Area에 대해 마커 추가\n",
        "for area in top5_narcotics_areas.index:\n",
        "    # 해당 Community Area의 데이터를 필터링\n",
        "    area_data = narcotics_data[narcotics_data['Community Area'] == area].iloc[0]\n",
        "\n",
        "    # 마커 추가\n",
        "    folium.CircleMarker(\n",
        "        location=[area_data['Latitude'], area_data['Longitude']],\n",
        "        radius=6,\n",
        "        color='blue',\n",
        "        fill=True,\n",
        "        fill_opacity=0.7,\n",
        "        popup=f'Community Area: {area}, NARCOTICS 범죄 횟수: {top5_narcotics_areas[area]}'\n",
        "    ).add_to(m)\n",
        "\n",
        "# 지도 출력\n",
        "m"
      ],
      "metadata": {
        "id": "YeP9_iAyR2wE"
      },
      "execution_count": null,
      "outputs": []
    },
    {
      "cell_type": "code",
      "source": [
        "# 'Primary Type'이 'NARCOTICS'인 데이터만 필터링\n",
        "narcotics_data = df[df['Primary Type'] == 'NARCOTICS']\n",
        "\n",
        "# Community Area별 범죄 횟수 계산\n",
        "narcotics_by_area = narcotics_data['Community Area'].value_counts()\n",
        "\n",
        "# NARCOTICS가 많이 발생한 상위 5개 Community Area\n",
        "top_5_narcotics_areas = narcotics_by_area.head(5)\n",
        "\n",
        "print(\"NARCOTICS가 많이 발생한 상위 5개 Community Area:\")\n",
        "print(top_5_narcotics_areas)"
      ],
      "metadata": {
        "id": "qrtnO217R56r"
      },
      "execution_count": null,
      "outputs": []
    },
    {
      "cell_type": "markdown",
      "source": [
        "가설. NARCOTICS(마약)은 Primary Type와 관련성이 있다."
      ],
      "metadata": {
        "id": "E3KQG-ykR9HX"
      }
    },
    {
      "cell_type": "code",
      "source": [
        "from scipy.stats import chi2_contingency\n",
        "\n",
        "# 범죄 유형별로 'NARCOTICS'와 다른 범죄 유형의 교차표 생성\n",
        "crime_type_cross = pd.crosstab(df['Primary Type'], df['Community Area'])\n",
        "\n",
        "# 카이제곱 검정\n",
        "chi2_stat, p_val, dof, expected = chi2_contingency(crime_type_cross)\n",
        "\n",
        "# 결과 출력\n",
        "print(f\"카이제곱 통계량: {chi2_stat:.2f}\")\n",
        "print(f\"p-value: {p_val:.4f}\")\n",
        "print(f\"자유도: {dof}\")\n",
        "\n",
        "# 유의수준 설정 (보통 0.05)\n",
        "alpha = 0.05\n",
        "\n",
        "if p_val < alpha:\n",
        "    print(\"→ 귀무가설 기각: 마약 범죄와 다른 범죄 유형은 관련성이 있다.\")\n",
        "else:\n",
        "    print(\"→ 귀무가설 채택: 마약 범죄와 다른 범죄 유형은 관련성이 없다.\")"
      ],
      "metadata": {
        "id": "Y83hEa4KR_Dz"
      },
      "execution_count": null,
      "outputs": []
    },
    {
      "cell_type": "code",
      "source": [
        "# 데이터 로드\n",
        "df = pd.read_csv(\"/content/crime_data_final_projuct.csv\")"
      ],
      "metadata": {
        "id": "yManSFEHSFgp"
      },
      "execution_count": null,
      "outputs": []
    },
    {
      "cell_type": "code",
      "source": [
        "top10_primary_types = df['Primary Type'].value_counts().head(10)\n",
        "\n",
        "print(top10_primary_types)"
      ],
      "metadata": {
        "id": "0LEh3QBoSGuw"
      },
      "execution_count": null,
      "outputs": []
    },
    {
      "cell_type": "code",
      "source": [
        "# 범죄 데이터\n",
        "crime_counts = {\n",
        "    \"THEFT\": 1284608,\n",
        "    \"BATTERY\": 1125725,\n",
        "    \"CRIMINAL DAMAGE\": 710083,\n",
        "    \"NARCOTICS\": 674556,\n",
        "    \"OTHER OFFENSE\": 381714,\n",
        "    \"ASSAULT\": 376888,\n",
        "    \"BURGLARY\": 361624,\n",
        "    \"MOTOR VEHICLE THEFT\": 291030,\n",
        "    \"ROBBERY\": 233527,\n",
        "    \"DECEPTIVE PRACTICE\": 223245\n",
        "}\n",
        "\n",
        "# 전체 범죄 수 구하기\n",
        "total_crimes = sum(crime_counts.values())\n",
        "\n",
        "# NARCOTICS 제외한 top10 범죄의 수 구하기\n",
        "crime_counts_without_narcotics = {k: v for k, v in crime_counts.items() if k != 'NARCOTICS'}\n",
        "top10_without_narcotics = sum(crime_counts_without_narcotics.values())\n",
        "\n",
        "# 차지하는 비율 구하기\n",
        "percentage = (top10_without_narcotics / total_crimes) * 100\n",
        "\n",
        "# 결과 출력\n",
        "print(f\"전체 범죄 수 (total_crimes): {total_crimes}\")\n",
        "print(f\"NARCOTICS 제외한 top10 범죄 수 (top10_without_narcotics): {top10_without_narcotics}\")\n",
        "print(f\"차지하는 비율: {percentage:.2f}%\")"
      ],
      "metadata": {
        "id": "XE5rO-YySIFM"
      },
      "execution_count": null,
      "outputs": []
    },
    {
      "cell_type": "code",
      "source": [
        "# 마약 범죄 필터링 (NARCOTICS)\n",
        "narcotics_data = df[df['Primary Type'] == 'NARCOTICS']\n",
        "\n",
        "# 다른 범죄 유형들 (예: 폭행, 절도)\n",
        "other_crimes = ['BATTERY', 'THEFT', 'ASSAULT', 'CRIMINAL DAMAGE', 'OTHER OFFENSE', 'ASSAULT', 'BURGLARY', 'MOTOR VEHICLE THEFT', 'ROBBERY', 'DECEPTIVE PRACTICE']\n",
        "other_crimes_data = df[df['Primary Type'].isin(other_crimes)]\n",
        "\n",
        "# 지역별로 범죄 건수 집계 (Community Area 기준)\n",
        "narcotics_by_area = narcotics_data.groupby('Community Area').size().reset_index(name='Narcotics Count')\n",
        "other_crimes_by_area = other_crimes_data.groupby('Community Area').size().reset_index(name='Other Crimes Count')\n",
        "\n",
        "# 데이터 병합\n",
        "merged_data = pd.merge(narcotics_by_area, other_crimes_by_area, on='Community Area', how='inner')"
      ],
      "metadata": {
        "id": "OV0rcpTJSJqi"
      },
      "execution_count": null,
      "outputs": []
    },
    {
      "cell_type": "code",
      "source": [
        "# 상관 계수 계산 (Pearson)\n",
        "correlation = merged_data[['Narcotics Count', 'Other Crimes Count']].corr()\n",
        "print(correlation)"
      ],
      "metadata": {
        "id": "aflAMwhzSLSn"
      },
      "execution_count": null,
      "outputs": []
    },
    {
      "cell_type": "code",
      "source": [
        "import statsmodels.api as sm\n",
        "\n",
        "# 독립 변수와 종속 변수 설정\n",
        "X = merged_data['Narcotics Count']\n",
        "y = merged_data['Other Crimes Count']\n",
        "\n",
        "# 상수항 추가\n",
        "X = sm.add_constant(X)\n",
        "\n",
        "# 회귀 모델 피팅\n",
        "model = sm.OLS(y, X).fit()\n",
        "\n",
        "# 회귀 분석 결과 출력\n",
        "print(model.summary())"
      ],
      "metadata": {
        "id": "p5qgl2kuSMes"
      },
      "execution_count": null,
      "outputs": []
    },
    {
      "cell_type": "code",
      "source": [
        "import pandas as pd\n",
        "from google.colab import drive\n",
        "\n",
        "# 1️⃣ Google Drive 마운트\n",
        "drive.mount('/content/drive')\n",
        "\n",
        "# 2️⃣ 파일 경로 지정\n",
        "file_path_final = '/content/drive/MyDrive/final_crime_data_final_projuct.csv'"
      ],
      "metadata": {
        "id": "mDeA4dSQSONc"
      },
      "execution_count": null,
      "outputs": []
    },
    {
      "cell_type": "code",
      "source": [
        "df = pd.read_csv(file_path_final)\n",
        "\n",
        "# ✅ 1. 마약 범죄 필터링 (Primary Type이 'NARCOTICS' 인 경우)\n",
        "df_drug = df[df[\"Primary Type\"] == \"NARCOTICS\"]\n",
        "\n",
        "# ✅ 2. 다른 범죄 필터링 (마약 범죄가 아닌 경우)\n",
        "df_other_crimes = df[df[\"Primary Type\"] != \"NARCOTICS\"]\n",
        "\n",
        "# ✅ 3. Community Area별 범죄 발생 개수 계산\n",
        "drug_counts = df_drug[\"Community Area\"].value_counts().sort_index()\n",
        "other_counts = df_other_crimes[\"Community Area\"].value_counts().sort_index()\n",
        "\n",
        "# ✅ 4. 데이터 병합 (Community Area 기준)\n",
        "df_corr = pd.DataFrame({\n",
        "    \"Drug Crimes\": drug_counts,\n",
        "    \"Other Crimes\": other_counts\n",
        "}).fillna(0)  # 결측치는 0으로 채움\n",
        "\n",
        "# ✅ 5. 상관계수 계산\n",
        "correlation = df_corr.corr().iloc[0, 1]\n",
        "print(f\"📊 마약 범죄 vs. 다른 범죄의 상관계수: {correlation:.4f}\")\n",
        "\n",
        "# ✅ 6. 상관관계 시각화 (산점도)\n",
        "import matplotlib.pyplot as plt\n",
        "\n",
        "plt.figure(figsize=(8, 6))\n",
        "plt.scatter(df_corr[\"Drug Crimes\"], df_corr[\"Other Crimes\"], alpha=0.5)\n",
        "plt.xlabel(\"마약 범죄 건수\")\n",
        "plt.ylabel(\"다른 범죄 건수\")\n",
        "plt.title(f\"마약 범죄 vs. 다른 범죄 (상관계수: {correlation:.4f})\")\n",
        "plt.grid(True)\n",
        "plt.show()"
      ],
      "metadata": {
        "id": "Jun_nP5-SPeK"
      },
      "execution_count": null,
      "outputs": []
    },
    {
      "cell_type": "markdown",
      "source": [
        "=> 마약 범죄가 많이 발생하는 지역에서는 다른 범죄도 많이 발생하는 경향이 있음.\n",
        "\n",
        "하지만 인과관계가 있다는 뜻은 아님. 마약 범죄가 다른 범죄를 유발한다고 단정할 수는 없음."
      ],
      "metadata": {
        "id": "oTlCeuAFSRgU"
      }
    },
    {
      "cell_type": "code",
      "source": [
        "import pandas as pd\n",
        "import seaborn as sns\n",
        "import matplotlib.pyplot as plt\n",
        "\n",
        "# ✅ 데이터 불러오기\n",
        "df = pd.read_csv(file_path_final)\n",
        "\n",
        "# ✅ 모든 Primary Type별 Community Area별 범죄 건수 계산\n",
        "crime_counts = df.groupby([\"Community Area\", \"Primary Type\"]).size().unstack(fill_value=0)\n",
        "\n",
        "# ✅ 상관계수 계산\n",
        "corr_matrix = crime_counts.corr()\n",
        "\n",
        "# ✅ 시각화: 상관계수 Heatmap\n",
        "plt.figure(figsize=(12, 8))\n",
        "sns.heatmap(corr_matrix, annot=True, cmap=\"coolwarm\", fmt=\".2f\", linewidths=0.5)\n",
        "plt.title(\"📊 Primary Type별 범죄 간 상관계수\")\n",
        "plt.show()\n",
        "\n",
        "# ✅ 마약 범죄(NARCOTICS)와 다른 범죄 유형 간의 상관계수 정렬하여 출력\n",
        "narcotics_corr = corr_matrix[\"NARCOTICS\"].sort_values(ascending=False)\n",
        "print(narcotics_corr)"
      ],
      "metadata": {
        "id": "yEn--KZaSTRE"
      },
      "execution_count": null,
      "outputs": []
    },
    {
      "cell_type": "markdown",
      "source": [
        "# 전체 데이터를 위도,경도 기준으로 시각화하기"
      ],
      "metadata": {
        "id": "pIL-HLZSSbZa"
      }
    },
    {
      "cell_type": "code",
      "source": [
        "# 데이터 로드\n",
        "df = pd.read_csv(\"crime_data_final_projuct.csv\")"
      ],
      "metadata": {
        "id": "fE50U4fVSfA2"
      },
      "execution_count": null,
      "outputs": []
    },
    {
      "cell_type": "code",
      "source": [
        "import folium\n",
        "\n",
        "# 결측치 제거\n",
        "df_filtered = df.dropna(subset=['Latitude', 'Longitude'])\n",
        "\n",
        "# 지도 중심 설정 (시카고 중심)\n",
        "map_center = [41.8781, -87.6298]\n",
        "m = folium.Map(location=map_center, zoom_start=11)\n",
        "\n",
        "# 데이터 포인트 추가\n",
        "for _, row in df_filtered.iterrows():\n",
        "    folium.CircleMarker(\n",
        "        location=[row['Latitude'], row['Longitude']],\n",
        "        radius=2,\n",
        "        color='red',\n",
        "        fill=True,\n",
        "        fill_opacity=0.5\n",
        "    ).add_to(m)\n",
        "\n",
        "# 지도 출력\n",
        "m"
      ],
      "metadata": {
        "id": "Si10ZYrCSheO"
      },
      "execution_count": null,
      "outputs": []
    },
    {
      "cell_type": "code",
      "source": [
        "import pandas as pd\n",
        "\n",
        "# 수정된 시카고 경계 범위\n",
        "lat_min, lat_max = 41.6445, 42.0230\n",
        "lon_min, lon_max = -87.9401, -87.5240\n",
        "\n",
        "# 경계를 벗어난 데이터 필터링\n",
        "df_outside_chicago = df[\n",
        "    (df['Latitude'] < lat_min) | (df['Latitude'] > lat_max) |\n",
        "    (df['Longitude'] < lon_min) | (df['Longitude'] > lon_max)\n",
        "]\n",
        "\n",
        "# 시카고 경계를 벗어난 데이터 개수 확인\n",
        "num_outside_chicago = df_outside_chicago.shape[0]\n",
        "print(f\"시카고 경계를 벗어난 데이터 개수: {num_outside_chicago}\")\n",
        "\n",
        "# 경계를 벗어난 데이터 출력\n",
        "print(df_outside_chicago[['ID', 'Latitude', 'Longitude']])"
      ],
      "metadata": {
        "id": "n3Dn-WxBSit4"
      },
      "execution_count": null,
      "outputs": []
    },
    {
      "cell_type": "code",
      "source": [
        "import folium\n",
        "\n",
        "# 지도 중심 설정 (시카고 중심)\n",
        "map_center = [41.8781, -87.6298]\n",
        "m = folium.Map(location=map_center, zoom_start=11)\n",
        "\n",
        "# 경계를 벗어난 데이터 마커 추가\n",
        "for _, row in df_outside_chicago.iterrows():\n",
        "    folium.Marker(\n",
        "        location=[row['Latitude'], row['Longitude']],\n",
        "        popup=f\"ID: {row['ID']}\\nLatitude: {row['Latitude']}\\nLongitude: {row['Longitude']}\"\n",
        "    ).add_to(m)\n",
        "\n",
        "# 지도 출력\n",
        "m"
      ],
      "metadata": {
        "id": "A2VlkXFYSkH-"
      },
      "execution_count": null,
      "outputs": []
    },
    {
      "cell_type": "code",
      "source": [
        "# 범죄 데이터 딕셔너리\n",
        "crime_data = {\n",
        "    'THEFT': 1284608,\n",
        "    'BATTERY': 1125725,\n",
        "    'CRIMINAL DAMAGE': 710083,\n",
        "    'NARCOTICS': 674556,\n",
        "    'OTHER OFFENSE': 381714,\n",
        "    'ASSAULT': 376888,\n",
        "    'BURGLARY': 361624,\n",
        "    'MOTOR VEHICLE THEFT': 291030,\n",
        "    'ROBBERY': 233527,\n",
        "    'DECEPTIVE PRACTICE': 223245\n",
        "}\n",
        "\n",
        "# 전체 범죄 횟수 (원본 데이터 개수)\n",
        "total_crimes = 6170813\n",
        "\n",
        "# 상위 10개 범죄 및 그 횟수\n",
        "top_10_crimes = sorted(crime_data.items(), key=lambda x: x[1], reverse=True)[:10]\n",
        "\n",
        "# 상위 10개 범죄의 총합\n",
        "top_10_total = sum([crime[1] for crime in top_10_crimes])\n",
        "\n",
        "# 상위 10개 범죄 비율\n",
        "top_10_percentage = (top_10_total / total_crimes) * 100\n",
        "\n",
        "# 결과 출력\n",
        "print(f\"전체 범죄의 횟수: {total_crimes}\")\n",
        "print(f\"상위 10개의 범죄 횟수: {top_10_total}\")\n",
        "print(f\"상위 10개의 범죄가 차지하는 비율: {top_10_percentage:.2f}%\")"
      ],
      "metadata": {
        "id": "e6DyJPgnSmXz"
      },
      "execution_count": null,
      "outputs": []
    },
    {
      "cell_type": "code",
      "source": [
        "import pandas as pd\n",
        "\n",
        "# 데이터 로드\n",
        "df = pd.read_csv('crime_data_final_projuct.csv')\n",
        "\n",
        "# 수정된 시카고 경계 범위\n",
        "lat_min, lat_max = 41.6445, 42.0230\n",
        "lon_min, lon_max = -87.9401, -87.5240\n",
        "\n",
        "# 시카고 경계를 벗어난 데이터 필터링\n",
        "df_outside_chicago = df[\n",
        "    (df['Latitude'] < lat_min) | (df['Latitude'] > lat_max) |\n",
        "    (df['Longitude'] < lon_min) | (df['Longitude'] > lon_max)\n",
        "]\n",
        "\n",
        "# Community Area가 0.0인 데이터를 제외한 데이터 필터링\n",
        "df_filtered = df[~((df['Latitude'] < lat_min) | (df['Latitude'] > lat_max) |\n",
        "                  (df['Longitude'] < lon_min) | (df['Longitude'] > lon_max) |\n",
        "                  (df['Community Area'] == 0.0))]\n",
        "\n",
        "# 필터링된 데이터 개수\n",
        "num_filtered = df_filtered.shape[0]\n",
        "\n",
        "# 시카고 경계를 벗어난 데이터 개수\n",
        "num_outside_chicago = df_outside_chicago.shape[0]\n",
        "\n",
        "# Community Area가 0.0인 데이터 개수\n",
        "num_community_area_zero = df[df['Community Area'] == 0.0].shape[0]\n",
        "\n",
        "# 결과 출력\n",
        "print(f\"전체 데이터 개수: {df.shape[0]}\")\n",
        "print(f\"필터링된 데이터 개수: {num_filtered}\")\n",
        "print(f\"시카고 경계를 벗어난 데이터 개수: {num_outside_chicago}\")\n",
        "print(f\"Community Area가 0.0인 데이터 개수: {num_community_area_zero}\")"
      ],
      "metadata": {
        "id": "GBh77kygSrsa"
      },
      "execution_count": null,
      "outputs": []
    },
    {
      "cell_type": "markdown",
      "source": [
        "# 데이터 최종으로 가는 길"
      ],
      "metadata": {
        "id": "E_dxdJ85S3aX"
      }
    },
    {
      "cell_type": "code",
      "source": [
        "# 1️⃣ Google Drive 마운트\n",
        "drive.mount('/content/drive')\n",
        "\n",
        "# 2️⃣ 파일 경로 지정\n",
        "file_path_final = '/content/drive/MyDrive/crime_data_final.csv'"
      ],
      "metadata": {
        "id": "QWIbIqVbS68W"
      },
      "execution_count": null,
      "outputs": []
    },
    {
      "cell_type": "code",
      "source": [
        "# 3️⃣ 데이터 로드\n",
        "df_final = pd.read_csv(file_path_final)"
      ],
      "metadata": {
        "id": "2ps4ouq_S84V"
      },
      "execution_count": null,
      "outputs": []
    },
    {
      "cell_type": "code",
      "source": [
        "# ✅ 1. 중복 제거\n",
        "before_dup = df_final.shape[0]\n",
        "df_final = df_final.drop_duplicates(keep='first')\n",
        "after_dup = df_final.shape[0]\n",
        "removed_dup = before_dup - after_dup\n",
        "print(f\"🚀 중복 제거: {removed_dup}개 삭제 (남은 행: {after_dup})\")"
      ],
      "metadata": {
        "id": "tfxk1On3S-j2"
      },
      "execution_count": null,
      "outputs": []
    },
    {
      "cell_type": "code",
      "source": [
        "# ✅ 2. Community Area가 0.0인 행 제거\n",
        "before_comm = df_final.shape[0]\n",
        "df_final = df_final[df_final[\"Community Area\"] != 0.0]\n",
        "after_comm = df_final.shape[0]\n",
        "removed_comm = before_comm - after_comm\n",
        "print(f\"🚀 Community Area == 0.0 제거: {removed_comm}개 삭제 (남은 행: {after_comm})\")"
      ],
      "metadata": {
        "id": "UcpXwpR4TAxB"
      },
      "execution_count": null,
      "outputs": []
    },
    {
      "cell_type": "code",
      "source": [
        "# ✅ 3. 시카고 경계를 벗어난 데이터 제거\n",
        "lat_min, lat_max = 41.6445, 42.0230\n",
        "lon_min, lon_max = -87.9401, -87.5240\n",
        "\n",
        "before_bound = df_final.shape[0]\n",
        "df_final = df_final[\n",
        "    (df_final['Latitude'] >= lat_min) & (df_final['Latitude'] <= lat_max) &\n",
        "    (df_final['Longitude'] >= lon_min) & (df_final['Longitude'] <= lon_max)\n",
        "]\n",
        "after_bound = df_final.shape[0]\n",
        "removed_bound = before_bound - after_bound\n",
        "print(f\"🚀 시카고 경계 벗어난 데이터 제거: {removed_bound}개 삭제 (남은 행: {after_bound})\")"
      ],
      "metadata": {
        "id": "TWOB2GjzTDMg"
      },
      "execution_count": null,
      "outputs": []
    },
    {
      "cell_type": "code",
      "source": [
        "# 📌 제거된 행 수 총 정리\n",
        "print(\"\\n🔍 제거된 행 개수 총정리\")\n",
        "print(f\" 1️⃣ 중복 제거: {removed_dup}\")\n",
        "print(f\" 2️⃣ Community Area == 0.0 제거: {removed_comm}\")\n",
        "print(f\" 3️⃣ 시카고 경계 벗어난 데이터 제거: {removed_bound}\")\n",
        "print(f\" ✅ 최종 행 수: {df_final.shape[0]}\")"
      ],
      "metadata": {
        "id": "1Of12RMsTEmJ"
      },
      "execution_count": null,
      "outputs": []
    },
    {
      "cell_type": "code",
      "source": [
        "file_path = \"/content/crime_data_final_projuct_fix.csv\"\n",
        "df = pd.read_csv(file_path)\n",
        "\n",
        "print(df.isna().sum())"
      ],
      "metadata": {
        "id": "zwuBz2mATF-7"
      },
      "execution_count": null,
      "outputs": []
    },
    {
      "cell_type": "code",
      "source": [
        "import folium\n",
        "\n",
        "# Case Number가 결측치인 데이터 필터링\n",
        "df_case_missing = df[df[\"Case Number\"].isna()].dropna(subset=['Latitude', 'Longitude'])\n",
        "\n",
        "# 지도 중심 설정 (시카고)\n",
        "m_case = folium.Map(location=[41.8781, -87.6298], zoom_start=11)\n",
        "\n",
        "# 시카고 Community Area 경계 (파란색)\n",
        "geojson_url = \"https://data.cityofchicago.org/resource/igwz-8jzy.geojson\"\n",
        "folium.GeoJson(geojson_url, name=\"Community Areas\", style_function=lambda x: {'color': 'blue', 'weight': 1, 'fillOpacity': 0.2}).add_to(m_case)\n",
        "\n",
        "# 결측치 위치 마커 추가\n",
        "for _, row in df_case_missing.iterrows():\n",
        "    folium.CircleMarker(\n",
        "        location=[row[\"Latitude\"], row[\"Longitude\"]],\n",
        "        radius=4,\n",
        "        color='red',  # 빨간색\n",
        "        fill=True,\n",
        "        fill_opacity=0.6\n",
        "    ).add_to(m_case)\n",
        "\n",
        "# 지도 출력\n",
        "m_case"
      ],
      "metadata": {
        "id": "WqIjF-pwTL_M"
      },
      "execution_count": null,
      "outputs": []
    },
    {
      "cell_type": "code",
      "source": [
        "import folium\n",
        "\n",
        "# Location Description이 결측치인 데이터 필터링\n",
        "df_loc_missing = df[df[\"Location Description\"].isna()].dropna(subset=['Latitude', 'Longitude'])\n",
        "\n",
        "# 지도 중심 설정 (시카고)\n",
        "m_loc = folium.Map(location=[41.8781, -87.6298], zoom_start=11)\n",
        "\n",
        "# 시카고 Community Area 경계 (파란색)\n",
        "folium.GeoJson(geojson_url, name=\"Community Areas\", style_function=lambda x: {'color': 'blue', 'weight': 1, 'fillOpacity': 0.2}).add_to(m_loc)\n",
        "\n",
        "# 결측치 위치 마커 추가\n",
        "for _, row in df_loc_missing.iterrows():\n",
        "    folium.CircleMarker(\n",
        "        location=[row[\"Latitude\"], row[\"Longitude\"]],\n",
        "        radius=4,\n",
        "        color='blue',  # 파란색\n",
        "        fill=True,\n",
        "        fill_opacity=0.6\n",
        "    ).add_to(m_loc)\n",
        "\n",
        "# 지도 출력\n",
        "m_loc"
      ],
      "metadata": {
        "id": "CktzIpWGTN4E"
      },
      "execution_count": null,
      "outputs": []
    },
    {
      "cell_type": "code",
      "source": [
        "import folium\n",
        "\n",
        "# Community Area가 결측치인 데이터 필터링\n",
        "df_comm_missing = df[df[\"Community Area\"].isna()].dropna(subset=['Latitude', 'Longitude'])\n",
        "\n",
        "# 지도 중심 설정 (시카고)\n",
        "m_comm = folium.Map(location=[41.8781, -87.6298], zoom_start=11)\n",
        "\n",
        "# 시카고 Community Area 경계 (파란색)\n",
        "folium.GeoJson(geojson_url, name=\"Community Areas\", style_function=lambda x: {'color': 'blue', 'weight': 1, 'fillOpacity': 0.2}).add_to(m_comm)\n",
        "\n",
        "# 결측치 위치 마커 추가\n",
        "for _, row in df_comm_missing.iterrows():\n",
        "    folium.CircleMarker(\n",
        "        location=[row[\"Latitude\"], row[\"Longitude\"]],\n",
        "        radius=4,\n",
        "        color='green',  # 초록색\n",
        "        fill=True,\n",
        "        fill_opacity=0.6\n",
        "    ).add_to(m_comm)\n",
        "\n",
        "# 지도 출력\n",
        "m_comm"
      ],
      "metadata": {
        "id": "8SA1HPn_TRc-"
      },
      "execution_count": null,
      "outputs": []
    },
    {
      "cell_type": "code",
      "source": [
        "import pandas as pd\n",
        "from google.colab import drive\n",
        "\n",
        "# 1️⃣ Google Drive 마운트\n",
        "drive.mount('/content/drive')\n",
        "\n",
        "# 2️⃣ 파일 경로 지정\n",
        "file_path_final = '/content/drive/MyDrive/crime_data_final.csv'"
      ],
      "metadata": {
        "id": "r4wmPmKJTTe5"
      },
      "execution_count": null,
      "outputs": []
    },
    {
      "cell_type": "code",
      "source": [
        "# 3️⃣ 데이터 로드\n",
        "df_final = pd.read_csv(file_path_final)\n",
        "\n",
        "# ✅ 원래 데이터 행 개수\n",
        "original_rows = df_final.shape[0]"
      ],
      "metadata": {
        "id": "WtYYzcUxTU-u"
      },
      "execution_count": null,
      "outputs": []
    },
    {
      "cell_type": "code",
      "source": [
        "# ✅ 1. 중복 제거\n",
        "before_dup = df_final.shape[0]\n",
        "df_final = df_final.drop_duplicates(keep='first')\n",
        "after_dup = df_final.shape[0]\n",
        "removed_dup = before_dup - after_dup\n",
        "print(f\"🚀 중복 제거: {removed_dup}개 삭제 (남은 행: {after_dup})\")"
      ],
      "metadata": {
        "id": "eK77uj55TWWU"
      },
      "execution_count": null,
      "outputs": []
    },
    {
      "cell_type": "code",
      "source": [
        "# ✅ 2. Community Area가 0.0인 행 제거\n",
        "before_comm = df_final.shape[0]\n",
        "df_final = df_final[df_final[\"Community Area\"] != 0.0]\n",
        "after_comm = df_final.shape[0]\n",
        "removed_comm = before_comm - after_comm\n",
        "print(f\"🚀 Community Area == 0.0 제거: {removed_comm}개 삭제 (남은 행: {after_comm})\")"
      ],
      "metadata": {
        "id": "gEWNn2xlTYQ4"
      },
      "execution_count": null,
      "outputs": []
    },
    {
      "cell_type": "code",
      "source": [
        "# ✅ 3. 시카고 경계를 벗어난 데이터 제거\n",
        "lat_min, lat_max = 41.6445, 42.0230\n",
        "lon_min, lon_max = -87.9401, -87.5240\n",
        "\n",
        "before_bound = df_final.shape[0]\n",
        "df_final = df_final[\n",
        "    (df_final['Latitude'] >= lat_min) & (df_final['Latitude'] <= lat_max) &\n",
        "    (df_final['Longitude'] >= lon_min) & (df_final['Longitude'] <= lon_max)\n",
        "]\n",
        "after_bound = df_final.shape[0]\n",
        "removed_bound = before_bound - after_bound\n",
        "print(f\"🚀 시카고 경계 벗어난 데이터 제거: {removed_bound}개 삭제 (남은 행: {after_bound})\")"
      ],
      "metadata": {
        "id": "6PSlLgKbTZri"
      },
      "execution_count": null,
      "outputs": []
    },
    {
      "cell_type": "code",
      "source": [
        "# ✅ 4. Case Number 결측치 삭제\n",
        "before_case = df_final.shape[0]\n",
        "df_final = df_final.dropna(subset=['Case Number'])\n",
        "after_case = df_final.shape[0]\n",
        "removed_case = before_case - after_case\n",
        "print(f\"🚀 Case Number 결측치 삭제: {removed_case}개 삭제 (남은 행: {after_case})\")"
      ],
      "metadata": {
        "id": "AFKBVxv2TbXE"
      },
      "execution_count": null,
      "outputs": []
    },
    {
      "cell_type": "code",
      "source": [
        "# ✅ 5. Location Description 결측치 'Unknown'으로 대체\n",
        "before_loc_desc = df_final[\"Location Description\"].isna().sum()\n",
        "df_final[\"Location Description\"].fillna(\"Unknown\", inplace=True)\n",
        "after_loc_desc = df_final[\"Location Description\"].isna().sum()\n",
        "print(f\"🚀 Location Description 결측치 대체: {before_loc_desc}개 → {after_loc_desc}개 ('Unknown' 처리)\")"
      ],
      "metadata": {
        "id": "54YX88xWTc4O"
      },
      "execution_count": null,
      "outputs": []
    },
    {
      "cell_type": "code",
      "source": [
        "# ✅ 6. Community Area 결측치 삭제\n",
        "before_comm_na = df_final.shape[0]\n",
        "df_final = df_final.dropna(subset=['Community Area'])\n",
        "after_comm_na = df_final.shape[0]\n",
        "removed_comm_na = before_comm_na - after_comm_na\n",
        "print(f\"🚀 Community Area 결측치 삭제: {removed_comm_na}개 삭제 (남은 행: {after_comm_na})\")"
      ],
      "metadata": {
        "id": "WQgtnaAnTek5"
      },
      "execution_count": null,
      "outputs": []
    },
    {
      "cell_type": "code",
      "source": [
        "# 📌 제거된 행 수 총 정리\n",
        "print(f\" 0️⃣ 원래 데이터 행 개수: {original_rows}\")\n",
        "print(f\" 1️⃣ 중복 제거: {removed_dup}\")\n",
        "print(f\" 2️⃣ Community Area == 0.0 제거: {removed_comm}\")\n",
        "print(f\" 3️⃣ 시카고 경계 벗어난 데이터 제거: {removed_bound}\")\n",
        "print(f\" 4️⃣ Case Number 결측치 삭제: {removed_case}\")\n",
        "print(f\" 5️⃣ Location Description 결측치 대체: {before_loc_desc} → {after_loc_desc} ('Unknown' 처리)\")\n",
        "print(f\" 6️⃣ Community Area 결측치 삭제: {removed_comm_na}\")\n",
        "print(f\" ✅ 최종 행 수: {df_final.shape[0]}\")"
      ],
      "metadata": {
        "id": "rojoN2URTfzw"
      },
      "execution_count": null,
      "outputs": []
    },
    {
      "cell_type": "code",
      "source": [
        "# ✅ 정리된 데이터 저장\n",
        "save_path = \"/content/final_crime_data_final_projuct.csv\"\n",
        "df_final.to_csv(save_path, index=False)\n",
        "print(f\"✅ 정리된 데이터 저장 완료: {save_path}\")"
      ],
      "metadata": {
        "id": "gn3p_avrTjAO"
      },
      "execution_count": null,
      "outputs": []
    },
    {
      "cell_type": "code",
      "source": [
        "file_path = \"/content/final_crime_data_final_projuct.csv\"\n",
        "df = pd.read_csv(file_path)\n",
        "\n",
        "print(df.isna().sum())"
      ],
      "metadata": {
        "id": "ANBZ2-XRTkXb"
      },
      "execution_count": null,
      "outputs": []
    },
    {
      "cell_type": "code",
      "source": [
        "# 1️⃣ Google Drive 마운트\n",
        "drive.mount('/content/drive')\n",
        "\n",
        "# 2️⃣ 파일 경로 지정\n",
        "file_path_total = '/content/drive/MyDrive/Chicago_Crimes_Total.csv'"
      ],
      "metadata": {
        "id": "hbwKPY7kTnYb"
      },
      "execution_count": null,
      "outputs": []
    },
    {
      "cell_type": "code",
      "source": [
        "df_total = pd.read_csv(file_path_total)\n",
        "\n",
        "print(f\"🔍 총 데이터 행 개수: {df_total.shape[0]}\")\n",
        "\n",
        "print(df_total.isna().sum())"
      ],
      "metadata": {
        "id": "OdkBn_nzTo3P"
      },
      "execution_count": null,
      "outputs": []
    },
    {
      "cell_type": "markdown",
      "source": [
        "# Primary Type과 상관관계"
      ],
      "metadata": {
        "id": "crlBpYAqTre7"
      }
    },
    {
      "cell_type": "code",
      "source": [
        "drive.mount('/content/drive')\n",
        "\n",
        "file_path_total = '/content/drive/MyDrive/final_crime_data_final_projuct.csv'"
      ],
      "metadata": {
        "id": "qHcZpRKMTxqO"
      },
      "execution_count": null,
      "outputs": []
    },
    {
      "cell_type": "code",
      "source": [
        "df = pd.read_csv(file_path_total)"
      ],
      "metadata": {
        "id": "68vJogCVTzNv"
      },
      "execution_count": null,
      "outputs": []
    },
    {
      "cell_type": "markdown",
      "source": [
        "Primary Type와 Domestic의 상관관계\n",
        "\n",
        "귀무가설 (H₀): Primary Type(범죄 유형)과 Domestic(가정 폭력 여부)는 서로 독립이다.\n",
        "\n",
        "대립가설 (H₁): Primary Type(범죄 유형)과 Domestic(가정 폭력 여부) 사이에는 관련성이 있다."
      ],
      "metadata": {
        "id": "K2SgwZ_QT0oo"
      }
    },
    {
      "cell_type": "code",
      "source": [
        "# 교차표 생성\n",
        "contingency = pd.crosstab(df['Primary Type'], df['Domestic'])\n",
        "\n",
        "# 카이제곱 검정 수행\n",
        "chi2, p, dof, expected = chi2_contingency(contingency)\n",
        "\n",
        "# 결과 출력\n",
        "chi2_result = {\n",
        "    \"Chi-squared statistic\": chi2,\n",
        "    \"Degrees of freedom\": dof,\n",
        "    \"p-value\": p\n",
        "}\n",
        "\n",
        "# 기대 빈도표 생성\n",
        "expected_df = pd.DataFrame(expected, index=contingency.index, columns=contingency.columns)\n",
        "\n",
        "# 범죄 유형별 Domestic 비율 계산\n",
        "domestic_rate = df.groupby('Primary Type')['Domestic'].mean().sort_values()\n",
        "\n",
        "# 시각화\n",
        "plt.figure(figsize=(7, 5.5))\n",
        "domestic_rate.plot(kind='barh', color='skyblue', edgecolor='black')\n",
        "plt.title('Domestic Violence Rate by Crime Type')\n",
        "plt.xlabel('Domestic Violence Rate')\n",
        "plt.grid(True)\n",
        "plt.tight_layout()\n",
        "plt.show()\n",
        "\n",
        "chi2_result"
      ],
      "metadata": {
        "id": "NGx7ZlCpT3ks"
      },
      "execution_count": null,
      "outputs": []
    },
    {
      "cell_type": "markdown",
      "source": [
        "해석:\n",
        "\n",
        "카이제곱 값이 매우 큼 → 독립성을 강하게 부정하는 결과일 가능성이 높음.\n",
        "\n",
        "자유도가 34 → 비교한 범주의 개수가 많음.\n",
        "\n",
        "p-value = 0.0 → 귀무가설(H₀: 두 변수는 독립적이다)을 기각함. 즉, 두 변수 사이에 유의미한 관계가 있음.\n",
        "\n",
        "결론: p-value가 0에 수렴하므로, 두 변수는 통계적으로 유의미한 연관성이 있다고 볼 수 있음."
      ],
      "metadata": {
        "id": "AaLAhPg1T5_1"
      }
    },
    {
      "cell_type": "markdown",
      "source": [
        "Primary Type(범죄 유형)과 Community Area(지역) 간의 상관관계\n",
        "\n",
        "가설 설정\n",
        "\n",
        "귀무가설 (H₀): Primary Type(범죄 유형)과 Community Area(지역)는 서로 독립이다.\n",
        "\n",
        "대립가설 (H₁): Primary Type(범죄 유형)과 Community Area(지역) 사이에는 관련성이 있다."
      ],
      "metadata": {
        "id": "NTisnzeNT8Ny"
      }
    },
    {
      "cell_type": "code",
      "source": [
        "# Primary Type(범죄 유형)과 Community Area(지역) 교차표 생성\n",
        "contingency = pd.crosstab(df['Primary Type'], df['Community Area'])\n",
        "\n",
        "# 카이제곱 검정 수행\n",
        "chi2, p, dof, expected = chi2_contingency(contingency)\n",
        "\n",
        "# 결과 출력\n",
        "chi2_result = {\n",
        "    \"Chi-squared statistic\": chi2,\n",
        "    \"Degrees of freedom\": dof,\n",
        "    \"p-value\": p\n",
        "}\n",
        "\n",
        "# 기대 빈도표 생성\n",
        "expected_df = pd.DataFrame(expected, index=contingency.index, columns=contingency.columns)\n",
        "\n",
        "chi2_result"
      ],
      "metadata": {
        "id": "6wku_zeYT98c"
      },
      "execution_count": null,
      "outputs": []
    },
    {
      "cell_type": "code",
      "source": [
        "# Community Area별 주요 범죄 유형 비율 계산\n",
        "crime_area_rate = df.groupby('Primary Type')['Community Area'].nunique().sort_values()\n",
        "\n",
        "# 시각화\n",
        "plt.figure(figsize=(7, 5.5))\n",
        "crime_area_rate.plot(kind='barh', color='skyblue', edgecolor='black')\n",
        "plt.title('Number of Community Areas by Crime Type')\n",
        "plt.xlabel('Number of Unique Community Areas')\n",
        "plt.grid(True)\n",
        "plt.tight_layout()\n",
        "plt.show()"
      ],
      "metadata": {
        "id": "DtR_h1t_T_jS"
      },
      "execution_count": null,
      "outputs": []
    },
    {
      "cell_type": "markdown",
      "source": [
        "Primary Type(범죄 유형)과 Domestic(가정 폭력 여부) 피처 생성"
      ],
      "metadata": {
        "id": "hFMYgAYwUCa2"
      }
    },
    {
      "cell_type": "code",
      "source": [
        "#범죄 유형별 발생 빈도\n",
        "crime_freq = df['Primary Type'].value_counts()\n",
        "df['Crime Type Frequency'] = df['Primary Type'].map(crime_freq)\n",
        "\n",
        "crime_freq"
      ],
      "metadata": {
        "id": "Id7ZJBq1UEMA"
      },
      "execution_count": null,
      "outputs": []
    },
    {
      "cell_type": "code",
      "source": [
        "#범죄 유형 분포\n",
        "crime_distribution = df['Primary Type'].value_counts(normalize=True)\n",
        "df['Crime Type Distribution'] = df['Primary Type'].map(crime_distribution)\n",
        "\n",
        "crime_distribution"
      ],
      "metadata": {
        "id": "e4rfPMgaUGbm"
      },
      "execution_count": null,
      "outputs": []
    },
    {
      "cell_type": "code",
      "source": [
        "#범죄 유형 발생 확률\n",
        "crime_prob_domestic = df.groupby('Primary Type')['Domestic'].mean()\n",
        "df['Crime Type Probability by Domestic'] = df['Primary Type'].map(crime_prob_domestic)\n",
        "\n",
        "crime_prob_domestic"
      ],
      "metadata": {
        "id": "vIxBRb-HUIG7"
      },
      "execution_count": null,
      "outputs": []
    },
    {
      "cell_type": "code",
      "source": [
        "#평균 범죄 발생 건수\n",
        "mean_crime_by_type = df.groupby('Primary Type').size().mean()\n",
        "df['Mean Crime Count'] = df['Primary Type'].map(df.groupby('Primary Type').size())\n",
        "\n",
        "mean_crime_by_type"
      ],
      "metadata": {
        "id": "YTUvLhtMUJ6V"
      },
      "execution_count": null,
      "outputs": []
    },
    {
      "cell_type": "markdown",
      "source": [
        "Primary Type과 Community Area 피처 생성"
      ],
      "metadata": {
        "id": "u-UtSpJ9UMJV"
      }
    },
    {
      "cell_type": "code",
      "source": [
        "# 1. 범죄 유형별 Community Area 내 발생 빈도\n",
        "crime_freq_by_area = df.groupby(['Community Area', 'Primary Type']).size().unstack(fill_value=0)\n",
        "df['Crime Type Frequency by Area'] = df.set_index(['Community Area', 'Primary Type']).index.map(crime_freq_by_area.stack())\n",
        "\n",
        "crime_freq_by_area"
      ],
      "metadata": {
        "id": "RXC_kYoxUOoG"
      },
      "execution_count": null,
      "outputs": []
    },
    {
      "cell_type": "code",
      "source": [
        "#Community Area별 특정 범죄 유형 비율 (분포)\n",
        "crime_distribution_by_area = df.groupby('Community Area')['Primary Type'].value_counts(normalize=True).unstack(fill_value=0)\n",
        "df['Crime Type Distribution by Area'] = df.set_index(['Community Area', 'Primary Type']).index.map(crime_distribution_by_area.stack())\n",
        "\n",
        "crime_distribution_by_area"
      ],
      "metadata": {
        "id": "UTEl64R6UQED"
      },
      "execution_count": null,
      "outputs": []
    },
    {
      "cell_type": "code",
      "source": [
        "#Community Area에서 특정 범죄 유형이 발생할 확률\n",
        "crime_prob_by_area = (df.groupby(['Community Area', 'Primary Type']).size() / df.groupby('Community Area').size()).unstack(fill_value=0)\n",
        "df['Crime Type Probability by Area'] = df.set_index(['Community Area', 'Primary Type']).index.map(crime_prob_by_area.stack())\n",
        "\n",
        "crime_prob_by_area"
      ],
      "metadata": {
        "id": "B0KvVAqlURZs"
      },
      "execution_count": null,
      "outputs": []
    },
    {
      "cell_type": "code",
      "source": [
        "#Community Area별 평균 범죄 발생 건수\n",
        "mean_crime_by_area = df.groupby('Community Area').size().mean()\n",
        "df['Mean Crime Count by Area'] = df['Community Area'].map(df.groupby('Community Area').size())\n",
        "\n",
        "mean_crime_by_area"
      ],
      "metadata": {
        "id": "URsbEMNrUS2r"
      },
      "execution_count": null,
      "outputs": []
    },
    {
      "cell_type": "code",
      "source": [
        "# 생성된 피처 확인\n",
        "df.head()"
      ],
      "metadata": {
        "id": "gMVtRPZcUU3i"
      },
      "execution_count": null,
      "outputs": []
    },
    {
      "cell_type": "markdown",
      "source": [
        "# Primary Type(범죄 유형)와 Domestic(가정 폭력 여부) 시각화"
      ],
      "metadata": {
        "id": "CQw1u9cvUbyU"
      }
    },
    {
      "cell_type": "code",
      "source": [
        "import pandas as pd\n",
        "import numpy as np\n",
        "import matplotlib.pyplot as plt\n",
        "import seaborn as sns\n",
        "from google.colab import drive\n",
        "from scipy.stats import chi2_contingency"
      ],
      "metadata": {
        "colab": {
          "base_uri": "https://localhost:8080/",
          "height": 365
        },
        "id": "fH2y3PTqUgH3",
        "outputId": "1f23df41-d770-4a4f-efdc-48d8573121e7"
      },
      "execution_count": 1,
      "outputs": [
        {
          "output_type": "error",
          "ename": "KeyboardInterrupt",
          "evalue": "",
          "traceback": [
            "\u001b[0;31m---------------------------------------------------------------------------\u001b[0m",
            "\u001b[0;31mKeyboardInterrupt\u001b[0m                         Traceback (most recent call last)",
            "\u001b[0;32m<ipython-input-1-350e967e3af5>\u001b[0m in \u001b[0;36m<cell line: 0>\u001b[0;34m()\u001b[0m\n\u001b[1;32m      2\u001b[0m \u001b[0;32mimport\u001b[0m \u001b[0mnumpy\u001b[0m \u001b[0;32mas\u001b[0m \u001b[0mnp\u001b[0m\u001b[0;34m\u001b[0m\u001b[0;34m\u001b[0m\u001b[0m\n\u001b[1;32m      3\u001b[0m \u001b[0;32mimport\u001b[0m \u001b[0mmatplotlib\u001b[0m\u001b[0;34m.\u001b[0m\u001b[0mpyplot\u001b[0m \u001b[0;32mas\u001b[0m \u001b[0mplt\u001b[0m\u001b[0;34m\u001b[0m\u001b[0;34m\u001b[0m\u001b[0m\n\u001b[0;32m----> 4\u001b[0;31m \u001b[0;32mimport\u001b[0m \u001b[0mseaborn\u001b[0m \u001b[0;32mas\u001b[0m \u001b[0msns\u001b[0m\u001b[0;34m\u001b[0m\u001b[0;34m\u001b[0m\u001b[0m\n\u001b[0m\u001b[1;32m      5\u001b[0m \u001b[0;32mfrom\u001b[0m \u001b[0mgoogle\u001b[0m\u001b[0;34m.\u001b[0m\u001b[0mcolab\u001b[0m \u001b[0;32mimport\u001b[0m \u001b[0mdrive\u001b[0m\u001b[0;34m\u001b[0m\u001b[0;34m\u001b[0m\u001b[0m\n\u001b[1;32m      6\u001b[0m \u001b[0;32mfrom\u001b[0m \u001b[0mscipy\u001b[0m\u001b[0;34m.\u001b[0m\u001b[0mstats\u001b[0m \u001b[0;32mimport\u001b[0m \u001b[0mchi2_contingency\u001b[0m\u001b[0;34m\u001b[0m\u001b[0;34m\u001b[0m\u001b[0m\n",
            "\u001b[0;32m/usr/local/lib/python3.11/dist-packages/seaborn/__init__.py\u001b[0m in \u001b[0;36m<module>\u001b[0;34m\u001b[0m\n\u001b[1;32m      3\u001b[0m \u001b[0;32mfrom\u001b[0m \u001b[0;34m.\u001b[0m\u001b[0mutils\u001b[0m \u001b[0;32mimport\u001b[0m \u001b[0;34m*\u001b[0m  \u001b[0;31m# noqa: F401,F403\u001b[0m\u001b[0;34m\u001b[0m\u001b[0;34m\u001b[0m\u001b[0m\n\u001b[1;32m      4\u001b[0m \u001b[0;32mfrom\u001b[0m \u001b[0;34m.\u001b[0m\u001b[0mpalettes\u001b[0m \u001b[0;32mimport\u001b[0m \u001b[0;34m*\u001b[0m  \u001b[0;31m# noqa: F401,F403\u001b[0m\u001b[0;34m\u001b[0m\u001b[0;34m\u001b[0m\u001b[0m\n\u001b[0;32m----> 5\u001b[0;31m \u001b[0;32mfrom\u001b[0m \u001b[0;34m.\u001b[0m\u001b[0mrelational\u001b[0m \u001b[0;32mimport\u001b[0m \u001b[0;34m*\u001b[0m  \u001b[0;31m# noqa: F401,F403\u001b[0m\u001b[0;34m\u001b[0m\u001b[0;34m\u001b[0m\u001b[0m\n\u001b[0m\u001b[1;32m      6\u001b[0m \u001b[0;32mfrom\u001b[0m \u001b[0;34m.\u001b[0m\u001b[0mregression\u001b[0m \u001b[0;32mimport\u001b[0m \u001b[0;34m*\u001b[0m  \u001b[0;31m# noqa: F401,F403\u001b[0m\u001b[0;34m\u001b[0m\u001b[0;34m\u001b[0m\u001b[0m\n\u001b[1;32m      7\u001b[0m \u001b[0;32mfrom\u001b[0m \u001b[0;34m.\u001b[0m\u001b[0mcategorical\u001b[0m \u001b[0;32mimport\u001b[0m \u001b[0;34m*\u001b[0m  \u001b[0;31m# noqa: F401,F403\u001b[0m\u001b[0;34m\u001b[0m\u001b[0;34m\u001b[0m\u001b[0m\n",
            "\u001b[0;32m/usr/local/lib/python3.11/dist-packages/seaborn/relational.py\u001b[0m in \u001b[0;36m<module>\u001b[0;34m\u001b[0m\n\u001b[1;32m     20\u001b[0m \u001b[0;32mfrom\u001b[0m \u001b[0;34m.\u001b[0m\u001b[0m_compat\u001b[0m \u001b[0;32mimport\u001b[0m \u001b[0mgroupby_apply_include_groups\u001b[0m\u001b[0;34m\u001b[0m\u001b[0;34m\u001b[0m\u001b[0m\n\u001b[1;32m     21\u001b[0m \u001b[0;32mfrom\u001b[0m \u001b[0;34m.\u001b[0m\u001b[0m_statistics\u001b[0m \u001b[0;32mimport\u001b[0m \u001b[0mEstimateAggregator\u001b[0m\u001b[0;34m,\u001b[0m \u001b[0mWeightedAggregator\u001b[0m\u001b[0;34m\u001b[0m\u001b[0;34m\u001b[0m\u001b[0m\n\u001b[0;32m---> 22\u001b[0;31m \u001b[0;32mfrom\u001b[0m \u001b[0;34m.\u001b[0m\u001b[0maxisgrid\u001b[0m \u001b[0;32mimport\u001b[0m \u001b[0mFacetGrid\u001b[0m\u001b[0;34m,\u001b[0m \u001b[0m_facet_docs\u001b[0m\u001b[0;34m\u001b[0m\u001b[0;34m\u001b[0m\u001b[0m\n\u001b[0m\u001b[1;32m     23\u001b[0m \u001b[0;32mfrom\u001b[0m \u001b[0;34m.\u001b[0m\u001b[0m_docstrings\u001b[0m \u001b[0;32mimport\u001b[0m \u001b[0mDocstringComponents\u001b[0m\u001b[0;34m,\u001b[0m \u001b[0m_core_docs\u001b[0m\u001b[0;34m\u001b[0m\u001b[0;34m\u001b[0m\u001b[0m\n\u001b[1;32m     24\u001b[0m \u001b[0;34m\u001b[0m\u001b[0m\n",
            "\u001b[0;31mKeyboardInterrupt\u001b[0m: "
          ]
        }
      ]
    },
    {
      "cell_type": "code",
      "source": [
        "# 시각화 시 한글 깨짐 방지 위한 폰트 설치 및 적용\n",
        "\n",
        "%%capture\n",
        "!sudo apt-get install -y fonts-nanum\n",
        "!sudo fc-cache -fv\n",
        "!rm ~/.cache/matplotlib -rf\n",
        "\n",
        "plt.rc('font', family='NanumBarunGothic')\n",
        "plt.rcParams['axes.unicode_minus'] =False"
      ],
      "metadata": {
        "id": "9BtjLlQnUixv"
      },
      "execution_count": null,
      "outputs": []
    },
    {
      "cell_type": "code",
      "source": [
        "drive.mount('/content/drive')\n",
        "\n",
        "file_path_total = '/content/drive/MyDrive/final_crime_data_final_projuct.csv'"
      ],
      "metadata": {
        "id": "kVcLQQjnUkS1"
      },
      "execution_count": null,
      "outputs": []
    },
    {
      "cell_type": "code",
      "source": [
        "# CSV 파일 로드\n",
        "df = pd.read_csv(file_path_total)"
      ],
      "metadata": {
        "id": "zzZHPbi3Ulk1"
      },
      "execution_count": null,
      "outputs": []
    },
    {
      "cell_type": "markdown",
      "source": [
        "전체 범죄 중 Domestic(가정 폭력 관련 여부)이 차지하는 비율은?"
      ],
      "metadata": {
        "id": "XeVl19HpUnrR"
      }
    },
    {
      "cell_type": "code",
      "source": [
        "# 전체 범죄 건수\n",
        "total_crimes = len(df)\n",
        "\n",
        "# 가정 폭력(Domestic=True) 범죄 건수\n",
        "domestic_crimes = df[df['Domestic'] == True].shape[0]\n",
        "\n",
        "# 가정 폭력 비율 (%)\n",
        "domestic_percentage = (domestic_crimes / total_crimes) * 100\n",
        "\n",
        "# 결과 출력\n",
        "print(f\"전체 범죄 건수: {total_crimes:,}건\")\n",
        "print(f\"가정 폭력 관련 범죄 건수: {domestic_crimes:,}건\")\n",
        "print(f\"가정 폭력 비율: {domestic_percentage:.2f}%\")"
      ],
      "metadata": {
        "id": "04SYTUjEUpO_"
      },
      "execution_count": null,
      "outputs": []
    },
    {
      "cell_type": "markdown",
      "source": [
        "Domestic(가정 폭력 관련 여부) 중 TRUE(가정 내 사건), FALSE(아님)의 비율"
      ],
      "metadata": {
        "id": "YR3LWs1JUq1A"
      }
    },
    {
      "cell_type": "code",
      "source": [
        "# Domestic 컬럼 값별 개수 계산\n",
        "domestic_counts = df['Domestic'].value_counts()\n",
        "\n",
        "# True(가정 내 사건)와 False(아님) 개수\n",
        "true_count = domestic_counts.get(True, 0)\n",
        "false_count = domestic_counts.get(False, 0)\n",
        "\n",
        "# 전체 사건 대비 비율 계산\n",
        "total_crimes = len(df)\n",
        "true_percentage = (true_count / total_crimes) * 100\n",
        "false_percentage = (false_count / total_crimes) * 100\n",
        "\n",
        "# 결과 출력\n",
        "print(f\"True : {true_count:,}건 ({true_percentage:.2f}%)\")\n",
        "print(f\"False : {false_count:,}건 ({false_percentage:.2f}%)\")"
      ],
      "metadata": {
        "id": "5pWpvVRgUslx"
      },
      "execution_count": null,
      "outputs": []
    },
    {
      "cell_type": "markdown",
      "source": [
        "가정 폭력 사건(Domestic=True) 상위 10개 범죄 유형 비율"
      ],
      "metadata": {
        "id": "5H0oXWlBUuVm"
      }
    },
    {
      "cell_type": "code",
      "source": [
        "# Domestic=True인 데이터만 필터링\n",
        "domestic_df = df[df['Domestic'] == True]\n",
        "\n",
        "# Domestic 전체 건수\n",
        "total_domestic = len(domestic_df)\n",
        "\n",
        "# Primary Type별 상위 10개 및 각 비율 계산\n",
        "top10_domestic = domestic_df['Primary Type'].value_counts().head(10)\n",
        "\n",
        "# 결과 출력\n",
        "print(\"가정 폭력 사건(Domestic=True) 상위 10개 범죄 유형 (전체 Domestic 대비 비율)\")\n",
        "for crime, count in top10_domestic.items():\n",
        "    percentage = (count / total_domestic) * 100  # Domestic 중 비율\n",
        "    print(f\"{crime}: {count:,}건 ({percentage:.2f}%)\")"
      ],
      "metadata": {
        "id": "39FlbFZrUvra"
      },
      "execution_count": null,
      "outputs": []
    },
    {
      "cell_type": "markdown",
      "source": [
        "가정 폭력 사건(Domestic=True) 상위 10개 범죄 유형 시각화"
      ],
      "metadata": {
        "id": "PeqnXqxEUyIr"
      }
    },
    {
      "cell_type": "code",
      "source": [
        "# ✅ 한글 매핑 컬럼 생성\n",
        "df['Primary Type (한글)'] = df['Primary Type'].map(type_map)"
      ],
      "metadata": {
        "id": "-VxWIpCnUzpm"
      },
      "execution_count": null,
      "outputs": []
    },
    {
      "cell_type": "code",
      "source": [
        "# 범죄 유형 vs. 가정 폭력 여부 (막대그래프)\n",
        "plt.figure(figsize=(8, 4))\n",
        "domestic_counts = df[df['Domestic'] == True]['Primary Type (한글)'].value_counts().head(10)  # 상위 10개 유형만 표시\n",
        "sns.barplot(x=domestic_counts.values, y=domestic_counts.index, color=\"#4682B4\")\n",
        "plt.xlabel(\"건수\")\n",
        "plt.ylabel(\"범죄 유형\")\n",
        "plt.title(\"가정 폭력 신고 건수 대비 주요 범죄 유형\")\n",
        "plt.show()"
      ],
      "metadata": {
        "id": "9HgrNhKKU0-e"
      },
      "execution_count": null,
      "outputs": []
    },
    {
      "cell_type": "markdown",
      "source": [
        "Primary Type와 Domestic의 상관관계\n",
        "\n",
        "귀무가설 (H₀): Primary Type(범죄 유형)과 Domestic(가정 폭력 여부)는 서로 독립이다.\n",
        "\n",
        "대립가설 (H₁): Primary Type(범죄 유형)과 Domestic(가정 폭력 여부) 사이에는 관련성이 있다."
      ],
      "metadata": {
        "id": "uBCImfa7U2vA"
      }
    },
    {
      "cell_type": "code",
      "source": [
        "# 교차표 생성 (Primary Type x Domestic)\n",
        "contingency_domestic = pd.crosstab(df['Primary Type'], df['Domestic'])\n",
        "\n",
        "# 카이제곱 검정\n",
        "chi2, p, dof, expected = chi2_contingency(contingency_domestic)\n",
        "\n",
        "# 결과 출력\n",
        "print(\"[카이제곱 검정 결과]\")\n",
        "print(f\"카이제곱 통계량(Chi-squared statistic): {chi2:.2f}\")\n",
        "print(f\"자유도(Degrees of freedom): {dof}\")\n",
        "print(f\"p-값(p-value): {p:.5f}\")"
      ],
      "metadata": {
        "id": "QbvEUotQU4Kg"
      },
      "execution_count": null,
      "outputs": []
    },
    {
      "cell_type": "code",
      "source": [
        "# 한글 매핑 사전\n",
        "type_map = {\n",
        "    \"THEFT\": \"절도\",\n",
        "    \"MOTOR VEHICLE THEFT\": \"자동차 절도\",\n",
        "    \"BATTERY\": \"폭행\",\n",
        "    \"ASSAULT\": \"폭행 미수 및 협박\",\n",
        "    \"CRIMINAL DAMAGE\": \"재물 손괴\",\n",
        "    \"CRIMINAL TRESPASS\": \"무단 침입\",\n",
        "    \"HOMICIDE\": \"살인\",\n",
        "    \"ARSON\": \"방화\",\n",
        "    \"ROBBERY\": \"강도\",\n",
        "    \"KIDNAPPING\": \"유괴\",\n",
        "    \"STALKING\": \"스토킹\",\n",
        "    \"INTIMIDATION\": \"협박\",\n",
        "    \"DOMESTIC VIOLENCE\": \"가정폭력\",\n",
        "    \"CRIM SEXUAL ASSAULT\": \"강간 및 성폭행\",\n",
        "    \"SEX OFFENSE\": \"성범죄\",\n",
        "    \"OBSCENITY\": \"음란행위\",\n",
        "    \"PUBLIC INDECENCY\": \"공공 외설행위\",\n",
        "    \"NARCOTICS\": \"마약 범죄\",\n",
        "    \"OTHER NARCOTIC VIOLATION\": \"기타 마약 범죄\",\n",
        "    \"GAMBLING\": \"도박\",\n",
        "    \"DECEPTIVE PRACTICE\": \"사기 및 기만\",\n",
        "    \"INTERFERENCE WITH PUBLIC OFFICER\": \"공무 집행 방해\",\n",
        "    \"LIQUOR LAW VIOLATION\": \"주류법 위반\",\n",
        "    \"WEAPONS VIOLATION\": \"무기 소지 위반\",\n",
        "    \"PUBLIC PEACE VIOLATION\": \"공공질서 위반\",\n",
        "    \"PROSTITUTION\": \"매춘\",\n",
        "    \"OTHER OFFENSE\": \"기타 범죄\",\n",
        "    \"OFFENSE INVOLVING CHILDREN\": \"아동 관련 범죄\",\n",
        "    \"RITUALISM\": \"의식 관련 범죄\"\n",
        "}\n",
        "\n",
        "# ✅ 한글 매핑 컬럼 생성\n",
        "df['Primary Type (한글)'] = df['Primary Type'].map(type_map)"
      ],
      "metadata": {
        "id": "RRJZCRzEU5hX"
      },
      "execution_count": null,
      "outputs": []
    },
    {
      "cell_type": "markdown",
      "source": [
        "표준화 잔차 진행\n",
        "\n",
        "표준화 잔차(standardized residuals): 관측값과 기대값의 차이를 표준편차로 나눈 값\n",
        "\n",
        "값이 클수록 기대값에서 벗어난 정도가 크다는 뜻이며 통계적으로 유의미한 차이를 판단할 수 있음.\n",
        "\n",
        "이를 히트맵으로 시각화하면, 어떤 범죄 유형이 어떤 지역에서 유독 많거나 적은지를 확인할 수 있음.\n",
        "\n",
        "예) 잔차가 2보다 크면 해당 지역에서 특정 범죄가 기대보다 훨씬 더 자주 발생했음을 의미하며, -2보다 작으면 기대보다 적은 경우"
      ],
      "metadata": {
        "id": "ahHfYHXdU73J"
      }
    },
    {
      "cell_type": "code",
      "source": [
        "# 교차표 생성 (한글 범죄 유형 × Domestic 여부)\n",
        "contingency_kor = pd.crosstab(df['Primary Type (한글)'], df['Domestic'])\n",
        "\n",
        "# 기대값 계산 및 표준화 잔차\n",
        "chi2, p, dof, expected = chi2_contingency(contingency_kor)\n",
        "residuals = (contingency_kor - expected) / np.sqrt(expected)\n",
        "\n",
        "# 히트맵 시각화 (한글 범죄 유형)\n",
        "plt.figure(figsize=(10, 8))\n",
        "sns.heatmap(residuals, cmap='coolwarm', center=0, annot=True, fmt=\".2f\",\n",
        "            linewidths=0.5, cbar_kws={'label': '표준화 잔차 (Z-score)'})\n",
        "plt.title(\"범죄 유형과 가정 폭력 여부 간 표준화 잔차\")\n",
        "plt.xlabel(\"가정 폭력 여부 (Domestic)\")\n",
        "plt.ylabel(\"범죄 유형\")\n",
        "plt.tight_layout()\n",
        "plt.show()"
      ],
      "metadata": {
        "id": "Gno1XR85U9c7"
      },
      "execution_count": null,
      "outputs": []
    },
    {
      "cell_type": "markdown",
      "source": [
        "Cramér's V (크리머의 V)\n",
        "\n",
        "0에 가까울수록 두 변수는 독립(관계 없음).\n",
        "\n",
        "1에 가까울수록 두 변수는 강하게 연관."
      ],
      "metadata": {
        "id": "EcYxhMYrVAd4"
      }
    },
    {
      "cell_type": "code",
      "source": [
        "# Cramér's V 계산 함수\n",
        "def cramers_v(confusion_matrix):\n",
        "    chi2 = chi2_contingency(confusion_matrix)[0]\n",
        "    n = confusion_matrix.sum().sum()\n",
        "    k = min(confusion_matrix.shape)\n",
        "    return np.sqrt(chi2 / (n * (k - 1)))\n",
        "\n",
        "# 실제 계산\n",
        "cramers_v_value = cramers_v(contingency_domestic)\n",
        "print(f\"크리머의 V (Cramér's V): {cramers_v_value:.4f}\")"
      ],
      "metadata": {
        "id": "EN-UChBnVB1G"
      },
      "execution_count": null,
      "outputs": []
    },
    {
      "cell_type": "markdown",
      "source": [
        "해석)\n",
        "\n",
        "0.4860 → 상당히 강한 연관.\n",
        "\n",
        "즉, \"Primary Type(범죄 유형)\"과 \"Domestic(가정 폭력 여부)\" 사이에는 강한 통계적 연관이 존재한다는 뜻."
      ],
      "metadata": {
        "id": "0GrM2OswVDlw"
      }
    },
    {
      "cell_type": "markdown",
      "source": [
        "# Primary Type(범죄 유형)와 Community Area(시카고 내 커뮤니티 지역 번호)시각화"
      ],
      "metadata": {
        "id": "0KJy-fcKVGKW"
      }
    },
    {
      "cell_type": "code",
      "source": [
        "# Community Area별 사건 수 (NaN 제외)\n",
        "area_counts = df['Community Area'].value_counts().sort_index()\n",
        "\n",
        "# 시각화\n",
        "plt.figure(figsize=(14, 6))\n",
        "sns.barplot(x=area_counts.index.astype(int), y=area_counts.values, color=\"#4682B4\", edgecolor=\"black\")\n",
        "\n",
        "plt.xticks(rotation=90)\n",
        "plt.xlabel(\"Community Area\")\n",
        "plt.ylabel(\"사건 수\")\n",
        "plt.title(\"📍 전체 Community Area별 범죄 발생 건수\")\n",
        "plt.grid(True, axis='y', linestyle='--', alpha=0.5)\n",
        "plt.tight_layout()\n",
        "plt.show()"
      ],
      "metadata": {
        "id": "lTrBGhugVOak"
      },
      "execution_count": null,
      "outputs": []
    },
    {
      "cell_type": "code",
      "source": [
        "# Community Area별 범죄 건수 계산\n",
        "area_counts = df['Community Area'].value_counts().dropna().sort_values(ascending=False)\n",
        "\n",
        "# 상위 5개\n",
        "top5_areas = area_counts.head(5)\n",
        "\n",
        "# 하위 5개\n",
        "bottom5_areas = area_counts.tail(5)"
      ],
      "metadata": {
        "id": "awlmdx34VQVQ"
      },
      "execution_count": null,
      "outputs": []
    },
    {
      "cell_type": "code",
      "source": [
        "# 상위 5개 Community Area 시각화\n",
        "plt.figure(figsize=(8, 4))\n",
        "sns.barplot(\n",
        "    x=top5_areas.index.astype(int),  # Community Area 번호\n",
        "    y=top5_areas.values,             # 범죄 건수\n",
        "    order=top5_areas.index.astype(int),  # 높은 건수 → 낮은 건수 순\n",
        "    color=\"#4682B4\", edgecolor=\"black\"\n",
        ")\n",
        "plt.title(\"🔺 범죄 발생 상위 5개 Community Area\")\n",
        "plt.xlabel(\"Community Area 번호\")\n",
        "plt.ylabel(\"범죄 건수\")\n",
        "plt.grid(axis='y', linestyle='--', alpha=0.5)\n",
        "plt.tight_layout()\n",
        "plt.show()"
      ],
      "metadata": {
        "id": "XghBRfV9VRqs"
      },
      "execution_count": null,
      "outputs": []
    },
    {
      "cell_type": "code",
      "source": [
        "# 하위 5개 Community Area 시각화\n",
        "plt.figure(figsize=(8, 4))\n",
        "sns.barplot(\n",
        "    x=bottom5_areas.index.astype(int),   # Community Area 번호\n",
        "    y=bottom5_areas.values,              # 범죄 건수\n",
        "    order=bottom5_areas.index.astype(int),  # 낮은 건수 → 높은 순서로 유지\n",
        "    color=\"#4682B4\", edgecolor=\"black\"\n",
        ")\n",
        "plt.title(\"🔻 범죄 발생 하위 5개 Community Area\")\n",
        "plt.xlabel(\"Community Area 번호\")\n",
        "plt.ylabel(\"범죄 건수\")\n",
        "plt.grid(axis='y', linestyle='--', alpha=0.5)\n",
        "plt.tight_layout()\n",
        "plt.show()"
      ],
      "metadata": {
        "id": "diZszvHUVTZa"
      },
      "execution_count": null,
      "outputs": []
    },
    {
      "cell_type": "code",
      "source": [
        "# 상위 5개 출력\n",
        "print(\"✅ 상위 5개 Community Area (범죄 발생 수):\")\n",
        "for area, count in top5_areas.items():\n",
        "    print(f\"Community Area {int(area)}: {int(count):,}건\")\n",
        "\n",
        "# 하위 5개 출력\n",
        "print(\"✅ 하위 5개 Community Area (범죄 발생 수):\")\n",
        "for area, count in bottom5_areas.items():\n",
        "    print(f\"Community Area {int(area)}: {int(count):,}건\")"
      ],
      "metadata": {
        "id": "_ffzeSoBVVdb"
      },
      "execution_count": null,
      "outputs": []
    },
    {
      "cell_type": "code",
      "source": [
        "# 상위 5개 및 하위 5개 Community Area 번호 추출\n",
        "top5_areas = df['Community Area'].value_counts().head(5)\n",
        "bottom5_areas = df['Community Area'].value_counts().tail(5)\n",
        "\n",
        "# 상하위 Community Area 번호 리스트\n",
        "selected_areas = pd.concat([top5_areas, bottom5_areas]).sort_values(ascending=False)\n",
        "area_order = selected_areas.index.tolist()  # 내림차순 정렬된 순서\n",
        "\n",
        "# 해당 Community Area만 필터링\n",
        "df_selected = df[df['Community Area'].isin(area_order)]\n",
        "\n",
        "# 시각화\n",
        "plt.figure(figsize=(14, 6))  # 그림 크기 키움\n",
        "sns.countplot(\n",
        "    data=df_selected,\n",
        "    x=\"Community Area\",\n",
        "    hue=\"Primary Type (한글)\",\n",
        "    order=area_order,  # 내림차순 정렬\n",
        "    palette=\"Set3\"\n",
        ")\n",
        "\n",
        "plt.xlabel(\"지역 (Community Area 번호)\", fontsize=11)\n",
        "plt.ylabel(\"범죄 발생 건수\", fontsize=11)\n",
        "plt.title(\"🔺 상위 5개 + 🔻 하위 5개 Community Area별 범죄 유형 분포\", fontsize=13)\n",
        "plt.legend(title=\"범죄 유형\", bbox_to_anchor=(1.01, 1), loc='upper left', fontsize=9, title_fontsize=10)\n",
        "plt.tight_layout()\n",
        "plt.show()"
      ],
      "metadata": {
        "id": "2DSzmsO9VW64"
      },
      "execution_count": null,
      "outputs": []
    },
    {
      "cell_type": "markdown",
      "source": [
        "Primary Type(범죄 유형)과 Community Area(지역) 간의 상관관계\n",
        "\n",
        "귀무가설 (H₀): Primary Type(범죄 유형)과 Community Area(지역)는 서로 독립이다.\n",
        "\n",
        "대립가설 (H₁): Primary Type(범죄 유형)과 Community Area(지역) 사이에는 관련성이 있다."
      ],
      "metadata": {
        "id": "4abTHdzYVY-3"
      }
    },
    {
      "cell_type": "code",
      "source": [
        "import pandas as pd\n",
        "import matplotlib.pyplot as plt\n",
        "from scipy.stats import chi2_contingency\n",
        "\n",
        "# (1) Community Area별 주요 범죄 유형 비율 계산\n",
        "crime_area_rate = df.groupby('Primary Type')['Community Area'].nunique().sort_values()\n",
        "\n",
        "# (2) 시각화 (한글 라벨 포함)\n",
        "plt.figure(figsize=(7, 5.5))\n",
        "crime_area_rate.plot(kind='barh', color='skyblue', edgecolor='black')\n",
        "plt.title('범죄 유형별 발생 지역 수', fontsize=13)\n",
        "plt.xlabel('고유 Community Area 수', fontsize=11)\n",
        "plt.ylabel('범죄 유형', fontsize=11)\n",
        "plt.grid(True)\n",
        "plt.tight_layout()\n",
        "plt.show()\n",
        "\n",
        "# (3) Primary Type(범죄 유형)과 Community Area(지역) 교차표 생성\n",
        "contingency = pd.crosstab(df['Primary Type'], df['Community Area'])\n",
        "\n",
        "# (4) 카이제곱 검정 수행\n",
        "chi2, p, dof, expected = chi2_contingency(contingency)\n",
        "\n",
        "# (5) 결과 출력 (텍스트만)\n",
        "print(\"\\n📈 [카이제곱 검정 결과]\")\n",
        "print(f\"카이제곱 통계량: {chi2:.4f}\")\n",
        "print(f\"자유도: {dof}\")\n",
        "print(f\"p-값: {p:.4f}\")"
      ],
      "metadata": {
        "id": "p_UvFUztVan2"
      },
      "execution_count": null,
      "outputs": []
    },
    {
      "cell_type": "code",
      "source": [
        "# (4) 카이제곱 검정 수행\n",
        "chi2, p, dof, expected = chi2_contingency(contingency)\n",
        "\n",
        "# (5) 결과 출력 (텍스트만)\n",
        "print(\"[카이제곱 검정 결과]\")\n",
        "print(f\"카이제곱 통계량(Chi-squared statistic): {chi2:.4f}\")\n",
        "print(f\"자유도(Degrees of freedom): {dof}\")\n",
        "print(f\"p-값(p-value): {p:.4f}\")"
      ],
      "metadata": {
        "id": "nPg42gW4VcHo"
      },
      "execution_count": null,
      "outputs": []
    },
    {
      "cell_type": "code",
      "source": [
        "# 한글 매핑 사전\n",
        "type_map = {\n",
        "    \"THEFT\": \"절도\",\n",
        "    \"MOTOR VEHICLE THEFT\": \"자동차 절도\",\n",
        "    \"BATTERY\": \"폭행\",\n",
        "    \"ASSAULT\": \"폭행 미수 및 협박\",\n",
        "    \"CRIMINAL DAMAGE\": \"재물 손괴\",\n",
        "    \"CRIMINAL TRESPASS\": \"무단 침입\",\n",
        "    \"HOMICIDE\": \"살인\",\n",
        "    \"ARSON\": \"방화\",\n",
        "    \"ROBBERY\": \"강도\",\n",
        "    \"KIDNAPPING\": \"유괴\",\n",
        "    \"STALKING\": \"스토킹\",\n",
        "    \"INTIMIDATION\": \"협박\",\n",
        "    \"DOMESTIC VIOLENCE\": \"가정폭력\",\n",
        "    \"CRIM SEXUAL ASSAULT\": \"강간 및 성폭행\",\n",
        "    \"SEX OFFENSE\": \"성범죄\",\n",
        "    \"OBSCENITY\": \"음란행위\",\n",
        "    \"PUBLIC INDECENCY\": \"공공 외설행위\",\n",
        "    \"NARCOTICS\": \"마약 범죄\",\n",
        "    \"OTHER NARCOTIC VIOLATION\": \"기타 마약 범죄\",\n",
        "    \"GAMBLING\": \"도박\",\n",
        "    \"DECEPTIVE PRACTICE\": \"사기 및 기만\",\n",
        "    \"INTERFERENCE WITH PUBLIC OFFICER\": \"공무 집행 방해\",\n",
        "    \"LIQUOR LAW VIOLATION\": \"주류법 위반\",\n",
        "    \"WEAPONS VIOLATION\": \"무기 소지 위반\",\n",
        "    \"PUBLIC PEACE VIOLATION\": \"공공질서 위반\",\n",
        "    \"PROSTITUTION\": \"매춘\",\n",
        "    \"OTHER OFFENSE\": \"기타 범죄\",\n",
        "    \"OFFENSE INVOLVING CHILDREN\": \"아동 관련 범죄\",\n",
        "    \"RITUALISM\": \"의식 관련 범죄\"\n",
        "}\n",
        "\n",
        "# ✅ 한글 매핑 컬럼 생성\n",
        "df['Primary Type (한글)'] = df['Primary Type'].map(type_map)"
      ],
      "metadata": {
        "id": "w8SgozpIVdeo"
      },
      "execution_count": null,
      "outputs": []
    },
    {
      "cell_type": "markdown",
      "source": [
        "표준화 잔차 진행\n",
        "\n",
        "표준화 잔차(standardized residuals): 관측값과 기대값의 차이를 표준편차로 나눈 값\n",
        "\n",
        "값이 클수록 기대값에서 벗어난 정도가 크다는 뜻이며 통계적으로 유의미한 차이를 판단할 수 있음.\n",
        "\n",
        "이를 히트맵으로 시각화하면, 어떤 범죄 유형이 어떤 지역에서 유독 많거나 적은지를 확인할 수 있음.\n",
        "\n",
        "예) 잔차가 2보다 크면 해당 지역에서 특정 범죄가 기대보다 훨씬 더 자주 발생했음을 의미하며, -2보다 작으면 기대보다 적은 경우"
      ],
      "metadata": {
        "id": "d0IB5zOkVfUT"
      }
    },
    {
      "cell_type": "code",
      "source": [
        "# 교차표 다시 생성\n",
        "contingency = pd.crosstab(df['Primary Type (한글)'], df['Community Area'])\n",
        "\n",
        "# 카이제곱 검정\n",
        "chi2, p, dof, expected = chi2_contingency(contingency)\n",
        "\n",
        "# 표준화 잔차 계산: (관측값 - 기대값) / sqrt(기대값)\n",
        "residuals = (contingency - expected) / np.sqrt(expected)\n",
        "\n",
        "# 히트맵 시각화\n",
        "plt.figure(figsize=(10, 6))\n",
        "sns.heatmap(residuals, cmap='coolwarm', center=0, linewidths=0.5, cbar_kws={'label': '표준화 잔차 (Z-score)'})\n",
        "plt.title(\"📊 범죄 유형과 지역 간 표준화 잔차 히트맵\")\n",
        "plt.xlabel(\"Community Area\")\n",
        "plt.ylabel(\"Primary Type\")\n",
        "plt.tight_layout()\n",
        "plt.show()"
      ],
      "metadata": {
        "id": "Wuh4UoDOVgyD"
      },
      "execution_count": null,
      "outputs": []
    },
    {
      "cell_type": "code",
      "source": [
        "import scipy.stats as stats\n",
        "\n",
        "# 크리머의 V 계산 함수\n",
        "def cramers_v(confusion_matrix):\n",
        "    chi2 = stats.chi2_contingency(confusion_matrix)[0]\n",
        "    n = confusion_matrix.sum().sum()  # 전체 샘플 수\n",
        "    k = min(confusion_matrix.shape)  # 행과 열 중 작은 값\n",
        "    return np.sqrt(chi2 / (n * (k - 1)))\n",
        "\n",
        "# 실제 계산\n",
        "cramers_v_value = cramers_v(contingency)\n",
        "print(f\"크리머의 V (Cramér's V): {cramers_v_value:.4f}\")"
      ],
      "metadata": {
        "id": "O1gUUKNNVjFf"
      },
      "execution_count": null,
      "outputs": []
    },
    {
      "cell_type": "markdown",
      "source": [
        "Cramér's V (크리머의 V)\n",
        "\n",
        "0에 가까울수록 두 변수는 독립(관계 없음).\n",
        "\n",
        "1에 가까울수록 두 변수는 강하게 연관.\n",
        "\n",
        "해석) 0.0757 → 매우 약한 연관.\n",
        "\n",
        "\"Community Area(지역)\"와 \"Primary Type(범죄 유형)\" 사이에 통계적으로 유의한 연관이 있을 수는 있지만, 그 강도는 매우 약하다는 뜻.\n",
        "\n",
        "인사이트)\n",
        "\n",
        "특정 지역에서 특정 범죄가 상대적으로 자주 발생할 수는 있지만, 전체적으로 보았을 때 지역에 따라 범죄 유형이 확연히 달라지는 경향은 크지 않다는 것.\n",
        "\n",
        "다르게 말하면, 범죄 유형 분포는 지역적 차이보다 전반적으로 고르게 나타나는 편이라는 뜻으로 해석할 수 있음."
      ],
      "metadata": {
        "id": "YUXXu_yVVlfO"
      }
    },
    {
      "cell_type": "markdown",
      "source": [
        "# 새 섹션"
      ],
      "metadata": {
        "id": "LLN0e31DVoTl"
      }
    },
    {
      "cell_type": "code",
      "source": [
        "import pandas as pd\n",
        "import numpy as np\n",
        "import matplotlib.pyplot as plt\n",
        "import seaborn as sns\n",
        "from google.colab import drive\n",
        "from scipy.stats import chi2_contingency\n",
        "from sklearn.preprocessing import LabelEncoder\n",
        "from sklearn.model_selection import train_test_split\n",
        "from sklearn.ensemble import RandomForestClassifier\n",
        "from sklearn.metrics import classification_report, accuracy_score"
      ],
      "metadata": {
        "id": "00yZCDwBVqbj"
      },
      "execution_count": null,
      "outputs": []
    },
    {
      "cell_type": "code",
      "source": [
        "# 시각화 시 한글 깨짐 방지 위한 폰트 설치 및 적용\n",
        "\n",
        "%%capture\n",
        "!sudo apt-get install -y fonts-nanum\n",
        "!sudo fc-cache -fv\n",
        "!rm ~/.cache/matplotlib -rf\n",
        "\n",
        "plt.rc('font', family='NanumBarunGothic')\n",
        "plt.rcParams['axes.unicode_minus'] =False"
      ],
      "metadata": {
        "id": "vMmDIXqjVr5S"
      },
      "execution_count": null,
      "outputs": []
    },
    {
      "cell_type": "code",
      "source": [
        "drive.mount('/content/drive')\n",
        "\n",
        "file_path_total = '/content/drive/MyDrive/final_crime_data_final_projuct.csv'"
      ],
      "metadata": {
        "id": "ySPHtVGWVtIv"
      },
      "execution_count": null,
      "outputs": []
    },
    {
      "cell_type": "code",
      "source": [
        "# CSV 파일 로드\n",
        "df = pd.read_csv(file_path_total)"
      ],
      "metadata": {
        "id": "ZBy9HYV5VuVQ"
      },
      "execution_count": null,
      "outputs": []
    },
    {
      "cell_type": "code",
      "source": [
        "# 📂 추가 파일 경로\n",
        "income_path = '/content/drive/MyDrive/chicago 소득구조.csv'\n",
        "unemployment_path = '/content/drive/MyDrive/output.csv'\n",
        "\n",
        "# 🔹 파일 불러오기\n",
        "df_income = pd.read_csv(income_path)\n",
        "df_unemp = pd.read_csv(unemployment_path)\n",
        "\n",
        "# 🔍 원본 crime 데이터 미리보기\n",
        "print(\"✅ [final_crime_data_final_projuct.csv]\")\n",
        "print(df.columns)\n",
        "print(df.head(3), \"\\n\")\n",
        "\n",
        "# 🔍 소득 데이터 미리보기\n",
        "print(\"✅ [chicago 소득구조.csv]\")\n",
        "print(df_income.columns)\n",
        "print(df_income.head(3), \"\\n\")\n",
        "\n",
        "# 🔍 실업률 데이터 미리보기\n",
        "print(\"✅ [output.csv]\")\n",
        "print(df_unemp.columns)\n",
        "print(df_unemp.head(3))"
      ],
      "metadata": {
        "id": "fGfxlDtVVvbk"
      },
      "execution_count": null,
      "outputs": []
    },
    {
      "cell_type": "code",
      "source": [
        "# 💡 날짜(Date)에서 '월(Month)' 정보 추출\n",
        "df['Date'] = pd.to_datetime(df['Date'], errors='coerce')\n",
        "df['Month'] = df['Date'].dt.month.astype('Int64')  # 정수형으로 월 추출\n",
        "\n",
        "# 🔗 [1단계 병합] : 소득 데이터 (Community Area 기준)\n",
        "df_merge = pd.merge(df, df_income, how='left', on='Community Area')\n",
        "\n",
        "# 🔗 [2단계 병합] : 실업률 데이터 (Year + Month 기준)\n",
        "df_merge = pd.merge(df_merge, df_unemp, how='left', on=['Year', 'Month'])\n",
        "\n",
        "# 🔍 병합 결과 미리 보기\n",
        "print(\"🔎 병합된 최종 데이터 컬럼\")\n",
        "print(df_merge.columns)\n",
        "print(\"\\n🧾 병합된 데이터 미리보기\")\n",
        "print(df_merge[['Date', 'Community Area', 'Per Capita Income', 'Percent of labor force']].head())"
      ],
      "metadata": {
        "id": "8PcxNkL8VxEO"
      },
      "execution_count": null,
      "outputs": []
    },
    {
      "cell_type": "code",
      "source": [
        "# Date 컬럼을 datetime 형식으로 변환\n",
        "df['Date'] = pd.to_datetime(df['Date'], format=\"%m/%d/%Y %I:%M:%S %p\", errors='coerce')\n",
        "\n",
        "# Month, Day, Hour 컬럼 추출\n",
        "df['Month'] = df['Date'].dt.month\n",
        "df['Day'] = df['Date'].dt.day\n",
        "df['Hour'] = df['Date'].dt.hour\n",
        "\n",
        "# 결과 확인\n",
        "print(df[['Date', 'Month', 'Day', 'Hour']].head())"
      ],
      "metadata": {
        "id": "MQnNw0ycVyky"
      },
      "execution_count": null,
      "outputs": []
    },
    {
      "cell_type": "code",
      "source": [
        "# ✅ 1. 경고 해결: Date 포맷 명시하여 안정적으로 변환\n",
        "df['Date'] = pd.to_datetime(df['Date'], format=\"%m/%d/%Y %I:%M:%S %p\", errors='coerce')\n",
        "\n",
        "# ✅ 2. 시간 관련 컬럼 추출\n",
        "df['Year'] = df['Date'].dt.year.astype('Int64')\n",
        "df['Month'] = df['Date'].dt.month.astype('Int64')\n",
        "df['Day'] = df['Date'].dt.day.astype('Int64')\n",
        "df['Hour'] = df['Date'].dt.hour.astype('Int64')\n",
        "\n",
        "# ✅ 3. 병합 키 형 일치 (int vs float 경고 방지용)\n",
        "df['Community Area'] = df['Community Area'].astype('Int64')\n",
        "df_income['Community Area'] = df_income['Community Area'].astype('Int64')\n",
        "df_unemp['Year'] = df_unemp['Year'].astype('Int64')\n",
        "df_unemp['Month'] = df_unemp['Month'].astype('Int64')\n",
        "\n",
        "# ✅ 4. 병합 수행\n",
        "df_merge = pd.merge(df, df_income, how='left', on='Community Area')\n",
        "df_merge = pd.merge(df_merge, df_unemp, how='left', on=['Year', 'Month'])\n",
        "\n",
        "# ✅ 5. 최종 결과 확인 (원한다면 출력)\n",
        "print(\"✅ 병합 완료! 최종 컬럼 목록:\")\n",
        "print(df_merge.columns.tolist())\n"
      ],
      "metadata": {
        "id": "m_rFEQxJV0Ub"
      },
      "execution_count": null,
      "outputs": []
    },
    {
      "cell_type": "code",
      "source": [
        "# ✅ 6. CSV 저장\n",
        "df_merge.to_csv(\"final_crime_data.csv\", index=False, encoding='utf-8-sig')\n",
        "print(\"📁 'final_crime_data.csv' 파일로 저장 완료!\")"
      ],
      "metadata": {
        "id": "iSQoY8LCV10M"
      },
      "execution_count": null,
      "outputs": []
    },
    {
      "cell_type": "code",
      "source": [
        "# 확인하고자 하는 컬럼 리스트\n",
        "cols = [\n",
        "    'Domestic', 'Community Area', 'Per Capita Income', 'District', 'Ward',\n",
        "    'Location Description', 'Beat', 'Arrest', 'Year', 'Month', 'Day', 'Hour',\n",
        "    'Percent of labor force'\n",
        "]\n",
        "\n",
        "# 앞 5행 출력\n",
        "df_merge[cols].head()"
      ],
      "metadata": {
        "id": "4Ag2FCIzV3Oy"
      },
      "execution_count": null,
      "outputs": []
    },
    {
      "cell_type": "code",
      "source": [
        "df['Primary Type'].nunique()"
      ],
      "metadata": {
        "id": "PhTmA3NvV4uk"
      },
      "execution_count": null,
      "outputs": []
    },
    {
      "cell_type": "code",
      "source": [
        "df['Primary Type'].value_counts().head(10)"
      ],
      "metadata": {
        "id": "7LXLAkiTV6DN"
      },
      "execution_count": null,
      "outputs": []
    },
    {
      "cell_type": "markdown",
      "source": [
        "# 머신러닝-랜덤포레스트"
      ],
      "metadata": {
        "id": "9veHgYPnV9NG"
      }
    },
    {
      "cell_type": "code",
      "source": [
        "from sklearn.preprocessing import LabelEncoder"
      ],
      "metadata": {
        "id": "4Y-xF_S9WBsB"
      },
      "execution_count": null,
      "outputs": []
    },
    {
      "cell_type": "code",
      "source": [
        "# 2. 이진 변수 → Label Encoding\n",
        "df_merge['Domestic'] = df_merge['Domestic'].astype(int)\n",
        "df_merge['Arrest'] = df_merge['Arrest'].astype(int)\n",
        "\n",
        "# 3. 범주형 숫자 → Label Encoding (숫자지만 범주형인 경우)\n",
        "label_cols = ['Community Area', 'District', 'Ward', 'Beat', 'Year', 'Month', 'Day', 'Hour']\n",
        "for col in label_cols:\n",
        "    df_merge[col] = df_merge[col].astype(int)\n",
        "\n",
        "# 4. Location Description → Frequency Encoding\n",
        "freq_map = df_merge['Location Description'].value_counts().to_dict()\n",
        "df_merge['Location Description'] = df_merge['Location Description'].map(freq_map)\n",
        "\n",
        "# 5. 타겟 (Primary Type) → Label Encoding\n",
        "le = LabelEncoder()\n",
        "df_merge['Primary Type'] = le.fit_transform(df_merge['Primary Type'])\n",
        "\n",
        "# 6. 최종 확인\n",
        "print(\"✅ 인코딩 완료! 데이터프레임 정보:\")\n",
        "print(df_merge.info())\n",
        "print(\"\\n📊 타겟 라벨 목록:\", list(le.classes_))"
      ],
      "metadata": {
        "id": "Kt5ESMj5WLRz"
      },
      "execution_count": null,
      "outputs": []
    },
    {
      "cell_type": "code",
      "source": [
        "# 전체 컬럼과 데이터 타입 출력\n",
        "print(\"🔎 전체 컬럼과 데이터 타입:\")\n",
        "print(df_merge.dtypes)"
      ],
      "metadata": {
        "id": "ymyAAw4hWMyh"
      },
      "execution_count": null,
      "outputs": []
    },
    {
      "cell_type": "code",
      "source": [
        "# object(문자열) 타입 → 아직 인코딩되지 않았을 가능성이 있음\n",
        "print(\"\\n🚨 아직 인코딩되지 않았을 수 있는 컬럼:\")\n",
        "print(df_merge.select_dtypes(include='object').columns.tolist())\n",
        "\n",
        "# 숫자형(int, float)은 인코딩됐거나 원래부터 수치형일 가능성 있음\n",
        "print(\"\\n✅ 숫자형 컬럼 (인코딩 완료 or 원래 숫자형):\")\n",
        "print(df_merge.select_dtypes(include=['int64', 'float64']).columns.tolist())"
      ],
      "metadata": {
        "id": "d2ewblJQWODj"
      },
      "execution_count": null,
      "outputs": []
    },
    {
      "cell_type": "code",
      "source": [
        "drive.mount('/content/drive')\n",
        "\n",
        "file_path_total = '/content/drive/MyDrive/final_crime_data.csv'"
      ],
      "metadata": {
        "id": "ajMmqcysWPa9"
      },
      "execution_count": null,
      "outputs": []
    },
    {
      "cell_type": "code",
      "source": [
        "df_merge = pd.read_csv(file_path_total)"
      ],
      "metadata": {
        "id": "mPva0808WQpn"
      },
      "execution_count": null,
      "outputs": []
    },
    {
      "cell_type": "code",
      "source": [
        "# Primary Type (타겟) 클래스별 샘플 수 확인\n",
        "class_counts = df_merge['Primary Type'].value_counts().sort_values(ascending=True)\n",
        "\n",
        "# 전체 클래스 수 및 상위/하위 샘플 수 출력\n",
        "print(f\"전체 클래스 수: {len(class_counts)}개\")\n",
        "print(\"\\n📉 샘플 수가 적은 클래스 (하위 10개):\")\n",
        "print(class_counts.head(10))\n",
        "\n",
        "print(\"\\n📈 샘플 수가 많은 클래스 (상위 10개):\")\n",
        "print(class_counts.tail(10))"
      ],
      "metadata": {
        "id": "2NtjLnYeWRwJ"
      },
      "execution_count": null,
      "outputs": []
    },
    {
      "cell_type": "code",
      "source": [
        "# 숫자 9가 어떤 라벨인지 확인\n",
        "label_name_for_9 = le.inverse_transform([9])[0]\n",
        "print(f\"🔍 Primary Type이 9인 클래스는 → '{label_name_for_9}' 입니다.\")"
      ],
      "metadata": {
        "id": "kuNeSP48WTSU"
      },
      "execution_count": null,
      "outputs": []
    },
    {
      "cell_type": "code",
      "source": [
        "# 숫자 ↔ 범죄유형 매핑표 생성\n",
        "label_mapping = {idx: label for idx, label in enumerate(le.classes_)}\n",
        "\n",
        "# 보기 좋게 출력\n",
        "import pandas as pd\n",
        "label_df = pd.DataFrame(list(label_mapping.items()), columns=[\"Encoded Value\", \"Crime Type\"])\n",
        "print(label_df)"
      ],
      "metadata": {
        "id": "zi3dpbwXWUt9"
      },
      "execution_count": null,
      "outputs": []
    },
    {
      "cell_type": "code",
      "source": [
        "!pip install -U lightgbm"
      ],
      "metadata": {
        "id": "JpU6I8EcWWWZ"
      },
      "execution_count": null,
      "outputs": []
    },
    {
      "cell_type": "code",
      "source": [
        "print(\"\\n▶️ 결측치 개수:\\n\", df_merge.isnull().sum())"
      ],
      "metadata": {
        "id": "jXa68N4ZWYIM"
      },
      "execution_count": null,
      "outputs": []
    },
    {
      "cell_type": "code",
      "source": [
        "features = [\n",
        "    'Domestic', 'Community Area', 'Per Capita Income',\n",
        "    'District', 'Ward', 'Beat',\n",
        "    'Arrest', 'Year', 'Month', 'Day', 'Hour',\n",
        "    'Percent of labor force', 'Location_Desc_Freq'  # ← 여기에만 추가\n",
        "]"
      ],
      "metadata": {
        "id": "IfaeIwjgWZwr"
      },
      "execution_count": null,
      "outputs": []
    },
    {
      "cell_type": "code",
      "source": [
        "# 자동 체크 코드\n",
        "print(\"🧮 데이터 크기:\", df_merge.shape)\n",
        "print(\"\\n🎯 타겟 클래스 개수:\", df_merge['Primary Type'].nunique())\n",
        "print(\"\\n📊 상위 범죄 유형:\\n\", df_merge['Primary Type'].value_counts().head(10))\n",
        "print(\"\\n❗ 입력 피처 결측치:\\n\", df_merge[features + ['Location_Desc_Freq']].isnull().sum())"
      ],
      "metadata": {
        "id": "yGiklZ26Wa9b"
      },
      "execution_count": null,
      "outputs": []
    },
    {
      "cell_type": "code",
      "source": [
        "!pip install optuna"
      ],
      "metadata": {
        "id": "hVvAqepBWce7"
      },
      "execution_count": null,
      "outputs": []
    },
    {
      "cell_type": "markdown",
      "source": [
        "# 머신러닝 2기"
      ],
      "metadata": {
        "id": "X4ipeqUBWgRj"
      }
    },
    {
      "cell_type": "code",
      "source": [
        "import pandas as pd\n",
        "import numpy as np\n",
        "import matplotlib.pyplot as plt\n",
        "import seaborn as sns\n",
        "from google.colab import drive\n",
        "from sklearn.preprocessing import LabelEncoder\n",
        "from sklearn.model_selection import train_test_split, cross_val_score\n",
        "from sklearn.metrics import classification_report, accuracy_score\n",
        "import lightgbm as lgb\n",
        "import optuna"
      ],
      "metadata": {
        "id": "xR8FQACrWoNp"
      },
      "execution_count": null,
      "outputs": []
    },
    {
      "cell_type": "code",
      "source": [
        "drive.mount('/content/drive')\n",
        "\n",
        "file_path_total = '/content/drive/MyDrive/final_crime_data.csv'"
      ],
      "metadata": {
        "id": "xkqfaIylWrDJ"
      },
      "execution_count": null,
      "outputs": []
    },
    {
      "cell_type": "code",
      "source": [
        "df_merge = pd.read_csv(file_path_total)"
      ],
      "metadata": {
        "id": "OI-M2aVqWsTT"
      },
      "execution_count": null,
      "outputs": []
    },
    {
      "cell_type": "code",
      "source": [
        "print(df_merge.columns.tolist())"
      ],
      "metadata": {
        "id": "fdt4TijgWtiv"
      },
      "execution_count": null,
      "outputs": []
    },
    {
      "cell_type": "code",
      "source": [
        "# 🧹 1단계: 샘플 수 적은 Primary Type 제거\n",
        "type_counts = df_merge['Primary Type'].value_counts()\n",
        "valid_types = type_counts[type_counts > 100].index\n",
        "df_merge = df_merge[df_merge['Primary Type'].isin(valid_types)]\n",
        "\n",
        "# 📊 Location Description → 빈도 인코딩\n",
        "df_merge['Location_Desc_Freq'] = df_merge['Location Description'].map(\n",
        "    df_merge['Location Description'].value_counts()\n",
        ")\n",
        "\n",
        "# ✅ 사용할 피처 정의\n",
        "features = [\n",
        "    'Domestic', 'Community Area', 'Per Capita Income',\n",
        "    'District', 'Ward', 'Location_Desc_Freq', 'Beat',\n",
        "    'Arrest', 'Year', 'Month', 'Day', 'Hour', 'Percent of labor force'\n",
        "]\n",
        "\n",
        "# 🧹 결측치 제거\n",
        "df_merge = df_merge.dropna(subset=features + ['Primary Type'])\n",
        "\n",
        "# 🔄 Boolean → int\n",
        "df_merge['Domestic'] = df_merge['Domestic'].astype(int)\n",
        "df_merge['Arrest'] = df_merge['Arrest'].astype(int)\n",
        "\n",
        "# 🏷️ Label Encoding\n",
        "label_cols = ['District', 'Ward', 'Beat']\n",
        "for col in label_cols:\n",
        "    le = LabelEncoder()\n",
        "    df_merge[col] = le.fit_transform(df_merge[col].astype(str))\n",
        "\n",
        "# 🧼 불필요한 컬럼 제거\n",
        "df_merge = df_merge.drop(columns=[\n",
        "    'Unnamed: 0', 'ID', 'Case Number', 'Date', 'Block', 'IUCR',\n",
        "    'Description', 'FBI Code', 'Updated On', 'Location'\n",
        "], errors='ignore')\n",
        "\n",
        "# 🎯 타겟 인코딩\n",
        "le_target = LabelEncoder()\n",
        "df_merge['Primary Type'] = le_target.fit_transform(df_merge['Primary Type'])"
      ],
      "metadata": {
        "id": "kEZyqU3iWuw3"
      },
      "execution_count": null,
      "outputs": []
    },
    {
      "cell_type": "code",
      "source": [
        "X = df_merge[features]  # features는 중복 없이 정의되어 있어야 함\n",
        "y = df_merge['Primary Type']  # 다중 분류 타겟"
      ],
      "metadata": {
        "id": "8StLPlfPWwcw"
      },
      "execution_count": null,
      "outputs": []
    },
    {
      "cell_type": "code",
      "source": [
        "X_train, X_test, y_train, y_test = train_test_split(\n",
        "    X, y, test_size=0.2, stratify=y, random_state=42\n",
        ")"
      ],
      "metadata": {
        "id": "vZ2lthouWx1v"
      },
      "execution_count": null,
      "outputs": []
    },
    {
      "cell_type": "code",
      "source": [
        "import lightgbm as lgb\n",
        "import optuna\n",
        "from lightgbm import early_stopping\n",
        "from sklearn.metrics import accuracy_score\n",
        "from sklearn.model_selection import StratifiedShuffleSplit\n",
        "\n",
        "# ✅ 1. X_train 샘플 일부만 사용 (StratifiedShuffleSplit 사용: 클래스 전부 포함 보장)\n",
        "splitter = StratifiedShuffleSplit(n_splits=1, test_size=0.9, random_state=42)\n",
        "train_idx, _ = next(splitter.split(X_train, y_train))\n",
        "X_train_sampled = X_train.iloc[train_idx]\n",
        "y_train_sampled = y_train.iloc[train_idx]\n",
        "\n",
        "# ✅ 2. Optuna 목적 함수 정의 (verbose 제거)\n",
        "def objective(trial):\n",
        "    params = {\n",
        "        'learning_rate': trial.suggest_float('learning_rate', 0.05, 0.15),\n",
        "        'n_estimators': trial.suggest_int('n_estimators', 30, 50),\n",
        "        'max_depth': trial.suggest_int('max_depth', 3, 6),\n",
        "        'num_leaves': trial.suggest_int('num_leaves', 15, 31),\n",
        "        'objective': 'multiclass',\n",
        "        'num_class': y_train.nunique(),\n",
        "        'verbosity': -1,\n",
        "        'device': 'cpu',  # ✅ CPU 사용으로 변경\n",
        "        'boosting_type': 'gbdt'\n",
        "    }\n",
        "\n",
        "    model = lgb.LGBMClassifier(**params)\n",
        "\n",
        "    model.fit(\n",
        "        X_train_sampled, y_train_sampled,\n",
        "        eval_set=[(X_test, y_test)],\n",
        "        eval_metric='multi_logloss',\n",
        "        callbacks=[early_stopping(10)]\n",
        "    )\n",
        "\n",
        "    preds = model.predict(X_test)\n",
        "    score = accuracy_score(y_test, preds)\n",
        "    return score"
      ],
      "metadata": {
        "id": "Ugv0GzNRWy--"
      },
      "execution_count": null,
      "outputs": []
    },
    {
      "cell_type": "code",
      "source": [
        "# ✅ 3. Optuna 실행 (trial 수 줄이기)\n",
        "study = optuna.create_study(direction='maximize')\n",
        "study.optimize(objective, n_trials=20, show_progress_bar=True)"
      ],
      "metadata": {
        "id": "xCd3j5iqW0Qw"
      },
      "execution_count": null,
      "outputs": []
    },
    {
      "cell_type": "code",
      "source": [
        "# ✅ 4. 최적 파라미터로 전체 데이터에 대해 최종 학습\n",
        "best_params = study.best_params\n",
        "print(\"🔧 최적 하이퍼파라미터:\", best_params)"
      ],
      "metadata": {
        "id": "jr4NUABTW1fk"
      },
      "execution_count": null,
      "outputs": []
    },
    {
      "cell_type": "code",
      "source": [
        "import lightgbm as lgb\n",
        "from time import time\n",
        "\n",
        "# 진행률(%) 출력 콜백 함수\n",
        "def progress_callback(total_rounds):\n",
        "    def callback(env):\n",
        "        iteration = env.iteration + 1\n",
        "        percent = int((iteration / total_rounds) * 100)\n",
        "        print(f'\\r▶️ 학습 진행률: {percent}% ({iteration}/{total_rounds})', end='')\n",
        "    return callback\n",
        "\n",
        "# 학습 시작 시간 기록\n",
        "start_time = time()\n",
        "\n",
        "# n_estimators 따로 분리\n",
        "n_estimators = best_params.get('n_estimators', 100)\n",
        "best_params_no_estimators = best_params.copy()\n",
        "best_params_no_estimators.pop('n_estimators', None)  # 중복 방지\n",
        "\n",
        "# 모델 정의\n",
        "final_model = lgb.LGBMClassifier(\n",
        "    objective='multiclass',\n",
        "    num_class=y_train.nunique(),\n",
        "    class_weight='balanced',\n",
        "    random_state=42,\n",
        "    n_estimators=n_estimators,\n",
        "    **best_params_no_estimators\n",
        ")\n",
        "\n",
        "# 학습 및 진행률 출력\n",
        "final_model.fit(\n",
        "    X_train,\n",
        "    y_train,\n",
        "    eval_set=[(X_train, y_train)],\n",
        "    eval_metric='multi_logloss',\n",
        "    callbacks=[progress_callback(n_estimators)]\n",
        ")\n",
        "\n",
        "# 전체 학습 시간 출력\n",
        "print(f\"\\n✅ 전체 학습 완료! ⏱️ 소요 시간: {time() - start_time:.2f}초\")"
      ],
      "metadata": {
        "id": "kH3o1pORW20v"
      },
      "execution_count": null,
      "outputs": []
    },
    {
      "cell_type": "code",
      "source": [
        "# 🔍 예측 및 평가\n",
        "y_pred = final_model.predict(X_test)\n",
        "print(\"정확도:\", accuracy_score(y_test, y_pred))\n",
        "print(\"\\n분류 리포트:\\n\", classification_report(y_test, y_pred, zero_division=0))"
      ],
      "metadata": {
        "id": "bR71BiryW4I5"
      },
      "execution_count": null,
      "outputs": []
    },
    {
      "cell_type": "markdown",
      "source": [
        "# 머신러닝 1기"
      ],
      "metadata": {
        "id": "YlAFVInLW6ci"
      }
    },
    {
      "cell_type": "code",
      "source": [
        "# ⚙️ LightGBM 모델 생성 (기본 설정, 세션 안전하게)\n",
        "lgbm_model = lgb.LGBMClassifier(\n",
        "    objective='multiclass',\n",
        "    num_class=len(np.unique(y)),  # 클래스 개수 자동 지정\n",
        "    random_state=42,\n",
        "    n_estimators=100,\n",
        "    learning_rate=0.1\n",
        ")"
      ],
      "metadata": {
        "id": "ozqIJ4ktW9f1"
      },
      "execution_count": null,
      "outputs": []
    },
    {
      "cell_type": "code",
      "source": [
        "# 🔁 학습\n",
        "lgbm_model.fit(X_train, y_train)"
      ],
      "metadata": {
        "id": "tiSiBEivW_5L"
      },
      "execution_count": null,
      "outputs": []
    },
    {
      "cell_type": "code",
      "source": [
        "# ✅ 예측 및 평가\n",
        "y_pred = lgbm_model.predict(X_test)"
      ],
      "metadata": {
        "id": "3AZhiXyiXBHp"
      },
      "execution_count": null,
      "outputs": []
    },
    {
      "cell_type": "code",
      "source": [
        "print(\"🎯 정확도:\", accuracy_score(y_test, y_pred))\n",
        "print(\"\\n📋 분류 리포트:\\n\", classification_report(y_test, y_pred, zero_division=0))"
      ],
      "metadata": {
        "id": "qO6lg2mmXCln"
      },
      "execution_count": null,
      "outputs": []
    },
    {
      "cell_type": "markdown",
      "source": [
        "전체적인 정확도는 약 36.9%로, 모델이 많은 클래스 중 일부에 대해서만 비교적 잘 예측하고 있고, 다수 클래스에 대해서는 예측 성능이 떨어지는 상황입니다.\n",
        "\n",
        "다중 클래스 문제에서 클래스 불균형이 심할 경우, 단순한 정확도만으로는 모델 성능을 판단하기 어렵습니다.\n",
        "\n",
        "precision (정밀도): 이 클래스라고 예측한 것 중 실제로 맞은 비율\n",
        "\n",
        "recall (재현율): 실제 이 클래스인 것 중 맞춘 비율\n",
        "\n",
        "f1-score: precision과 recall의 조화 평균\n",
        "\n",
        "support: 각 클래스의 실제 샘플 수\n",
        "\n",
        "클래스 2:\n",
        "\n",
        "정밀도: 0.47, 재현율: 0.45, f1: 0.46\n",
        "\n",
        "이 클래스는 데이터 수가 많고 비교적 예측이 잘 됐습니다.\n",
        "\n",
        "클래스 17:\n",
        "\n",
        "정밀도: 0.52, 재현율: 0.75, f1: 0.61\n",
        "\n",
        "꽤 좋은 성능을 보인 클래스입니다.\n",
        "\n",
        "클래스 32:\n",
        "\n",
        "정밀도: 0.41, 재현율: 0.58, f1: 0.48\n",
        "\n",
        "중요한 클래스 중 하나일 가능성이 있으며 모델이 잘 학습한 편입니다.\n",
        "\n",
        "문제 있는 클래스\n",
        "\n",
        "클래스 4, 11, 18, 19 등: f1-score가 0이며 거의 예측하지 못함\n",
        "\n",
        "클래스 0, 1, 5, 13 등: 매우 낮은 정밀도와 재현율\n",
        "\n",
        "전체적인 판단\n",
        "\n",
        "데이터 불균형이 크다 → support가 많은 클래스에만 모델이 잘 반응\n",
        "\n",
        "정밀도/재현율이 낮은 클래스 많음 → 모델 개선 필요\n",
        "\n",
        "개선 방향\n",
        "\n",
        "클래스 불균형 완화 (오버샘플링/언더샘플링)\n",
        "\n",
        "더 정교한 모델 구조 사용\n",
        "\n",
        "다중 클래스 로스 함수 조정\n",
        "\n",
        "클래스별 데이터 품질 점검"
      ],
      "metadata": {
        "id": "efUdlD7XXIPj"
      }
    },
    {
      "cell_type": "markdown",
      "source": [
        "# 머신러닝 3기"
      ],
      "metadata": {
        "id": "s7Cg-PzoXLjD"
      }
    },
    {
      "cell_type": "code",
      "source": [
        "!pip install optuna"
      ],
      "metadata": {
        "id": "I0DoY3b9XOJa"
      },
      "execution_count": null,
      "outputs": []
    },
    {
      "cell_type": "code",
      "source": [
        "import pandas as pd\n",
        "import numpy as np\n",
        "import matplotlib.pyplot as plt\n",
        "import seaborn as sns\n",
        "from google.colab import drive\n",
        "from sklearn.preprocessing import LabelEncoder\n",
        "from sklearn.model_selection import train_test_split, cross_val_score\n",
        "from sklearn.metrics import classification_report, accuracy_score\n",
        "import lightgbm as lgb\n",
        "import optuna"
      ],
      "metadata": {
        "id": "GIxuRbboXPue"
      },
      "execution_count": null,
      "outputs": []
    },
    {
      "cell_type": "code",
      "source": [
        "drive.mount('/content/drive')\n",
        "\n",
        "file_path_total = '/content/drive/MyDrive/final_crime_data.csv'"
      ],
      "metadata": {
        "id": "Plcw7oY_XR-2"
      },
      "execution_count": null,
      "outputs": []
    },
    {
      "cell_type": "code",
      "source": [
        "df_merge = pd.read_csv(file_path_total)"
      ],
      "metadata": {
        "id": "sAB6x480XTZE"
      },
      "execution_count": null,
      "outputs": []
    },
    {
      "cell_type": "code",
      "source": [
        "# --- 🔍 1. 전체 컬럼 확인 ---\n",
        "print(\"📌 전체 컬럼 목록:\")\n",
        "print(df_merge.columns.tolist())\n",
        "\n",
        "# --- 🔍 2. 데이터 샘플 확인 ---\n",
        "print(\"\\n📌 데이터 샘플:\")\n",
        "print(df_merge.head())\n",
        "\n",
        "# --- 🔍 3. 결측치 확인 ---\n",
        "print(\"\\n📌 결측치 개수:\")\n",
        "print(df_merge.isnull().sum())\n",
        "\n",
        "# --- 🔍 4. 타겟 변수 ('Primary Type') 분포 확인 ---\n",
        "if 'Primary Type' in df_merge.columns:\n",
        "    print(\"\\n📌 'Primary Type' 값 분포 (클래스 비율):\")\n",
        "    print(df_merge['Primary Type'].value_counts(normalize=True) * 100)\n",
        "\n",
        "    # 시각화 (비율 상위 10개 클래스)\n",
        "    plt.figure(figsize=(12, 5))\n",
        "    sns.countplot(data=df_merge, x='Primary Type', order=df_merge['Primary Type'].value_counts().iloc[:10].index)\n",
        "    plt.title(\"🔍 상위 10개 Primary Type 클래스 분포\")\n",
        "    plt.xticks(rotation=45)\n",
        "    plt.show()\n",
        "else:\n",
        "    print(\"\\n⚠️ 'Primary Type' 컬럼이 존재하지 않습니다. 컬럼명을 다시 확인해주세요.\")"
      ],
      "metadata": {
        "id": "d_kjzQljXUjj"
      },
      "execution_count": null,
      "outputs": []
    },
    {
      "cell_type": "code",
      "source": [
        "import lightgbm as lgb\n",
        "from sklearn.model_selection import train_test_split\n",
        "from sklearn.metrics import accuracy_score\n",
        "import time"
      ],
      "metadata": {
        "id": "8pJ8k2w1XV1D"
      },
      "execution_count": null,
      "outputs": []
    },
    {
      "cell_type": "code",
      "source": [
        "# 1. Location_Desc_Freq 생성\n",
        "df_merge['Location_Desc_Freq'] = df_merge['Location Description'].map(\n",
        "    df_merge['Location Description'].value_counts()\n",
        ")\n",
        "\n",
        "# 2. 사용할 피처 정의\n",
        "features = [\n",
        "    'Domestic', 'Community Area', 'Per Capita Income',\n",
        "    'District', 'Ward', 'Location_Desc_Freq', 'Beat',\n",
        "    'Arrest', 'Year', 'Month', 'Day', 'Hour', 'Percent of labor force'\n",
        "]\n",
        "target = 'Primary Type'\n",
        "\n",
        "# 3. 결측치 제거 (다시 확인)\n",
        "df_merge = df_merge.dropna(subset=features + [target])\n",
        "\n",
        "# 4. 피처와 타겟 설정\n",
        "X = df_merge[features]\n",
        "y = df_merge[target]"
      ],
      "metadata": {
        "id": "W53ZoMFMXXMD"
      },
      "execution_count": null,
      "outputs": []
    },
    {
      "cell_type": "code",
      "source": [
        "# 데이터 분할\n",
        "X_train, X_valid, y_train, y_valid = train_test_split(\n",
        "    X, y, test_size=0.2, random_state=42, stratify=y\n",
        ")"
      ],
      "metadata": {
        "id": "2d2E5TRSXYnt"
      },
      "execution_count": null,
      "outputs": []
    },
    {
      "cell_type": "code",
      "source": [
        "# 범주형 피처 지정\n",
        "categorical_features = ['District', 'Ward', 'Beat']"
      ],
      "metadata": {
        "id": "ze16-j_yXZ5Q"
      },
      "execution_count": null,
      "outputs": []
    },
    {
      "cell_type": "code",
      "source": [
        "# LightGBM 모델\n",
        "lgbm_model = lgb.LGBMClassifier(\n",
        "    objective='multiclass',\n",
        "    num_class=len(set(y)),\n",
        "    boosting_type='gbdt',\n",
        "    learning_rate=0.05,\n",
        "    n_estimators=1000,\n",
        "    max_depth=7,\n",
        "    num_leaves=31,\n",
        "    min_child_samples=20,\n",
        "    subsample=0.8,\n",
        "    colsample_bytree=0.8,\n",
        "    n_jobs=-1,\n",
        "    verbosity=-1,\n",
        "    random_state=42\n",
        ")"
      ],
      "metadata": {
        "id": "eE06TpPIXbAD"
      },
      "execution_count": null,
      "outputs": []
    },
    {
      "cell_type": "code",
      "source": [
        "from lightgbm import early_stopping, log_evaluation\n",
        "import time\n",
        "\n",
        "# 학습 시간 측정\n",
        "start = time.time()\n",
        "\n",
        "lgbm_model.fit(\n",
        "    X_train, y_train,\n",
        "    eval_set=[(X_valid, y_valid)],\n",
        "    eval_metric='multi_logloss',\n",
        "    categorical_feature=categorical_features,\n",
        "    callbacks=[\n",
        "        early_stopping(stopping_rounds=50),\n",
        "        log_evaluation(period=50)  # 50번째마다 로그 출력\n",
        "    ]\n",
        ")\n",
        "\n",
        "end = time.time()\n",
        "print(f\"⏱️ 학습 시간: {end - start:.2f}초\")\n",
        "\n",
        "# 평가 결과 확인\n",
        "evals_result = lgbm_model.evals_result_\n",
        "print(\"📈 최종 평가 로그:\", evals_result)"
      ],
      "metadata": {
        "id": "m9-633gwXcY2"
      },
      "execution_count": null,
      "outputs": []
    },
    {
      "cell_type": "code",
      "source": [
        "# 예측 및 정확도\n",
        "y_pred = lgbm_model.predict(X_valid)\n",
        "acc = accuracy_score(y_valid, y_pred)\n",
        "\n",
        "print(f\"\\n✅ LightGBM 결과\")\n",
        "print(f\"정확도: {acc:.4f}\")\n",
        "print(f\"학습 시간: {end - start:.2f}초\")\n",
        "\n",
        "# 🔍 클래스별 정밀도, 재현율, F1-score 출력\n",
        "print(\"\\n📋 분류 리포트:\")\n",
        "print(classification_report(y_valid, y_pred))"
      ],
      "metadata": {
        "id": "EZNI8I-VXdsv"
      },
      "execution_count": null,
      "outputs": []
    }
  ]
}